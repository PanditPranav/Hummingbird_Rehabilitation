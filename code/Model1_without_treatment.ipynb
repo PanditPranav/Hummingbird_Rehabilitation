{
 "cells": [
  {
   "cell_type": "code",
   "execution_count": 1,
   "metadata": {},
   "outputs": [],
   "source": [
    "#install.packages(c('DHARMa'), repos='http://cran.us.r-project.org')\n",
    "#install.packages(\"\")\n",
    "#install.packages(c('rJava'))\n",
    "#install_github(\"timnewbold/StatisticalModels\")"
   ]
  },
  {
   "cell_type": "code",
   "execution_count": 2,
   "metadata": {},
   "outputs": [
    {
     "name": "stderr",
     "output_type": "stream",
     "text": [
      "Warning message:\n",
      "\"package 'devtools' was built under R version 3.6.3\"Loading required package: usethis\n",
      "Warning message:\n",
      "\"package 'usethis' was built under R version 3.6.3\"Warning message:\n",
      "\"package 'ggplot2' was built under R version 3.6.3\"Warning message:\n",
      "\"package 'ggthemes' was built under R version 3.6.3\"Warning message:\n",
      "\"package 'nlme' was built under R version 3.6.3\"Warning message:\n",
      "\"package 'pscl' was built under R version 3.6.3\"Classes and Methods for R developed in the\n",
      "Political Science Computational Laboratory\n",
      "Department of Political Science\n",
      "Stanford University\n",
      "Simon Jackman\n",
      "hurdle and zeroinfl functions by Achim Zeileis\n",
      "Loading required package: gridExtra\n",
      "Warning message:\n",
      "\"package 'gridExtra' was built under R version 3.6.3\"Warning message:\n",
      "\"package 'lme4' was built under R version 3.6.3\"Loading required package: Matrix\n",
      "Warning message:\n",
      "\"package 'Matrix' was built under R version 3.6.3\"\n",
      "Attaching package: 'lme4'\n",
      "\n",
      "The following object is masked from 'package:nlme':\n",
      "\n",
      "    lmList\n",
      "\n",
      "Warning message:\n",
      "\"package 'MASS' was built under R version 3.6.3\"Warning message:\n",
      "\"package 'reshape2' was built under R version 3.6.3\"Warning message:\n",
      "\"package 'plyr' was built under R version 3.6.3\"Loading required package: GGally\n",
      "Warning message:\n",
      "\"package 'GGally' was built under R version 3.6.3\"Registered S3 method overwritten by 'GGally':\n",
      "  method from   \n",
      "  +.gg   ggplot2\n",
      "Loading required package: compiler\n",
      "Loading required package: parallel\n",
      "Loading required package: boot\n",
      "Warning message:\n",
      "\"package 'boot' was built under R version 3.6.3\"Loading required package: lattice\n",
      "Warning message:\n",
      "\"package 'lattice' was built under R version 3.6.3\"\n",
      "Attaching package: 'lattice'\n",
      "\n",
      "The following object is masked from 'package:boot':\n",
      "\n",
      "    melanoma\n",
      "\n"
     ]
    }
   ],
   "source": [
    "library(devtools)\n",
    "library(ggplot2)       ## for pretty plots generally\n",
    "## ggplot customization:\n",
    "theme_set(theme_bw())\n",
    "options(repr.plot.width=20, repr.plot.height=8)\n",
    "library(ggthemes)\n",
    "library(nlme)\n",
    "#library(foreign)\n",
    "library(pscl); library(ggplot2)\n",
    "#library(bbmle)\n",
    "#library(coefplot2)\n",
    "#library(glmmADMB)\n",
    "library(ggplot2)\n",
    "require(gridExtra)\n",
    "#install.packages(\"extrafont\")\n",
    "#library(extrafont)\n",
    "library(lme4)\n",
    "#library(MCMCglmm)\n",
    "#library(blme)\n",
    "library(MASS)          ## for glmmPQL\n",
    "library(nlme)          ## for intervals(), tundra example\n",
    "#library(coefplot2) ## coefficient plots\n",
    "library(reshape2)\n",
    "library(plyr)\n",
    "#library(ggeffects)\n",
    "require(ggplot2)\n",
    "require(GGally)\n",
    "require(reshape2)\n",
    "require(lme4)\n",
    "require(compiler)\n",
    "require(parallel)\n",
    "require(boot)\n",
    "require(lattice)\n",
    "library(GGally)"
   ]
  },
  {
   "cell_type": "code",
   "execution_count": 3,
   "metadata": {},
   "outputs": [],
   "source": [
    "data = read.csv('C:/Users/Falco/Desktop/directory/Humminbird_rescue/data/Model_data.csv')\n",
    "data = data"
   ]
  },
  {
   "cell_type": "code",
   "execution_count": 4,
   "metadata": {},
   "outputs": [
    {
     "data": {
      "text/plain": [
       "\n",
       "  Fall Spring Summer Winter \n",
       "   602   3138   2136   1032 "
      ]
     },
     "metadata": {},
     "output_type": "display_data"
    }
   ],
   "source": [
    "table(data$season)"
   ]
  },
  {
   "cell_type": "code",
   "execution_count": 6,
   "metadata": {},
   "outputs": [
    {
     "data": {
      "text/plain": [
       "\n",
       "           ANHU            BCHU Non-selasphorus     Selasphorus \n",
       "           4322              47            1354            1185 "
      ]
     },
     "metadata": {},
     "output_type": "display_data"
    }
   ],
   "source": [
    "table(data$Species)"
   ]
  },
  {
   "cell_type": "code",
   "execution_count": 7,
   "metadata": {},
   "outputs": [
    {
     "data": {
      "text/plain": [
       "\n",
       "Non-selasphorus spp.     Selasphorus spp. \n",
       "                5723                 1185 "
      ]
     },
     "metadata": {},
     "output_type": "display_data"
    }
   ],
   "source": [
    "table(data$G_O)"
   ]
  },
  {
   "cell_type": "code",
   "execution_count": 8,
   "metadata": {},
   "outputs": [
    {
     "data": {
      "text/plain": [
       "\n",
       "caught by domestic animal              found inside       found on the ground \n",
       "                      893                       221                      2950 \n",
       "             nest-related suspect torpor-like state                   unknown \n",
       "                      943                       135                      1103 \n",
       "               window hit \n",
       "                      663 "
      ]
     },
     "metadata": {},
     "output_type": "display_data"
    }
   ],
   "source": [
    "table(data$r)"
   ]
  },
  {
   "cell_type": "markdown",
   "metadata": {},
   "source": [
    "data <- within(data, {\n",
    "  Disposition_binary <- factor(Disposition_binary, levels = 0:1, labels = c(\"Released\", \"Died\"))\n",
    "    Place <- factor(Place)\n",
    "    F_Aid <- factor(F_Aid, levels = 0:1, labels = c(\"No\", \"Yes\"))\n",
    "    Sex <- factor(Sex)\n",
    "    Age <- factor(Age)\n",
    "    season <- factor(season)\n",
    "    Species <- factor(Species)\n",
    "    \n",
    "})"
   ]
  },
  {
   "cell_type": "code",
   "execution_count": 9,
   "metadata": {},
   "outputs": [
    {
     "name": "stdout",
     "output_type": "stream",
     "text": [
      " Factor w/ 3 levels \"unknown\",\"Female-like \",..: 2 2 2 2 2 2 2 2 2 2 ...\n"
     ]
    }
   ],
   "source": [
    "data$Sex_e <- factor(data$Sex_e, levels = c(\"unknown\", \"Female-like \", \"Male\"))\n",
    "str(data$Sex_e)"
   ]
  },
  {
   "cell_type": "code",
   "execution_count": 10,
   "metadata": {},
   "outputs": [
    {
     "name": "stdout",
     "output_type": "stream",
     "text": [
      " Factor w/ 7 levels \"unknown\",\"caught by domestic animal\",..: 5 1 7 1 2 5 3 3 5 1 ...\n"
     ]
    }
   ],
   "source": [
    "data$r <- factor(data$r, levels = c(\"unknown\", \"caught by domestic animal\", \"window hit\", \"found inside\",  \"found on the ground\", \"nest-related\", \"suspect torpor-like state\"))\n",
    "str(data$r)"
   ]
  },
  {
   "cell_type": "code",
   "execution_count": 11,
   "metadata": {},
   "outputs": [
    {
     "data": {
      "text/plain": [
       "\n",
       "                  unknown caught by domestic animal                window hit \n",
       "                     1103                       893                       663 \n",
       "             found inside       found on the ground              nest-related \n",
       "                      221                      2950                       943 \n",
       "suspect torpor-like state \n",
       "                      135 "
      ]
     },
     "metadata": {},
     "output_type": "display_data"
    }
   ],
   "source": [
    "table(data$r)"
   ]
  },
  {
   "cell_type": "code",
   "execution_count": 12,
   "metadata": {},
   "outputs": [],
   "source": [
    "data$r = relevel(data$r, ref=1)"
   ]
  },
  {
   "cell_type": "code",
   "execution_count": 13,
   "metadata": {},
   "outputs": [
    {
     "name": "stdout",
     "output_type": "stream",
     "text": [
      " Factor w/ 7 levels \"unknown\",\"caught by domestic animal\",..: 5 1 7 1 2 5 3 3 5 1 ...\n"
     ]
    }
   ],
   "source": [
    "str(data$r)"
   ]
  },
  {
   "cell_type": "code",
   "execution_count": 14,
   "metadata": {},
   "outputs": [
    {
     "data": {
      "text/plain": [
       "\n",
       "                  unknown caught by domestic animal                window hit \n",
       "                     1103                       893                       663 \n",
       "             found inside       found on the ground              nest-related \n",
       "                      221                      2950                       943 \n",
       "suspect torpor-like state \n",
       "                      135 "
      ]
     },
     "metadata": {},
     "output_type": "display_data"
    }
   ],
   "source": [
    "table(data$r)"
   ]
  },
  {
   "cell_type": "markdown",
   "metadata": {},
   "source": [
    "## GlmmTMB"
   ]
  },
  {
   "cell_type": "code",
   "execution_count": 15,
   "metadata": {},
   "outputs": [
    {
     "name": "stderr",
     "output_type": "stream",
     "text": [
      "Warning message:\n",
      "\"package 'glmmTMB' was built under R version 3.6.3\"Warning message:\n",
      "\"package 'oddsratio' was built under R version 3.6.3\"Warning message:\n",
      "\"package 'sjPlot' was built under R version 3.6.3\"Install package \"strengejacke\" from GitHub (`devtools::install_github(\"strengejacke/strengejacke\")`) to load all sj-packages at once!\n"
     ]
    }
   ],
   "source": [
    "library(glmmTMB)\n",
    "library(oddsratio)\n",
    "library(sjPlot)"
   ]
  },
  {
   "cell_type": "markdown",
   "metadata": {},
   "source": [
    "### species as random effects"
   ]
  },
  {
   "cell_type": "code",
   "execution_count": 16,
   "metadata": {},
   "outputs": [],
   "source": [
    "m1 <- glmmTMB(Disposition_binary ~ Sex_e +  \n",
    "            (1|G_O), family=\"binomial\", data)#control = glmerControl(optimizer = \"bobyqa\"),\n"
   ]
  },
  {
   "cell_type": "code",
   "execution_count": 17,
   "metadata": {},
   "outputs": [
    {
     "name": "stderr",
     "output_type": "stream",
     "text": [
      "Warning message in fitTMB(TMBStruc):\n",
      "\"Model convergence problem; extreme or very small eigen values detected. See vignette('troubleshooting')\""
     ]
    }
   ],
   "source": [
    "m2 <- glmmTMB(Disposition_binary ~ Sex_e +  Age_e +\n",
    "            (1|G_O), family=\"binomial\", data)#control = glmerControl(optimizer = \"bobyqa\"),"
   ]
  },
  {
   "cell_type": "code",
   "execution_count": 18,
   "metadata": {},
   "outputs": [],
   "source": [
    "m3 <- glmmTMB(Disposition_binary ~ Sex_e +  Age_e +  season+ \n",
    "            (1|G_O), family=\"binomial\", data)#control = glmerControl(optimizer = \"bobyqa\"),"
   ]
  },
  {
   "cell_type": "code",
   "execution_count": 19,
   "metadata": {},
   "outputs": [],
   "source": [
    "m4 <- glmmTMB(Disposition_binary ~ Sex_e + Age_e + season + F_Aid +\n",
    "            (1|G_O), family=\"binomial\", data)#control = glmerControl(optimizer = \"bobyqa\"),"
   ]
  },
  {
   "cell_type": "code",
   "execution_count": 20,
   "metadata": {},
   "outputs": [],
   "source": [
    "m5 <- glmmTMB(Disposition_binary ~ Sex_e + Age_e + season + F_Aid + r +\n",
    "            (1|G_O), family=\"binomial\", data)#control = glmerControl(optimizer = \"bobyqa\"),"
   ]
  },
  {
   "cell_type": "code",
   "execution_count": 21,
   "metadata": {},
   "outputs": [],
   "source": [
    "model_inter_sex_season <- glmmTMB(Disposition_binary ~ Sex_e +  Age_e + season + F_Aid + r +Sex_e*season +(1|G_O), \n",
    "                family=\"binomial\", data) #, control = glmerControl(optimizer = \"bobyqa\")"
   ]
  },
  {
   "cell_type": "code",
   "execution_count": 22,
   "metadata": {},
   "outputs": [],
   "source": [
    "model_inter_season <- glmmTMB(Disposition_binary ~ Sex_e +  \n",
    "                Age_e + season + F_Aid + r +Age_e*season +(1|G_O), \n",
    "                family=\"binomial\", data) #, control = glmerControl(optimizer = \"bobyqa\")\n"
   ]
  },
  {
   "cell_type": "code",
   "execution_count": 23,
   "metadata": {},
   "outputs": [],
   "source": [
    "model_inter_Aid_Age <- glmmTMB(Disposition_binary ~ Sex_e +  \n",
    "                Age_e + season + F_Aid + r +Age_e*F_Aid +(1|G_O), \n",
    "                family=\"binomial\", data) #, control = glmerControl(optimizer = \"bobyqa\")"
   ]
  },
  {
   "cell_type": "code",
   "execution_count": 24,
   "metadata": {},
   "outputs": [],
   "source": [
    "tab_model(m1, m2, m3, m4, m5, model_inter_sex_season, model_inter_season, model_inter_Aid_Age)"
   ]
  },
  {
   "cell_type": "markdown",
   "metadata": {},
   "source": [
    "###  age and species as random effects "
   ]
  },
  {
   "cell_type": "code",
   "execution_count": 25,
   "metadata": {},
   "outputs": [],
   "source": [
    "m1_ref <- glmmTMB(Disposition_binary ~ Sex_e +  \n",
    "            (1|G_O)+ (1 | Age_e), family=\"binomial\", data)#control = glmerControl(optimizer = \"bobyqa\"),"
   ]
  },
  {
   "cell_type": "code",
   "execution_count": 26,
   "metadata": {},
   "outputs": [],
   "source": [
    "m2_ref <- glmmTMB(Disposition_binary ~ Sex_e +   season+ \n",
    "            (1|G_O)+ (1 | Age_e), family=\"binomial\", data)#control = glmerControl(optimizer = \"bobyqa\"),\n"
   ]
  },
  {
   "cell_type": "code",
   "execution_count": 27,
   "metadata": {},
   "outputs": [],
   "source": [
    "m3_ref <- glmmTMB(Disposition_binary ~ Sex_e + season + F_Aid +\n",
    "            (1|G_O)+ (1 | Age_e), family=\"binomial\", data)#control = glmerControl(optimizer = \"bobyqa\"),"
   ]
  },
  {
   "cell_type": "code",
   "execution_count": 28,
   "metadata": {},
   "outputs": [],
   "source": [
    "m4_ref <- glmmTMB(Disposition_binary ~ Sex_e + season + F_Aid + r +\n",
    "            (1|G_O)+ (1 | Age_e), family=\"binomial\", data)#control = glmerControl(optimizer = \"bobyqa\"),\n"
   ]
  },
  {
   "cell_type": "code",
   "execution_count": 29,
   "metadata": {},
   "outputs": [],
   "source": [
    "model_inter_sex_season_ref <- glmmTMB(Disposition_binary ~ Sex_e + season + F_Aid + r +Sex_e*season +(1|G_O)+ (1 | Age_e), \n",
    "                family=\"binomial\", data) #, control = glmerControl(optimizer = \"bobyqa\")"
   ]
  },
  {
   "cell_type": "code",
   "execution_count": 30,
   "metadata": {},
   "outputs": [
    {
     "name": "stderr",
     "output_type": "stream",
     "text": [
      "Warning message in fitTMB(TMBStruc):\n",
      "\"Model convergence problem; non-positive-definite Hessian matrix. See vignette('troubleshooting')\"Warning message in fitTMB(TMBStruc):\n",
      "\"Model convergence problem; non-positive-definite Hessian matrix. See vignette('troubleshooting')\""
     ]
    }
   ],
   "source": [
    "model_inter_sex_season_ref <- glmmTMB(Disposition_binary ~ Sex_e + season + F_Aid + r +Sex_e*season +(1|G_O)+ (1 | Age_e), \n",
    "                family=\"binomial\", data) #, control = glmerControl(optimizer = \"bobyqa\")\n",
    "\n",
    "model_inter_season_ref <- glmmTMB(Disposition_binary ~ Sex_e +  \n",
    "                + season + F_Aid + r +Age_e*season +(1|G_O)+ (1 | Age_e), \n",
    "                family=\"binomial\", data) #, control = glmerControl(optimizer = \"bobyqa\")\n",
    "\n",
    "model_inter_Aid_Age_ref <- glmmTMB(Disposition_binary ~ Sex_e +  \n",
    "                season + F_Aid + r +Age_e*F_Aid +(1|G_O)+ (1 | Age_e), \n",
    "                family=\"binomial\", data) # control = glmerControl(optimizer = \"bobyqa\")"
   ]
  },
  {
   "cell_type": "code",
   "execution_count": 31,
   "metadata": {},
   "outputs": [],
   "source": [
    "tab_model(m1_ref, m2_ref, m3_ref, m4_ref, model_inter_sex_season_ref, model_inter_sex_season_ref, \n",
    "    model_inter_season_ref, model_inter_Aid_Age_ref)"
   ]
  },
  {
   "cell_type": "markdown",
   "metadata": {},
   "source": [
    "### age species and sex as random effects"
   ]
  },
  {
   "cell_type": "code",
   "execution_count": 32,
   "metadata": {},
   "outputs": [],
   "source": [
    "m1_ref2 <- glmmTMB(Disposition_binary ~ Age_e +  \n",
    "            (1|G_O)+ (1 | Sex_e), family=\"binomial\", data)#control = glmerControl(optimizer = \"bobyqa\"),"
   ]
  },
  {
   "cell_type": "code",
   "execution_count": 33,
   "metadata": {},
   "outputs": [],
   "source": [
    "m2_ref2 <- glmmTMB(Disposition_binary ~  Age_e +   season+ \n",
    "            (1|G_O)+ (1 | Sex_e), family=\"binomial\", data)#control = glmerControl(optimizer = \"bobyqa\"),\n"
   ]
  },
  {
   "cell_type": "code",
   "execution_count": 34,
   "metadata": {},
   "outputs": [],
   "source": [
    "m3_ref2 <- glmmTMB(Disposition_binary ~ Age_e + season + F_Aid +\n",
    "            (1|G_O)+ (1 | Sex_e), family=\"binomial\", data)#control = glmerControl(optimizer = \"bobyqa\"),\n",
    "m4_ref2 <- glmmTMB(Disposition_binary ~ Age_e + season + F_Aid + r +\n",
    "            (1|G_O)+ (1 | Sex_e), family=\"binomial\", data)#control = glmerControl(optimizer = \"bobyqa\"),\n",
    "model_inter_sex_season_ref2 <- glmmTMB(Disposition_binary ~ Age_e + season + F_Aid + r +Sex_e*season +(1|G_O)+ (1 | Sex_e), \n",
    "                family=\"binomial\", data) #, control = glmerControl(optimizer = \"bobyqa\")\n",
    "\n",
    "model_inter_sex_season_ref2 <- glmmTMB(Disposition_binary ~ Age_e + season + F_Aid + r +Sex_e*season +(1|G_O)+ (1 | Sex_e), \n",
    "                family=\"binomial\", data) #, control = glmerControl(optimizer = \"bobyqa\")\n",
    "\n",
    "model_inter_season_ref2 <- glmmTMB(Disposition_binary ~ Age_e +  \n",
    "                + season + F_Aid + r +Age_e*season +(1|G_O)+ (1 | Sex_e), \n",
    "                family=\"binomial\", data) #, control = glmerControl(optimizer = \"bobyqa\")\n",
    "\n",
    "model_inter_Aid_Age_ref2 <- glmmTMB(Disposition_binary ~ Age_e +  \n",
    "                season + F_Aid + r +Age_e*F_Aid +(1|G_O)+ (1 | Sex_e), \n",
    "                family=\"binomial\", data) # control = glmerControl(optimizer = \"bobyqa\")"
   ]
  },
  {
   "cell_type": "code",
   "execution_count": 35,
   "metadata": {},
   "outputs": [],
   "source": [
    "tab_model(m1_ref2, m2_ref2, m3_ref2, m4_ref2, model_inter_sex_season_ref2, model_inter_sex_season_ref2, \n",
    "    model_inter_season_ref2, model_inter_Aid_Age_ref2)"
   ]
  },
  {
   "cell_type": "code",
   "execution_count": 36,
   "metadata": {},
   "outputs": [
    {
     "name": "stderr",
     "output_type": "stream",
     "text": [
      "Warning message in anova.glmmTMB(m1_ref2, m2_ref2, m3_ref2, m4_ref2, model_inter_sex_season_ref2, :\n",
      "\"failed to find unique model names, assigning generic names\""
     ]
    },
    {
     "data": {
      "text/html": [
       "<table>\n",
       "<thead><tr><th></th><th scope=col>Df</th><th scope=col>AIC</th><th scope=col>BIC</th><th scope=col>logLik</th><th scope=col>deviance</th><th scope=col>Chisq</th><th scope=col>Chi Df</th><th scope=col>Pr(&gt;Chisq)</th></tr></thead>\n",
       "<tbody>\n",
       "\t<tr><th scope=row>MODEL1</th><td> 4          </td><td>8293.404    </td><td>8320.766    </td><td>-4142.702   </td><td>8285.404    </td><td>         NA </td><td>NA          </td><td>          NA</td></tr>\n",
       "\t<tr><th scope=row>MODEL2</th><td> 7          </td><td>8185.566    </td><td>8233.449    </td><td>-4085.783   </td><td>8171.566    </td><td>113.8385370 </td><td> 3          </td><td>1.637293e-24</td></tr>\n",
       "\t<tr><th scope=row>MODEL3</th><td> 8          </td><td>8183.343    </td><td>8238.067    </td><td>-4083.672   </td><td>8167.343    </td><td>  4.2227885 </td><td> 1          </td><td>3.988456e-02</td></tr>\n",
       "\t<tr><th scope=row>MODEL4</th><td>14          </td><td>8137.405    </td><td>8233.171    </td><td>-4054.703   </td><td>8109.405    </td><td> 57.9379535 </td><td> 6          </td><td>1.179588e-10</td></tr>\n",
       "\t<tr><th scope=row>MODEL7</th><td>15          </td><td>8138.451    </td><td>8241.057    </td><td>-4054.225   </td><td>8108.451    </td><td>  0.9544053 </td><td> 1          </td><td>3.286005e-01</td></tr>\n",
       "\t<tr><th scope=row>MODEL5</th><td>22          </td><td>8120.612    </td><td>8271.102    </td><td>-4038.306   </td><td>8076.612    </td><td> 31.8383018 </td><td> 7          </td><td>4.351712e-05</td></tr>\n",
       "\t<tr><th scope=row>MODEL6</th><td>22          </td><td>8120.612    </td><td>8271.102    </td><td>-4038.306   </td><td>8076.612    </td><td>  0.0000000 </td><td> 0          </td><td>1.000000e+00</td></tr>\n",
       "</tbody>\n",
       "</table>\n"
      ],
      "text/latex": [
       "\\begin{tabular}{r|llllllll}\n",
       "  & Df & AIC & BIC & logLik & deviance & Chisq & Chi Df & Pr(>Chisq)\\\\\n",
       "\\hline\n",
       "\tMODEL1 &  4           & 8293.404     & 8320.766     & -4142.702    & 8285.404     &          NA  & NA           &           NA\\\\\n",
       "\tMODEL2 &  7           & 8185.566     & 8233.449     & -4085.783    & 8171.566     & 113.8385370  &  3           & 1.637293e-24\\\\\n",
       "\tMODEL3 &  8           & 8183.343     & 8238.067     & -4083.672    & 8167.343     &   4.2227885  &  1           & 3.988456e-02\\\\\n",
       "\tMODEL4 & 14           & 8137.405     & 8233.171     & -4054.703    & 8109.405     &  57.9379535  &  6           & 1.179588e-10\\\\\n",
       "\tMODEL7 & 15           & 8138.451     & 8241.057     & -4054.225    & 8108.451     &   0.9544053  &  1           & 3.286005e-01\\\\\n",
       "\tMODEL5 & 22           & 8120.612     & 8271.102     & -4038.306    & 8076.612     &  31.8383018  &  7           & 4.351712e-05\\\\\n",
       "\tMODEL6 & 22           & 8120.612     & 8271.102     & -4038.306    & 8076.612     &   0.0000000  &  0           & 1.000000e+00\\\\\n",
       "\\end{tabular}\n"
      ],
      "text/markdown": [
       "\n",
       "| <!--/--> | Df | AIC | BIC | logLik | deviance | Chisq | Chi Df | Pr(>Chisq) |\n",
       "|---|---|---|---|---|---|---|---|---|\n",
       "| MODEL1 |  4           | 8293.404     | 8320.766     | -4142.702    | 8285.404     |          NA  | NA           |           NA |\n",
       "| MODEL2 |  7           | 8185.566     | 8233.449     | -4085.783    | 8171.566     | 113.8385370  |  3           | 1.637293e-24 |\n",
       "| MODEL3 |  8           | 8183.343     | 8238.067     | -4083.672    | 8167.343     |   4.2227885  |  1           | 3.988456e-02 |\n",
       "| MODEL4 | 14           | 8137.405     | 8233.171     | -4054.703    | 8109.405     |  57.9379535  |  6           | 1.179588e-10 |\n",
       "| MODEL7 | 15           | 8138.451     | 8241.057     | -4054.225    | 8108.451     |   0.9544053  |  1           | 3.286005e-01 |\n",
       "| MODEL5 | 22           | 8120.612     | 8271.102     | -4038.306    | 8076.612     |  31.8383018  |  7           | 4.351712e-05 |\n",
       "| MODEL6 | 22           | 8120.612     | 8271.102     | -4038.306    | 8076.612     |   0.0000000  |  0           | 1.000000e+00 |\n",
       "\n"
      ],
      "text/plain": [
       "       Df AIC      BIC      logLik    deviance Chisq       Chi Df Pr(>Chisq)  \n",
       "MODEL1  4 8293.404 8320.766 -4142.702 8285.404          NA NA               NA\n",
       "MODEL2  7 8185.566 8233.449 -4085.783 8171.566 113.8385370  3     1.637293e-24\n",
       "MODEL3  8 8183.343 8238.067 -4083.672 8167.343   4.2227885  1     3.988456e-02\n",
       "MODEL4 14 8137.405 8233.171 -4054.703 8109.405  57.9379535  6     1.179588e-10\n",
       "MODEL7 15 8138.451 8241.057 -4054.225 8108.451   0.9544053  1     3.286005e-01\n",
       "MODEL5 22 8120.612 8271.102 -4038.306 8076.612  31.8383018  7     4.351712e-05\n",
       "MODEL6 22 8120.612 8271.102 -4038.306 8076.612   0.0000000  0     1.000000e+00"
      ]
     },
     "metadata": {},
     "output_type": "display_data"
    }
   ],
   "source": [
    "anova(m1_ref2, m2_ref2, m3_ref2, m4_ref2, model_inter_sex_season_ref2, model_inter_sex_season_ref2, \n",
    "    model_inter_Aid_Age_ref2)"
   ]
  },
  {
   "cell_type": "code",
   "execution_count": 37,
   "metadata": {},
   "outputs": [
    {
     "name": "stderr",
     "output_type": "stream",
     "text": [
      "Warning message:\n",
      "\"package 'sjmisc' was built under R version 3.6.3\""
     ]
    }
   ],
   "source": [
    "library(sjmisc)"
   ]
  },
  {
   "cell_type": "code",
   "execution_count": 38,
   "metadata": {},
   "outputs": [],
   "source": [
    "library(repr)\n",
    "options(repr.plot.width=5, repr.plot.height=5)"
   ]
  },
  {
   "cell_type": "code",
   "execution_count": 39,
   "metadata": {},
   "outputs": [],
   "source": [
    "tab_model(m4_ref2, model_inter_season_ref2)"
   ]
  },
  {
   "cell_type": "code",
   "execution_count": 40,
   "metadata": {},
   "outputs": [
    {
     "data": {
      "text/html": [
       "<table>\n",
       "<thead><tr><th></th><th scope=col>Df</th><th scope=col>AIC</th><th scope=col>BIC</th><th scope=col>logLik</th><th scope=col>deviance</th><th scope=col>Chisq</th><th scope=col>Chi Df</th><th scope=col>Pr(&gt;Chisq)</th></tr></thead>\n",
       "<tbody>\n",
       "\t<tr><th scope=row>m4_ref2</th><td>14         </td><td>8137.405   </td><td>8233.171   </td><td>-4054.703  </td><td>8109.405   </td><td>      NA   </td><td>NA         </td><td>         NA</td></tr>\n",
       "\t<tr><th scope=row>model_inter_season_ref2</th><td>17         </td><td>8131.188   </td><td>8247.475   </td><td>-4048.594  </td><td>8097.188   </td><td>12.21737   </td><td> 3         </td><td>0.006674462</td></tr>\n",
       "</tbody>\n",
       "</table>\n"
      ],
      "text/latex": [
       "\\begin{tabular}{r|llllllll}\n",
       "  & Df & AIC & BIC & logLik & deviance & Chisq & Chi Df & Pr(>Chisq)\\\\\n",
       "\\hline\n",
       "\tm4\\_ref2 & 14          & 8137.405    & 8233.171    & -4054.703   & 8109.405    &       NA    & NA          &          NA\\\\\n",
       "\tmodel\\_inter\\_season\\_ref2 & 17          & 8131.188    & 8247.475    & -4048.594   & 8097.188    & 12.21737    &  3          & 0.006674462\\\\\n",
       "\\end{tabular}\n"
      ],
      "text/markdown": [
       "\n",
       "| <!--/--> | Df | AIC | BIC | logLik | deviance | Chisq | Chi Df | Pr(>Chisq) |\n",
       "|---|---|---|---|---|---|---|---|---|\n",
       "| m4_ref2 | 14          | 8137.405    | 8233.171    | -4054.703   | 8109.405    |       NA    | NA          |          NA |\n",
       "| model_inter_season_ref2 | 17          | 8131.188    | 8247.475    | -4048.594   | 8097.188    | 12.21737    |  3          | 0.006674462 |\n",
       "\n"
      ],
      "text/plain": [
       "                        Df AIC      BIC      logLik    deviance Chisq    Chi Df\n",
       "m4_ref2                 14 8137.405 8233.171 -4054.703 8109.405       NA NA    \n",
       "model_inter_season_ref2 17 8131.188 8247.475 -4048.594 8097.188 12.21737  3    \n",
       "                        Pr(>Chisq) \n",
       "m4_ref2                          NA\n",
       "model_inter_season_ref2 0.006674462"
      ]
     },
     "metadata": {},
     "output_type": "display_data"
    }
   ],
   "source": [
    "anova(m4_ref2, model_inter_season_ref2)"
   ]
  },
  {
   "cell_type": "code",
   "execution_count": 41,
   "metadata": {},
   "outputs": [
    {
     "data": {
      "text/plain": [
       " Family: binomial  ( logit )\n",
       "Formula:          \n",
       "Disposition_binary ~ Age_e + season + F_Aid + r + (1 | G_O) +      (1 | Sex_e)\n",
       "Data: data\n",
       "\n",
       "     AIC      BIC   logLik deviance df.resid \n",
       "  8137.4   8233.2  -4054.7   8109.4     6894 \n",
       "\n",
       "Random effects:\n",
       "\n",
       "Conditional model:\n",
       " Groups Name        Variance Std.Dev.\n",
       " G_O    (Intercept) 0.004932 0.07023 \n",
       " Sex_e  (Intercept) 0.008837 0.09400 \n",
       "Number of obs: 6908, groups:  G_O, 2; Sex_e, 3\n",
       "\n",
       "Conditional model:\n",
       "                            Estimate Std. Error z value Pr(>|z|)    \n",
       "(Intercept)                -1.646871   0.169768  -9.701  < 2e-16 ***\n",
       "Age_eNestling               1.415189   0.161997   8.736  < 2e-16 ***\n",
       "seasonSpring                1.062724   0.128324   8.282  < 2e-16 ***\n",
       "seasonSummer                0.977278   0.131033   7.458 8.77e-14 ***\n",
       "seasonWinter                0.548015   0.142065   3.857 0.000115 ***\n",
       "F_AidYes                   -0.104324   0.057461  -1.816 0.069437 .  \n",
       "rcaught by domestic animal -0.427325   0.103301  -4.137 3.52e-05 ***\n",
       "rwindow hit                -0.441352   0.116532  -3.787 0.000152 ***\n",
       "rfound inside              -0.164906   0.167385  -0.985 0.324530    \n",
       "rfound on the ground       -0.284431   0.079990  -3.556 0.000377 ***\n",
       "rnest-related               0.005313   0.106410   0.050 0.960180    \n",
       "rsuspect torpor-like state -1.576738   0.312161  -5.051 4.39e-07 ***\n",
       "---\n",
       "Signif. codes:  0 '***' 0.001 '**' 0.01 '*' 0.05 '.' 0.1 ' ' 1"
      ]
     },
     "metadata": {},
     "output_type": "display_data"
    }
   ],
   "source": [
    "summary(m4_ref2)"
   ]
  },
  {
   "cell_type": "code",
   "execution_count": 42,
   "metadata": {},
   "outputs": [
    {
     "data": {
      "text/plain": [
       " Family: binomial  ( logit )\n",
       "Formula:          \n",
       "Disposition_binary ~ Age_e + +season + F_Aid + r + Age_e * season +  \n",
       "    (1 | G_O) + (1 | Sex_e)\n",
       "Data: data\n",
       "\n",
       "     AIC      BIC   logLik deviance df.resid \n",
       "  8131.2   8247.5  -4048.6   8097.2     6891 \n",
       "\n",
       "Random effects:\n",
       "\n",
       "Conditional model:\n",
       " Groups Name        Variance Std.Dev.\n",
       " G_O    (Intercept) 0.004946 0.07033 \n",
       " Sex_e  (Intercept) 0.008019 0.08955 \n",
       "Number of obs: 6908, groups:  G_O, 2; Sex_e, 3\n",
       "\n",
       "Conditional model:\n",
       "                            Estimate Std. Error z value Pr(>|z|)    \n",
       "(Intercept)                -1.614547   0.168985  -9.554  < 2e-16 ***\n",
       "Age_eNestling              -0.168232   1.087738  -0.155 0.877087    \n",
       "seasonSpring                1.004700   0.130089   7.723 1.13e-14 ***\n",
       "seasonSummer                1.010246   0.133547   7.565 3.89e-14 ***\n",
       "seasonWinter                0.446753   0.147324   3.032 0.002426 ** \n",
       "F_AidYes                   -0.106380   0.057516  -1.850 0.064373 .  \n",
       "rcaught by domestic animal -0.433428   0.103482  -4.188 2.81e-05 ***\n",
       "rwindow hit                -0.424279   0.116898  -3.629 0.000284 ***\n",
       "rfound inside              -0.156458   0.167688  -0.933 0.350803    \n",
       "rfound on the ground       -0.277641   0.080309  -3.457 0.000546 ***\n",
       "rnest-related              -0.009041   0.106858  -0.085 0.932575    \n",
       "rsuspect torpor-like state -1.569108   0.312286  -5.025 5.05e-07 ***\n",
       "Age_eNestling:seasonSpring  1.674142   1.082567   1.546 0.121994    \n",
       "Age_eNestling:seasonSummer  1.364254   1.084329   1.258 0.208336    \n",
       "Age_eNestling:seasonWinter  1.946775   1.096789   1.775 0.075902 .  \n",
       "---\n",
       "Signif. codes:  0 '***' 0.001 '**' 0.01 '*' 0.05 '.' 0.1 ' ' 1"
      ]
     },
     "metadata": {},
     "output_type": "display_data"
    }
   ],
   "source": [
    "summary(model_inter_season_ref2)"
   ]
  },
  {
   "cell_type": "code",
   "execution_count": 49,
   "metadata": {},
   "outputs": [],
   "source": [
    "tab_model(model_inter_season_ref2)"
   ]
  },
  {
   "cell_type": "code",
   "execution_count": 43,
   "metadata": {},
   "outputs": [
    {
     "data": {
      "image/png": "[encoded data removed]",
      "text/plain": [
       "plot without title"
      ]
     },
     "metadata": {},
     "output_type": "display_data"
    }
   ],
   "source": [
    "library(repr)\n",
    "options(repr.plot.width=20, repr.plot.height=5)\n",
    "plot_models(m1_ref2, m2_ref2, m3_ref2, m4_ref2,  model_inter_season_ref2, grid = TRUE)"
   ]
  },
  {
   "cell_type": "code",
   "execution_count": 44,
   "metadata": {},
   "outputs": [
    {
     "data": {
      "image/png": "[encoded data removed]",
      "text/plain": [
       "plot without title"
      ]
     },
     "metadata": {},
     "output_type": "display_data"
    }
   ],
   "source": [
    "plot_models(m1_ref2, m2_ref2, m3_ref2, m4_ref2,  grid = TRUE)"
   ]
  },
  {
   "cell_type": "code",
   "execution_count": 45,
   "metadata": {
    "scrolled": true
   },
   "outputs": [
    {
     "data": {
      "image/png": "[encoded data removed]",
      "text/plain": [
       "plot without title"
      ]
     },
     "metadata": {},
     "output_type": "display_data"
    }
   ],
   "source": [
    "options(repr.plot.width=10, repr.plot.height=5)\n",
    "plot_models(model_inter_season_ref2, m4_ref2,  grid = TRUE)"
   ]
  },
  {
   "cell_type": "code",
   "execution_count": 46,
   "metadata": {},
   "outputs": [
    {
     "data": {
      "text/plain": [
       "[[1]]\n",
       "\n",
       "[[2]]\n"
      ]
     },
     "metadata": {},
     "output_type": "display_data"
    },
    {
     "data": {
      "image/png": "[encoded data removed]",
      "text/plain": [
       "plot without title"
      ]
     },
     "metadata": {},
     "output_type": "display_data"
    },
    {
     "data": {
      "image/png": "[encoded data removed]",
      "text/plain": [
       "plot without title"
      ]
     },
     "metadata": {},
     "output_type": "display_data"
    }
   ],
   "source": [
    "options(repr.plot.width=5, repr.plot.height=2.5)\n",
    "plot_model(model_inter_season_ref2, type = \"re\")"
   ]
  },
  {
   "cell_type": "code",
   "execution_count": 47,
   "metadata": {},
   "outputs": [
    {
     "data": {
      "text/plain": [
       "[[1]]\n",
       "\n",
       "[[2]]\n"
      ]
     },
     "metadata": {},
     "output_type": "display_data"
    },
    {
     "data": {
      "image/png": "[encoded data removed]",
      "text/plain": [
       "plot without title"
      ]
     },
     "metadata": {},
     "output_type": "display_data"
    },
    {
     "data": {
      "image/png": "[encoded data removed]",
      "text/plain": [
       "plot without title"
      ]
     },
     "metadata": {},
     "output_type": "display_data"
    }
   ],
   "source": [
    "options(repr.plot.width=5, repr.plot.height=2.5)\n",
    "plot_model(m4_ref2, type = \"re\")"
   ]
  },
  {
   "cell_type": "markdown",
   "metadata": {},
   "source": [
    "## Stepwise model selection"
   ]
  },
  {
   "cell_type": "code",
   "execution_count": 11,
   "metadata": {},
   "outputs": [
    {
     "name": "stderr",
     "output_type": "stream",
     "text": [
      "boundary (singular) fit: see ?isSingular\n",
      "\n",
      "boundary (singular) fit: see ?isSingular\n",
      "\n",
      "boundary (singular) fit: see ?isSingular\n",
      "\n",
      "boundary (singular) fit: see ?isSingular\n",
      "\n",
      "Warning message in checkConv(attr(opt, \"derivs\"), opt$par, ctrl = control$checkConv, :\n",
      "\"unable to evaluate scaled gradient\"\n",
      "Warning message in checkConv(attr(opt, \"derivs\"), opt$par, ctrl = control$checkConv, :\n",
      "\"Model failed to converge: degenerate  Hessian with 1 negative eigenvalues\"\n",
      "Warning message in checkConv(attr(opt, \"derivs\"), opt$par, ctrl = control$checkConv, :\n",
      "\"unable to evaluate scaled gradient\"\n",
      "Warning message in checkConv(attr(opt, \"derivs\"), opt$par, ctrl = control$checkConv, :\n",
      "\"Model failed to converge: degenerate  Hessian with 1 negative eigenvalues\"\n",
      "boundary (singular) fit: see ?isSingular\n",
      "\n",
      "boundary (singular) fit: see ?isSingular\n",
      "\n",
      "boundary (singular) fit: see ?isSingular\n",
      "\n"
     ]
    }
   ],
   "source": [
    "m1 <- glmer(Disposition_binary ~ Sex_e +  \n",
    "            (1|G_O), family=\"binomial\", data)#control = glmerControl(optimizer = \"bobyqa\"),\n",
    "m2 <- glmer(Disposition_binary ~ Sex_e +  Age_e +\n",
    "            (1|G_O), family=\"binomial\", data)#control = glmerControl(optimizer = \"bobyqa\"),\n",
    "m3 <- glmer(Disposition_binary ~ Sex_e +  Age_e +  season+ \n",
    "            (1|G_O), family=\"binomial\", data)#control = glmerControl(optimizer = \"bobyqa\"),\n",
    "m4 <- glmer(Disposition_binary ~ Sex_e + Age_e + season + F_Aid +\n",
    "            (1|G_O), family=\"binomial\", data)#control = glmerControl(optimizer = \"bobyqa\"),\n",
    "m5 <- glmer(Disposition_binary ~ Sex_e + Age_e + season + F_Aid + r +\n",
    "            (1|G_O), family=\"binomial\", data)#control = glmerControl(optimizer = \"bobyqa\"),\n",
    "model_inter_sex_season <- glmer(Disposition_binary ~ Sex_e +  Age_e + season + F_Aid + r +Sex_e*season +(1|G_O), \n",
    "                family=\"binomial\", data, control = glmerControl(optimizer = \"bobyqa\"))\n",
    "\n",
    "model_inter_season <- glmer(Disposition_binary ~ Sex_e +  \n",
    "                Age_e + season + F_Aid + r +Age_e*season +(1|G_O), \n",
    "                family=\"binomial\", data, control = glmerControl(optimizer = \"bobyqa\"))\n",
    "\n",
    "\n",
    "model_inter_Aid_Age <- glmer(Disposition_binary ~ Sex_e +  \n",
    "                Age_e + season + F_Aid + r +Age_e*F_Aid +(1|G_O), \n",
    "                family=\"binomial\", data, control = glmerControl(optimizer = \"bobyqa\"))\n",
    "\n",
    "m1_ref <- glmer(Disposition_binary ~ Sex_e +  \n",
    "            (1|G_O)+ (1 | Age_e), family=\"binomial\", data)#control = glmerControl(optimizer = \"bobyqa\"),\n",
    "m2_ref <- glmer(Disposition_binary ~ Sex_e +   season+ \n",
    "            (1|G_O)+ (1 | Age_e), family=\"binomial\", data)#control = glmerControl(optimizer = \"bobyqa\"),\n",
    "m3_ref <- glmer(Disposition_binary ~ Sex_e + season + F_Aid +\n",
    "            (1|G_O)+ (1 | Age_e), family=\"binomial\", data)#control = glmerControl(optimizer = \"bobyqa\"),\n",
    "m4_ref <- glmer(Disposition_binary ~ Sex_e + season + F_Aid + r +\n",
    "            (1|G_O)+ (1 | Age_e), family=\"binomial\", data)#control = glmerControl(optimizer = \"bobyqa\"),\n",
    "model_inter_sex_season_ref <- glmer(Disposition_binary ~ Sex_e + season + F_Aid + r +Sex_e*season +(1|G_O)+ (1 | Age_e), \n",
    "                family=\"binomial\", data, control = glmerControl(optimizer = \"bobyqa\"))\n",
    "\n",
    "model_inter_season_ref <- glmer(Disposition_binary ~ Sex_e +  \n",
    "                + season + F_Aid + r +Age_e*season +(1|G_O)+ (1 | Age_e), \n",
    "                family=\"binomial\", data, control = glmerControl(optimizer = \"bobyqa\"))\n",
    "\n",
    "model_inter_Aid_Age_ref <- glmer(Disposition_binary ~ Sex_e +  \n",
    "                season + F_Aid + r +Age_e*F_Aid +(1|G_O)+ (1 | Age_e), \n",
    "                family=\"binomial\", data, control = glmerControl(optimizer = \"bobyqa\"))"
   ]
  },
  {
   "cell_type": "code",
   "execution_count": 20,
   "metadata": {},
   "outputs": [
    {
     "name": "stderr",
     "output_type": "stream",
     "text": [
      "fixed-effect model matrix is rank deficient so dropping 2 columns / coefficients\n",
      "\n",
      "boundary (singular) fit: see ?isSingular\n",
      "\n"
     ]
    }
   ],
   "source": [
    "model_inter_age_sex_season_ref <- glmer(Disposition_binary ~ Sex_e +  \n",
    "                season + F_Aid + r + Age_e*season + Sex_e*season +(1|G_O)+ (1 | Age_e), \n",
    "                family=\"binomial\", data, control = glmerControl(optimizer = \"bobyqa\"))"
   ]
  },
  {
   "cell_type": "code",
   "execution_count": 12,
   "metadata": {},
   "outputs": [
    {
     "data": {
      "text/html": [
       "<table>\n",
       "<caption>A data.frame: 15 × 2</caption>\n",
       "<thead>\n",
       "\t<tr><th></th><th scope=col>df</th><th scope=col>AIC</th></tr>\n",
       "\t<tr><th></th><th scope=col>&lt;dbl&gt;</th><th scope=col>&lt;dbl&gt;</th></tr>\n",
       "</thead>\n",
       "<tbody>\n",
       "\t<tr><th scope=row>m1</th><td> 4</td><td>8298.830</td></tr>\n",
       "\t<tr><th scope=row>m2</th><td> 5</td><td>8280.329</td></tr>\n",
       "\t<tr><th scope=row>m3</th><td> 8</td><td>8173.363</td></tr>\n",
       "\t<tr><th scope=row>m4</th><td> 9</td><td>8171.111</td></tr>\n",
       "\t<tr><th scope=row>m5</th><td>15</td><td>8126.385</td></tr>\n",
       "\t<tr><th scope=row>model_inter_sex_season</th><td>21</td><td>8118.612</td></tr>\n",
       "\t<tr><th scope=row>model_inter_season</th><td>18</td><td>8120.446</td></tr>\n",
       "\t<tr><th scope=row>model_inter_Aid_Age</th><td>16</td><td>8127.411</td></tr>\n",
       "\t<tr><th scope=row>m1_ref</th><td> 5</td><td>8298.496</td></tr>\n",
       "\t<tr><th scope=row>m2_ref</th><td> 8</td><td>8191.502</td></tr>\n",
       "\t<tr><th scope=row>m3_ref</th><td> 9</td><td>8189.268</td></tr>\n",
       "\t<tr><th scope=row>m4_ref</th><td>15</td><td>8142.788</td></tr>\n",
       "\t<tr><th scope=row>model_inter_sex_season_ref</th><td>21</td><td>8134.993</td></tr>\n",
       "\t<tr><th scope=row>model_inter_season_ref</th><td>19</td><td>8122.446</td></tr>\n",
       "\t<tr><th scope=row>model_inter_Aid_Age_ref</th><td>17</td><td>8129.411</td></tr>\n",
       "</tbody>\n",
       "</table>\n"
      ],
      "text/latex": [
       "A data.frame: 15 × 2\n",
       "\\begin{tabular}{r|ll}\n",
       "  & df & AIC\\\\\n",
       "  & <dbl> & <dbl>\\\\\n",
       "\\hline\n",
       "\tm1 &  4 & 8298.830\\\\\n",
       "\tm2 &  5 & 8280.329\\\\\n",
       "\tm3 &  8 & 8173.363\\\\\n",
       "\tm4 &  9 & 8171.111\\\\\n",
       "\tm5 & 15 & 8126.385\\\\\n",
       "\tmodel\\_inter\\_sex\\_season & 21 & 8118.612\\\\\n",
       "\tmodel\\_inter\\_season & 18 & 8120.446\\\\\n",
       "\tmodel\\_inter\\_Aid\\_Age & 16 & 8127.411\\\\\n",
       "\tm1\\_ref &  5 & 8298.496\\\\\n",
       "\tm2\\_ref &  8 & 8191.502\\\\\n",
       "\tm3\\_ref &  9 & 8189.268\\\\\n",
       "\tm4\\_ref & 15 & 8142.788\\\\\n",
       "\tmodel\\_inter\\_sex\\_season\\_ref & 21 & 8134.993\\\\\n",
       "\tmodel\\_inter\\_season\\_ref & 19 & 8122.446\\\\\n",
       "\tmodel\\_inter\\_Aid\\_Age\\_ref & 17 & 8129.411\\\\\n",
       "\\end{tabular}\n"
      ],
      "text/markdown": [
       "\n",
       "A data.frame: 15 × 2\n",
       "\n",
       "| <!--/--> | df &lt;dbl&gt; | AIC &lt;dbl&gt; |\n",
       "|---|---|---|\n",
       "| m1 |  4 | 8298.830 |\n",
       "| m2 |  5 | 8280.329 |\n",
       "| m3 |  8 | 8173.363 |\n",
       "| m4 |  9 | 8171.111 |\n",
       "| m5 | 15 | 8126.385 |\n",
       "| model_inter_sex_season | 21 | 8118.612 |\n",
       "| model_inter_season | 18 | 8120.446 |\n",
       "| model_inter_Aid_Age | 16 | 8127.411 |\n",
       "| m1_ref |  5 | 8298.496 |\n",
       "| m2_ref |  8 | 8191.502 |\n",
       "| m3_ref |  9 | 8189.268 |\n",
       "| m4_ref | 15 | 8142.788 |\n",
       "| model_inter_sex_season_ref | 21 | 8134.993 |\n",
       "| model_inter_season_ref | 19 | 8122.446 |\n",
       "| model_inter_Aid_Age_ref | 17 | 8129.411 |\n",
       "\n"
      ],
      "text/plain": [
       "                           df AIC     \n",
       "m1                          4 8298.830\n",
       "m2                          5 8280.329\n",
       "m3                          8 8173.363\n",
       "m4                          9 8171.111\n",
       "m5                         15 8126.385\n",
       "model_inter_sex_season     21 8118.612\n",
       "model_inter_season         18 8120.446\n",
       "model_inter_Aid_Age        16 8127.411\n",
       "m1_ref                      5 8298.496\n",
       "m2_ref                      8 8191.502\n",
       "m3_ref                      9 8189.268\n",
       "m4_ref                     15 8142.788\n",
       "model_inter_sex_season_ref 21 8134.993\n",
       "model_inter_season_ref     19 8122.446\n",
       "model_inter_Aid_Age_ref    17 8129.411"
      ]
     },
     "metadata": {},
     "output_type": "display_data"
    }
   ],
   "source": [
    "AIC(m1, m2, m3, m4, m5, model_inter_sex_season, model_inter_season, model_inter_Aid_Age,\n",
    "   m1_ref, m2_ref, m3_ref, m4_ref,model_inter_sex_season_ref, model_inter_season_ref, model_inter_Aid_Age_ref)"
   ]
  },
  {
   "cell_type": "code",
   "execution_count": 13,
   "metadata": {},
   "outputs": [
    {
     "data": {
      "text/html": [
       "<table>\n",
       "<caption>A anova: 15 × 8</caption>\n",
       "<thead>\n",
       "\t<tr><th></th><th scope=col>Df</th><th scope=col>AIC</th><th scope=col>BIC</th><th scope=col>logLik</th><th scope=col>deviance</th><th scope=col>Chisq</th><th scope=col>Chi Df</th><th scope=col>Pr(&gt;Chisq)</th></tr>\n",
       "\t<tr><th></th><th scope=col>&lt;dbl&gt;</th><th scope=col>&lt;dbl&gt;</th><th scope=col>&lt;dbl&gt;</th><th scope=col>&lt;dbl&gt;</th><th scope=col>&lt;dbl&gt;</th><th scope=col>&lt;dbl&gt;</th><th scope=col>&lt;dbl&gt;</th><th scope=col>&lt;dbl&gt;</th></tr>\n",
       "</thead>\n",
       "<tbody>\n",
       "\t<tr><th scope=row>m1</th><td> 4</td><td>8298.830</td><td>8326.191</td><td>-4145.415</td><td>8290.830</td><td>        NA</td><td>NA</td><td>          NA</td></tr>\n",
       "\t<tr><th scope=row>m2</th><td> 5</td><td>8280.329</td><td>8314.531</td><td>-4135.164</td><td>8270.329</td><td> 20.500686</td><td> 1</td><td>5.960989e-06</td></tr>\n",
       "\t<tr><th scope=row>m1_ref</th><td> 5</td><td>8298.496</td><td>8332.699</td><td>-4144.248</td><td>8288.496</td><td>  0.000000</td><td> 0</td><td>1.000000e+00</td></tr>\n",
       "\t<tr><th scope=row>m3</th><td> 8</td><td>8173.363</td><td>8228.087</td><td>-4078.682</td><td>8157.363</td><td>131.133111</td><td> 3</td><td>3.082321e-28</td></tr>\n",
       "\t<tr><th scope=row>m2_ref</th><td> 8</td><td>8191.502</td><td>8246.226</td><td>-4087.751</td><td>8175.502</td><td>  0.000000</td><td> 0</td><td>1.000000e+00</td></tr>\n",
       "\t<tr><th scope=row>m4</th><td> 9</td><td>8171.111</td><td>8232.675</td><td>-4076.555</td><td>8153.111</td><td> 22.391331</td><td> 1</td><td>2.223755e-06</td></tr>\n",
       "\t<tr><th scope=row>m3_ref</th><td> 9</td><td>8189.268</td><td>8250.832</td><td>-4085.634</td><td>8171.268</td><td>  0.000000</td><td> 0</td><td>1.000000e+00</td></tr>\n",
       "\t<tr><th scope=row>m5</th><td>15</td><td>8126.385</td><td>8228.992</td><td>-4048.193</td><td>8096.385</td><td> 74.882465</td><td> 6</td><td>4.058239e-14</td></tr>\n",
       "\t<tr><th scope=row>m4_ref</th><td>15</td><td>8142.788</td><td>8245.394</td><td>-4056.394</td><td>8112.788</td><td>  0.000000</td><td> 0</td><td>1.000000e+00</td></tr>\n",
       "\t<tr><th scope=row>model_inter_Aid_Age</th><td>16</td><td>8127.411</td><td>8236.858</td><td>-4047.706</td><td>8095.411</td><td> 17.376359</td><td> 1</td><td>3.066161e-05</td></tr>\n",
       "\t<tr><th scope=row>model_inter_Aid_Age_ref</th><td>17</td><td>8129.411</td><td>8245.699</td><td>-4047.706</td><td>8095.411</td><td>  0.000000</td><td> 1</td><td>1.000000e+00</td></tr>\n",
       "\t<tr><th scope=row>model_inter_season</th><td>18</td><td>8120.446</td><td>8243.574</td><td>-4042.223</td><td>8084.446</td><td> 10.965456</td><td> 1</td><td>9.282609e-04</td></tr>\n",
       "\t<tr><th scope=row>model_inter_season_ref</th><td>19</td><td>8122.446</td><td>8252.414</td><td>-4042.223</td><td>8084.446</td><td>  0.000000</td><td> 1</td><td>1.000000e+00</td></tr>\n",
       "\t<tr><th scope=row>model_inter_sex_season</th><td>21</td><td>8118.612</td><td>8262.262</td><td>-4038.306</td><td>8076.612</td><td>  7.833556</td><td> 2</td><td>1.990513e-02</td></tr>\n",
       "\t<tr><th scope=row>model_inter_sex_season_ref</th><td>21</td><td>8134.993</td><td>8278.642</td><td>-4046.496</td><td>8092.993</td><td>  0.000000</td><td> 0</td><td>1.000000e+00</td></tr>\n",
       "</tbody>\n",
       "</table>\n"
      ],
      "text/latex": [
       "A anova: 15 × 8\n",
       "\\begin{tabular}{r|llllllll}\n",
       "  & Df & AIC & BIC & logLik & deviance & Chisq & Chi Df & Pr(>Chisq)\\\\\n",
       "  & <dbl> & <dbl> & <dbl> & <dbl> & <dbl> & <dbl> & <dbl> & <dbl>\\\\\n",
       "\\hline\n",
       "\tm1 &  4 & 8298.830 & 8326.191 & -4145.415 & 8290.830 &         NA & NA &           NA\\\\\n",
       "\tm2 &  5 & 8280.329 & 8314.531 & -4135.164 & 8270.329 &  20.500686 &  1 & 5.960989e-06\\\\\n",
       "\tm1\\_ref &  5 & 8298.496 & 8332.699 & -4144.248 & 8288.496 &   0.000000 &  0 & 1.000000e+00\\\\\n",
       "\tm3 &  8 & 8173.363 & 8228.087 & -4078.682 & 8157.363 & 131.133111 &  3 & 3.082321e-28\\\\\n",
       "\tm2\\_ref &  8 & 8191.502 & 8246.226 & -4087.751 & 8175.502 &   0.000000 &  0 & 1.000000e+00\\\\\n",
       "\tm4 &  9 & 8171.111 & 8232.675 & -4076.555 & 8153.111 &  22.391331 &  1 & 2.223755e-06\\\\\n",
       "\tm3\\_ref &  9 & 8189.268 & 8250.832 & -4085.634 & 8171.268 &   0.000000 &  0 & 1.000000e+00\\\\\n",
       "\tm5 & 15 & 8126.385 & 8228.992 & -4048.193 & 8096.385 &  74.882465 &  6 & 4.058239e-14\\\\\n",
       "\tm4\\_ref & 15 & 8142.788 & 8245.394 & -4056.394 & 8112.788 &   0.000000 &  0 & 1.000000e+00\\\\\n",
       "\tmodel\\_inter\\_Aid\\_Age & 16 & 8127.411 & 8236.858 & -4047.706 & 8095.411 &  17.376359 &  1 & 3.066161e-05\\\\\n",
       "\tmodel\\_inter\\_Aid\\_Age\\_ref & 17 & 8129.411 & 8245.699 & -4047.706 & 8095.411 &   0.000000 &  1 & 1.000000e+00\\\\\n",
       "\tmodel\\_inter\\_season & 18 & 8120.446 & 8243.574 & -4042.223 & 8084.446 &  10.965456 &  1 & 9.282609e-04\\\\\n",
       "\tmodel\\_inter\\_season\\_ref & 19 & 8122.446 & 8252.414 & -4042.223 & 8084.446 &   0.000000 &  1 & 1.000000e+00\\\\\n",
       "\tmodel\\_inter\\_sex\\_season & 21 & 8118.612 & 8262.262 & -4038.306 & 8076.612 &   7.833556 &  2 & 1.990513e-02\\\\\n",
       "\tmodel\\_inter\\_sex\\_season\\_ref & 21 & 8134.993 & 8278.642 & -4046.496 & 8092.993 &   0.000000 &  0 & 1.000000e+00\\\\\n",
       "\\end{tabular}\n"
      ],
      "text/markdown": [
       "\n",
       "A anova: 15 × 8\n",
       "\n",
       "| <!--/--> | Df &lt;dbl&gt; | AIC &lt;dbl&gt; | BIC &lt;dbl&gt; | logLik &lt;dbl&gt; | deviance &lt;dbl&gt; | Chisq &lt;dbl&gt; | Chi Df &lt;dbl&gt; | Pr(&gt;Chisq) &lt;dbl&gt; |\n",
       "|---|---|---|---|---|---|---|---|---|\n",
       "| m1 |  4 | 8298.830 | 8326.191 | -4145.415 | 8290.830 |         NA | NA |           NA |\n",
       "| m2 |  5 | 8280.329 | 8314.531 | -4135.164 | 8270.329 |  20.500686 |  1 | 5.960989e-06 |\n",
       "| m1_ref |  5 | 8298.496 | 8332.699 | -4144.248 | 8288.496 |   0.000000 |  0 | 1.000000e+00 |\n",
       "| m3 |  8 | 8173.363 | 8228.087 | -4078.682 | 8157.363 | 131.133111 |  3 | 3.082321e-28 |\n",
       "| m2_ref |  8 | 8191.502 | 8246.226 | -4087.751 | 8175.502 |   0.000000 |  0 | 1.000000e+00 |\n",
       "| m4 |  9 | 8171.111 | 8232.675 | -4076.555 | 8153.111 |  22.391331 |  1 | 2.223755e-06 |\n",
       "| m3_ref |  9 | 8189.268 | 8250.832 | -4085.634 | 8171.268 |   0.000000 |  0 | 1.000000e+00 |\n",
       "| m5 | 15 | 8126.385 | 8228.992 | -4048.193 | 8096.385 |  74.882465 |  6 | 4.058239e-14 |\n",
       "| m4_ref | 15 | 8142.788 | 8245.394 | -4056.394 | 8112.788 |   0.000000 |  0 | 1.000000e+00 |\n",
       "| model_inter_Aid_Age | 16 | 8127.411 | 8236.858 | -4047.706 | 8095.411 |  17.376359 |  1 | 3.066161e-05 |\n",
       "| model_inter_Aid_Age_ref | 17 | 8129.411 | 8245.699 | -4047.706 | 8095.411 |   0.000000 |  1 | 1.000000e+00 |\n",
       "| model_inter_season | 18 | 8120.446 | 8243.574 | -4042.223 | 8084.446 |  10.965456 |  1 | 9.282609e-04 |\n",
       "| model_inter_season_ref | 19 | 8122.446 | 8252.414 | -4042.223 | 8084.446 |   0.000000 |  1 | 1.000000e+00 |\n",
       "| model_inter_sex_season | 21 | 8118.612 | 8262.262 | -4038.306 | 8076.612 |   7.833556 |  2 | 1.990513e-02 |\n",
       "| model_inter_sex_season_ref | 21 | 8134.993 | 8278.642 | -4046.496 | 8092.993 |   0.000000 |  0 | 1.000000e+00 |\n",
       "\n"
      ],
      "text/plain": [
       "                           Df AIC      BIC      logLik    deviance Chisq     \n",
       "m1                          4 8298.830 8326.191 -4145.415 8290.830         NA\n",
       "m2                          5 8280.329 8314.531 -4135.164 8270.329  20.500686\n",
       "m1_ref                      5 8298.496 8332.699 -4144.248 8288.496   0.000000\n",
       "m3                          8 8173.363 8228.087 -4078.682 8157.363 131.133111\n",
       "m2_ref                      8 8191.502 8246.226 -4087.751 8175.502   0.000000\n",
       "m4                          9 8171.111 8232.675 -4076.555 8153.111  22.391331\n",
       "m3_ref                      9 8189.268 8250.832 -4085.634 8171.268   0.000000\n",
       "m5                         15 8126.385 8228.992 -4048.193 8096.385  74.882465\n",
       "m4_ref                     15 8142.788 8245.394 -4056.394 8112.788   0.000000\n",
       "model_inter_Aid_Age        16 8127.411 8236.858 -4047.706 8095.411  17.376359\n",
       "model_inter_Aid_Age_ref    17 8129.411 8245.699 -4047.706 8095.411   0.000000\n",
       "model_inter_season         18 8120.446 8243.574 -4042.223 8084.446  10.965456\n",
       "model_inter_season_ref     19 8122.446 8252.414 -4042.223 8084.446   0.000000\n",
       "model_inter_sex_season     21 8118.612 8262.262 -4038.306 8076.612   7.833556\n",
       "model_inter_sex_season_ref 21 8134.993 8278.642 -4046.496 8092.993   0.000000\n",
       "                           Chi Df Pr(>Chisq)  \n",
       "m1                         NA               NA\n",
       "m2                          1     5.960989e-06\n",
       "m1_ref                      0     1.000000e+00\n",
       "m3                          3     3.082321e-28\n",
       "m2_ref                      0     1.000000e+00\n",
       "m4                          1     2.223755e-06\n",
       "m3_ref                      0     1.000000e+00\n",
       "m5                          6     4.058239e-14\n",
       "m4_ref                      0     1.000000e+00\n",
       "model_inter_Aid_Age         1     3.066161e-05\n",
       "model_inter_Aid_Age_ref     1     1.000000e+00\n",
       "model_inter_season          1     9.282609e-04\n",
       "model_inter_season_ref      1     1.000000e+00\n",
       "model_inter_sex_season      2     1.990513e-02\n",
       "model_inter_sex_season_ref  0     1.000000e+00"
      ]
     },
     "metadata": {},
     "output_type": "display_data"
    }
   ],
   "source": [
    "anova(m1, m2, m3, m4, m5, model_inter_sex_season, model_inter_season, model_inter_Aid_Age,\n",
    "   m1_ref, m2_ref, m3_ref, m4_ref,model_inter_sex_season_ref, model_inter_season_ref, model_inter_Aid_Age_ref)"
   ]
  },
  {
   "cell_type": "markdown",
   "metadata": {},
   "source": [
    "# Generalized mixed model Random effect  = Species and Age"
   ]
  },
  {
   "cell_type": "code",
   "execution_count": 14,
   "metadata": {
    "scrolled": false
   },
   "outputs": [
    {
     "name": "stdout",
     "output_type": "stream",
     "text": [
      "Generalized linear mixed model fit by maximum likelihood (Laplace\n",
      "  Approximation) [glmerMod]\n",
      " Family: binomial  ( logit )\n",
      "Formula: Disposition_binary ~ Sex_e + season + F_Aid + r + Sex_e * season +  \n",
      "    (1 | G_O) + (1 | Age_e)\n",
      "   Data: data\n",
      "Control: glmerControl(optimizer = \"bobyqa\")\n",
      "\n",
      "     AIC      BIC   logLik deviance df.resid \n",
      "  8135.0   8278.6  -4046.5   8093.0     6887 \n",
      "\n",
      "Scaled residuals: \n",
      "    Min      1Q  Median      3Q     Max \n",
      "-1.5921 -0.6650 -0.5052  0.7761  4.7564 \n",
      "\n",
      "Random effects:\n",
      " Groups Name        Variance Std.Dev.\n",
      " G_O    (Intercept) 0.01086  0.1042  \n",
      " Age_e  (Intercept) 2.82721  1.6814  \n",
      "Number of obs: 6908, groups:  G_O, 2; Age_e, 2\n",
      "\n",
      "Fixed effects:\n",
      "                               Estimate Std. Error z value Pr(>|z|)    \n",
      "(Intercept)                    -3.49603    1.62820  -2.147 0.031779 *  \n",
      "Sex_eFemale-like                3.50281    1.74854   2.003 0.045148 *  \n",
      "Sex_eMale                       3.95828    1.75657   2.253 0.024233 *  \n",
      "seasonSpring                    2.68091    0.93653   2.863 0.004202 ** \n",
      "seasonSummer                    2.37884    0.93791   2.536 0.011202 *  \n",
      "seasonWinter                    2.39563    0.94870   2.525 0.011564 *  \n",
      "F_AidYes                       -0.10734    0.05756  -1.865 0.062205 .  \n",
      "rcaught by domestic animal     -0.43981    0.10332  -4.257 2.08e-05 ***\n",
      "rwindow hit                    -0.43178    0.11692  -3.693 0.000222 ***\n",
      "rfound inside                  -0.15670    0.16788  -0.933 0.350595    \n",
      "rfound on the ground           -0.27881    0.08020  -3.477 0.000508 ***\n",
      "rnest related                  -0.01370    0.10666  -0.128 0.897825    \n",
      "rsuspect torpor-like state     -1.56653    0.31213  -5.019 5.20e-07 ***\n",
      "Sex_eFemale-like :seasonSpring -1.51447    0.94663  -1.600 0.109630    \n",
      "Sex_eMale:seasonSpring         -2.22703    0.97066  -2.294 0.021771 *  \n",
      "Sex_eFemale-like :seasonSummer -1.20320    0.94855  -1.268 0.204630    \n",
      "Sex_eMale:seasonSummer         -2.02220    0.97814  -2.067 0.038698 *  \n",
      "Sex_eFemale-like :seasonWinter -1.74404    0.96164  -1.814 0.069739 .  \n",
      "Sex_eMale:seasonWinter         -2.69077    0.99233  -2.712 0.006697 ** \n",
      "---\n",
      "Signif. codes:  0 '***' 0.001 '**' 0.01 '*' 0.05 '.' 0.1 ' ' 1\n"
     ]
    },
    {
     "name": "stderr",
     "output_type": "stream",
     "text": [
      "\n",
      "Correlation of fixed effects could have been required in summary()\n",
      "\n"
     ]
    },
    {
     "name": "stdout",
     "output_type": "stream",
     "text": [
      "\n",
      "Correlation of Fixed Effects:\n",
      "                (Intr) Sx_Fm- Sex_Ml ssnSpr ssnSmm ssnWnt F_AdYs rcgbda rwndwh\n",
      "Sex_eFml-lk     -0.644                                                        \n",
      "Sex_eMale       -0.640  0.988                                                 \n",
      "seasonSprng     -0.517  0.464  0.461                                          \n",
      "seasonSummr     -0.514  0.459  0.456  0.993                                   \n",
      "seasonWintr     -0.507  0.453  0.450  0.980  0.979                            \n",
      "F_AidYes        -0.007 -0.006 -0.006  0.002  0.002  0.002                     \n",
      "rcghtbydmsa     -0.012 -0.018 -0.015 -0.007 -0.009 -0.007 -0.035              \n",
      "rwindow hit     -0.008 -0.017 -0.019 -0.011 -0.013 -0.010  0.000  0.380       \n",
      "rfoundinsid     -0.006 -0.013 -0.011 -0.007 -0.008 -0.005 -0.013  0.268  0.249\n",
      "rfndonthgrn     -0.013 -0.016 -0.017 -0.026 -0.031 -0.022 -0.112  0.557  0.489\n",
      "rnestrelatd     -0.004 -0.027 -0.028 -0.031 -0.030 -0.035 -0.048  0.403  0.323\n",
      "rsspctrpr-s     -0.001 -0.008 -0.009 -0.006 -0.007 -0.005 -0.012  0.147  0.136\n",
      "Sx_Fml-lk:ssnSp  0.510 -0.469 -0.454 -0.987 -0.980 -0.968 -0.002  0.014  0.015\n",
      "Sx_Ml:ssnSp      0.496 -0.444 -0.472 -0.960 -0.954 -0.941 -0.003  0.009  0.013\n",
      "Sx_Fml-lk:ssnSm  0.506 -0.465 -0.449 -0.980 -0.987 -0.966 -0.004  0.012  0.021\n",
      "Sx_Ml:ssnSm      0.490 -0.437 -0.465 -0.947 -0.954 -0.934 -0.001  0.008  0.021\n",
      "Sx_Fml-:ssW      0.499 -0.457 -0.442 -0.965 -0.963 -0.984 -0.001  0.015  0.007\n",
      "Sx_Ml:ssnWn      0.482 -0.429 -0.457 -0.932 -0.931 -0.951  0.001  0.010  0.010\n",
      "                rfndin rfnotg rnstrl rtrp-s Sx_Fml-lk:ssnSp Sx_Ml:ssnSp\n",
      "Sex_eFml-lk                                                            \n",
      "Sex_eMale                                                              \n",
      "seasonSprng                                                            \n",
      "seasonSummr                                                            \n",
      "seasonWintr                                                            \n",
      "F_AidYes                                                               \n",
      "rcghtbydmsa                                                            \n",
      "rwindow hit                                                            \n",
      "rfoundinsid                                                            \n",
      "rfndonthgrn      0.342                                                 \n",
      "rnestrelatd      0.227  0.567                                          \n",
      "rsspctrpr-s      0.095  0.190  0.125                                   \n",
      "Sx_Fml-lk:ssnSp  0.014  0.026  0.028  0.007                            \n",
      "Sx_Ml:ssnSp      0.007  0.022  0.026  0.002  0.948                     \n",
      "Sx_Fml-lk:ssnSm  0.016  0.032  0.029  0.008  0.990           0.941     \n",
      "Sx_Ml:ssnSm      0.010  0.028  0.028  0.006  0.935           0.966     \n",
      "Sx_Fml-:ssW      0.008  0.023  0.035  0.005  0.974           0.926     \n",
      "Sx_Ml:ssnWn      0.003  0.020  0.033  0.005  0.920           0.950     \n",
      "                Sx_Fml-lk:ssnSm Sx_Ml:ssnSm S_F-:W\n",
      "Sex_eFml-lk                                       \n",
      "Sex_eMale                                         \n",
      "seasonSprng                                       \n",
      "seasonSummr                                       \n",
      "seasonWintr                                       \n",
      "F_AidYes                                          \n",
      "rcghtbydmsa                                       \n",
      "rwindow hit                                       \n",
      "rfoundinsid                                       \n",
      "rfndonthgrn                                       \n",
      "rnestrelatd                                       \n",
      "rsspctrpr-s                                       \n",
      "Sx_Fml-lk:ssnSp                                   \n",
      "Sx_Ml:ssnSp                                       \n",
      "Sx_Fml-lk:ssnSm                                   \n",
      "Sx_Ml:ssnSm      0.942                            \n",
      "Sx_Fml-:ssW      0.972           0.919            \n",
      "Sx_Ml:ssnWn      0.918           0.943       0.936\n"
     ]
    },
    {
     "data": {
      "text/html": [
       "<table>\n",
       "<caption>A matrix: 19 × 3 of type dbl</caption>\n",
       "<thead>\n",
       "\t<tr><th></th><th scope=col>Est</th><th scope=col>LL</th><th scope=col>UL</th></tr>\n",
       "</thead>\n",
       "<tbody>\n",
       "\t<tr><th scope=row>(Intercept)</th><td>-3.49602904</td><td>-6.68730140</td><td>-0.304756675</td></tr>\n",
       "\t<tr><th scope=row>Sex_eFemale-like </th><td> 3.50280621</td><td> 0.07566393</td><td> 6.929948499</td></tr>\n",
       "\t<tr><th scope=row>Sex_eMale</th><td> 3.95827538</td><td> 0.51540057</td><td> 7.401150197</td></tr>\n",
       "\t<tr><th scope=row>seasonSpring</th><td> 2.68090855</td><td> 0.84531945</td><td> 4.516497645</td></tr>\n",
       "\t<tr><th scope=row>seasonSummer</th><td> 2.37883882</td><td> 0.54053754</td><td> 4.217140104</td></tr>\n",
       "\t<tr><th scope=row>seasonWinter</th><td> 2.39562849</td><td> 0.53618314</td><td> 4.255073837</td></tr>\n",
       "\t<tr><th scope=row>F_AidYes</th><td>-0.10734373</td><td>-0.22016535</td><td> 0.005477889</td></tr>\n",
       "\t<tr><th scope=row>rcaught by domestic animal</th><td>-0.43981339</td><td>-0.64233037</td><td>-0.237296413</td></tr>\n",
       "\t<tr><th scope=row>rwindow hit</th><td>-0.43178024</td><td>-0.66094558</td><td>-0.202614904</td></tr>\n",
       "\t<tr><th scope=row>rfound inside</th><td>-0.15670170</td><td>-0.48573883</td><td> 0.172335426</td></tr>\n",
       "\t<tr><th scope=row>rfound on the ground</th><td>-0.27881260</td><td>-0.43600229</td><td>-0.121622907</td></tr>\n",
       "\t<tr><th scope=row>rnest related</th><td>-0.01369639</td><td>-0.22275305</td><td> 0.195360270</td></tr>\n",
       "\t<tr><th scope=row>rsuspect torpor-like state</th><td>-1.56652921</td><td>-2.17830804</td><td>-0.954750378</td></tr>\n",
       "\t<tr><th scope=row>Sex_eFemale-like :seasonSpring</th><td>-1.51447383</td><td>-3.36986769</td><td> 0.340920042</td></tr>\n",
       "\t<tr><th scope=row>Sex_eMale:seasonSpring</th><td>-2.22702986</td><td>-4.12953175</td><td>-0.324527984</td></tr>\n",
       "\t<tr><th scope=row>Sex_eFemale-like :seasonSummer</th><td>-1.20320143</td><td>-3.06235088</td><td> 0.655948029</td></tr>\n",
       "\t<tr><th scope=row>Sex_eMale:seasonSummer</th><td>-2.02219923</td><td>-3.93935866</td><td>-0.105039805</td></tr>\n",
       "\t<tr><th scope=row>Sex_eFemale-like :seasonWinter</th><td>-1.74404003</td><td>-3.62886161</td><td> 0.140781555</td></tr>\n",
       "\t<tr><th scope=row>Sex_eMale:seasonWinter</th><td>-2.69076707</td><td>-4.63573665</td><td>-0.745797479</td></tr>\n",
       "</tbody>\n",
       "</table>\n"
      ],
      "text/latex": [
       "A matrix: 19 × 3 of type dbl\n",
       "\\begin{tabular}{r|lll}\n",
       "  & Est & LL & UL\\\\\n",
       "\\hline\n",
       "\t(Intercept) & -3.49602904 & -6.68730140 & -0.304756675\\\\\n",
       "\tSex\\_eFemale-like  &  3.50280621 &  0.07566393 &  6.929948499\\\\\n",
       "\tSex\\_eMale &  3.95827538 &  0.51540057 &  7.401150197\\\\\n",
       "\tseasonSpring &  2.68090855 &  0.84531945 &  4.516497645\\\\\n",
       "\tseasonSummer &  2.37883882 &  0.54053754 &  4.217140104\\\\\n",
       "\tseasonWinter &  2.39562849 &  0.53618314 &  4.255073837\\\\\n",
       "\tF\\_AidYes & -0.10734373 & -0.22016535 &  0.005477889\\\\\n",
       "\trcaught by domestic animal & -0.43981339 & -0.64233037 & -0.237296413\\\\\n",
       "\trwindow hit & -0.43178024 & -0.66094558 & -0.202614904\\\\\n",
       "\trfound inside & -0.15670170 & -0.48573883 &  0.172335426\\\\\n",
       "\trfound on the ground & -0.27881260 & -0.43600229 & -0.121622907\\\\\n",
       "\trnest related & -0.01369639 & -0.22275305 &  0.195360270\\\\\n",
       "\trsuspect torpor-like state & -1.56652921 & -2.17830804 & -0.954750378\\\\\n",
       "\tSex\\_eFemale-like :seasonSpring & -1.51447383 & -3.36986769 &  0.340920042\\\\\n",
       "\tSex\\_eMale:seasonSpring & -2.22702986 & -4.12953175 & -0.324527984\\\\\n",
       "\tSex\\_eFemale-like :seasonSummer & -1.20320143 & -3.06235088 &  0.655948029\\\\\n",
       "\tSex\\_eMale:seasonSummer & -2.02219923 & -3.93935866 & -0.105039805\\\\\n",
       "\tSex\\_eFemale-like :seasonWinter & -1.74404003 & -3.62886161 &  0.140781555\\\\\n",
       "\tSex\\_eMale:seasonWinter & -2.69076707 & -4.63573665 & -0.745797479\\\\\n",
       "\\end{tabular}\n"
      ],
      "text/markdown": [
       "\n",
       "A matrix: 19 × 3 of type dbl\n",
       "\n",
       "| <!--/--> | Est | LL | UL |\n",
       "|---|---|---|---|\n",
       "| (Intercept) | -3.49602904 | -6.68730140 | -0.304756675 |\n",
       "| Sex_eFemale-like  |  3.50280621 |  0.07566393 |  6.929948499 |\n",
       "| Sex_eMale |  3.95827538 |  0.51540057 |  7.401150197 |\n",
       "| seasonSpring |  2.68090855 |  0.84531945 |  4.516497645 |\n",
       "| seasonSummer |  2.37883882 |  0.54053754 |  4.217140104 |\n",
       "| seasonWinter |  2.39562849 |  0.53618314 |  4.255073837 |\n",
       "| F_AidYes | -0.10734373 | -0.22016535 |  0.005477889 |\n",
       "| rcaught by domestic animal | -0.43981339 | -0.64233037 | -0.237296413 |\n",
       "| rwindow hit | -0.43178024 | -0.66094558 | -0.202614904 |\n",
       "| rfound inside | -0.15670170 | -0.48573883 |  0.172335426 |\n",
       "| rfound on the ground | -0.27881260 | -0.43600229 | -0.121622907 |\n",
       "| rnest related | -0.01369639 | -0.22275305 |  0.195360270 |\n",
       "| rsuspect torpor-like state | -1.56652921 | -2.17830804 | -0.954750378 |\n",
       "| Sex_eFemale-like :seasonSpring | -1.51447383 | -3.36986769 |  0.340920042 |\n",
       "| Sex_eMale:seasonSpring | -2.22702986 | -4.12953175 | -0.324527984 |\n",
       "| Sex_eFemale-like :seasonSummer | -1.20320143 | -3.06235088 |  0.655948029 |\n",
       "| Sex_eMale:seasonSummer | -2.02219923 | -3.93935866 | -0.105039805 |\n",
       "| Sex_eFemale-like :seasonWinter | -1.74404003 | -3.62886161 |  0.140781555 |\n",
       "| Sex_eMale:seasonWinter | -2.69076707 | -4.63573665 | -0.745797479 |\n",
       "\n"
      ],
      "text/plain": [
       "                               Est         LL          UL          \n",
       "(Intercept)                    -3.49602904 -6.68730140 -0.304756675\n",
       "Sex_eFemale-like                3.50280621  0.07566393  6.929948499\n",
       "Sex_eMale                       3.95827538  0.51540057  7.401150197\n",
       "seasonSpring                    2.68090855  0.84531945  4.516497645\n",
       "seasonSummer                    2.37883882  0.54053754  4.217140104\n",
       "seasonWinter                    2.39562849  0.53618314  4.255073837\n",
       "F_AidYes                       -0.10734373 -0.22016535  0.005477889\n",
       "rcaught by domestic animal     -0.43981339 -0.64233037 -0.237296413\n",
       "rwindow hit                    -0.43178024 -0.66094558 -0.202614904\n",
       "rfound inside                  -0.15670170 -0.48573883  0.172335426\n",
       "rfound on the ground           -0.27881260 -0.43600229 -0.121622907\n",
       "rnest related                  -0.01369639 -0.22275305  0.195360270\n",
       "rsuspect torpor-like state     -1.56652921 -2.17830804 -0.954750378\n",
       "Sex_eFemale-like :seasonSpring -1.51447383 -3.36986769  0.340920042\n",
       "Sex_eMale:seasonSpring         -2.22702986 -4.12953175 -0.324527984\n",
       "Sex_eFemale-like :seasonSummer -1.20320143 -3.06235088  0.655948029\n",
       "Sex_eMale:seasonSummer         -2.02219923 -3.93935866 -0.105039805\n",
       "Sex_eFemale-like :seasonWinter -1.74404003 -3.62886161  0.140781555\n",
       "Sex_eMale:seasonWinter         -2.69076707 -4.63573665 -0.745797479"
      ]
     },
     "metadata": {},
     "output_type": "display_data"
    },
    {
     "name": "stdout",
     "output_type": "stream",
     "text": [
      "                                       Est          LL           UL\n",
      "(Intercept)                     0.03031753 0.001246642    0.7373028\n",
      "Sex_eFemale-like               33.20851153 1.078600028 1022.4413214\n",
      "Sex_eMale                      52.36693512 1.674309045 1637.8672163\n",
      "seasonSpring                   14.59835060 2.328721616   91.5145197\n",
      "seasonSummer                   10.79236372 1.716929529   67.8391935\n",
      "seasonWinter                   10.97509361 1.709469586   70.4620197\n",
      "F_AidYes                        0.89821688 0.802386113    1.0054929\n",
      "rcaught by domestic animal      0.64415662 0.526065070    0.7887575\n",
      "rwindow hit                     0.64935206 0.516362839    0.8165926\n",
      "rfound inside                   0.85495905 0.615242471    1.1880763\n",
      "rfound on the ground            0.75668169 0.646616247    0.8854822\n",
      "rnest related                   0.98639698 0.800312460    1.2157489\n",
      "rsuspect torpor-like state      0.20876852 0.113232954    0.3849082\n",
      "Sex_eFemale-like :seasonSpring  0.21992387 0.034394188    1.4062408\n",
      "Sex_eMale:seasonSpring          0.10784828 0.016090411    0.7228685\n",
      "Sex_eFemale-like :seasonSummer  0.30023150 0.046777597    1.9269685\n",
      "Sex_eMale:seasonSummer          0.13236405 0.019460692    0.9002887\n",
      "Sex_eFemale-like :seasonWinter  0.17481272 0.026546387    1.1511732\n",
      "Sex_eMale:seasonWinter          0.06782889 0.009698960    0.4743559\n"
     ]
    }
   ],
   "source": [
    "print (summary(model_inter_sex_season_ref),correlation=TRUE)\n",
    "se <- sqrt(diag(vcov(model_inter_sex_season_ref)))\n",
    "# table of estimates with 95% CI\n",
    "(tab <- cbind(Est = fixef(model_inter_sex_season_ref), LL = fixef(model_inter_sex_season_ref) - 1.96 * se, UL = fixef(model_inter_sex_season_ref) + 1.96 *\n",
    "    se))\n",
    "## Odds\n",
    "print (exp(tab))"
   ]
  },
  {
   "cell_type": "code",
   "execution_count": 15,
   "metadata": {},
   "outputs": [],
   "source": [
    "write.csv(exp(tab), 'C:/Users/Falco/Desktop/directory/Humminbird_rescue/Outputs/glmer_speciesRaEF.csv')"
   ]
  },
  {
   "cell_type": "code",
   "execution_count": 16,
   "metadata": {},
   "outputs": [
    {
     "data": {
      "text/html": [
       "<ol class=list-inline>\n",
       "\t<li>6908</li>\n",
       "\t<li>10000</li>\n",
       "</ol>\n"
      ],
      "text/latex": [
       "\\begin{enumerate*}\n",
       "\\item 6908\n",
       "\\item 10000\n",
       "\\end{enumerate*}\n"
      ],
      "text/markdown": [
       "1. 6908\n",
       "2. 10000\n",
       "\n",
       "\n"
      ],
      "text/plain": [
       "[1]  6908 10000"
      ]
     },
     "metadata": {},
     "output_type": "display_data"
    }
   ],
   "source": [
    "simo=simulate(model_inter_sex_season_ref, nsim = 10000)\n",
    "dim(simo)\n",
    "#Simdat=data\n",
    "#Simdat$Disposition_binary_sim=rowMeans(simo)"
   ]
  },
  {
   "cell_type": "code",
   "execution_count": 16,
   "metadata": {
    "scrolled": true
   },
   "outputs": [],
   "source": [
    "#model_3_ran_ef <- glmer(Disposition_binary ~ Age_e + Sex_e +  \n",
    "#                season + F_Aid + r + (1|G_O) + (1 | Age_e), \n",
    "#                family=\"binomial\", data, control = glmerControl(optimizer = \"bobyqa\"))\n",
    "\n",
    "#print (summary(model_3_ran_ef),correlation=TRUE)\n",
    "#se <- sqrt(diag(vcov(model_3_ran_ef)))\n",
    "# table of estimates with 95% CI\n",
    "#(tab <- cbind(Est = fixef(model_3_ran_ef), LL = fixef(model_3_ran_ef) - 1.96 * se, UL = fixef(model_3_ran_ef) + 1.96 *\n",
    "#    se))\n",
    "## Odds\n",
    "#print (exp(tab))"
   ]
  },
  {
   "cell_type": "markdown",
   "metadata": {},
   "source": [
    "# Generalized mixed model Random effect  = Species"
   ]
  },
  {
   "cell_type": "markdown",
   "metadata": {},
   "source": [
    "## Trial run 2"
   ]
  },
  {
   "cell_type": "code",
   "execution_count": 14,
   "metadata": {
    "scrolled": true
   },
   "outputs": [],
   "source": [
    "#model1 <- glmer(Disposition_binary ~ Sex_e +  \n",
    "#                Age_e + season + F_Aid + r + (1|G_O), \n",
    "#                family=\"binomial\", data, control = glmerControl(optimizer = \"bobyqa\"))\n",
    "\n",
    "#print (summary(model1))\n",
    "#se <- sqrt(diag(vcov(model1)))\n",
    "# table of estimates with 95% CI\n",
    "#(tab <- cbind(Est = fixef(model1), LL = fixef(model1) - 1.96 * se, UL = fixef(model1) + 1.96 *\n",
    "#    se))\n",
    "## Odds\n",
    "#print (exp(tab))"
   ]
  },
  {
   "cell_type": "code",
   "execution_count": 9,
   "metadata": {},
   "outputs": [],
   "source": [
    "#model1 <- glmer(Disposition_binary ~ Sex_e +  \n",
    "#                Age_e + Brought_in_after + season + F_Aid + r + (1|G_O), \n",
    "#                family=\"binomial\", data)#control = glmerControl(optimizer = \"bobyqa\"),\n",
    "#\n",
    "#print (summary(model1))\n",
    "#se <- sqrt(diag(vcov(model1)))\n",
    "# table of estimates with 95% CI\n",
    "#(tab <- cbind(Est = fixef(model1), LL = fixef(model1) - 1.96 * se, UL = fixef(model1) + 1.96 *\n",
    "#    se))\n",
    "## Odds\n",
    "#print (exp(tab))"
   ]
  },
  {
   "cell_type": "markdown",
   "metadata": {},
   "source": [
    "## Original run"
   ]
  },
  {
   "cell_type": "code",
   "execution_count": 10,
   "metadata": {},
   "outputs": [],
   "source": [
    "#any(is.na(data$Brought_in_after))"
   ]
  },
  {
   "cell_type": "code",
   "execution_count": 15,
   "metadata": {},
   "outputs": [],
   "source": [
    "#model1 <- glmer(Disposition_binary ~ Sex_e +  \n",
    "#                Age_e + season + F_Aid + r + (1|G_O), \n",
    "#                family=\"binomial\", data)#control = glmerControl(optimizer = \"bobyqa\"),\n",
    "\n",
    "#print (summary(model1))\n",
    "#se <- sqrt(diag(vcov(model1)))\n",
    "# table of estimates with 95% CI\n",
    "#(tab <- cbind(Est = fixef(model1), LL = fixef(model1) - 1.96 * se, UL = fixef(model1) + 1.96 *\n",
    "#    se))\n",
    "## Odds\n",
    "#print (exp(tab))"
   ]
  },
  {
   "cell_type": "code",
   "execution_count": 12,
   "metadata": {
    "scrolled": false
   },
   "outputs": [],
   "source": [
    "#model1 <- glmer(Disposition_binary ~ Sex_e +  \n",
    "#                Age_e + Brought_in_after + season + F_Aid + r + (1|G_O), \n",
    "#                family=\"binomial\", data)#control = glmerControl(optimizer = \"bobyqa\"),\n",
    "#\n",
    "#print (summary(model1))\n",
    "#se <- sqrt(diag(vcov(model1)))\n",
    "# table of estimates with 95% CI\n",
    "#(tab <- cbind(Est = fixef(model1), LL = fixef(model1) - 1.96 * se, UL = fixef(model1) + 1.96 *\n",
    "#    se))\n",
    "## Odds\n",
    "#print (exp(tab))"
   ]
  },
  {
   "cell_type": "code",
   "execution_count": 13,
   "metadata": {
    "scrolled": false
   },
   "outputs": [],
   "source": [
    "#model1 <- glmer(Disposition_binary ~ Sex_e +  \n",
    "#                Age_e + Brought_in_after + season + F_Aid + r + (1|G_O), \n",
    "#                family=\"binomial\", data)#control = glmerControl(optimizer = \"bobyqa\"),\n",
    "\n",
    "#print (summary(model1))\n",
    "#se <- sqrt(diag(vcov(model1)))\n",
    "# table of estimates with 95% CI\n",
    "#(tab <- cbind(Est = fixef(model1), LL = fixef(model1) - 1.96 * se, UL = fixef(model1) + 1.96 *\n",
    "#    se))\n",
    "## Odds\n",
    "#print (exp(tab))"
   ]
  },
  {
   "cell_type": "code",
   "execution_count": null,
   "metadata": {
    "scrolled": false
   },
   "outputs": [],
   "source": [
    "#model_inter_season_withagesex <- glmer(Disposition_binary ~ Sex_e +  \n",
    "#                Age_e + season + F_Aid + r +Age_e*season+ Sex_e*season +(1|G_O), \n",
    "#                family=\"binomial\", data, control = glmerControl(optimizer = \"bobyqa\"))\n",
    "\n",
    "#print (summary(model_inter_season_withagesex))\n",
    "#se <- sqrt(diag(vcov(model_inter_season_withagesex)))\n",
    "# table of estimates with 95% CI\n",
    "#(tab <- cbind(Est = fixef(model_inter_season_withagesex), LL = fixef(model_inter_season_withagesex) - 1.96 * se, UL = fixef(model_inter_season_withagesex) + 1.96 *\n",
    "#    se))\n",
    "## Odds\n",
    "#print (exp(tab))"
   ]
  },
  {
   "cell_type": "code",
   "execution_count": null,
   "metadata": {},
   "outputs": [],
   "source": []
  },
  {
   "cell_type": "code",
   "execution_count": 26,
   "metadata": {},
   "outputs": [],
   "source": [
    "#head(Simdat)"
   ]
  },
  {
   "cell_type": "markdown",
   "metadata": {},
   "source": [
    "\"\"\"\n",
    "options(repr.plot.width=8, repr.plot.height=6)\n",
    "p <-ggplot(Simdat, aes(y=Disposition_binary, x=Disposition_binary_sim, color=Species_e)) +\n",
    "    geom_point()+ theme_economist()+\n",
    "    geom_smooth(method=lm, se=TRUE,aes(fill=Species), alpha=0.5, show.legend = FALSE)+\n",
    "    ylab(\"actual disposition\") +\n",
    "    xlab(\"predicted disposition\") +\n",
    "    scale_x_discrete(limits=c(0, 1))+\n",
    "    #scale_x_discrete(limits=c(0, 1))+\n",
    "    ggtitle(\"Host plasticity of viruses\", subtitle='model simulation results')+\n",
    "    theme(axis.title = element_text(size = 12, face = \"italic\"),\n",
    "          axis.text.x=element_text(angle=90),\n",
    "          legend.text=element_text(size=9, face = \"bold.italic\"),\n",
    "          legend.position=\"right\",\n",
    "          legend.title=element_blank(),\n",
    "          plot.title = element_text(size=16,family=\"Times New Roman\"))\n",
    "#ggsave(filename=\"C:/Users/Falco/Desktop/directory/Interface_analysis/outputs/model_fitness.jpg\", plot=p, width = 8, height = 6, dpi = 1000)\n",
    "p\n",
    "\"\"\""
   ]
  },
  {
   "cell_type": "code",
   "execution_count": null,
   "metadata": {},
   "outputs": [],
   "source": []
  },
  {
   "cell_type": "markdown",
   "metadata": {},
   "source": [
    "# GLM model without Random Effect"
   ]
  },
  {
   "cell_type": "code",
   "execution_count": 27,
   "metadata": {
    "scrolled": false
   },
   "outputs": [
    {
     "data": {
      "text/plain": [
       "\n",
       "Call:\n",
       "glm(formula = Disposition_binary ~ Sex_e + G_O + Age_e + Brought_in_after + \n",
       "    season + F_Aid + r, family = \"binomial\", data = df)\n",
       "\n",
       "Deviance Residuals: \n",
       "    Min       1Q   Median       3Q      Max  \n",
       "-1.5673  -0.8636  -0.6901   0.9801   2.4176  \n",
       "\n",
       "Coefficients:\n",
       "                             Estimate Std. Error z value Pr(>|z|)    \n",
       "(Intercept)                -1.906e+00  1.398e-01 -13.628  < 2e-16 ***\n",
       "Sex_eMale                  -2.611e-01  9.706e-02  -2.690 0.007135 ** \n",
       "Sex_eunknown               -1.284e+01  1.676e+02  -0.077 0.938916    \n",
       "G_OSelasphorus spp.        -1.607e-01  7.354e-02  -2.185 0.028887 *  \n",
       "Age_eNestling               1.412e+01  1.676e+02   0.084 0.932854    \n",
       "Brought_in_after           -3.333e-04  7.892e-04  -0.422 0.672762    \n",
       "seasonSpring                1.064e+00  1.283e-01   8.290  < 2e-16 ***\n",
       "seasonSummer                9.750e-01  1.310e-01   7.445 9.70e-14 ***\n",
       "seasonWinter                5.450e-01  1.421e-01   3.834 0.000126 ***\n",
       "F_AidYes                   -1.032e-01  5.750e-02  -1.794 0.072749 .  \n",
       "rfound inside               2.665e-01  1.715e-01   1.554 0.120073    \n",
       "rfound on the ground        1.513e-01  8.850e-02   1.710 0.087244 .  \n",
       "rnest related               4.349e-01  1.145e-01   3.797 0.000146 ***\n",
       "rsuspect torpor-like state -1.141e+00  3.141e-01  -3.633 0.000280 ***\n",
       "runknown                    4.463e-01  1.028e-01   4.343 1.41e-05 ***\n",
       "rwindow hit                -8.460e-03  1.227e-01  -0.069 0.945023    \n",
       "---\n",
       "Signif. codes:  0 '***' 0.001 '**' 0.01 '*' 0.05 '.' 0.1 ' ' 1\n",
       "\n",
       "(Dispersion parameter for binomial family taken to be 1)\n",
       "\n",
       "    Null deviance: 9025.5  on 6907  degrees of freedom\n",
       "Residual deviance: 8090.4  on 6892  degrees of freedom\n",
       "AIC: 8122.4\n",
       "\n",
       "Number of Fisher Scoring iterations: 12\n"
      ]
     },
     "metadata": {},
     "output_type": "display_data"
    }
   ],
   "source": [
    "mod.all_pos<-glm(Disposition_binary ~ Sex_e + G_O + Age_e + Brought_in_after + season + F_Aid+ r, data=data, family=\"binomial\")\n",
    "summary(mod.all_pos)"
   ]
  },
  {
   "cell_type": "code",
   "execution_count": 28,
   "metadata": {},
   "outputs": [
    {
     "data": {
      "text/html": [
       "<table>\n",
       "<caption>A data.frame: 16 × 3</caption>\n",
       "<thead>\n",
       "\t<tr><th></th><th scope=col>Odds</th><th scope=col>upper limit</th><th scope=col>lower limit</th></tr>\n",
       "\t<tr><th></th><th scope=col>&lt;dbl&gt;</th><th scope=col>&lt;dbl&gt;</th><th scope=col>&lt;dbl&gt;</th></tr>\n",
       "</thead>\n",
       "<tbody>\n",
       "\t<tr><th scope=row>(Intercept)</th><td> 8.513083e-01</td><td>  8.044178e-01</td><td> 0.88695679</td></tr>\n",
       "\t<tr><th scope=row>Sex_eMale</th><td> 2.298131e-01</td><td>  6.843965e-02</td><td> 0.36323201</td></tr>\n",
       "\t<tr><th scope=row>Sex_eunknown</th><td> 9.999974e-01</td><td>-1.238728e+137</td><td> 1.00000000</td></tr>\n",
       "\t<tr><th scope=row>G_OSelasphorus spp.</th><td> 1.484470e-01</td><td>  1.641305e-02</td><td> 0.26275716</td></tr>\n",
       "\t<tr><th scope=row>Age_eNestling</th><td>-1.358423e+06</td><td>-6.370489e+148</td><td> 1.00000000</td></tr>\n",
       "\t<tr><th scope=row>Brought_in_after</th><td> 3.332565e-04</td><td> -1.214189e-03</td><td> 0.00187831</td></tr>\n",
       "\t<tr><th scope=row>seasonSpring</th><td>-1.896750e+00</td><td> -2.724983e+00</td><td>-1.25267067</td></tr>\n",
       "\t<tr><th scope=row>seasonSummer</th><td>-1.651152e+00</td><td> -2.426980e+00</td><td>-1.05096212</td></tr>\n",
       "\t<tr><th scope=row>seasonWinter</th><td>-7.246194e-01</td><td> -1.278667e+00</td><td>-0.30528603</td></tr>\n",
       "\t<tr><th scope=row>F_AidYes</th><td> 9.803183e-02</td><td> -9.567312e-03</td><td> 0.19416311</td></tr>\n",
       "\t<tr><th scope=row>rfound inside</th><td>-3.054264e-01</td><td> -8.268486e-01</td><td> 0.06717061</td></tr>\n",
       "\t<tr><th scope=row>rfound on the ground</th><td>-1.633975e-01</td><td> -3.837587e-01</td><td> 0.02187149</td></tr>\n",
       "\t<tr><th scope=row>rnest related</th><td>-5.447612e-01</td><td> -9.334903e-01</td><td>-0.23418622</td></tr>\n",
       "\t<tr><th scope=row>rsuspect torpor-like state</th><td> 6.804849e-01</td><td>  4.086855e-01</td><td> 0.82735093</td></tr>\n",
       "\t<tr><th scope=row>runknown</th><td>-5.625341e-01</td><td> -9.112227e-01</td><td>-0.27746111</td></tr>\n",
       "\t<tr><th scope=row>rwindow hit</th><td> 8.424244e-03</td><td> -2.611178e-01</td><td> 0.22035638</td></tr>\n",
       "</tbody>\n",
       "</table>\n"
      ],
      "text/latex": [
       "A data.frame: 16 × 3\n",
       "\\begin{tabular}{r|lll}\n",
       "  & Odds & upper limit & lower limit\\\\\n",
       "  & <dbl> & <dbl> & <dbl>\\\\\n",
       "\\hline\n",
       "\t(Intercept) &  8.513083e-01 &   8.044178e-01 &  0.88695679\\\\\n",
       "\tSex\\_eMale &  2.298131e-01 &   6.843965e-02 &  0.36323201\\\\\n",
       "\tSex\\_eunknown &  9.999974e-01 & -1.238728e+137 &  1.00000000\\\\\n",
       "\tG\\_OSelasphorus spp. &  1.484470e-01 &   1.641305e-02 &  0.26275716\\\\\n",
       "\tAge\\_eNestling & -1.358423e+06 & -6.370489e+148 &  1.00000000\\\\\n",
       "\tBrought\\_in\\_after &  3.332565e-04 &  -1.214189e-03 &  0.00187831\\\\\n",
       "\tseasonSpring & -1.896750e+00 &  -2.724983e+00 & -1.25267067\\\\\n",
       "\tseasonSummer & -1.651152e+00 &  -2.426980e+00 & -1.05096212\\\\\n",
       "\tseasonWinter & -7.246194e-01 &  -1.278667e+00 & -0.30528603\\\\\n",
       "\tF\\_AidYes &  9.803183e-02 &  -9.567312e-03 &  0.19416311\\\\\n",
       "\trfound inside & -3.054264e-01 &  -8.268486e-01 &  0.06717061\\\\\n",
       "\trfound on the ground & -1.633975e-01 &  -3.837587e-01 &  0.02187149\\\\\n",
       "\trnest related & -5.447612e-01 &  -9.334903e-01 & -0.23418622\\\\\n",
       "\trsuspect torpor-like state &  6.804849e-01 &   4.086855e-01 &  0.82735093\\\\\n",
       "\trunknown & -5.625341e-01 &  -9.112227e-01 & -0.27746111\\\\\n",
       "\trwindow hit &  8.424244e-03 &  -2.611178e-01 &  0.22035638\\\\\n",
       "\\end{tabular}\n"
      ],
      "text/markdown": [
       "\n",
       "A data.frame: 16 × 3\n",
       "\n",
       "| <!--/--> | Odds &lt;dbl&gt; | upper limit &lt;dbl&gt; | lower limit &lt;dbl&gt; |\n",
       "|---|---|---|---|\n",
       "| (Intercept) |  8.513083e-01 |   8.044178e-01 |  0.88695679 |\n",
       "| Sex_eMale |  2.298131e-01 |   6.843965e-02 |  0.36323201 |\n",
       "| Sex_eunknown |  9.999974e-01 | -1.238728e+137 |  1.00000000 |\n",
       "| G_OSelasphorus spp. |  1.484470e-01 |   1.641305e-02 |  0.26275716 |\n",
       "| Age_eNestling | -1.358423e+06 | -6.370489e+148 |  1.00000000 |\n",
       "| Brought_in_after |  3.332565e-04 |  -1.214189e-03 |  0.00187831 |\n",
       "| seasonSpring | -1.896750e+00 |  -2.724983e+00 | -1.25267067 |\n",
       "| seasonSummer | -1.651152e+00 |  -2.426980e+00 | -1.05096212 |\n",
       "| seasonWinter | -7.246194e-01 |  -1.278667e+00 | -0.30528603 |\n",
       "| F_AidYes |  9.803183e-02 |  -9.567312e-03 |  0.19416311 |\n",
       "| rfound inside | -3.054264e-01 |  -8.268486e-01 |  0.06717061 |\n",
       "| rfound on the ground | -1.633975e-01 |  -3.837587e-01 |  0.02187149 |\n",
       "| rnest related | -5.447612e-01 |  -9.334903e-01 | -0.23418622 |\n",
       "| rsuspect torpor-like state |  6.804849e-01 |   4.086855e-01 |  0.82735093 |\n",
       "| runknown | -5.625341e-01 |  -9.112227e-01 | -0.27746111 |\n",
       "| rwindow hit |  8.424244e-03 |  -2.611178e-01 |  0.22035638 |\n",
       "\n"
      ],
      "text/plain": [
       "                           Odds          upper limit    lower limit\n",
       "(Intercept)                 8.513083e-01   8.044178e-01  0.88695679\n",
       "Sex_eMale                   2.298131e-01   6.843965e-02  0.36323201\n",
       "Sex_eunknown                9.999974e-01 -1.238728e+137  1.00000000\n",
       "G_OSelasphorus spp.         1.484470e-01   1.641305e-02  0.26275716\n",
       "Age_eNestling              -1.358423e+06 -6.370489e+148  1.00000000\n",
       "Brought_in_after            3.332565e-04  -1.214189e-03  0.00187831\n",
       "seasonSpring               -1.896750e+00  -2.724983e+00 -1.25267067\n",
       "seasonSummer               -1.651152e+00  -2.426980e+00 -1.05096212\n",
       "seasonWinter               -7.246194e-01  -1.278667e+00 -0.30528603\n",
       "F_AidYes                    9.803183e-02  -9.567312e-03  0.19416311\n",
       "rfound inside              -3.054264e-01  -8.268486e-01  0.06717061\n",
       "rfound on the ground       -1.633975e-01  -3.837587e-01  0.02187149\n",
       "rnest related              -5.447612e-01  -9.334903e-01 -0.23418622\n",
       "rsuspect torpor-like state  6.804849e-01   4.086855e-01  0.82735093\n",
       "runknown                   -5.625341e-01  -9.112227e-01 -0.27746111\n",
       "rwindow hit                 8.424244e-03  -2.611178e-01  0.22035638"
      ]
     },
     "metadata": {},
     "output_type": "display_data"
    }
   ],
   "source": [
    "Odds = cbind.data.frame(1-exp(coef(mod.all_pos)), 1-exp(coef(mod.all_pos)+ 1.96*summary(mod.all_pos)$coefficients[,2] ), \n",
    "                 1-exp(coef(mod.all_pos)- 1.96*summary(mod.all_pos)$coefficients[,2] ))\n",
    "colnames(Odds) <- c(\"Odds\", \"upper limit\", \"lower limit\")\n",
    "Odds"
   ]
  },
  {
   "cell_type": "code",
   "execution_count": 29,
   "metadata": {},
   "outputs": [],
   "source": [
    "write.csv(Odds, file = \"GLM_full_data.csv\")"
   ]
  },
  {
   "cell_type": "code",
   "execution_count": 30,
   "metadata": {},
   "outputs": [
    {
     "data": {
      "text/html": [
       "<ol class=list-inline>\n",
       "\t<li>6908</li>\n",
       "\t<li>1000</li>\n",
       "</ol>\n"
      ],
      "text/latex": [
       "\\begin{enumerate*}\n",
       "\\item 6908\n",
       "\\item 1000\n",
       "\\end{enumerate*}\n"
      ],
      "text/markdown": [
       "1. 6908\n",
       "2. 1000\n",
       "\n",
       "\n"
      ],
      "text/plain": [
       "[1] 6908 1000"
      ]
     },
     "metadata": {},
     "output_type": "display_data"
    }
   ],
   "source": [
    "simo=simulate(mod.all_pos, nsim = 1000)\n",
    "dim(simo)"
   ]
  },
  {
   "cell_type": "code",
   "execution_count": 32,
   "metadata": {},
   "outputs": [
    {
     "data": {
      "text/html": [
       "<ol class=list-inline>\n",
       "\t<li>'ANHU'</li>\n",
       "\t<li>'BCHU'</li>\n",
       "\t<li>'Non-selasphorus'</li>\n",
       "\t<li>'Selasphorus'</li>\n",
       "</ol>\n"
      ],
      "text/latex": [
       "\\begin{enumerate*}\n",
       "\\item 'ANHU'\n",
       "\\item 'BCHU'\n",
       "\\item 'Non-selasphorus'\n",
       "\\item 'Selasphorus'\n",
       "\\end{enumerate*}\n"
      ],
      "text/markdown": [
       "1. 'ANHU'\n",
       "2. 'BCHU'\n",
       "3. 'Non-selasphorus'\n",
       "4. 'Selasphorus'\n",
       "\n",
       "\n"
      ],
      "text/plain": [
       "[1] \"ANHU\"            \"BCHU\"            \"Non-selasphorus\" \"Selasphorus\"    "
      ]
     },
     "metadata": {},
     "output_type": "display_data"
    }
   ],
   "source": [
    "levels(data$Species)"
   ]
  },
  {
   "cell_type": "code",
   "execution_count": 33,
   "metadata": {},
   "outputs": [],
   "source": [
    "#simo"
   ]
  },
  {
   "cell_type": "markdown",
   "metadata": {},
   "source": [
    "## Glmulti"
   ]
  },
  {
   "cell_type": "code",
   "execution_count": 7,
   "metadata": {},
   "outputs": [
    {
     "name": "stderr",
     "output_type": "stream",
     "text": [
      "Loading required package: rJava\n",
      "\n"
     ]
    }
   ],
   "source": [
    "#library(rJava)\n",
    "library(glmulti)"
   ]
  },
  {
   "cell_type": "code",
   "execution_count": 8,
   "metadata": {},
   "outputs": [
    {
     "data": {
      "text/html": [
       "<ol class=list-inline>\n",
       "\t<li>6908</li>\n",
       "\t<li>11</li>\n",
       "</ol>\n"
      ],
      "text/latex": [
       "\\begin{enumerate*}\n",
       "\\item 6908\n",
       "\\item 11\n",
       "\\end{enumerate*}\n"
      ],
      "text/markdown": [
       "1. 6908\n",
       "2. 11\n",
       "\n",
       "\n"
      ],
      "text/plain": [
       "[1] 6908   11"
      ]
     },
     "metadata": {},
     "output_type": "display_data"
    }
   ],
   "source": [
    "complete = data[complete.cases(data), ]\n",
    "dim(complete)"
   ]
  },
  {
   "cell_type": "code",
   "execution_count": null,
   "metadata": {
    "scrolled": true
   },
   "outputs": [
    {
     "name": "stdout",
     "output_type": "stream",
     "text": [
      "TASK: Genetic algorithm in the candidate set.\n",
      "Initialization...\n",
      "Algorithm started...\n"
     ]
    },
    {
     "name": "stderr",
     "output_type": "stream",
     "text": [
      "Warning message:\n",
      "\"glm.fit: fitted probabilities numerically 0 or 1 occurred\"\n",
      "Warning message:\n",
      "\"glm.fit: fitted probabilities numerically 0 or 1 occurred\"\n",
      "Warning message:\n",
      "\"glm.fit: fitted probabilities numerically 0 or 1 occurred\"\n",
      "Warning message:\n",
      "\"glm.fit: fitted probabilities numerically 0 or 1 occurred\"\n",
      "Warning message:\n",
      "\"glm.fit: fitted probabilities numerically 0 or 1 occurred\"\n",
      "Warning message:\n",
      "\"glm.fit: fitted probabilities numerically 0 or 1 occurred\"\n",
      "Warning message:\n",
      "\"glm.fit: fitted probabilities numerically 0 or 1 occurred\"\n",
      "Warning message:\n",
      "\"glm.fit: fitted probabilities numerically 0 or 1 occurred\"\n",
      "Warning message:\n",
      "\"glm.fit: fitted probabilities numerically 0 or 1 occurred\"\n",
      "Warning message:\n",
      "\"glm.fit: fitted probabilities numerically 0 or 1 occurred\"\n",
      "Warning message:\n",
      "\"glm.fit: fitted probabilities numerically 0 or 1 occurred\"\n",
      "Warning message:\n",
      "\"glm.fit: fitted probabilities numerically 0 or 1 occurred\"\n",
      "Warning message:\n",
      "\"glm.fit: fitted probabilities numerically 0 or 1 occurred\"\n",
      "Warning message:\n",
      "\"glm.fit: fitted probabilities numerically 0 or 1 occurred\"\n",
      "Warning message:\n",
      "\"glm.fit: fitted probabilities numerically 0 or 1 occurred\"\n",
      "Warning message:\n",
      "\"glm.fit: fitted probabilities numerically 0 or 1 occurred\"\n",
      "Warning message:\n",
      "\"glm.fit: fitted probabilities numerically 0 or 1 occurred\"\n",
      "Warning message:\n",
      "\"glm.fit: fitted probabilities numerically 0 or 1 occurred\"\n",
      "Warning message:\n",
      "\"glm.fit: fitted probabilities numerically 0 or 1 occurred\"\n",
      "Warning message:\n",
      "\"glm.fit: fitted probabilities numerically 0 or 1 occurred\"\n",
      "Warning message:\n",
      "\"glm.fit: fitted probabilities numerically 0 or 1 occurred\"\n",
      "Warning message:\n",
      "\"glm.fit: fitted probabilities numerically 0 or 1 occurred\"\n",
      "Warning message:\n",
      "\"glm.fit: fitted probabilities numerically 0 or 1 occurred\"\n",
      "Warning message:\n",
      "\"glm.fit: fitted probabilities numerically 0 or 1 occurred\"\n",
      "Warning message:\n",
      "\"glm.fit: fitted probabilities numerically 0 or 1 occurred\"\n",
      "Warning message:\n",
      "\"glm.fit: fitted probabilities numerically 0 or 1 occurred\"\n",
      "Warning message:\n",
      "\"glm.fit: fitted probabilities numerically 0 or 1 occurred\"\n",
      "Warning message:\n",
      "\"glm.fit: fitted probabilities numerically 0 or 1 occurred\"\n",
      "Warning message:\n",
      "\"glm.fit: fitted probabilities numerically 0 or 1 occurred\"\n",
      "Warning message:\n",
      "\"glm.fit: fitted probabilities numerically 0 or 1 occurred\"\n",
      "Warning message:\n",
      "\"glm.fit: fitted probabilities numerically 0 or 1 occurred\"\n",
      "Warning message:\n",
      "\"glm.fit: fitted probabilities numerically 0 or 1 occurred\"\n",
      "Warning message:\n",
      "\"glm.fit: fitted probabilities numerically 0 or 1 occurred\"\n",
      "Warning message:\n",
      "\"glm.fit: fitted probabilities numerically 0 or 1 occurred\"\n",
      "Warning message:\n",
      "\"glm.fit: fitted probabilities numerically 0 or 1 occurred\"\n",
      "Warning message:\n",
      "\"glm.fit: fitted probabilities numerically 0 or 1 occurred\"\n",
      "Warning message:\n",
      "\"glm.fit: fitted probabilities numerically 0 or 1 occurred\"\n",
      "Warning message:\n",
      "\"glm.fit: fitted probabilities numerically 0 or 1 occurred\"\n",
      "Warning message:\n",
      "\"glm.fit: fitted probabilities numerically 0 or 1 occurred\"\n",
      "Warning message:\n",
      "\"glm.fit: fitted probabilities numerically 0 or 1 occurred\"\n",
      "Warning message:\n",
      "\"glm.fit: fitted probabilities numerically 0 or 1 occurred\"\n",
      "Warning message:\n",
      "\"glm.fit: fitted probabilities numerically 0 or 1 occurred\"\n",
      "Warning message:\n",
      "\"glm.fit: fitted probabilities numerically 0 or 1 occurred\"\n",
      "Warning message:\n",
      "\"glm.fit: fitted probabilities numerically 0 or 1 occurred\"\n",
      "Warning message:\n",
      "\"glm.fit: fitted probabilities numerically 0 or 1 occurred\"\n",
      "Warning message:\n",
      "\"glm.fit: fitted probabilities numerically 0 or 1 occurred\"\n",
      "Warning message:\n",
      "\"glm.fit: fitted probabilities numerically 0 or 1 occurred\"\n",
      "Warning message:\n",
      "\"glm.fit: fitted probabilities numerically 0 or 1 occurred\"\n",
      "Warning message:\n",
      "\"glm.fit: fitted probabilities numerically 0 or 1 occurred\"\n",
      "Warning message:\n",
      "\"glm.fit: fitted probabilities numerically 0 or 1 occurred\"\n",
      "Warning message:\n",
      "\"glm.fit: fitted probabilities numerically 0 or 1 occurred\"\n",
      "Warning message:\n",
      "\"glm.fit: fitted probabilities numerically 0 or 1 occurred\"\n",
      "Warning message:\n",
      "\"glm.fit: fitted probabilities numerically 0 or 1 occurred\"\n",
      "Warning message:\n",
      "\"glm.fit: fitted probabilities numerically 0 or 1 occurred\"\n",
      "Warning message:\n",
      "\"glm.fit: fitted probabilities numerically 0 or 1 occurred\"\n",
      "Warning message:\n",
      "\"glm.fit: fitted probabilities numerically 0 or 1 occurred\"\n",
      "Warning message:\n",
      "\"glm.fit: fitted probabilities numerically 0 or 1 occurred\"\n",
      "Warning message:\n",
      "\"glm.fit: fitted probabilities numerically 0 or 1 occurred\"\n",
      "Warning message:\n",
      "\"glm.fit: fitted probabilities numerically 0 or 1 occurred\"\n",
      "Warning message:\n",
      "\"glm.fit: fitted probabilities numerically 0 or 1 occurred\"\n",
      "Warning message:\n",
      "\"glm.fit: fitted probabilities numerically 0 or 1 occurred\"\n",
      "Warning message:\n",
      "\"glm.fit: fitted probabilities numerically 0 or 1 occurred\"\n",
      "Warning message:\n",
      "\"glm.fit: fitted probabilities numerically 0 or 1 occurred\"\n",
      "Warning message:\n",
      "\"glm.fit: fitted probabilities numerically 0 or 1 occurred\"\n",
      "Warning message:\n",
      "\"glm.fit: fitted probabilities numerically 0 or 1 occurred\"\n",
      "Warning message:\n",
      "\"glm.fit: fitted probabilities numerically 0 or 1 occurred\"\n",
      "Warning message:\n",
      "\"glm.fit: fitted probabilities numerically 0 or 1 occurred\"\n",
      "Warning message:\n",
      "\"glm.fit: fitted probabilities numerically 0 or 1 occurred\"\n",
      "Warning message:\n",
      "\"glm.fit: fitted probabilities numerically 0 or 1 occurred\"\n",
      "Warning message:\n",
      "\"glm.fit: fitted probabilities numerically 0 or 1 occurred\"\n",
      "Warning message:\n",
      "\"glm.fit: fitted probabilities numerically 0 or 1 occurred\"\n",
      "Warning message:\n",
      "\"glm.fit: fitted probabilities numerically 0 or 1 occurred\"\n",
      "Warning message:\n",
      "\"glm.fit: fitted probabilities numerically 0 or 1 occurred\"\n",
      "Warning message:\n",
      "\"glm.fit: fitted probabilities numerically 0 or 1 occurred\"\n",
      "Warning message:\n",
      "\"glm.fit: fitted probabilities numerically 0 or 1 occurred\"\n",
      "Warning message:\n",
      "\"glm.fit: fitted probabilities numerically 0 or 1 occurred\"\n",
      "Warning message:\n",
      "\"glm.fit: fitted probabilities numerically 0 or 1 occurred\"\n",
      "Warning message:\n",
      "\"glm.fit: fitted probabilities numerically 0 or 1 occurred\"\n",
      "Warning message:\n",
      "\"glm.fit: fitted probabilities numerically 0 or 1 occurred\"\n",
      "Warning message:\n",
      "\"glm.fit: fitted probabilities numerically 0 or 1 occurred\"\n",
      "Warning message:\n",
      "\"glm.fit: fitted probabilities numerically 0 or 1 occurred\"\n",
      "Warning message:\n",
      "\"glm.fit: fitted probabilities numerically 0 or 1 occurred\"\n",
      "Warning message:\n",
      "\"glm.fit: fitted probabilities numerically 0 or 1 occurred\"\n",
      "Warning message:\n",
      "\"glm.fit: fitted probabilities numerically 0 or 1 occurred\"\n",
      "Warning message:\n",
      "\"glm.fit: fitted probabilities numerically 0 or 1 occurred\"\n",
      "Warning message:\n",
      "\"glm.fit: fitted probabilities numerically 0 or 1 occurred\"\n",
      "Warning message:\n",
      "\"glm.fit: fitted probabilities numerically 0 or 1 occurred\"\n",
      "Warning message:\n",
      "\"glm.fit: fitted probabilities numerically 0 or 1 occurred\"\n",
      "Warning message:\n",
      "\"glm.fit: fitted probabilities numerically 0 or 1 occurred\"\n",
      "Warning message:\n",
      "\"glm.fit: fitted probabilities numerically 0 or 1 occurred\"\n",
      "Warning message:\n",
      "\"glm.fit: fitted probabilities numerically 0 or 1 occurred\"\n",
      "Warning message:\n",
      "\"glm.fit: fitted probabilities numerically 0 or 1 occurred\"\n",
      "Warning message:\n",
      "\"glm.fit: fitted probabilities numerically 0 or 1 occurred\"\n",
      "Warning message:\n",
      "\"glm.fit: fitted probabilities numerically 0 or 1 occurred\"\n",
      "Warning message:\n",
      "\"glm.fit: fitted probabilities numerically 0 or 1 occurred\"\n",
      "Warning message:\n",
      "\"glm.fit: fitted probabilities numerically 0 or 1 occurred\"\n",
      "Warning message:\n",
      "\"glm.fit: fitted probabilities numerically 0 or 1 occurred\"\n",
      "Warning message:\n",
      "\"glm.fit: fitted probabilities numerically 0 or 1 occurred\"\n",
      "Warning message:\n",
      "\"glm.fit: fitted probabilities numerically 0 or 1 occurred\"\n",
      "Warning message:\n",
      "\"glm.fit: fitted probabilities numerically 0 or 1 occurred\"\n",
      "Warning message:\n",
      "\"glm.fit: fitted probabilities numerically 0 or 1 occurred\"\n",
      "Warning message:\n",
      "\"glm.fit: fitted probabilities numerically 0 or 1 occurred\"\n",
      "Warning message:\n",
      "\"glm.fit: fitted probabilities numerically 0 or 1 occurred\"\n",
      "Warning message:\n",
      "\"glm.fit: fitted probabilities numerically 0 or 1 occurred\"\n",
      "Warning message:\n",
      "\"glm.fit: fitted probabilities numerically 0 or 1 occurred\"\n",
      "Warning message:\n",
      "\"glm.fit: fitted probabilities numerically 0 or 1 occurred\"\n",
      "Warning message:\n",
      "\"glm.fit: fitted probabilities numerically 0 or 1 occurred\"\n"
     ]
    },
    {
     "name": "stderr",
     "output_type": "stream",
     "text": [
      "Warning message:\n",
      "\"glm.fit: fitted probabilities numerically 0 or 1 occurred\"\n",
      "Warning message:\n",
      "\"glm.fit: fitted probabilities numerically 0 or 1 occurred\"\n",
      "Warning message:\n",
      "\"glm.fit: fitted probabilities numerically 0 or 1 occurred\"\n",
      "Warning message:\n",
      "\"glm.fit: fitted probabilities numerically 0 or 1 occurred\"\n",
      "Warning message:\n",
      "\"glm.fit: fitted probabilities numerically 0 or 1 occurred\"\n",
      "Warning message:\n",
      "\"glm.fit: fitted probabilities numerically 0 or 1 occurred\"\n",
      "Warning message:\n",
      "\"glm.fit: fitted probabilities numerically 0 or 1 occurred\"\n",
      "Warning message:\n",
      "\"glm.fit: fitted probabilities numerically 0 or 1 occurred\"\n",
      "Warning message:\n",
      "\"glm.fit: fitted probabilities numerically 0 or 1 occurred\"\n",
      "Warning message:\n",
      "\"glm.fit: fitted probabilities numerically 0 or 1 occurred\"\n",
      "Warning message:\n",
      "\"glm.fit: fitted probabilities numerically 0 or 1 occurred\"\n",
      "Warning message:\n",
      "\"glm.fit: fitted probabilities numerically 0 or 1 occurred\"\n",
      "Warning message:\n",
      "\"glm.fit: fitted probabilities numerically 0 or 1 occurred\"\n",
      "Warning message:\n",
      "\"glm.fit: fitted probabilities numerically 0 or 1 occurred\"\n",
      "Warning message:\n",
      "\"glm.fit: fitted probabilities numerically 0 or 1 occurred\"\n",
      "Warning message:\n",
      "\"glm.fit: fitted probabilities numerically 0 or 1 occurred\"\n",
      "Warning message:\n",
      "\"glm.fit: fitted probabilities numerically 0 or 1 occurred\"\n",
      "Warning message:\n",
      "\"glm.fit: fitted probabilities numerically 0 or 1 occurred\"\n"
     ]
    }
   ],
   "source": [
    "glmulti.lm.out <-\n",
    "    glmulti(Disposition_binary ~ Sex_e + Age_e + Brought_in_after + season + F_Aid + r , data = complete,\n",
    "            level = 2,               # No interaction considered 1 = only main effects, 2 = all pairwise interactions\n",
    "            method = \"g\",            # Exhaustive approach\n",
    "            crit = \"aic\",            # AIC as criteria\n",
    "            confsetsize = 5,         # Keep 5 best models\n",
    "            plotty = F, report = F,  # No plot or interim reports\n",
    "            fitfunction = \"glm\", \n",
    "            family = \"binomial\")      # lm function\n",
    "\n",
    "## Show 5 best models (Use @ instead of $ for an S4 object)\n",
    "glmulti.lm.out@formulas"
   ]
  },
  {
   "cell_type": "markdown",
   "metadata": {},
   "source": [
    "glmulti.lm.out <-\n",
    "    glmulti(Disposition_binary ~ Age_e + (1|G_O),  data = complete,\n",
    "            level = 2,               # No interaction considered\n",
    "            method = \"h\",            # Exhaustive approach\n",
    "            crit = \"aic\",            # AIC as criteria\n",
    "            confsetsize = 5,         # Keep 5 best models\n",
    "            plotty = F, report = F,  # No plot or interim reports\n",
    "            fitfunction = \"glmer\", \n",
    "            family = \"binomial\")      # lm function\n",
    "\n",
    "## Show 5 best models (Use @ instead of $ for an S4 object)\n",
    "glmulti.lm.out@formulas"
   ]
  },
  {
   "cell_type": "code",
   "execution_count": 37,
   "metadata": {},
   "outputs": [
    {
     "data": {
      "text/html": [
       "<ol class=list-inline>\n",
       "\t<li>Winter</li>\n",
       "\t<li>Spring</li>\n",
       "\t<li>Summer</li>\n",
       "\t<li>Fall</li>\n",
       "</ol>\n",
       "\n",
       "<details>\n",
       "\t<summary style=display:list-item;cursor:pointer>\n",
       "\t\t<strong>Levels</strong>:\n",
       "\t</summary>\n",
       "\t<ol class=list-inline>\n",
       "\t\t<li>'Fall'</li>\n",
       "\t\t<li>'Spring'</li>\n",
       "\t\t<li>'Summer'</li>\n",
       "\t\t<li>'Winter'</li>\n",
       "\t</ol>\n",
       "</details>"
      ],
      "text/latex": [
       "\\begin{enumerate*}\n",
       "\\item Winter\n",
       "\\item Spring\n",
       "\\item Summer\n",
       "\\item Fall\n",
       "\\end{enumerate*}\n",
       "\n",
       "\\emph{Levels}: \\begin{enumerate*}\n",
       "\\item 'Fall'\n",
       "\\item 'Spring'\n",
       "\\item 'Summer'\n",
       "\\item 'Winter'\n",
       "\\end{enumerate*}\n"
      ],
      "text/markdown": [
       "1. Winter\n",
       "2. Spring\n",
       "3. Summer\n",
       "4. Fall\n",
       "\n",
       "\n",
       "\n",
       "**Levels**: 1. 'Fall'\n",
       "2. 'Spring'\n",
       "3. 'Summer'\n",
       "4. 'Winter'\n",
       "\n",
       "\n"
      ],
      "text/plain": [
       "[1] Winter Spring Summer Fall  \n",
       "Levels: Fall Spring Summer Winter"
      ]
     },
     "metadata": {},
     "output_type": "display_data"
    }
   ],
   "source": [
    "unique(data$season)"
   ]
  },
  {
   "cell_type": "code",
   "execution_count": 37,
   "metadata": {},
   "outputs": [],
   "source": [
    "?glmulti"
   ]
  },
  {
   "cell_type": "code",
   "execution_count": null,
   "metadata": {},
   "outputs": [],
   "source": []
  }
 ],
 "metadata": {
  "hide_input": false,
  "kernelspec": {
   "display_name": "R",
   "language": "R",
   "name": "ir"
  },
  "language_info": {
   "codemirror_mode": "r",
   "file_extension": ".r",
   "mimetype": "text/x-r-source",
   "name": "R",
   "pygments_lexer": "r",
   "version": "3.6.1"
  },
  "toc": {
   "base_numbering": 1,
   "nav_menu": {},
   "number_sections": true,
   "sideBar": true,
   "skip_h1_title": false,
   "title_cell": "Table of Contents",
   "title_sidebar": "Contents",
   "toc_cell": false,
   "toc_position": {},
   "toc_section_display": true,
   "toc_window_display": false
  },
  "varInspector": {
   "cols": {
    "lenName": 16,
    "lenType": 16,
    "lenVar": 40
   },
   "kernels_config": {
    "python": {
     "delete_cmd_postfix": "",
     "delete_cmd_prefix": "del ",
     "library": "var_list.py",
     "varRefreshCmd": "print(var_dic_list())"
    },
    "r": {
     "delete_cmd_postfix": ") ",
     "delete_cmd_prefix": "rm(",
     "library": "var_list.r",
     "varRefreshCmd": "cat(var_dic_list()) "
    }
   },
   "types_to_exclude": [
    "module",
    "function",
    "builtin_function_or_method",
    "instance",
    "_Feature"
   ],
   "window_display": false
  }
 },
 "nbformat": 4,
 "nbformat_minor": 2
}
