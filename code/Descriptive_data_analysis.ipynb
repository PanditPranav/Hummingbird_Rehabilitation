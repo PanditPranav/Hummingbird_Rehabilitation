{
 "cells": [
  {
   "cell_type": "code",
   "execution_count": 1,
   "metadata": {},
   "outputs": [
    {
     "data": {
      "text/html": [
       "\n",
       "    <div class=\"bk-root\">\n",
       "        <a href=\"https://bokeh.org\" target=\"_blank\" class=\"bk-logo bk-logo-small bk-logo-notebook\"></a>\n",
       "        <span id=\"1001\">Loading BokehJS ...</span>\n",
       "    </div>"
      ]
     },
     "metadata": {},
     "output_type": "display_data"
    },
    {
     "data": {
      "application/javascript": [
       "\n",
       "(function(root) {\n",
       "  function now() {\n",
       "    return new Date();\n",
       "  }\n",
       "\n",
       "  var force = true;\n",
       "\n",
       "  if (typeof root._bokeh_onload_callbacks === \"undefined\" || force === true) {\n",
       "    root._bokeh_onload_callbacks = [];\n",
       "    root._bokeh_is_loading = undefined;\n",
       "  }\n",
       "\n",
       "  var JS_MIME_TYPE = 'application/javascript';\n",
       "  var HTML_MIME_TYPE = 'text/html';\n",
       "  var EXEC_MIME_TYPE = 'application/vnd.bokehjs_exec.v0+json';\n",
       "  var CLASS_NAME = 'output_bokeh rendered_html';\n",
       "\n",
       "  /**\n",
       "   * Render data to the DOM node\n",
       "   */\n",
       "  function render(props, node) {\n",
       "    var script = document.createElement(\"script\");\n",
       "    node.appendChild(script);\n",
       "  }\n",
       "\n",
       "  /**\n",
       "   * Handle when an output is cleared or removed\n",
       "   */\n",
       "  function handleClearOutput(event, handle) {\n",
       "    var cell = handle.cell;\n",
       "\n",
       "    var id = cell.output_area._bokeh_element_id;\n",
       "    var server_id = cell.output_area._bokeh_server_id;\n",
       "    // Clean up Bokeh references\n",
       "    if (id != null && id in Bokeh.index) {\n",
       "      Bokeh.index[id].model.document.clear();\n",
       "      delete Bokeh.index[id];\n",
       "    }\n",
       "\n",
       "    if (server_id !== undefined) {\n",
       "      // Clean up Bokeh references\n",
       "      var cmd = \"from bokeh.io.state import curstate; print(curstate().uuid_to_server['\" + server_id + \"'].get_sessions()[0].document.roots[0]._id)\";\n",
       "      cell.notebook.kernel.execute(cmd, {\n",
       "        iopub: {\n",
       "          output: function(msg) {\n",
       "            var id = msg.content.text.trim();\n",
       "            if (id in Bokeh.index) {\n",
       "              Bokeh.index[id].model.document.clear();\n",
       "              delete Bokeh.index[id];\n",
       "            }\n",
       "          }\n",
       "        }\n",
       "      });\n",
       "      // Destroy server and session\n",
       "      var cmd = \"import bokeh.io.notebook as ion; ion.destroy_server('\" + server_id + \"')\";\n",
       "      cell.notebook.kernel.execute(cmd);\n",
       "    }\n",
       "  }\n",
       "\n",
       "  /**\n",
       "   * Handle when a new output is added\n",
       "   */\n",
       "  function handleAddOutput(event, handle) {\n",
       "    var output_area = handle.output_area;\n",
       "    var output = handle.output;\n",
       "\n",
       "    // limit handleAddOutput to display_data with EXEC_MIME_TYPE content only\n",
       "    if ((output.output_type != \"display_data\") || (!output.data.hasOwnProperty(EXEC_MIME_TYPE))) {\n",
       "      return\n",
       "    }\n",
       "\n",
       "    var toinsert = output_area.element.find(\".\" + CLASS_NAME.split(' ')[0]);\n",
       "\n",
       "    if (output.metadata[EXEC_MIME_TYPE][\"id\"] !== undefined) {\n",
       "      toinsert[toinsert.length - 1].firstChild.textContent = output.data[JS_MIME_TYPE];\n",
       "      // store reference to embed id on output_area\n",
       "      output_area._bokeh_element_id = output.metadata[EXEC_MIME_TYPE][\"id\"];\n",
       "    }\n",
       "    if (output.metadata[EXEC_MIME_TYPE][\"server_id\"] !== undefined) {\n",
       "      var bk_div = document.createElement(\"div\");\n",
       "      bk_div.innerHTML = output.data[HTML_MIME_TYPE];\n",
       "      var script_attrs = bk_div.children[0].attributes;\n",
       "      for (var i = 0; i < script_attrs.length; i++) {\n",
       "        toinsert[toinsert.length - 1].firstChild.setAttribute(script_attrs[i].name, script_attrs[i].value);\n",
       "        toinsert[toinsert.length - 1].firstChild.textContent = bk_div.children[0].textContent\n",
       "      }\n",
       "      // store reference to server id on output_area\n",
       "      output_area._bokeh_server_id = output.metadata[EXEC_MIME_TYPE][\"server_id\"];\n",
       "    }\n",
       "  }\n",
       "\n",
       "  function register_renderer(events, OutputArea) {\n",
       "\n",
       "    function append_mime(data, metadata, element) {\n",
       "      // create a DOM node to render to\n",
       "      var toinsert = this.create_output_subarea(\n",
       "        metadata,\n",
       "        CLASS_NAME,\n",
       "        EXEC_MIME_TYPE\n",
       "      );\n",
       "      this.keyboard_manager.register_events(toinsert);\n",
       "      // Render to node\n",
       "      var props = {data: data, metadata: metadata[EXEC_MIME_TYPE]};\n",
       "      render(props, toinsert[toinsert.length - 1]);\n",
       "      element.append(toinsert);\n",
       "      return toinsert\n",
       "    }\n",
       "\n",
       "    /* Handle when an output is cleared or removed */\n",
       "    events.on('clear_output.CodeCell', handleClearOutput);\n",
       "    events.on('delete.Cell', handleClearOutput);\n",
       "\n",
       "    /* Handle when a new output is added */\n",
       "    events.on('output_added.OutputArea', handleAddOutput);\n",
       "\n",
       "    /**\n",
       "     * Register the mime type and append_mime function with output_area\n",
       "     */\n",
       "    OutputArea.prototype.register_mime_type(EXEC_MIME_TYPE, append_mime, {\n",
       "      /* Is output safe? */\n",
       "      safe: true,\n",
       "      /* Index of renderer in `output_area.display_order` */\n",
       "      index: 0\n",
       "    });\n",
       "  }\n",
       "\n",
       "  // register the mime type if in Jupyter Notebook environment and previously unregistered\n",
       "  if (root.Jupyter !== undefined) {\n",
       "    var events = require('base/js/events');\n",
       "    var OutputArea = require('notebook/js/outputarea').OutputArea;\n",
       "\n",
       "    if (OutputArea.prototype.mime_types().indexOf(EXEC_MIME_TYPE) == -1) {\n",
       "      register_renderer(events, OutputArea);\n",
       "    }\n",
       "  }\n",
       "\n",
       "  \n",
       "  if (typeof (root._bokeh_timeout) === \"undefined\" || force === true) {\n",
       "    root._bokeh_timeout = Date.now() + 5000;\n",
       "    root._bokeh_failed_load = false;\n",
       "  }\n",
       "\n",
       "  var NB_LOAD_WARNING = {'data': {'text/html':\n",
       "     \"<div style='background-color: #fdd'>\\n\"+\n",
       "     \"<p>\\n\"+\n",
       "     \"BokehJS does not appear to have successfully loaded. If loading BokehJS from CDN, this \\n\"+\n",
       "     \"may be due to a slow or bad network connection. Possible fixes:\\n\"+\n",
       "     \"</p>\\n\"+\n",
       "     \"<ul>\\n\"+\n",
       "     \"<li>re-rerun `output_notebook()` to attempt to load from CDN again, or</li>\\n\"+\n",
       "     \"<li>use INLINE resources instead, as so:</li>\\n\"+\n",
       "     \"</ul>\\n\"+\n",
       "     \"<code>\\n\"+\n",
       "     \"from bokeh.resources import INLINE\\n\"+\n",
       "     \"output_notebook(resources=INLINE)\\n\"+\n",
       "     \"</code>\\n\"+\n",
       "     \"</div>\"}};\n",
       "\n",
       "  function display_loaded() {\n",
       "    var el = document.getElementById(\"1001\");\n",
       "    if (el != null) {\n",
       "      el.textContent = \"BokehJS is loading...\";\n",
       "    }\n",
       "    if (root.Bokeh !== undefined) {\n",
       "      if (el != null) {\n",
       "        el.textContent = \"BokehJS \" + root.Bokeh.version + \" successfully loaded.\";\n",
       "      }\n",
       "    } else if (Date.now() < root._bokeh_timeout) {\n",
       "      setTimeout(display_loaded, 100)\n",
       "    }\n",
       "  }\n",
       "\n",
       "\n",
       "  function run_callbacks() {\n",
       "    try {\n",
       "      root._bokeh_onload_callbacks.forEach(function(callback) {\n",
       "        if (callback != null)\n",
       "          callback();\n",
       "      });\n",
       "    } finally {\n",
       "      delete root._bokeh_onload_callbacks\n",
       "    }\n",
       "    console.debug(\"Bokeh: all callbacks have finished\");\n",
       "  }\n",
       "\n",
       "  function load_libs(css_urls, js_urls, callback) {\n",
       "    if (css_urls == null) css_urls = [];\n",
       "    if (js_urls == null) js_urls = [];\n",
       "\n",
       "    root._bokeh_onload_callbacks.push(callback);\n",
       "    if (root._bokeh_is_loading > 0) {\n",
       "      console.debug(\"Bokeh: BokehJS is being loaded, scheduling callback at\", now());\n",
       "      return null;\n",
       "    }\n",
       "    if (js_urls == null || js_urls.length === 0) {\n",
       "      run_callbacks();\n",
       "      return null;\n",
       "    }\n",
       "    console.debug(\"Bokeh: BokehJS not loaded, scheduling load and callback at\", now());\n",
       "    root._bokeh_is_loading = css_urls.length + js_urls.length;\n",
       "\n",
       "    function on_load() {\n",
       "      root._bokeh_is_loading--;\n",
       "      if (root._bokeh_is_loading === 0) {\n",
       "        console.debug(\"Bokeh: all BokehJS libraries/stylesheets loaded\");\n",
       "        run_callbacks()\n",
       "      }\n",
       "    }\n",
       "\n",
       "    function on_error() {\n",
       "      console.error(\"failed to load \" + url);\n",
       "    }\n",
       "\n",
       "    for (var i = 0; i < css_urls.length; i++) {\n",
       "      var url = css_urls[i];\n",
       "      const element = document.createElement(\"link\");\n",
       "      element.onload = on_load;\n",
       "      element.onerror = on_error;\n",
       "      element.rel = \"stylesheet\";\n",
       "      element.type = \"text/css\";\n",
       "      element.href = url;\n",
       "      console.debug(\"Bokeh: injecting link tag for BokehJS stylesheet: \", url);\n",
       "      document.body.appendChild(element);\n",
       "    }\n",
       "\n",
       "    const hashes = {\"https://cdn.bokeh.org/bokeh/release/bokeh-2.1.1.min.js\": \"kLr4fYcqcSpbuI95brIH3vnnYCquzzSxHPU6XGQCIkQRGJwhg0StNbj1eegrHs12\", \"https://cdn.bokeh.org/bokeh/release/bokeh-widgets-2.1.1.min.js\": \"xIGPmVtaOm+z0BqfSOMn4lOR6ciex448GIKG4eE61LsAvmGj48XcMQZtKcE/UXZe\", \"https://cdn.bokeh.org/bokeh/release/bokeh-tables-2.1.1.min.js\": \"Dc9u1wF/0zApGIWoBbH77iWEHtdmkuYWG839Uzmv8y8yBLXebjO9ZnERsde5Ln/P\", \"https://cdn.bokeh.org/bokeh/release/bokeh-gl-2.1.1.min.js\": \"cT9JaBz7GiRXdENrJLZNSC6eMNF3nh3fa5fTF51Svp+ukxPdwcU5kGXGPBgDCa2j\"};\n",
       "\n",
       "    for (var i = 0; i < js_urls.length; i++) {\n",
       "      var url = js_urls[i];\n",
       "      var element = document.createElement('script');\n",
       "      element.onload = on_load;\n",
       "      element.onerror = on_error;\n",
       "      element.async = false;\n",
       "      element.src = url;\n",
       "      if (url in hashes) {\n",
       "        element.crossOrigin = \"anonymous\";\n",
       "        element.integrity = \"sha384-\" + hashes[url];\n",
       "      }\n",
       "      console.debug(\"Bokeh: injecting script tag for BokehJS library: \", url);\n",
       "      document.head.appendChild(element);\n",
       "    }\n",
       "  };\n",
       "\n",
       "  function inject_raw_css(css) {\n",
       "    const element = document.createElement(\"style\");\n",
       "    element.appendChild(document.createTextNode(css));\n",
       "    document.body.appendChild(element);\n",
       "  }\n",
       "\n",
       "  \n",
       "  var js_urls = [\"https://cdn.bokeh.org/bokeh/release/bokeh-2.1.1.min.js\", \"https://cdn.bokeh.org/bokeh/release/bokeh-widgets-2.1.1.min.js\", \"https://cdn.bokeh.org/bokeh/release/bokeh-tables-2.1.1.min.js\", \"https://cdn.bokeh.org/bokeh/release/bokeh-gl-2.1.1.min.js\"];\n",
       "  var css_urls = [];\n",
       "  \n",
       "\n",
       "  var inline_js = [\n",
       "    function(Bokeh) {\n",
       "      Bokeh.set_log_level(\"info\");\n",
       "    },\n",
       "    function(Bokeh) {\n",
       "    \n",
       "    \n",
       "    }\n",
       "  ];\n",
       "\n",
       "  function run_inline_js() {\n",
       "    \n",
       "    if (root.Bokeh !== undefined || force === true) {\n",
       "      \n",
       "    for (var i = 0; i < inline_js.length; i++) {\n",
       "      inline_js[i].call(root, root.Bokeh);\n",
       "    }\n",
       "    if (force === true) {\n",
       "        display_loaded();\n",
       "      }} else if (Date.now() < root._bokeh_timeout) {\n",
       "      setTimeout(run_inline_js, 100);\n",
       "    } else if (!root._bokeh_failed_load) {\n",
       "      console.log(\"Bokeh: BokehJS failed to load within specified timeout.\");\n",
       "      root._bokeh_failed_load = true;\n",
       "    } else if (force !== true) {\n",
       "      var cell = $(document.getElementById(\"1001\")).parents('.cell').data().cell;\n",
       "      cell.output_area.append_execute_result(NB_LOAD_WARNING)\n",
       "    }\n",
       "\n",
       "  }\n",
       "\n",
       "  if (root._bokeh_is_loading === 0) {\n",
       "    console.debug(\"Bokeh: BokehJS loaded, going straight to plotting\");\n",
       "    run_inline_js();\n",
       "  } else {\n",
       "    load_libs(css_urls, js_urls, function() {\n",
       "      console.debug(\"Bokeh: BokehJS plotting callback run at\", now());\n",
       "      run_inline_js();\n",
       "    });\n",
       "  }\n",
       "}(window));"
      ],
      "application/vnd.bokehjs_load.v0+json": "\n(function(root) {\n  function now() {\n    return new Date();\n  }\n\n  var force = true;\n\n  if (typeof root._bokeh_onload_callbacks === \"undefined\" || force === true) {\n    root._bokeh_onload_callbacks = [];\n    root._bokeh_is_loading = undefined;\n  }\n\n  \n\n  \n  if (typeof (root._bokeh_timeout) === \"undefined\" || force === true) {\n    root._bokeh_timeout = Date.now() + 5000;\n    root._bokeh_failed_load = false;\n  }\n\n  var NB_LOAD_WARNING = {'data': {'text/html':\n     \"<div style='background-color: #fdd'>\\n\"+\n     \"<p>\\n\"+\n     \"BokehJS does not appear to have successfully loaded. If loading BokehJS from CDN, this \\n\"+\n     \"may be due to a slow or bad network connection. Possible fixes:\\n\"+\n     \"</p>\\n\"+\n     \"<ul>\\n\"+\n     \"<li>re-rerun `output_notebook()` to attempt to load from CDN again, or</li>\\n\"+\n     \"<li>use INLINE resources instead, as so:</li>\\n\"+\n     \"</ul>\\n\"+\n     \"<code>\\n\"+\n     \"from bokeh.resources import INLINE\\n\"+\n     \"output_notebook(resources=INLINE)\\n\"+\n     \"</code>\\n\"+\n     \"</div>\"}};\n\n  function display_loaded() {\n    var el = document.getElementById(\"1001\");\n    if (el != null) {\n      el.textContent = \"BokehJS is loading...\";\n    }\n    if (root.Bokeh !== undefined) {\n      if (el != null) {\n        el.textContent = \"BokehJS \" + root.Bokeh.version + \" successfully loaded.\";\n      }\n    } else if (Date.now() < root._bokeh_timeout) {\n      setTimeout(display_loaded, 100)\n    }\n  }\n\n\n  function run_callbacks() {\n    try {\n      root._bokeh_onload_callbacks.forEach(function(callback) {\n        if (callback != null)\n          callback();\n      });\n    } finally {\n      delete root._bokeh_onload_callbacks\n    }\n    console.debug(\"Bokeh: all callbacks have finished\");\n  }\n\n  function load_libs(css_urls, js_urls, callback) {\n    if (css_urls == null) css_urls = [];\n    if (js_urls == null) js_urls = [];\n\n    root._bokeh_onload_callbacks.push(callback);\n    if (root._bokeh_is_loading > 0) {\n      console.debug(\"Bokeh: BokehJS is being loaded, scheduling callback at\", now());\n      return null;\n    }\n    if (js_urls == null || js_urls.length === 0) {\n      run_callbacks();\n      return null;\n    }\n    console.debug(\"Bokeh: BokehJS not loaded, scheduling load and callback at\", now());\n    root._bokeh_is_loading = css_urls.length + js_urls.length;\n\n    function on_load() {\n      root._bokeh_is_loading--;\n      if (root._bokeh_is_loading === 0) {\n        console.debug(\"Bokeh: all BokehJS libraries/stylesheets loaded\");\n        run_callbacks()\n      }\n    }\n\n    function on_error() {\n      console.error(\"failed to load \" + url);\n    }\n\n    for (var i = 0; i < css_urls.length; i++) {\n      var url = css_urls[i];\n      const element = document.createElement(\"link\");\n      element.onload = on_load;\n      element.onerror = on_error;\n      element.rel = \"stylesheet\";\n      element.type = \"text/css\";\n      element.href = url;\n      console.debug(\"Bokeh: injecting link tag for BokehJS stylesheet: \", url);\n      document.body.appendChild(element);\n    }\n\n    const hashes = {\"https://cdn.bokeh.org/bokeh/release/bokeh-2.1.1.min.js\": \"kLr4fYcqcSpbuI95brIH3vnnYCquzzSxHPU6XGQCIkQRGJwhg0StNbj1eegrHs12\", \"https://cdn.bokeh.org/bokeh/release/bokeh-widgets-2.1.1.min.js\": \"xIGPmVtaOm+z0BqfSOMn4lOR6ciex448GIKG4eE61LsAvmGj48XcMQZtKcE/UXZe\", \"https://cdn.bokeh.org/bokeh/release/bokeh-tables-2.1.1.min.js\": \"Dc9u1wF/0zApGIWoBbH77iWEHtdmkuYWG839Uzmv8y8yBLXebjO9ZnERsde5Ln/P\", \"https://cdn.bokeh.org/bokeh/release/bokeh-gl-2.1.1.min.js\": \"cT9JaBz7GiRXdENrJLZNSC6eMNF3nh3fa5fTF51Svp+ukxPdwcU5kGXGPBgDCa2j\"};\n\n    for (var i = 0; i < js_urls.length; i++) {\n      var url = js_urls[i];\n      var element = document.createElement('script');\n      element.onload = on_load;\n      element.onerror = on_error;\n      element.async = false;\n      element.src = url;\n      if (url in hashes) {\n        element.crossOrigin = \"anonymous\";\n        element.integrity = \"sha384-\" + hashes[url];\n      }\n      console.debug(\"Bokeh: injecting script tag for BokehJS library: \", url);\n      document.head.appendChild(element);\n    }\n  };\n\n  function inject_raw_css(css) {\n    const element = document.createElement(\"style\");\n    element.appendChild(document.createTextNode(css));\n    document.body.appendChild(element);\n  }\n\n  \n  var js_urls = [\"https://cdn.bokeh.org/bokeh/release/bokeh-2.1.1.min.js\", \"https://cdn.bokeh.org/bokeh/release/bokeh-widgets-2.1.1.min.js\", \"https://cdn.bokeh.org/bokeh/release/bokeh-tables-2.1.1.min.js\", \"https://cdn.bokeh.org/bokeh/release/bokeh-gl-2.1.1.min.js\"];\n  var css_urls = [];\n  \n\n  var inline_js = [\n    function(Bokeh) {\n      Bokeh.set_log_level(\"info\");\n    },\n    function(Bokeh) {\n    \n    \n    }\n  ];\n\n  function run_inline_js() {\n    \n    if (root.Bokeh !== undefined || force === true) {\n      \n    for (var i = 0; i < inline_js.length; i++) {\n      inline_js[i].call(root, root.Bokeh);\n    }\n    if (force === true) {\n        display_loaded();\n      }} else if (Date.now() < root._bokeh_timeout) {\n      setTimeout(run_inline_js, 100);\n    } else if (!root._bokeh_failed_load) {\n      console.log(\"Bokeh: BokehJS failed to load within specified timeout.\");\n      root._bokeh_failed_load = true;\n    } else if (force !== true) {\n      var cell = $(document.getElementById(\"1001\")).parents('.cell').data().cell;\n      cell.output_area.append_execute_result(NB_LOAD_WARNING)\n    }\n\n  }\n\n  if (root._bokeh_is_loading === 0) {\n    console.debug(\"Bokeh: BokehJS loaded, going straight to plotting\");\n    run_inline_js();\n  } else {\n    load_libs(css_urls, js_urls, function() {\n      console.debug(\"Bokeh: BokehJS plotting callback run at\", now());\n      run_inline_js();\n    });\n  }\n}(window));"
     },
     "metadata": {},
     "output_type": "display_data"
    }
   ],
   "source": [
    "from datetime import datetime as dt\n",
    "start = dt.now()\n",
    "import warnings\n",
    "warnings.filterwarnings('ignore')\n",
    "import datetime as dt     \n",
    "dt.datetime.today().strftime(\"%m/%d/%Y\")\n",
    "import os as os\n",
    "%matplotlib inline \n",
    "from IPython.display import HTML\n",
    "import pandas as pd\n",
    "import numpy as np\n",
    "import os as os\n",
    "from matplotlib import pyplot as plt\n",
    "import seaborn as sns\n",
    "from IPython.display import YouTubeVideo \n",
    "from numpy import random as random\n",
    "from IPython.display import IFrame\n",
    "#import qgrid\n",
    "os.chdir('C:/Users/falco/Desktop/directory/Humminbird_rescue/data/')\n",
    "from bokeh.io import output_notebook\n",
    "from bokeh.models.formatters import DatetimeTickFormatter\n",
    "from bokeh.models import FixedTicker, HoverTool\n",
    "import datetime as datetime\n",
    "from dateutil.relativedelta import relativedelta\n",
    "from matplotlib.colors import ListedColormap\n",
    "plt.rcParams['figure.figsize'] = (12, 12)\n",
    "plt.rcParams['font.size'] = 11\n",
    "plt.rcParams['font.family'] = 'Times New Roman'\n",
    "plt.rcParams['axes.labelsize'] = plt.rcParams['font.size']\n",
    "plt.rcParams['axes.titlesize'] = 1.5*plt.rcParams['font.size']\n",
    "plt.rcParams['legend.fontsize'] = plt.rcParams['font.size']\n",
    "plt.rcParams['xtick.labelsize'] = plt.rcParams['font.size']\n",
    "plt.rcParams['ytick.labelsize'] = plt.rcParams['font.size']\n",
    "#plt.rcParams['savefig.dpi'] = 3*plt.rcParams['savefig.dpi']\n",
    "plt.rcParams['xtick.major.size'] = 3\n",
    "plt.rcParams['xtick.minor.size'] = 3\n",
    "plt.rcParams['xtick.major.width'] = 1\n",
    "plt.rcParams['xtick.minor.width'] = 1\n",
    "plt.rcParams['ytick.major.size'] = 3\n",
    "plt.rcParams['ytick.minor.size'] = 3\n",
    "plt.rcParams['ytick.major.width'] = 1\n",
    "plt.rcParams['ytick.minor.width'] = 1\n",
    "plt.rcParams['legend.frameon'] = False\n",
    "plt.rcParams['legend.loc'] = 'center left'\n",
    "plt.rcParams['axes.linewidth'] = 1\n",
    "#sns.set_style('whitegrid')\n",
    "plt.style.use('fivethirtyeight')\n",
    "output_notebook()"
   ]
  },
  {
   "cell_type": "markdown",
   "metadata": {},
   "source": [
    "### Priliminary data exploration\n",
    "\n",
    "Here we will do basic data exploration.\n",
    " "
   ]
  },
  {
   "cell_type": "code",
   "execution_count": 2,
   "metadata": {},
   "outputs": [
    {
     "data": {
      "text/plain": [
       "['caught by domestic animal',\n",
       " 'found inside',\n",
       " 'found on the ground',\n",
       " 'nest-related',\n",
       " 'suspect torpor-like state',\n",
       " 'unknown',\n",
       " 'window hit']"
      ]
     },
     "execution_count": 2,
     "metadata": {},
     "output_type": "execute_result"
    }
   ],
   "source": [
    "data = pd.read_excel('All rescue data 2020_modified July_2020.xlsx')\n",
    "data.columns = ['Place', 'Case_Year', 'Admitted', 'Found_on', 'Brought_in_after', 'City', 'County', 'Reason', 'Reason_edited',\n",
    "                'Reason_e', 'First_aid', 'Species', 'Species_e','Sex','Sex_e','Age','Age_e','G_O', 'Disposition', 'DDate', 'weight',\n",
    "               'BCS', 'attitude', 'dehydration', 'head', 'CNS', 'cardiopulmonary', 'GI', 'musculoskeletal', 'integument',\n",
    "               'body', 'forelimb', 'forelimb_e', 'hindlimb', 'hindlimb_e', 'treatment', 'Heat', 'Fluids', 'NSAID', 'Antibiotic', 'Steroid',\n",
    "               'treatment_e']\n",
    "\n",
    "data['admit_date'] = pd.to_datetime(data['Admitted'])\n",
    "data['found_date'] = pd.to_datetime(data['Found_on'])\n",
    "data['Brought_in_after'] = data['admit_date']-data['found_date']\n",
    "data['Brought_in_after'] = data.Brought_in_after.dt.days\n",
    "data['Admitted'] = pd.to_datetime(data['Admitted']).dt.strftime('%Y-%m-%d')\n",
    "data['Found_on'] = pd.to_datetime(data['Found_on']).dt.strftime('%Y-%m-%d')\n",
    "\n",
    "data.insert(0, 'New_ID', range(1, 1+len(data)))\n",
    "data['ID'] = data[\"New_ID\"].map(str) +'_' +data[\"Species\"]\n",
    "data.drop('New_ID', inplace= True, axis=1)\n",
    "data.set_index(pd.DatetimeIndex(data['Admitted']), inplace= True, drop= False)\n",
    "data.replace(' unknown', 'unknown', inplace= True)\n",
    "data.replace('Found on the ground', 'found on the ground', inplace= True)\n",
    "data.replace('cat caught', 'caught by domestic animal', inplace= True)\n",
    "data.replace('Found inside', 'found inside', inplace= True)\n",
    "data.replace('nest related ', 'nest-related', inplace= True)\n",
    "data.replace('nest related', 'nest-related', inplace= True)\n",
    "data.replace('orange county', 'Orange County', inplace= True)\n",
    "data.replace('San mateo county', 'San Mateo County', inplace= True)\n",
    "data.replace('orange county', 'Orange County', inplace= True)\n",
    "data.replace('Unknown', 'unknown', inplace= True)\n",
    "data.replace('nestling', 'Nestling', inplace= True)\n",
    "data.replace('Selasphorus spp. ', 'Selasphorus spp.', inplace= True)\n",
    "data.replace('Window hit', 'window hit', inplace= True)\n",
    "data = data[data.G_O!= 'unknown']\n",
    "sorted(data.Reason_e.unique().tolist())"
   ]
  },
  {
   "cell_type": "markdown",
   "metadata": {},
   "source": [
    "### Columns in our data and their descritptions\n",
    "\n",
    "    Place : One of three rescue centers               \n",
    "    Case_Year : Year\n",
    "    Admitted : date when it was admitted\n",
    "    Found_on : date when it was actually found by rescuer\n",
    "    Brought_in_after : Admitted - Found_on\n",
    "    City : City/town where it was recued\n",
    "    County: County of the City\n",
    "    Reason_e : Reasons as recorded in the data and Cleaned up by Ruta\n",
    "    First_aid : First aid given to the bird as recorded in the data\n",
    "    Species : Species identification as in the data\n",
    "    Sex : Sex identification, as in the data\n",
    "    Age : Age identification, as in the data \n",
    "    Disposition : Final distpostion of the bird \n",
    "    DDate : DAte of disposition \n",
    "    ID : Unique ID created by Pranav to identify each rescued bird                  \n",
    "    Reason :   Classification keys\n",
    "    Collapsed : reasons classified into groups by Ruta: this classification still needs to be completed\n",
    "    reason_coll: classification keys"
   ]
  },
  {
   "cell_type": "markdown",
   "metadata": {},
   "source": [
    "data = pd.read_csv('All Rescue Data_Malibu_Lindsey_SB_RBedits_02_15_2019.csv')\n",
    "data.columns = ['Place', 'Case_Year', 'Admitted', 'Found_on', 'Brought_in_after', 'City', 'County', 'Reason_e', \n",
    "               'First_aid', 'Species', 'Species_e','Sex','Sex_e','Age','Age_e','G_O', 'Disposition', 'DDate']\n",
    "data['Admitted'] = pd.to_datetime(data['Admitted']).dt.strftime('%Y-%m-%d')\n",
    "data['Found_on'] = pd.to_datetime(data['Found_on']).dt.strftime('%Y-%m-%d')\n",
    "data.insert(0, 'New_ID', range(1, 1+len(data)))\n",
    "data['ID'] = data[\"New_ID\"].map(str) +'_' +data[\"Species\"]\n",
    "data.drop('New_ID', inplace= True, axis=1)\n",
    "\n",
    "data.set_index(pd.DatetimeIndex(data['Admitted']), inplace= True, drop= False)\n",
    "data.replace('unknown', 'Unknown', inplace= True)\n",
    "data.replace('founf in the nest', 'found in the nest', inplace= True)\n",
    "data.replace('orange county', 'Orange County', inplace= True)\n",
    "data.replace('San mateo county', 'San Mateo County', inplace= True)\n",
    "data.replace('orange county', 'Orange County', inplace= True)\n",
    "data.replace('Domestic animal caught', 'caught by domestic animal', inplace= True)\n",
    "data['reason'] = data.Collapsed\n",
    "data.head()"
   ]
  },
  {
   "cell_type": "code",
   "execution_count": 3,
   "metadata": {
    "scrolled": false
   },
   "outputs": [
    {
     "data": {
      "text/plain": [
       "['Place',\n",
       " 'Case_Year',\n",
       " 'Admitted',\n",
       " 'Found_on',\n",
       " 'Brought_in_after',\n",
       " 'City',\n",
       " 'County',\n",
       " 'Reason',\n",
       " 'Reason_edited',\n",
       " 'Reason_e',\n",
       " 'First_aid',\n",
       " 'Species',\n",
       " 'Species_e',\n",
       " 'Sex',\n",
       " 'Sex_e',\n",
       " 'Age',\n",
       " 'Age_e',\n",
       " 'G_O',\n",
       " 'Disposition',\n",
       " 'DDate',\n",
       " 'weight',\n",
       " 'BCS',\n",
       " 'attitude',\n",
       " 'dehydration',\n",
       " 'head',\n",
       " 'CNS',\n",
       " 'cardiopulmonary',\n",
       " 'GI',\n",
       " 'musculoskeletal',\n",
       " 'integument',\n",
       " 'body',\n",
       " 'forelimb',\n",
       " 'forelimb_e',\n",
       " 'hindlimb',\n",
       " 'hindlimb_e',\n",
       " 'treatment',\n",
       " 'Heat',\n",
       " 'Fluids',\n",
       " 'NSAID',\n",
       " 'Antibiotic',\n",
       " 'Steroid',\n",
       " 'treatment_e',\n",
       " 'admit_date',\n",
       " 'found_date',\n",
       " 'ID']"
      ]
     },
     "execution_count": 3,
     "metadata": {},
     "output_type": "execute_result"
    }
   ],
   "source": [
    "data.columns.tolist()"
   ]
  },
  {
   "cell_type": "code",
   "execution_count": 4,
   "metadata": {},
   "outputs": [
    {
     "data": {
      "text/plain": [
       "Released              1058\n",
       "Died +24hr             210\n",
       "Died in 24hr           147\n",
       "Euthanized +24hr        99\n",
       "Euthanized in 24hr      99\n",
       "Dead on arrival         32\n",
       "Name: Disposition, dtype: int64"
      ]
     },
     "execution_count": 4,
     "metadata": {},
     "output_type": "execute_result"
    }
   ],
   "source": [
    "data[data.Age_e == 'Nestling'].Disposition.value_counts()"
   ]
  },
  {
   "cell_type": "code",
   "execution_count": 5,
   "metadata": {},
   "outputs": [
    {
     "data": {
      "text/plain": [
       "Series([], Name: Brought_in_after, dtype: int64)"
      ]
     },
     "execution_count": 5,
     "metadata": {},
     "output_type": "execute_result"
    }
   ],
   "source": [
    "data[data.Brought_in_after.isna()].Brought_in_after.head()"
   ]
  },
  {
   "cell_type": "code",
   "execution_count": 6,
   "metadata": {},
   "outputs": [
    {
     "data": {
      "text/plain": [
       "6908"
      ]
     },
     "execution_count": 6,
     "metadata": {},
     "output_type": "execute_result"
    }
   ],
   "source": [
    "data.ID.nunique()"
   ]
  },
  {
   "cell_type": "markdown",
   "metadata": {},
   "source": [
    "## Demographics"
   ]
  },
  {
   "cell_type": "code",
   "execution_count": 7,
   "metadata": {},
   "outputs": [
    {
     "data": {
      "text/plain": [
       "G_O                   Age_e     \n",
       "Non-selasphorus spp.  Nestling      1344\n",
       "                      adult-like    4379\n",
       "Selasphorus spp.      Nestling       301\n",
       "                      adult-like     884\n",
       "Name: ID, dtype: int64"
      ]
     },
     "execution_count": 7,
     "metadata": {},
     "output_type": "execute_result"
    }
   ],
   "source": [
    "data.groupby(['G_O', 'Age_e']).ID.nunique()"
   ]
  },
  {
   "cell_type": "code",
   "execution_count": 8,
   "metadata": {},
   "outputs": [
    {
     "data": {
      "text/plain": [
       "Species_e        Sex_e         G_O                 \n",
       "ANHU             Female-like   Non-selasphorus spp.    3633\n",
       "                 Male          Non-selasphorus spp.     689\n",
       "BCHU             Female-like   Non-selasphorus spp.      39\n",
       "                 Male          Non-selasphorus spp.       8\n",
       "Non-selasphorus  unknown       Non-selasphorus spp.    1354\n",
       "Selasphorus      Female-like   Selasphorus spp.         813\n",
       "                 Male          Selasphorus spp.          71\n",
       "                 unknown       Selasphorus spp.         301\n",
       "Name: ID, dtype: int64"
      ]
     },
     "execution_count": 8,
     "metadata": {},
     "output_type": "execute_result"
    }
   ],
   "source": [
    "data.groupby(['Species_e', 'Sex_e', 'G_O']).ID.nunique()"
   ]
  },
  {
   "cell_type": "code",
   "execution_count": 9,
   "metadata": {},
   "outputs": [
    {
     "data": {
      "text/plain": [
       "6908"
      ]
     },
     "execution_count": 9,
     "metadata": {},
     "output_type": "execute_result"
    }
   ],
   "source": [
    "data.ID.nunique()"
   ]
  },
  {
   "cell_type": "code",
   "execution_count": 10,
   "metadata": {},
   "outputs": [
    {
     "data": {
      "text/plain": [
       "Age_e\n",
       "Nestling      1645\n",
       "adult-like    5263\n",
       "Name: ID, dtype: int64"
      ]
     },
     "execution_count": 10,
     "metadata": {},
     "output_type": "execute_result"
    }
   ],
   "source": [
    "data.groupby(['Age_e']).ID.nunique()"
   ]
  },
  {
   "cell_type": "code",
   "execution_count": 11,
   "metadata": {},
   "outputs": [
    {
     "data": {
      "text/plain": [
       "Age_e\n",
       "Nestling      1645\n",
       "adult-like    5263\n",
       "Name: ID, dtype: int64"
      ]
     },
     "execution_count": 11,
     "metadata": {},
     "output_type": "execute_result"
    }
   ],
   "source": [
    "data.groupby(['Age_e']).ID.nunique()"
   ]
  },
  {
   "cell_type": "code",
   "execution_count": null,
   "metadata": {},
   "outputs": [],
   "source": []
  },
  {
   "cell_type": "code",
   "execution_count": 12,
   "metadata": {
    "scrolled": true
   },
   "outputs": [
    {
     "data": {
      "text/plain": [
       "G_O\n",
       "Non-selasphorus spp.    5723\n",
       "Selasphorus spp.        1185\n",
       "Name: ID, dtype: int64"
      ]
     },
     "execution_count": 12,
     "metadata": {},
     "output_type": "execute_result"
    }
   ],
   "source": [
    "data.groupby(['G_O']).ID.nunique()"
   ]
  },
  {
   "cell_type": "code",
   "execution_count": 13,
   "metadata": {},
   "outputs": [
    {
     "data": {
      "text/plain": [
       "6908"
      ]
     },
     "execution_count": 13,
     "metadata": {},
     "output_type": "execute_result"
    }
   ],
   "source": [
    "data.groupby(['G_O']).ID.nunique().sum()"
   ]
  },
  {
   "cell_type": "code",
   "execution_count": 14,
   "metadata": {},
   "outputs": [
    {
     "data": {
      "text/plain": [
       "Series([], Name: Place, dtype: int64)"
      ]
     },
     "execution_count": 14,
     "metadata": {},
     "output_type": "execute_result"
    }
   ],
   "source": [
    "data[data.G_O == 'unknown'].Place.value_counts()"
   ]
  },
  {
   "cell_type": "code",
   "execution_count": 15,
   "metadata": {},
   "outputs": [
    {
     "data": {
      "text/plain": [
       "G_O                   Species\n",
       "Non-selasphorus spp.  ANHU       5648\n",
       "                      BCHU         65\n",
       "                      COHU         10\n",
       "Selasphorus spp.      ALHU       1097\n",
       "                      RUHU         88\n",
       "Name: ID, dtype: int64"
      ]
     },
     "execution_count": 15,
     "metadata": {},
     "output_type": "execute_result"
    }
   ],
   "source": [
    "data.groupby(['G_O','Species']).ID.nunique()"
   ]
  },
  {
   "cell_type": "code",
   "execution_count": 16,
   "metadata": {},
   "outputs": [
    {
     "data": {
      "text/plain": [
       "G_O                   Species\n",
       "Non-selasphorus spp.  ANHU       0.817603\n",
       "                      BCHU       0.009409\n",
       "                      COHU       0.001448\n",
       "Selasphorus spp.      ALHU       0.158801\n",
       "                      RUHU       0.012739\n",
       "Name: ID, dtype: float64"
      ]
     },
     "execution_count": 16,
     "metadata": {},
     "output_type": "execute_result"
    }
   ],
   "source": [
    "data.groupby(['G_O','Species']).ID.nunique() / data.ID.nunique()"
   ]
  },
  {
   "cell_type": "code",
   "execution_count": 17,
   "metadata": {},
   "outputs": [
    {
     "data": {
      "text/plain": [
       "array(['Non-selasphorus spp.', 'Selasphorus spp.'], dtype=object)"
      ]
     },
     "execution_count": 17,
     "metadata": {},
     "output_type": "execute_result"
    }
   ],
   "source": [
    "data.G_O.unique()"
   ]
  },
  {
   "cell_type": "code",
   "execution_count": 18,
   "metadata": {},
   "outputs": [
    {
     "data": {
      "text/html": [
       "<div>\n",
       "<style scoped>\n",
       "    .dataframe tbody tr th:only-of-type {\n",
       "        vertical-align: middle;\n",
       "    }\n",
       "\n",
       "    .dataframe tbody tr th {\n",
       "        vertical-align: top;\n",
       "    }\n",
       "\n",
       "    .dataframe thead th {\n",
       "        text-align: right;\n",
       "    }\n",
       "</style>\n",
       "<table border=\"1\" class=\"dataframe\">\n",
       "  <thead>\n",
       "    <tr style=\"text-align: right;\">\n",
       "      <th></th>\n",
       "      <th></th>\n",
       "      <th></th>\n",
       "      <th></th>\n",
       "      <th>ID</th>\n",
       "    </tr>\n",
       "    <tr>\n",
       "      <th>G_O</th>\n",
       "      <th>Species</th>\n",
       "      <th>Sex_e</th>\n",
       "      <th>Age_e</th>\n",
       "      <th></th>\n",
       "    </tr>\n",
       "  </thead>\n",
       "  <tbody>\n",
       "    <tr>\n",
       "      <th rowspan=\"7\" valign=\"top\">Non-selasphorus spp.</th>\n",
       "      <th rowspan=\"3\" valign=\"top\">ANHU</th>\n",
       "      <th>Female-like</th>\n",
       "      <th>adult-like</th>\n",
       "      <td>3633</td>\n",
       "    </tr>\n",
       "    <tr>\n",
       "      <th>Male</th>\n",
       "      <th>adult-like</th>\n",
       "      <td>689</td>\n",
       "    </tr>\n",
       "    <tr>\n",
       "      <th>unknown</th>\n",
       "      <th>Nestling</th>\n",
       "      <td>1326</td>\n",
       "    </tr>\n",
       "    <tr>\n",
       "      <th rowspan=\"3\" valign=\"top\">BCHU</th>\n",
       "      <th>Female-like</th>\n",
       "      <th>adult-like</th>\n",
       "      <td>39</td>\n",
       "    </tr>\n",
       "    <tr>\n",
       "      <th>Male</th>\n",
       "      <th>adult-like</th>\n",
       "      <td>8</td>\n",
       "    </tr>\n",
       "    <tr>\n",
       "      <th>unknown</th>\n",
       "      <th>Nestling</th>\n",
       "      <td>18</td>\n",
       "    </tr>\n",
       "    <tr>\n",
       "      <th>COHU</th>\n",
       "      <th>unknown</th>\n",
       "      <th>adult-like</th>\n",
       "      <td>10</td>\n",
       "    </tr>\n",
       "    <tr>\n",
       "      <th rowspan=\"6\" valign=\"top\">Selasphorus spp.</th>\n",
       "      <th rowspan=\"3\" valign=\"top\">ALHU</th>\n",
       "      <th>Female-like</th>\n",
       "      <th>adult-like</th>\n",
       "      <td>746</td>\n",
       "    </tr>\n",
       "    <tr>\n",
       "      <th>Male</th>\n",
       "      <th>adult-like</th>\n",
       "      <td>53</td>\n",
       "    </tr>\n",
       "    <tr>\n",
       "      <th>unknown</th>\n",
       "      <th>Nestling</th>\n",
       "      <td>298</td>\n",
       "    </tr>\n",
       "    <tr>\n",
       "      <th rowspan=\"3\" valign=\"top\">RUHU</th>\n",
       "      <th>Female-like</th>\n",
       "      <th>adult-like</th>\n",
       "      <td>67</td>\n",
       "    </tr>\n",
       "    <tr>\n",
       "      <th>Male</th>\n",
       "      <th>adult-like</th>\n",
       "      <td>18</td>\n",
       "    </tr>\n",
       "    <tr>\n",
       "      <th>unknown</th>\n",
       "      <th>Nestling</th>\n",
       "      <td>3</td>\n",
       "    </tr>\n",
       "  </tbody>\n",
       "</table>\n",
       "</div>"
      ],
      "text/plain": [
       "                                                        ID\n",
       "G_O                  Species Sex_e        Age_e           \n",
       "Non-selasphorus spp. ANHU    Female-like  adult-like  3633\n",
       "                             Male         adult-like   689\n",
       "                             unknown      Nestling    1326\n",
       "                     BCHU    Female-like  adult-like    39\n",
       "                             Male         adult-like     8\n",
       "                             unknown      Nestling      18\n",
       "                     COHU    unknown      adult-like    10\n",
       "Selasphorus spp.     ALHU    Female-like  adult-like   746\n",
       "                             Male         adult-like    53\n",
       "                             unknown      Nestling     298\n",
       "                     RUHU    Female-like  adult-like    67\n",
       "                             Male         adult-like    18\n",
       "                             unknown      Nestling       3"
      ]
     },
     "execution_count": 18,
     "metadata": {},
     "output_type": "execute_result"
    }
   ],
   "source": [
    "table1 = pd.DataFrame(data.groupby(['G_O','Species', 'Sex_e', 'Age_e']).ID.nunique())\n",
    "table1"
   ]
  },
  {
   "cell_type": "code",
   "execution_count": 19,
   "metadata": {},
   "outputs": [],
   "source": [
    "table1.to_csv('C:/Users/falco/Desktop/directory/Humminbird_rescue/Outputs/Final_figures/tableS1.csv')"
   ]
  },
  {
   "cell_type": "markdown",
   "metadata": {},
   "source": [
    "#### First 5 rows of the data looks like this"
   ]
  },
  {
   "cell_type": "markdown",
   "metadata": {},
   "source": [
    "mapping = {'window hit': ['hit something', 'Window Hit'],\n",
    "           'pets': ['Cat Caught', 'caught by domestic animal'],\n",
    "          'found on ground': ['found on the ground', 'Found in the pool'],\n",
    "          'nest':['Fell out of a nest', 'found in the nest'],\n",
    "          'inside':['found inside'],\n",
    "          'torpor':['found outside', 'Found at the feeder', 'found on the fence'], \n",
    "          'unknown': 'unknown'}"
   ]
  },
  {
   "cell_type": "code",
   "execution_count": 20,
   "metadata": {},
   "outputs": [
    {
     "data": {
      "text/plain": [
       "found on the ground          2950\n",
       "unknown                      1103\n",
       "nest-related                  943\n",
       "caught by domestic animal     893\n",
       "window hit                    663\n",
       "found inside                  221\n",
       "suspect torpor-like state     135\n",
       "Name: Reason_e, dtype: int64"
      ]
     },
     "execution_count": 20,
     "metadata": {},
     "output_type": "execute_result"
    }
   ],
   "source": [
    "data.Reason_e.value_counts()"
   ]
  },
  {
   "cell_type": "code",
   "execution_count": 21,
   "metadata": {},
   "outputs": [],
   "source": [
    "#data.replace('nest related', 'nest-related', inplace = True)"
   ]
  },
  {
   "cell_type": "code",
   "execution_count": 22,
   "metadata": {},
   "outputs": [],
   "source": [
    "#data['r'] = data['reason_coll'].map(mapping)\n",
    "#data.r.value_counts()\n",
    "data['r'] = data.Reason_e"
   ]
  },
  {
   "cell_type": "code",
   "execution_count": 23,
   "metadata": {},
   "outputs": [
    {
     "data": {
      "text/plain": [
       "found on the ground          2950\n",
       "unknown                      1103\n",
       "nest-related                  943\n",
       "caught by domestic animal     893\n",
       "window hit                    663\n",
       "found inside                  221\n",
       "suspect torpor-like state     135\n",
       "Name: r, dtype: int64"
      ]
     },
     "execution_count": 23,
     "metadata": {},
     "output_type": "execute_result"
    }
   ],
   "source": [
    "\"\"\"\n",
    "def reason_outouts (c):\n",
    "    if c.reason_coll == 'hit something' or c.reason_coll == 'Window Hit':\n",
    "        return 'window hit'\n",
    "    elif c.reason_coll == 'Cat Caught' or c.reason_coll == 'caught by domestic animal':\n",
    "        return 'pets'\n",
    "    elif c.reason_coll == 'found on the ground' or c.reason_coll == 'Found in the pool':\n",
    "        return 'found on ground'\n",
    "    elif c.reason_coll == 'Fell out of a nest' or c.reason_coll == 'found in the nest':\n",
    "        return 'nest'\n",
    "    elif c.reason_coll == 'found inside':\n",
    "        return 'inside'\n",
    "    elif c.reason_coll == 'found outside' or c.reason_coll == 'Found at the feeder' or c.reason_coll == 'found on the fence':\n",
    "        return 'torpor'\n",
    "    elif c.reason_coll == 'unknown':\n",
    "        return 'unknown'\n",
    "    \n",
    "data['r'] = data.apply(reason_outouts, axis=1)\n",
    "\"\"\"\n",
    "data.r.value_counts()    "
   ]
  },
  {
   "cell_type": "code",
   "execution_count": 24,
   "metadata": {},
   "outputs": [
    {
     "data": {
      "text/html": [
       "<div>\n",
       "<style scoped>\n",
       "    .dataframe tbody tr th:only-of-type {\n",
       "        vertical-align: middle;\n",
       "    }\n",
       "\n",
       "    .dataframe tbody tr th {\n",
       "        vertical-align: top;\n",
       "    }\n",
       "\n",
       "    .dataframe thead th {\n",
       "        text-align: right;\n",
       "    }\n",
       "</style>\n",
       "<table border=\"1\" class=\"dataframe\">\n",
       "  <thead>\n",
       "    <tr style=\"text-align: right;\">\n",
       "      <th></th>\n",
       "      <th>index</th>\n",
       "      <th>Number</th>\n",
       "      <th>Proportion</th>\n",
       "      <th>Proportion_str</th>\n",
       "    </tr>\n",
       "  </thead>\n",
       "  <tbody>\n",
       "    <tr>\n",
       "      <th>0</th>\n",
       "      <td>found on the ground</td>\n",
       "      <td>2950</td>\n",
       "      <td>42.7</td>\n",
       "      <td>42.7%</td>\n",
       "    </tr>\n",
       "    <tr>\n",
       "      <th>1</th>\n",
       "      <td>unknown</td>\n",
       "      <td>1103</td>\n",
       "      <td>16.0</td>\n",
       "      <td>16.0%</td>\n",
       "    </tr>\n",
       "    <tr>\n",
       "      <th>2</th>\n",
       "      <td>nest-related</td>\n",
       "      <td>943</td>\n",
       "      <td>13.7</td>\n",
       "      <td>13.7%</td>\n",
       "    </tr>\n",
       "    <tr>\n",
       "      <th>3</th>\n",
       "      <td>caught by domestic animal</td>\n",
       "      <td>893</td>\n",
       "      <td>12.9</td>\n",
       "      <td>12.9%</td>\n",
       "    </tr>\n",
       "    <tr>\n",
       "      <th>4</th>\n",
       "      <td>window hit</td>\n",
       "      <td>663</td>\n",
       "      <td>9.6</td>\n",
       "      <td>9.6%</td>\n",
       "    </tr>\n",
       "    <tr>\n",
       "      <th>5</th>\n",
       "      <td>found inside</td>\n",
       "      <td>221</td>\n",
       "      <td>3.2</td>\n",
       "      <td>3.2%</td>\n",
       "    </tr>\n",
       "    <tr>\n",
       "      <th>6</th>\n",
       "      <td>suspect torpor-like state</td>\n",
       "      <td>135</td>\n",
       "      <td>2.0</td>\n",
       "      <td>2.0%</td>\n",
       "    </tr>\n",
       "  </tbody>\n",
       "</table>\n",
       "</div>"
      ],
      "text/plain": [
       "                       index  Number Proportion Proportion_str\n",
       "0        found on the ground    2950       42.7          42.7%\n",
       "1                    unknown    1103       16.0          16.0%\n",
       "2               nest-related     943       13.7          13.7%\n",
       "3  caught by domestic animal     893       12.9          12.9%\n",
       "4                 window hit     663        9.6           9.6%\n",
       "5               found inside     221        3.2           3.2%\n",
       "6  suspect torpor-like state     135        2.0           2.0%"
      ]
     },
     "execution_count": 24,
     "metadata": {},
     "output_type": "execute_result"
    }
   ],
   "source": [
    "reasosn_perc = pd.DataFrame(data.r.value_counts(normalize=True))    \n",
    "reasosn_val = pd.DataFrame(data.r.value_counts())\n",
    "reasons_table = pd.concat([reasosn_val, reasosn_perc], axis=1)\n",
    "reasons_table.columns = ['Number', 'Proportion']\n",
    "reasons_table['Proportion'] = reasons_table['Proportion']*100\n",
    "reasons_table['Proportion'] = reasons_table['Proportion'].apply('{:.1f}'.format)\n",
    "reasons_table['Proportion_str'] = reasons_table['Proportion']+'%'\n",
    "reasons_table = reasons_table.reset_index()\n",
    "reasons_table"
   ]
  },
  {
   "cell_type": "code",
   "execution_count": 25,
   "metadata": {},
   "outputs": [],
   "source": [
    "#reasons_table.replace('torpor', 'suspect torpor state', inplace =True)\n",
    "#reasons_table.replace('inside', 'found inside', inplace =True)\n",
    "#reasons_table.replace('pets', 'caught by domestic animal', inplace =True)\n",
    "#reasons_table.replace('nest', 'nest-related', inplace =True)"
   ]
  },
  {
   "cell_type": "code",
   "execution_count": 26,
   "metadata": {},
   "outputs": [],
   "source": [
    "mappings = {'found on the ground': 6,\n",
    " 'unknown': 5,\n",
    " 'nest-related': 3,\n",
    " 'caught by domestic animal': 4,\n",
    " 'window hit': 2,\n",
    " 'found inside': 1,\n",
    " 'suspect torpor-like state': 0}"
   ]
  },
  {
   "cell_type": "code",
   "execution_count": 27,
   "metadata": {},
   "outputs": [
    {
     "ename": "ValueError",
     "evalue": "The truth value of a DataFrame is ambiguous. Use a.empty, a.bool(), a.item(), a.any() or a.all().",
     "output_type": "error",
     "traceback": [
      "\u001b[1;31m---------------------------------------------------------------------------\u001b[0m",
      "\u001b[1;31mValueError\u001b[0m                                Traceback (most recent call last)",
      "\u001b[1;32m<ipython-input-27-0c49b2f5fbf2>\u001b[0m in \u001b[0;36m<module>\u001b[1;34m\u001b[0m\n\u001b[0;32m     20\u001b[0m \u001b[1;33m\u001b[0m\u001b[0m\n\u001b[0;32m     21\u001b[0m  )\n\u001b[1;32m---> 22\u001b[1;33m      + geom_text(\n\u001b[0m\u001b[0;32m     23\u001b[0m      \u001b[0mreasons_table\u001b[0m\u001b[1;33m,\u001b[0m\u001b[1;33m\u001b[0m\u001b[1;33m\u001b[0m\u001b[0m\n\u001b[0;32m     24\u001b[0m      \u001b[0maes\u001b[0m\u001b[1;33m(\u001b[0m\u001b[0mx\u001b[0m\u001b[1;33m=\u001b[0m\u001b[1;34m'Number+500.0'\u001b[0m\u001b[1;33m,\u001b[0m \u001b[0my\u001b[0m\u001b[1;33m=\u001b[0m\u001b[1;34m'index'\u001b[0m\u001b[1;33m,\u001b[0m \u001b[0mlabel\u001b[0m\u001b[1;33m=\u001b[0m\u001b[1;34m'Proportion_str'\u001b[0m\u001b[1;33m,\u001b[0m \u001b[1;33m)\u001b[0m\u001b[1;33m,\u001b[0m\u001b[1;33m\u001b[0m\u001b[1;33m\u001b[0m\u001b[0m\n",
      "\u001b[1;32m~\\anaconda3\\lib\\site-packages\\plotnine\\geoms\\geom_text.py\u001b[0m in \u001b[0;36m__init__\u001b[1;34m(self, mapping, data, **kwargs)\u001b[0m\n\u001b[0;32m    104\u001b[0m \u001b[1;33m\u001b[0m\u001b[0m\n\u001b[0;32m    105\u001b[0m         \u001b[1;31m# Accomodate the old names\u001b[0m\u001b[1;33m\u001b[0m\u001b[1;33m\u001b[0m\u001b[1;33m\u001b[0m\u001b[0m\n\u001b[1;32m--> 106\u001b[1;33m         \u001b[1;32mif\u001b[0m \u001b[0mmapping\u001b[0m \u001b[1;32mand\u001b[0m \u001b[1;34m'hjust'\u001b[0m \u001b[1;32min\u001b[0m \u001b[0mmapping\u001b[0m\u001b[1;33m:\u001b[0m\u001b[1;33m\u001b[0m\u001b[1;33m\u001b[0m\u001b[0m\n\u001b[0m\u001b[0;32m    107\u001b[0m             \u001b[0mmapping\u001b[0m\u001b[1;33m[\u001b[0m\u001b[1;34m'ha'\u001b[0m\u001b[1;33m]\u001b[0m \u001b[1;33m=\u001b[0m \u001b[0mmapping\u001b[0m\u001b[1;33m.\u001b[0m\u001b[0mpop\u001b[0m\u001b[1;33m(\u001b[0m\u001b[1;34m'hjust'\u001b[0m\u001b[1;33m)\u001b[0m\u001b[1;33m\u001b[0m\u001b[1;33m\u001b[0m\u001b[0m\n\u001b[0;32m    108\u001b[0m \u001b[1;33m\u001b[0m\u001b[0m\n",
      "\u001b[1;32m~\\anaconda3\\lib\\site-packages\\pandas\\core\\generic.py\u001b[0m in \u001b[0;36m__nonzero__\u001b[1;34m(self)\u001b[0m\n\u001b[0;32m   1476\u001b[0m \u001b[1;33m\u001b[0m\u001b[0m\n\u001b[0;32m   1477\u001b[0m     \u001b[1;32mdef\u001b[0m \u001b[0m__nonzero__\u001b[0m\u001b[1;33m(\u001b[0m\u001b[0mself\u001b[0m\u001b[1;33m)\u001b[0m\u001b[1;33m:\u001b[0m\u001b[1;33m\u001b[0m\u001b[1;33m\u001b[0m\u001b[0m\n\u001b[1;32m-> 1478\u001b[1;33m         raise ValueError(\n\u001b[0m\u001b[0;32m   1479\u001b[0m             \u001b[1;34mf\"The truth value of a {type(self).__name__} is ambiguous. \"\u001b[0m\u001b[1;33m\u001b[0m\u001b[1;33m\u001b[0m\u001b[0m\n\u001b[0;32m   1480\u001b[0m             \u001b[1;34m\"Use a.empty, a.bool(), a.item(), a.any() or a.all().\"\u001b[0m\u001b[1;33m\u001b[0m\u001b[1;33m\u001b[0m\u001b[0m\n",
      "\u001b[1;31mValueError\u001b[0m: The truth value of a DataFrame is ambiguous. Use a.empty, a.bool(), a.item(), a.any() or a.all()."
     ]
    }
   ],
   "source": [
    "import pandas.api.types as pdtypes\n",
    "\n",
    "from plotnine import *\n",
    "from plydata import *\n",
    "\n",
    "p = (ggplot()\n",
    "     + geom_segment(\n",
    "     reasons_table,\n",
    "     aes(x=0, xend='Number', y='index', yend='index'),\n",
    "     size=6,\n",
    "     color='#0a3370'\n",
    " )\n",
    "     # Age group markers\n",
    " + geom_point(\n",
    "     reasons_table,\n",
    "     aes('Number', 'index'),\n",
    "     size=5,\n",
    "     stroke=0.7, \n",
    "     color = '#FC8D62'\n",
    "\n",
    " )\n",
    "     + geom_text(\n",
    "     reasons_table,\n",
    "     aes(x='Number+500.0', y='index', label='Proportion_str', ),\n",
    "     size=12,\n",
    "     ha='right',\n",
    " )\n",
    " + xlab('Number of individuals')+ ylab('Reasons for admission')\n",
    " + scale_y_discrete(limits=mappings, reverse=False) \n",
    " + theme_538()\n",
    " + theme(figure_size=(6, 3))\n",
    ")\n",
    "#ggsave(plot=p, filename='C:/Users/falco/Desktop/directory/Humminbird_rescue/Outputs/Final_figures/Figure3.svg')\n",
    "#ggsave(plot=p, filename='C:/Users/falco/Desktop/directory/Humminbird_rescue/Outputs/Final_figures/Figure3.png', dpi = 600)\n",
    "p"
   ]
  },
  {
   "cell_type": "code",
   "execution_count": null,
   "metadata": {},
   "outputs": [],
   "source": [
    "646/float(data.shape[0])"
   ]
  },
  {
   "cell_type": "code",
   "execution_count": 28,
   "metadata": {},
   "outputs": [
    {
     "data": {
      "text/plain": [
       "0.12796757382744645"
      ]
     },
     "execution_count": 28,
     "metadata": {},
     "output_type": "execute_result"
    }
   ],
   "source": [
    "884/float(data.shape[0])"
   ]
  },
  {
   "cell_type": "code",
   "execution_count": 29,
   "metadata": {},
   "outputs": [
    {
     "data": {
      "text/plain": [
       "Released              2485\n",
       "Died in 24hr          1736\n",
       "Euthanized in 24hr    1106\n",
       "Died +24hr             668\n",
       "Euthanized +24hr       562\n",
       "Dead on arrival        351\n",
       "Name: Disposition, dtype: int64"
      ]
     },
     "execution_count": 29,
     "metadata": {},
     "output_type": "execute_result"
    }
   ],
   "source": [
    "data.Disposition.value_counts()"
   ]
  },
  {
   "cell_type": "code",
   "execution_count": 30,
   "metadata": {},
   "outputs": [
    {
     "data": {
      "text/plain": [
       "Released              35.972785\n",
       "Died in 24hr          25.130284\n",
       "Euthanized in 24hr    16.010423\n",
       "Died +24hr             9.669948\n",
       "Euthanized +24hr       8.135495\n",
       "Dead on arrival        5.081065\n",
       "Name: Disposition, dtype: float64"
      ]
     },
     "execution_count": 30,
     "metadata": {},
     "output_type": "execute_result"
    }
   ],
   "source": [
    "data.Disposition.value_counts()/data.ID.nunique()*100"
   ]
  },
  {
   "cell_type": "code",
   "execution_count": 31,
   "metadata": {},
   "outputs": [
    {
     "data": {
      "text/plain": [
       "24.513057278891935"
      ]
     },
     "execution_count": 31,
     "metadata": {},
     "output_type": "execute_result"
    }
   ],
   "source": [
    "1699/6931*100"
   ]
  },
  {
   "cell_type": "code",
   "execution_count": 32,
   "metadata": {},
   "outputs": [
    {
     "data": {
      "text/plain": [
       "34.80017313518972"
      ]
     },
     "execution_count": 32,
     "metadata": {},
     "output_type": "execute_result"
    }
   ],
   "source": [
    "2412/6931*100"
   ]
  },
  {
   "cell_type": "code",
   "execution_count": 33,
   "metadata": {},
   "outputs": [],
   "source": [
    "def DOA (c):\n",
    "    if c.Disposition == 'Released':\n",
    "        return 'Released'\n",
    "    else:\n",
    "        return 'Died'\n",
    "data['Disposition_binary'] = data.apply(DOA, axis=1)"
   ]
  },
  {
   "cell_type": "code",
   "execution_count": 34,
   "metadata": {},
   "outputs": [
    {
     "data": {
      "text/plain": [
       "unknown                  4551\n",
       "sugar water              1544\n",
       "nectar                    405\n",
       "water                     195\n",
       "honey water                54\n",
       "dextose solution           51\n",
       "bugs, sugar water          32\n",
       "bugs, water                10\n",
       "fruit juice                 9\n",
       "bugs, nectar                8\n",
       "bread, water                7\n",
       "Water                       6\n",
       "Sugar water                 4\n",
       "bugs, honey                 3\n",
       "electrolyte solution        3\n",
       "bread, milk                 3\n",
       "Roudybush Lory nectar       3\n",
       "water, karo syrup           3\n",
       "bugs                        3\n",
       "water, puppy food           2\n",
       "milk                        2\n",
       "nectar                      1\n",
       "water                       1\n",
       "bread                       1\n",
       "water, pinenuts             1\n",
       "fruit juice                 1\n",
       "rootbeer                    1\n",
       "water, protein powder       1\n",
       "water, egg white            1\n",
       "Nectar                      1\n",
       "bread                       1\n",
       "Name: First_aid, dtype: int64"
      ]
     },
     "execution_count": 34,
     "metadata": {},
     "output_type": "execute_result"
    }
   ],
   "source": [
    "data['First_aid'].value_counts()"
   ]
  },
  {
   "cell_type": "code",
   "execution_count": 35,
   "metadata": {},
   "outputs": [],
   "source": [
    "def First_Aid (c):\n",
    "    if c.First_aid== 'unknown':\n",
    "        return 'No'\n",
    "    else:\n",
    "        return 'Yes'\n",
    "data['F_Aid'] = data.apply(First_Aid, axis=1)"
   ]
  },
  {
   "cell_type": "code",
   "execution_count": 36,
   "metadata": {},
   "outputs": [
    {
     "data": {
      "text/plain": [
       "No     4551\n",
       "Yes    2357\n",
       "Name: F_Aid, dtype: int64"
      ]
     },
     "execution_count": 36,
     "metadata": {},
     "output_type": "execute_result"
    }
   ],
   "source": [
    "data['F_Aid'].value_counts()"
   ]
  },
  {
   "cell_type": "code",
   "execution_count": 37,
   "metadata": {},
   "outputs": [
    {
     "data": {
      "text/plain": [
       "Age_e       Disposition_binary\n",
       "Nestling    Died                   587\n",
       "            Released              1058\n",
       "adult-like  Died                  3836\n",
       "            Released              1427\n",
       "Name: ID, dtype: int64"
      ]
     },
     "execution_count": 37,
     "metadata": {},
     "output_type": "execute_result"
    }
   ],
   "source": [
    "data.groupby(['Age_e', 'Disposition_binary']).ID.nunique()"
   ]
  },
  {
   "cell_type": "code",
   "execution_count": 38,
   "metadata": {},
   "outputs": [
    {
     "data": {
      "text/plain": [
       "adult-like    5263\n",
       "Nestling      1645\n",
       "Name: Age_e, dtype: int64"
      ]
     },
     "execution_count": 38,
     "metadata": {},
     "output_type": "execute_result"
    }
   ],
   "source": [
    "data.Age_e.value_counts()"
   ]
  },
  {
   "cell_type": "code",
   "execution_count": 39,
   "metadata": {},
   "outputs": [
    {
     "data": {
      "text/plain": [
       "Age_e       Disposition_binary\n",
       "Nestling    Died                   587\n",
       "            Released              1058\n",
       "adult-like  Died                  3836\n",
       "            Released              1427\n",
       "Name: ID, dtype: int64"
      ]
     },
     "execution_count": 39,
     "metadata": {},
     "output_type": "execute_result"
    }
   ],
   "source": [
    "data.groupby(['Age_e', 'Disposition_binary']).ID.nunique()"
   ]
  },
  {
   "cell_type": "code",
   "execution_count": 40,
   "metadata": {},
   "outputs": [
    {
     "data": {
      "text/plain": [
       "ID    6908\n",
       "dtype: int64"
      ]
     },
     "execution_count": 40,
     "metadata": {},
     "output_type": "execute_result"
    }
   ],
   "source": [
    "pd.DataFrame(data.groupby(['G_O','Sex_e', 'Age_e', 'Disposition_binary']).ID.nunique()).sum()"
   ]
  },
  {
   "cell_type": "code",
   "execution_count": 41,
   "metadata": {},
   "outputs": [
    {
     "data": {
      "text/html": [
       "<div>\n",
       "<style scoped>\n",
       "    .dataframe tbody tr th:only-of-type {\n",
       "        vertical-align: middle;\n",
       "    }\n",
       "\n",
       "    .dataframe tbody tr th {\n",
       "        vertical-align: top;\n",
       "    }\n",
       "\n",
       "    .dataframe thead th {\n",
       "        text-align: right;\n",
       "    }\n",
       "</style>\n",
       "<table border=\"1\" class=\"dataframe\">\n",
       "  <thead>\n",
       "    <tr style=\"text-align: right;\">\n",
       "      <th></th>\n",
       "      <th></th>\n",
       "      <th></th>\n",
       "      <th></th>\n",
       "      <th>ID</th>\n",
       "    </tr>\n",
       "    <tr>\n",
       "      <th>G_O</th>\n",
       "      <th>Sex_e</th>\n",
       "      <th>Age_e</th>\n",
       "      <th>Disposition_binary</th>\n",
       "      <th></th>\n",
       "    </tr>\n",
       "  </thead>\n",
       "  <tbody>\n",
       "    <tr>\n",
       "      <th rowspan=\"7\" valign=\"top\">Non-selasphorus spp.</th>\n",
       "      <th rowspan=\"2\" valign=\"top\">Female-like</th>\n",
       "      <th rowspan=\"2\" valign=\"top\">adult-like</th>\n",
       "      <th>Died</th>\n",
       "      <td>2647</td>\n",
       "    </tr>\n",
       "    <tr>\n",
       "      <th>Released</th>\n",
       "      <td>1025</td>\n",
       "    </tr>\n",
       "    <tr>\n",
       "      <th rowspan=\"2\" valign=\"top\">Male</th>\n",
       "      <th rowspan=\"2\" valign=\"top\">adult-like</th>\n",
       "      <th>Died</th>\n",
       "      <td>545</td>\n",
       "    </tr>\n",
       "    <tr>\n",
       "      <th>Released</th>\n",
       "      <td>152</td>\n",
       "    </tr>\n",
       "    <tr>\n",
       "      <th rowspan=\"3\" valign=\"top\">unknown</th>\n",
       "      <th rowspan=\"2\" valign=\"top\">Nestling</th>\n",
       "      <th>Died</th>\n",
       "      <td>474</td>\n",
       "    </tr>\n",
       "    <tr>\n",
       "      <th>Released</th>\n",
       "      <td>870</td>\n",
       "    </tr>\n",
       "    <tr>\n",
       "      <th>adult-like</th>\n",
       "      <th>Died</th>\n",
       "      <td>10</td>\n",
       "    </tr>\n",
       "    <tr>\n",
       "      <th rowspan=\"6\" valign=\"top\">Selasphorus spp.</th>\n",
       "      <th rowspan=\"2\" valign=\"top\">Female-like</th>\n",
       "      <th rowspan=\"2\" valign=\"top\">adult-like</th>\n",
       "      <th>Died</th>\n",
       "      <td>572</td>\n",
       "    </tr>\n",
       "    <tr>\n",
       "      <th>Released</th>\n",
       "      <td>241</td>\n",
       "    </tr>\n",
       "    <tr>\n",
       "      <th rowspan=\"2\" valign=\"top\">Male</th>\n",
       "      <th rowspan=\"2\" valign=\"top\">adult-like</th>\n",
       "      <th>Died</th>\n",
       "      <td>62</td>\n",
       "    </tr>\n",
       "    <tr>\n",
       "      <th>Released</th>\n",
       "      <td>9</td>\n",
       "    </tr>\n",
       "    <tr>\n",
       "      <th rowspan=\"2\" valign=\"top\">unknown</th>\n",
       "      <th rowspan=\"2\" valign=\"top\">Nestling</th>\n",
       "      <th>Died</th>\n",
       "      <td>113</td>\n",
       "    </tr>\n",
       "    <tr>\n",
       "      <th>Released</th>\n",
       "      <td>188</td>\n",
       "    </tr>\n",
       "  </tbody>\n",
       "</table>\n",
       "</div>"
      ],
      "text/plain": [
       "                                                                   ID\n",
       "G_O                  Sex_e        Age_e      Disposition_binary      \n",
       "Non-selasphorus spp. Female-like  adult-like Died                2647\n",
       "                                             Released            1025\n",
       "                     Male         adult-like Died                 545\n",
       "                                             Released             152\n",
       "                     unknown      Nestling   Died                 474\n",
       "                                             Released             870\n",
       "                                  adult-like Died                  10\n",
       "Selasphorus spp.     Female-like  adult-like Died                 572\n",
       "                                             Released             241\n",
       "                     Male         adult-like Died                  62\n",
       "                                             Released               9\n",
       "                     unknown      Nestling   Died                 113\n",
       "                                             Released             188"
      ]
     },
     "execution_count": 41,
     "metadata": {},
     "output_type": "execute_result"
    }
   ],
   "source": [
    "aa = pd.DataFrame(data.groupby(['G_O','Sex_e', 'Age_e', 'Disposition_binary']).ID.nunique())\n",
    "aa"
   ]
  },
  {
   "cell_type": "code",
   "execution_count": 42,
   "metadata": {},
   "outputs": [
    {
     "data": {
      "text/plain": [
       "ID    2485\n",
       "dtype: int64"
      ]
     },
     "execution_count": 42,
     "metadata": {},
     "output_type": "execute_result"
    }
   ],
   "source": [
    "aa.xs('Released', level = 3).sum()"
   ]
  },
  {
   "cell_type": "code",
   "execution_count": 43,
   "metadata": {},
   "outputs": [
    {
     "data": {
      "text/plain": [
       "ID    0.359728\n",
       "dtype: float64"
      ]
     },
     "execution_count": 43,
     "metadata": {},
     "output_type": "execute_result"
    }
   ],
   "source": [
    "aa.xs('Released', level = 3).sum()/pd.DataFrame(data.groupby(['G_O','Sex_e', 'Age_e', 'Disposition_binary']).ID.nunique()).sum()"
   ]
  },
  {
   "cell_type": "code",
   "execution_count": 44,
   "metadata": {},
   "outputs": [
    {
     "data": {
      "text/plain": [
       "ID    5723\n",
       "dtype: int64"
      ]
     },
     "execution_count": 44,
     "metadata": {},
     "output_type": "execute_result"
    }
   ],
   "source": [
    "aa.xs('Non-selasphorus spp.', level = 0).sum()"
   ]
  },
  {
   "cell_type": "code",
   "execution_count": 45,
   "metadata": {},
   "outputs": [
    {
     "data": {
      "text/plain": [
       "ID    1185\n",
       "dtype: int64"
      ]
     },
     "execution_count": 45,
     "metadata": {},
     "output_type": "execute_result"
    }
   ],
   "source": [
    "aa.xs('Selasphorus spp.', level = 0).sum()"
   ]
  },
  {
   "cell_type": "code",
   "execution_count": 46,
   "metadata": {},
   "outputs": [],
   "source": [
    "#aa.xs('unknown', level = 0).sum()"
   ]
  },
  {
   "cell_type": "code",
   "execution_count": 47,
   "metadata": {},
   "outputs": [
    {
     "data": {
      "text/plain": [
       "ID    1645\n",
       "dtype: int64"
      ]
     },
     "execution_count": 47,
     "metadata": {},
     "output_type": "execute_result"
    }
   ],
   "source": [
    "aa.xs('Nestling', level = 2).sum()"
   ]
  },
  {
   "cell_type": "code",
   "execution_count": 48,
   "metadata": {},
   "outputs": [
    {
     "data": {
      "text/html": [
       "<div>\n",
       "<style scoped>\n",
       "    .dataframe tbody tr th:only-of-type {\n",
       "        vertical-align: middle;\n",
       "    }\n",
       "\n",
       "    .dataframe tbody tr th {\n",
       "        vertical-align: top;\n",
       "    }\n",
       "\n",
       "    .dataframe thead th {\n",
       "        text-align: right;\n",
       "    }\n",
       "</style>\n",
       "<table border=\"1\" class=\"dataframe\">\n",
       "  <thead>\n",
       "    <tr style=\"text-align: right;\">\n",
       "      <th></th>\n",
       "      <th></th>\n",
       "      <th></th>\n",
       "      <th>ID</th>\n",
       "    </tr>\n",
       "    <tr>\n",
       "      <th>G_O</th>\n",
       "      <th>Sex_e</th>\n",
       "      <th>Disposition_binary</th>\n",
       "      <th></th>\n",
       "    </tr>\n",
       "  </thead>\n",
       "  <tbody>\n",
       "    <tr>\n",
       "      <th rowspan=\"2\" valign=\"top\">Non-selasphorus spp.</th>\n",
       "      <th rowspan=\"2\" valign=\"top\">unknown</th>\n",
       "      <th>Died</th>\n",
       "      <td>474</td>\n",
       "    </tr>\n",
       "    <tr>\n",
       "      <th>Released</th>\n",
       "      <td>870</td>\n",
       "    </tr>\n",
       "    <tr>\n",
       "      <th rowspan=\"2\" valign=\"top\">Selasphorus spp.</th>\n",
       "      <th rowspan=\"2\" valign=\"top\">unknown</th>\n",
       "      <th>Died</th>\n",
       "      <td>113</td>\n",
       "    </tr>\n",
       "    <tr>\n",
       "      <th>Released</th>\n",
       "      <td>188</td>\n",
       "    </tr>\n",
       "  </tbody>\n",
       "</table>\n",
       "</div>"
      ],
      "text/plain": [
       "                                                  ID\n",
       "G_O                  Sex_e   Disposition_binary     \n",
       "Non-selasphorus spp. unknown Died                474\n",
       "                             Released            870\n",
       "Selasphorus spp.     unknown Died                113\n",
       "                             Released            188"
      ]
     },
     "execution_count": 48,
     "metadata": {},
     "output_type": "execute_result"
    }
   ],
   "source": [
    "aa.xs('Nestling', level = 2)"
   ]
  },
  {
   "cell_type": "code",
   "execution_count": 49,
   "metadata": {},
   "outputs": [
    {
     "data": {
      "text/plain": [
       "Index(['Place', 'Case_Year', 'Admitted', 'Found_on', 'Brought_in_after',\n",
       "       'City', 'County', 'Reason', 'Reason_edited', 'Reason_e', 'First_aid',\n",
       "       'Species', 'Species_e', 'Sex', 'Sex_e', 'Age', 'Age_e', 'G_O',\n",
       "       'Disposition', 'DDate', 'weight', 'BCS', 'attitude', 'dehydration',\n",
       "       'head', 'CNS', 'cardiopulmonary', 'GI', 'musculoskeletal', 'integument',\n",
       "       'body', 'forelimb', 'forelimb_e', 'hindlimb', 'hindlimb_e', 'treatment',\n",
       "       'Heat', 'Fluids', 'NSAID', 'Antibiotic', 'Steroid', 'treatment_e',\n",
       "       'admit_date', 'found_date', 'ID', 'r', 'Disposition_binary', 'F_Aid'],\n",
       "      dtype='object')"
      ]
     },
     "execution_count": 49,
     "metadata": {},
     "output_type": "execute_result"
    }
   ],
   "source": [
    "data.columns"
   ]
  },
  {
   "cell_type": "code",
   "execution_count": 50,
   "metadata": {},
   "outputs": [],
   "source": [
    "data['month'] = data.index.month"
   ]
  },
  {
   "cell_type": "code",
   "execution_count": 51,
   "metadata": {},
   "outputs": [],
   "source": [
    "def make_seasons(c):\n",
    "    if (c.month == 12)|(c.month == 1)|(c.month == 2):\n",
    "        return 'Winter'\n",
    "    elif (c.month == 3)|(c.month == 4)|(c.month == 5):\n",
    "        return 'Spring'\n",
    "    elif (c.month == 6)|(c.month == 7)|(c.month == 8):\n",
    "        return 'Summer'\n",
    "    elif (c.month == 9)|(c.month == 10)|(c.month == 11):\n",
    "        return 'Fall'"
   ]
  },
  {
   "cell_type": "code",
   "execution_count": 52,
   "metadata": {},
   "outputs": [],
   "source": [
    "def make_seasons(c):\n",
    "    if (c.month == 12)|(c.month == 1)|(c.month == 2):\n",
    "        return 'Winter'\n",
    "    elif (c.month == 3)|(c.month == 4)|(c.month == 5):\n",
    "        return 'Spring'\n",
    "    elif (c.month == 6)|(c.month == 7)|(c.month == 8):\n",
    "        return 'Summer'\n",
    "    elif (c.month == 9)|(c.month == 10)|(c.month == 11):\n",
    "        return 'Fall'\n",
    "data['season'] = data.apply(make_seasons, axis=1)"
   ]
  },
  {
   "cell_type": "code",
   "execution_count": 53,
   "metadata": {},
   "outputs": [
    {
     "data": {
      "text/plain": [
       "Non-selasphorus spp.    5723\n",
       "Selasphorus spp.        1185\n",
       "Name: G_O, dtype: int64"
      ]
     },
     "execution_count": 53,
     "metadata": {},
     "output_type": "execute_result"
    }
   ],
   "source": [
    "data.G_O.value_counts()"
   ]
  },
  {
   "cell_type": "code",
   "execution_count": 54,
   "metadata": {},
   "outputs": [
    {
     "data": {
      "text/plain": [
       "Sex\n",
       "Female     [Female-like , unknown]\n",
       "Male               [Male, unknown]\n",
       "unknown    [Female-like , unknown]\n",
       "Name: Sex_e, dtype: object"
      ]
     },
     "execution_count": 54,
     "metadata": {},
     "output_type": "execute_result"
    }
   ],
   "source": [
    "data.groupby(['Sex'])['Sex_e'].unique()\n"
   ]
  },
  {
   "cell_type": "code",
   "execution_count": 55,
   "metadata": {},
   "outputs": [
    {
     "data": {
      "text/plain": [
       "Sex      Age_e     \n",
       "Female   Nestling        79\n",
       "         adult-like     714\n",
       "Male     Nestling        82\n",
       "         adult-like     768\n",
       "unknown  Nestling      1484\n",
       "         adult-like    3781\n",
       "Name: ID, dtype: int64"
      ]
     },
     "execution_count": 55,
     "metadata": {},
     "output_type": "execute_result"
    }
   ],
   "source": [
    "data.groupby(['Sex', 'Age_e'])['ID'].nunique()"
   ]
  },
  {
   "cell_type": "code",
   "execution_count": 56,
   "metadata": {},
   "outputs": [
    {
     "data": {
      "text/html": [
       "<div>\n",
       "<style scoped>\n",
       "    .dataframe tbody tr th:only-of-type {\n",
       "        vertical-align: middle;\n",
       "    }\n",
       "\n",
       "    .dataframe tbody tr th {\n",
       "        vertical-align: top;\n",
       "    }\n",
       "\n",
       "    .dataframe thead th {\n",
       "        text-align: right;\n",
       "    }\n",
       "</style>\n",
       "<table border=\"1\" class=\"dataframe\">\n",
       "  <thead>\n",
       "    <tr style=\"text-align: right;\">\n",
       "      <th></th>\n",
       "      <th>Disposition_binary</th>\n",
       "      <th>Place</th>\n",
       "      <th>F_Aid</th>\n",
       "      <th>Species_e</th>\n",
       "      <th>Sex_e</th>\n",
       "      <th>Age_e</th>\n",
       "      <th>Brought_in_after</th>\n",
       "      <th>season</th>\n",
       "      <th>r</th>\n",
       "      <th>G_O</th>\n",
       "    </tr>\n",
       "    <tr>\n",
       "      <th>Admitted</th>\n",
       "      <th></th>\n",
       "      <th></th>\n",
       "      <th></th>\n",
       "      <th></th>\n",
       "      <th></th>\n",
       "      <th></th>\n",
       "      <th></th>\n",
       "      <th></th>\n",
       "      <th></th>\n",
       "      <th></th>\n",
       "    </tr>\n",
       "  </thead>\n",
       "  <tbody>\n",
       "    <tr>\n",
       "      <th>1991-01-02</th>\n",
       "      <td>Died</td>\n",
       "      <td>Lindsey</td>\n",
       "      <td>No</td>\n",
       "      <td>ANHU</td>\n",
       "      <td>Female-like</td>\n",
       "      <td>adult-like</td>\n",
       "      <td>1</td>\n",
       "      <td>Winter</td>\n",
       "      <td>found on the ground</td>\n",
       "      <td>Non-selasphorus spp.</td>\n",
       "    </tr>\n",
       "    <tr>\n",
       "      <th>1991-01-02</th>\n",
       "      <td>Released</td>\n",
       "      <td>Lindsey</td>\n",
       "      <td>Yes</td>\n",
       "      <td>ANHU</td>\n",
       "      <td>Female-like</td>\n",
       "      <td>adult-like</td>\n",
       "      <td>0</td>\n",
       "      <td>Winter</td>\n",
       "      <td>unknown</td>\n",
       "      <td>Non-selasphorus spp.</td>\n",
       "    </tr>\n",
       "    <tr>\n",
       "      <th>1991-01-04</th>\n",
       "      <td>Died</td>\n",
       "      <td>Lindsey</td>\n",
       "      <td>No</td>\n",
       "      <td>ANHU</td>\n",
       "      <td>Female-like</td>\n",
       "      <td>adult-like</td>\n",
       "      <td>0</td>\n",
       "      <td>Winter</td>\n",
       "      <td>suspect torpor-like state</td>\n",
       "      <td>Non-selasphorus spp.</td>\n",
       "    </tr>\n",
       "    <tr>\n",
       "      <th>1991-01-05</th>\n",
       "      <td>Died</td>\n",
       "      <td>Lindsey</td>\n",
       "      <td>No</td>\n",
       "      <td>ANHU</td>\n",
       "      <td>Female-like</td>\n",
       "      <td>adult-like</td>\n",
       "      <td>4</td>\n",
       "      <td>Winter</td>\n",
       "      <td>unknown</td>\n",
       "      <td>Non-selasphorus spp.</td>\n",
       "    </tr>\n",
       "    <tr>\n",
       "      <th>1991-01-05</th>\n",
       "      <td>Died</td>\n",
       "      <td>Lindsey</td>\n",
       "      <td>No</td>\n",
       "      <td>ANHU</td>\n",
       "      <td>Female-like</td>\n",
       "      <td>adult-like</td>\n",
       "      <td>0</td>\n",
       "      <td>Winter</td>\n",
       "      <td>caught by domestic animal</td>\n",
       "      <td>Non-selasphorus spp.</td>\n",
       "    </tr>\n",
       "    <tr>\n",
       "      <th>1991-01-05</th>\n",
       "      <td>Died</td>\n",
       "      <td>Lindsey</td>\n",
       "      <td>No</td>\n",
       "      <td>ANHU</td>\n",
       "      <td>Female-like</td>\n",
       "      <td>adult-like</td>\n",
       "      <td>0</td>\n",
       "      <td>Winter</td>\n",
       "      <td>found on the ground</td>\n",
       "      <td>Non-selasphorus spp.</td>\n",
       "    </tr>\n",
       "    <tr>\n",
       "      <th>1991-01-06</th>\n",
       "      <td>Died</td>\n",
       "      <td>Lindsey</td>\n",
       "      <td>No</td>\n",
       "      <td>ANHU</td>\n",
       "      <td>Female-like</td>\n",
       "      <td>adult-like</td>\n",
       "      <td>0</td>\n",
       "      <td>Winter</td>\n",
       "      <td>window hit</td>\n",
       "      <td>Non-selasphorus spp.</td>\n",
       "    </tr>\n",
       "    <tr>\n",
       "      <th>1991-01-07</th>\n",
       "      <td>Died</td>\n",
       "      <td>Lindsey</td>\n",
       "      <td>No</td>\n",
       "      <td>ANHU</td>\n",
       "      <td>Female-like</td>\n",
       "      <td>adult-like</td>\n",
       "      <td>0</td>\n",
       "      <td>Winter</td>\n",
       "      <td>window hit</td>\n",
       "      <td>Non-selasphorus spp.</td>\n",
       "    </tr>\n",
       "    <tr>\n",
       "      <th>1991-01-08</th>\n",
       "      <td>Died</td>\n",
       "      <td>Lindsey</td>\n",
       "      <td>No</td>\n",
       "      <td>ANHU</td>\n",
       "      <td>Female-like</td>\n",
       "      <td>adult-like</td>\n",
       "      <td>0</td>\n",
       "      <td>Winter</td>\n",
       "      <td>found on the ground</td>\n",
       "      <td>Non-selasphorus spp.</td>\n",
       "    </tr>\n",
       "    <tr>\n",
       "      <th>1991-01-11</th>\n",
       "      <td>Died</td>\n",
       "      <td>Lindsey</td>\n",
       "      <td>No</td>\n",
       "      <td>ANHU</td>\n",
       "      <td>Female-like</td>\n",
       "      <td>adult-like</td>\n",
       "      <td>0</td>\n",
       "      <td>Winter</td>\n",
       "      <td>unknown</td>\n",
       "      <td>Non-selasphorus spp.</td>\n",
       "    </tr>\n",
       "    <tr>\n",
       "      <th>1991-01-13</th>\n",
       "      <td>Died</td>\n",
       "      <td>Lindsey</td>\n",
       "      <td>No</td>\n",
       "      <td>ANHU</td>\n",
       "      <td>Female-like</td>\n",
       "      <td>adult-like</td>\n",
       "      <td>0</td>\n",
       "      <td>Winter</td>\n",
       "      <td>found on the ground</td>\n",
       "      <td>Non-selasphorus spp.</td>\n",
       "    </tr>\n",
       "    <tr>\n",
       "      <th>1991-01-14</th>\n",
       "      <td>Died</td>\n",
       "      <td>Lindsey</td>\n",
       "      <td>No</td>\n",
       "      <td>ANHU</td>\n",
       "      <td>Female-like</td>\n",
       "      <td>adult-like</td>\n",
       "      <td>0</td>\n",
       "      <td>Winter</td>\n",
       "      <td>found on the ground</td>\n",
       "      <td>Non-selasphorus spp.</td>\n",
       "    </tr>\n",
       "    <tr>\n",
       "      <th>1991-01-21</th>\n",
       "      <td>Died</td>\n",
       "      <td>Lindsey</td>\n",
       "      <td>No</td>\n",
       "      <td>ANHU</td>\n",
       "      <td>Female-like</td>\n",
       "      <td>adult-like</td>\n",
       "      <td>0</td>\n",
       "      <td>Winter</td>\n",
       "      <td>window hit</td>\n",
       "      <td>Non-selasphorus spp.</td>\n",
       "    </tr>\n",
       "    <tr>\n",
       "      <th>1991-01-24</th>\n",
       "      <td>Died</td>\n",
       "      <td>Lindsey</td>\n",
       "      <td>No</td>\n",
       "      <td>ANHU</td>\n",
       "      <td>Female-like</td>\n",
       "      <td>adult-like</td>\n",
       "      <td>0</td>\n",
       "      <td>Winter</td>\n",
       "      <td>found on the ground</td>\n",
       "      <td>Non-selasphorus spp.</td>\n",
       "    </tr>\n",
       "    <tr>\n",
       "      <th>1991-01-26</th>\n",
       "      <td>Died</td>\n",
       "      <td>Lindsey</td>\n",
       "      <td>No</td>\n",
       "      <td>ANHU</td>\n",
       "      <td>Female-like</td>\n",
       "      <td>adult-like</td>\n",
       "      <td>0</td>\n",
       "      <td>Winter</td>\n",
       "      <td>window hit</td>\n",
       "      <td>Non-selasphorus spp.</td>\n",
       "    </tr>\n",
       "  </tbody>\n",
       "</table>\n",
       "</div>"
      ],
      "text/plain": [
       "           Disposition_binary    Place F_Aid Species_e         Sex_e  \\\n",
       "Admitted                                                               \n",
       "1991-01-02               Died  Lindsey    No      ANHU  Female-like    \n",
       "1991-01-02           Released  Lindsey   Yes      ANHU  Female-like    \n",
       "1991-01-04               Died  Lindsey    No      ANHU  Female-like    \n",
       "1991-01-05               Died  Lindsey    No      ANHU  Female-like    \n",
       "1991-01-05               Died  Lindsey    No      ANHU  Female-like    \n",
       "1991-01-05               Died  Lindsey    No      ANHU  Female-like    \n",
       "1991-01-06               Died  Lindsey    No      ANHU  Female-like    \n",
       "1991-01-07               Died  Lindsey    No      ANHU  Female-like    \n",
       "1991-01-08               Died  Lindsey    No      ANHU  Female-like    \n",
       "1991-01-11               Died  Lindsey    No      ANHU  Female-like    \n",
       "1991-01-13               Died  Lindsey    No      ANHU  Female-like    \n",
       "1991-01-14               Died  Lindsey    No      ANHU  Female-like    \n",
       "1991-01-21               Died  Lindsey    No      ANHU  Female-like    \n",
       "1991-01-24               Died  Lindsey    No      ANHU  Female-like    \n",
       "1991-01-26               Died  Lindsey    No      ANHU  Female-like    \n",
       "\n",
       "                 Age_e  Brought_in_after  season                          r  \\\n",
       "Admitted                                                                      \n",
       "1991-01-02  adult-like                 1  Winter        found on the ground   \n",
       "1991-01-02  adult-like                 0  Winter                    unknown   \n",
       "1991-01-04  adult-like                 0  Winter  suspect torpor-like state   \n",
       "1991-01-05  adult-like                 4  Winter                    unknown   \n",
       "1991-01-05  adult-like                 0  Winter  caught by domestic animal   \n",
       "1991-01-05  adult-like                 0  Winter        found on the ground   \n",
       "1991-01-06  adult-like                 0  Winter                 window hit   \n",
       "1991-01-07  adult-like                 0  Winter                 window hit   \n",
       "1991-01-08  adult-like                 0  Winter        found on the ground   \n",
       "1991-01-11  adult-like                 0  Winter                    unknown   \n",
       "1991-01-13  adult-like                 0  Winter        found on the ground   \n",
       "1991-01-14  adult-like                 0  Winter        found on the ground   \n",
       "1991-01-21  adult-like                 0  Winter                 window hit   \n",
       "1991-01-24  adult-like                 0  Winter        found on the ground   \n",
       "1991-01-26  adult-like                 0  Winter                 window hit   \n",
       "\n",
       "                             G_O  \n",
       "Admitted                          \n",
       "1991-01-02  Non-selasphorus spp.  \n",
       "1991-01-02  Non-selasphorus spp.  \n",
       "1991-01-04  Non-selasphorus spp.  \n",
       "1991-01-05  Non-selasphorus spp.  \n",
       "1991-01-05  Non-selasphorus spp.  \n",
       "1991-01-05  Non-selasphorus spp.  \n",
       "1991-01-06  Non-selasphorus spp.  \n",
       "1991-01-07  Non-selasphorus spp.  \n",
       "1991-01-08  Non-selasphorus spp.  \n",
       "1991-01-11  Non-selasphorus spp.  \n",
       "1991-01-13  Non-selasphorus spp.  \n",
       "1991-01-14  Non-selasphorus spp.  \n",
       "1991-01-21  Non-selasphorus spp.  \n",
       "1991-01-24  Non-selasphorus spp.  \n",
       "1991-01-26  Non-selasphorus spp.  "
      ]
     },
     "execution_count": 56,
     "metadata": {},
     "output_type": "execute_result"
    }
   ],
   "source": [
    "m_d = data[['Disposition_binary', 'Place', 'F_Aid', 'Species_e', 'Sex_e', 'Age_e', 'Brought_in_after','season', 'r', 'G_O']]\n",
    "m_d.head(15)"
   ]
  },
  {
   "cell_type": "code",
   "execution_count": 57,
   "metadata": {},
   "outputs": [],
   "source": [
    "m_d = m_d[(m_d.G_O == 'Non-selasphorus spp.') |(m_d.G_O == 'Selasphorus spp.')]"
   ]
  },
  {
   "cell_type": "code",
   "execution_count": 58,
   "metadata": {},
   "outputs": [
    {
     "data": {
      "text/plain": [
       "Spring    3138\n",
       "Summer    2136\n",
       "Winter    1032\n",
       "Fall       602\n",
       "Name: season, dtype: int64"
      ]
     },
     "execution_count": 58,
     "metadata": {},
     "output_type": "execute_result"
    }
   ],
   "source": [
    "m_d.season.value_counts()"
   ]
  },
  {
   "cell_type": "code",
   "execution_count": 59,
   "metadata": {},
   "outputs": [
    {
     "data": {
      "text/plain": [
       "(6908, 10)"
      ]
     },
     "execution_count": 59,
     "metadata": {},
     "output_type": "execute_result"
    }
   ],
   "source": [
    "m_d.shape"
   ]
  },
  {
   "cell_type": "code",
   "execution_count": 60,
   "metadata": {},
   "outputs": [
    {
     "data": {
      "text/plain": [
       "Age_e       Sex_e       \n",
       "Nestling    unknown         1645\n",
       "adult-like  Female-like     4485\n",
       "            Male             768\n",
       "            unknown           10\n",
       "Name: Sex_e, dtype: int64"
      ]
     },
     "execution_count": 60,
     "metadata": {},
     "output_type": "execute_result"
    }
   ],
   "source": [
    "data.groupby(['Age_e','Sex_e'])['Sex_e'].count()"
   ]
  },
  {
   "cell_type": "code",
   "execution_count": 61,
   "metadata": {},
   "outputs": [
    {
     "data": {
      "text/plain": [
       "Age_e       Species_e      \n",
       "Nestling    Non-selasphorus    1344\n",
       "            Selasphorus         301\n",
       "adult-like  ANHU               4322\n",
       "            BCHU                 47\n",
       "            Non-selasphorus      10\n",
       "            Selasphorus         884\n",
       "Name: Species_e, dtype: int64"
      ]
     },
     "execution_count": 61,
     "metadata": {},
     "output_type": "execute_result"
    }
   ],
   "source": [
    "data.groupby(['Age_e','Species_e'])['Species_e'].count()"
   ]
  },
  {
   "cell_type": "code",
   "execution_count": 62,
   "metadata": {},
   "outputs": [
    {
     "data": {
      "text/plain": [
       "Sex_e         Species_e      \n",
       "Female-like   ANHU               3633\n",
       "              BCHU                 39\n",
       "              Selasphorus         813\n",
       "Male          ANHU                689\n",
       "              BCHU                  8\n",
       "              Selasphorus          71\n",
       "unknown       Non-selasphorus    1354\n",
       "              Selasphorus         301\n",
       "Name: Species_e, dtype: int64"
      ]
     },
     "execution_count": 62,
     "metadata": {},
     "output_type": "execute_result"
    }
   ],
   "source": [
    "data.groupby(['Sex_e','Species_e'])['Species_e'].count()"
   ]
  },
  {
   "cell_type": "code",
   "execution_count": 63,
   "metadata": {},
   "outputs": [],
   "source": [
    "ls = []\n",
    "for col in m_d:\n",
    "    ls.append(col)\n",
    "    uniques = m_d[col].unique().tolist()\n",
    "    for u in uniques:\n",
    "        ls.append(u)\n",
    "u = pd.DataFrame({'Unique_values':ls})\n",
    "u.to_csv('C:/Users/falco/Desktop/directory/Humminbird_rescue/data/Uniques_data.csv')"
   ]
  },
  {
   "cell_type": "code",
   "execution_count": null,
   "metadata": {},
   "outputs": [],
   "source": []
  },
  {
   "cell_type": "code",
   "execution_count": 64,
   "metadata": {},
   "outputs": [],
   "source": [
    "m_d.to_csv('C:/Users/falco/Desktop/directory/Humminbird_rescue/data/Model_data.csv')"
   ]
  },
  {
   "cell_type": "code",
   "execution_count": 65,
   "metadata": {},
   "outputs": [
    {
     "data": {
      "text/plain": [
       "Index(['Place', 'Case_Year', 'Admitted', 'Found_on', 'Brought_in_after',\n",
       "       'City', 'County', 'Reason', 'Reason_edited', 'Reason_e', 'First_aid',\n",
       "       'Species', 'Species_e', 'Sex', 'Sex_e', 'Age', 'Age_e', 'G_O',\n",
       "       'Disposition', 'DDate', 'weight', 'BCS', 'attitude', 'dehydration',\n",
       "       'head', 'CNS', 'cardiopulmonary', 'GI', 'musculoskeletal', 'integument',\n",
       "       'body', 'forelimb', 'forelimb_e', 'hindlimb', 'hindlimb_e', 'treatment',\n",
       "       'Heat', 'Fluids', 'NSAID', 'Antibiotic', 'Steroid', 'treatment_e',\n",
       "       'admit_date', 'found_date', 'ID', 'r', 'Disposition_binary', 'F_Aid',\n",
       "       'month', 'season'],\n",
       "      dtype='object')"
      ]
     },
     "execution_count": 65,
     "metadata": {},
     "output_type": "execute_result"
    }
   ],
   "source": [
    "data.columns"
   ]
  },
  {
   "cell_type": "code",
   "execution_count": 66,
   "metadata": {},
   "outputs": [
    {
     "data": {
      "text/plain": [
       "<function __main__.<lambda>(x)>"
      ]
     },
     "execution_count": 66,
     "metadata": {},
     "output_type": "execute_result"
    }
   ],
   "source": [
    "data[data.Age_e =='Nestling'].groupby([pd.Grouper(freq='M'), 'Disposition_binary'])['ID'].nunique()\n",
    "lambda x: x.month"
   ]
  },
  {
   "cell_type": "code",
   "execution_count": 67,
   "metadata": {},
   "outputs": [
    {
     "data": {
      "text/plain": [
       "Index(['Place', 'Case_Year', 'Admitted', 'Found_on', 'Brought_in_after',\n",
       "       'City', 'County', 'Reason', 'Reason_edited', 'Reason_e', 'First_aid',\n",
       "       'Species', 'Species_e', 'Sex', 'Sex_e', 'Age', 'Age_e', 'G_O',\n",
       "       'Disposition', 'DDate', 'weight', 'BCS', 'attitude', 'dehydration',\n",
       "       'head', 'CNS', 'cardiopulmonary', 'GI', 'musculoskeletal', 'integument',\n",
       "       'body', 'forelimb', 'forelimb_e', 'hindlimb', 'hindlimb_e', 'treatment',\n",
       "       'Heat', 'Fluids', 'NSAID', 'Antibiotic', 'Steroid', 'treatment_e',\n",
       "       'admit_date', 'found_date', 'ID', 'r', 'Disposition_binary', 'F_Aid',\n",
       "       'month', 'season'],\n",
       "      dtype='object')"
      ]
     },
     "execution_count": 67,
     "metadata": {},
     "output_type": "execute_result"
    }
   ],
   "source": [
    "data.columns"
   ]
  },
  {
   "cell_type": "code",
   "execution_count": 68,
   "metadata": {},
   "outputs": [],
   "source": [
    "data.groupby(['Sex_e', 'r','Age_e']).ID.nunique().to_excel('Table_Sex_Reason_age.xlsx')"
   ]
  },
  {
   "cell_type": "code",
   "execution_count": 69,
   "metadata": {},
   "outputs": [],
   "source": [
    "data.groupby(['r','Age_e']).ID.nunique().to_excel('Table_Reason_age.xlsx')"
   ]
  },
  {
   "cell_type": "code",
   "execution_count": 70,
   "metadata": {},
   "outputs": [
    {
     "data": {
      "text/plain": [
       "'C:\\\\Users\\\\falco\\\\Desktop\\\\directory\\\\Humminbird_rescue\\\\data'"
      ]
     },
     "execution_count": 70,
     "metadata": {},
     "output_type": "execute_result"
    }
   ],
   "source": [
    "os.getcwd()"
   ]
  },
  {
   "cell_type": "code",
   "execution_count": 71,
   "metadata": {},
   "outputs": [
    {
     "data": {
      "text/plain": [
       "r                          Age_e     \n",
       "caught by domestic animal  Nestling        86\n",
       "                           adult-like     807\n",
       "found inside               Nestling         2\n",
       "                           adult-like     219\n",
       "found on the ground        Nestling       609\n",
       "                           adult-like    2341\n",
       "nest-related               Nestling       752\n",
       "                           adult-like     191\n",
       "suspect torpor-like state  adult-like     135\n",
       "unknown                    Nestling       196\n",
       "                           adult-like     907\n",
       "window hit                 adult-like     663\n",
       "Name: ID, dtype: int64"
      ]
     },
     "execution_count": 71,
     "metadata": {},
     "output_type": "execute_result"
    }
   ],
   "source": [
    "data.groupby(['r', 'Age_e']).ID.nunique()"
   ]
  },
  {
   "cell_type": "code",
   "execution_count": 72,
   "metadata": {},
   "outputs": [
    {
     "data": {
      "text/plain": [
       "Sex_e         r                        \n",
       "Female-like   caught by domestic animal     726\n",
       "              found inside                  184\n",
       "              found on the ground          1939\n",
       "              nest-related                  175\n",
       "              suspect torpor-like state      99\n",
       "              unknown                       820\n",
       "              window hit                    542\n",
       "Male          caught by domestic animal      81\n",
       "              found inside                   35\n",
       "              found on the ground           395\n",
       "              nest-related                   16\n",
       "              suspect torpor-like state      36\n",
       "              unknown                        84\n",
       "              window hit                    121\n",
       "unknown       caught by domestic animal      86\n",
       "              found inside                    2\n",
       "              found on the ground           616\n",
       "              nest-related                  752\n",
       "              unknown                       199\n",
       "Name: ID, dtype: int64"
      ]
     },
     "execution_count": 72,
     "metadata": {},
     "output_type": "execute_result"
    }
   ],
   "source": [
    "data.groupby(['Sex_e', 'r']).ID.nunique()"
   ]
  },
  {
   "cell_type": "code",
   "execution_count": 73,
   "metadata": {},
   "outputs": [
    {
     "data": {
      "text/plain": [
       "Age_e       Sex_e       \n",
       "Nestling    unknown         1645\n",
       "adult-like  Female-like     4485\n",
       "            Male             768\n",
       "            unknown           10\n",
       "Name: ID, dtype: int64"
      ]
     },
     "execution_count": 73,
     "metadata": {},
     "output_type": "execute_result"
    }
   ],
   "source": [
    "data.groupby(['Age_e', 'Sex_e']).ID.nunique()"
   ]
  },
  {
   "cell_type": "markdown",
   "metadata": {},
   "source": [
    "## Figure for time-line and disposition"
   ]
  },
  {
   "cell_type": "code",
   "execution_count": 75,
   "metadata": {},
   "outputs": [
    {
     "data": {
      "image/png": "[encoded data removed]",
      "text/plain": [
       "<Figure size 576x324 with 3 Axes>"
      ]
     },
     "metadata": {},
     "output_type": "display_data"
    }
   ],
   "source": [
    "fig = plt.figure(figsize = [8,4.5])\n",
    "grid = fig.add_gridspec(2, 3)\n",
    "ax1 = plt.subplot(grid[0, 0:])\n",
    "ax2 = plt.subplot(grid[1, 0])\n",
    "ax3 = plt.subplot(grid[1, 1:])\n",
    "\n",
    "\n",
    "data.replace('malibu', 'Malibu', inplace = True)\n",
    "data.replace('Malibu', 'California Wildlife Center', inplace = True)\n",
    "data.replace('Santa Barbara', 'Santa Barbara Wildlife Care', inplace = True)\n",
    "data.replace('Lindsey', 'Lindsay Wildlife Experience', inplace = True)\n",
    "data['Disposition_edited'] = data.Disposition\n",
    "              \n",
    "data['Disposition_edited'].replace('Died in 24hr', 'Died <24 hr', inplace = True)\n",
    "data['Disposition_edited'].replace('Euthanized in 24hr', 'Euthanized <24 hr', inplace = True)\n",
    "data['Disposition_edited'].replace('Died +24hr', 'Died >24 hr', inplace = True)\n",
    "data['Disposition_edited'].replace('Euthanized +24hr','Euthanized >24 hr', inplace = True)\n",
    "\n",
    "\n",
    "data.groupby([pd.Grouper(freq='M'), 'Place'])['ID'].nunique().unstack().plot(lw=1.5, ax = ax1, color = ['#1b9e77','#7570b3', '#d95f02'])\n",
    "ax1.set_xlabel('Year')\n",
    "ax1.set_ylabel('Number of hummingbirds', fontsize = 10)\n",
    "ax1.legend(title=\"Rehabilitation centers\", loc = 'upper left', fontsize = 8)\n",
    "\n",
    "data.Disposition_edited.value_counts().plot(kind = 'barh', color = '#0a3370', ax = ax2)\n",
    "ax2.set_xlabel('Number of hummingbirds',fontsize = 10)\n",
    "ax2.set_ylabel('disposition after being admitted',fontsize = 10)\n",
    "month = data[data.Age_e =='Nestling'].groupby([pd.Grouper(freq='M'), 'Disposition_binary'])['ID'].nunique().reset_index()\n",
    "month['month2'] = month['Admitted'].dt.month\n",
    "import calendar\n",
    "month['month'] = month['month2'].apply(lambda x: calendar.month_abbr[x])\n",
    "sns.boxplot(data=month, x= 'month', y='ID', hue='Disposition_binary', linewidth=0.5,\n",
    "            order=[\"Jan\", \"Feb\", \"Mar\",\n",
    "                  'Apr', 'May', 'Jun',\n",
    "                  'Jul', 'Aug', 'Sep', \n",
    "                  'Oct', 'Nov', 'Dec'],\n",
    "            ax= ax3)\n",
    "#sns.stripplot(data=month, x= 'month', y='ID', hue='Disposition_binary', c)\n",
    "ax3.set_xlabel('Months')\n",
    "ax3.set_ylabel('Number of nestlings', fontsize = 10)\n",
    "handles, labels = ax3.get_legend_handles_labels()\n",
    "ax3.legend(handles=handles, labels=labels, loc = 'best')\n",
    "ax1.set_title(\"(a)\", fontsize = 10)\n",
    "ax2.set_title('(b)', fontsize = 10)\n",
    "ax3.set_title('(c)', fontsize = 10)\n",
    "plt.tight_layout()\n",
    "plt.savefig('C:/Users/falco/Desktop/directory/Humminbird_rescue/Outputs/Final_figures/Figure2.svg')\n",
    "plt.savefig('C:/Users/falco/Desktop/directory/Humminbird_rescue/Outputs/Final_figures/Figure2.png', dpi = 600)\n",
    "plt.show()"
   ]
  },
  {
   "cell_type": "code",
   "execution_count": 79,
   "metadata": {
    "scrolled": true
   },
   "outputs": [
    {
     "data": {
      "image/png": "[encoded data removed]",
      "text/plain": [
       "<Figure size 324x216 with 1 Axes>"
      ]
     },
     "metadata": {},
     "output_type": "display_data"
    }
   ],
   "source": [
    "fig, ax = plt.subplots(figsize = [4.5,3])\n",
    "data.replace('malibu', 'Malibu', inplace = True)\n",
    "data.groupby([pd.Grouper(freq='M'), 'Place'])['ID'].nunique().unstack().plot(lw=1, ax = ax, color = ['#1b9e77','#7570b3', '#d95f02'])\n",
    "ax.set_xlabel('Year')\n",
    "ax.set_ylabel('Number of hummingbirds')\n",
    "ax.legend(title=\"Rehabilitation centers\", loc = 'best')\n",
    "plt.tight_layout()\n",
    "plt.savefig('C:/Users/falco/Desktop/directory/Humminbird_rescue/Outputs/Timeline.png', dpi = 600)\n",
    "plt.show()"
   ]
  },
  {
   "cell_type": "code",
   "execution_count": 77,
   "metadata": {},
   "outputs": [
    {
     "data": {
      "text/plain": [
       "found on the ground          2950\n",
       "unknown                      1103\n",
       "nest-related                  943\n",
       "caught by domestic animal     893\n",
       "window hit                    663\n",
       "found inside                  221\n",
       "suspect torpor-like state     135\n",
       "Name: r, dtype: int64"
      ]
     },
     "execution_count": 77,
     "metadata": {},
     "output_type": "execute_result"
    }
   ],
   "source": [
    "data.r.value_counts()"
   ]
  },
  {
   "cell_type": "code",
   "execution_count": 78,
   "metadata": {
    "scrolled": true
   },
   "outputs": [
    {
     "data": {
      "image/png": "[encoded data removed]",
      "text/plain": [
       "<Figure size 576x792 with 8 Axes>"
      ]
     },
     "metadata": {},
     "output_type": "display_data"
    }
   ],
   "source": [
    "def plot_reason(admit_reason, ax):\n",
    "    reason = data[data.r ==admit_reason].groupby([pd.Grouper(freq='M'), 'Disposition_binary'])['ID'].nunique().reset_index()\n",
    "    reason['month2'] = reason['Admitted'].dt.month\n",
    "    import calendar\n",
    "    reason['month'] = reason['month2'].apply(lambda x: calendar.month_abbr[x])\n",
    "    sns.boxplot(data=reason, x= 'month', y='ID', hue='Disposition_binary', linewidth=0.5,\n",
    "            order=[\"Jan\", \"Feb\", \"Mar\",\n",
    "                  'Apr', 'May', 'Jun',\n",
    "                  'Jul', 'Aug', 'Sep', \n",
    "                  'Oct', 'Nov', 'Dec'],\n",
    "            ax= ax)\n",
    "    ax.set_xlabel('Months', fontsize = 10)\n",
    "    ax.set_ylabel('Number of nestlings', fontsize = 10)\n",
    "    handles, labels = ax.get_legend_handles_labels()\n",
    "    ax.legend(handles=handles, labels=labels, loc = 'best')\n",
    "    ax.set_title(admit_reason, fontsize = 10)\n",
    "    #ax.set_ylim(0, 50)\n",
    "\n",
    "fig, ((ax1,ax2),(ax3,ax4),(ax5,ax6),(ax7,ax8))  = plt.subplots(4,2, figsize = [8,11], sharey = False)\n",
    "\n",
    "plot_reason(admit_reason='found on the ground', ax = ax1)\n",
    "plot_reason(admit_reason='unknown', ax = ax2)\n",
    "plot_reason(admit_reason='nest-related', ax = ax3)\n",
    "plot_reason(admit_reason='caught by domestic animal', ax = ax4)\n",
    "plot_reason(admit_reason='window hit', ax = ax5)\n",
    "plot_reason(admit_reason='found inside', ax = ax6)\n",
    "plot_reason(admit_reason='suspect torpor-like state', ax = ax7)\n",
    "ax8.axis('off')\n",
    "#sns.stripplot(data=month, x= 'month', y='ID', hue='Disposition_binary', c)\n",
    "\n",
    "#ax2.set_title('(b)', fontsize = 10)\n",
    "#ax3.set_title('(c)', fontsize = 10)\n",
    "plt.tight_layout()\n",
    "plt.savefig('C:/Users/falco/Desktop/directory/Humminbird_rescue/Outputs/Final_figures/Reasons_seasonality.svg')\n",
    "plt.savefig('C:/Users/falco/Desktop/directory/Humminbird_rescue/Outputs/Final_figures/Reasons_seasonality.png', dpi = 600)\n",
    "plt.show()"
   ]
  },
  {
   "cell_type": "markdown",
   "metadata": {},
   "source": [
    "## First Aid model"
   ]
  },
  {
   "cell_type": "code",
   "execution_count": 79,
   "metadata": {
    "scrolled": true
   },
   "outputs": [
    {
     "data": {
      "text/plain": [
       "['Place',\n",
       " 'Case_Year',\n",
       " 'Admitted',\n",
       " 'Found_on',\n",
       " 'Brought_in_after',\n",
       " 'City',\n",
       " 'County',\n",
       " 'Reason',\n",
       " 'Reason_edited',\n",
       " 'Reason_e',\n",
       " 'First_aid',\n",
       " 'Species',\n",
       " 'Species_e',\n",
       " 'Sex',\n",
       " 'Sex_e',\n",
       " 'Age',\n",
       " 'Age_e',\n",
       " 'G_O',\n",
       " 'Disposition',\n",
       " 'DDate',\n",
       " 'weight',\n",
       " 'BCS',\n",
       " 'attitude',\n",
       " 'dehydration',\n",
       " 'head',\n",
       " 'CNS',\n",
       " 'cardiopulmonary',\n",
       " 'GI',\n",
       " 'musculoskeletal',\n",
       " 'integument',\n",
       " 'body',\n",
       " 'forelimb',\n",
       " 'forelimb_e',\n",
       " 'hindlimb',\n",
       " 'hindlimb_e',\n",
       " 'treatment',\n",
       " 'Heat',\n",
       " 'Fluids',\n",
       " 'NSAID',\n",
       " 'Antibiotic',\n",
       " 'Steroid',\n",
       " 'treatment_e',\n",
       " 'admit_date',\n",
       " 'found_date',\n",
       " 'ID',\n",
       " 'r',\n",
       " 'Disposition_binary',\n",
       " 'F_Aid',\n",
       " 'month',\n",
       " 'season']"
      ]
     },
     "execution_count": 79,
     "metadata": {},
     "output_type": "execute_result"
    }
   ],
   "source": [
    "data.columns.tolist()"
   ]
  },
  {
   "cell_type": "code",
   "execution_count": 80,
   "metadata": {},
   "outputs": [
    {
     "data": {
      "text/html": [
       "<div>\n",
       "<style scoped>\n",
       "    .dataframe tbody tr th:only-of-type {\n",
       "        vertical-align: middle;\n",
       "    }\n",
       "\n",
       "    .dataframe tbody tr th {\n",
       "        vertical-align: top;\n",
       "    }\n",
       "\n",
       "    .dataframe thead th {\n",
       "        text-align: right;\n",
       "    }\n",
       "</style>\n",
       "<table border=\"1\" class=\"dataframe\">\n",
       "  <thead>\n",
       "    <tr style=\"text-align: right;\">\n",
       "      <th></th>\n",
       "      <th>Heat</th>\n",
       "      <th>Fluids</th>\n",
       "      <th>NSAID</th>\n",
       "      <th>Antibiotic</th>\n",
       "      <th>Steroid</th>\n",
       "    </tr>\n",
       "    <tr>\n",
       "      <th>Admitted</th>\n",
       "      <th></th>\n",
       "      <th></th>\n",
       "      <th></th>\n",
       "      <th></th>\n",
       "      <th></th>\n",
       "    </tr>\n",
       "  </thead>\n",
       "  <tbody>\n",
       "    <tr>\n",
       "      <th>1991-01-02</th>\n",
       "      <td>Heat</td>\n",
       "      <td>NaN</td>\n",
       "      <td>NaN</td>\n",
       "      <td>NaN</td>\n",
       "      <td>NaN</td>\n",
       "    </tr>\n",
       "    <tr>\n",
       "      <th>1991-01-05</th>\n",
       "      <td>Heat</td>\n",
       "      <td>Fluids</td>\n",
       "      <td>NaN</td>\n",
       "      <td>NaN</td>\n",
       "      <td>NaN</td>\n",
       "    </tr>\n",
       "    <tr>\n",
       "      <th>1991-02-05</th>\n",
       "      <td>Heat</td>\n",
       "      <td>NaN</td>\n",
       "      <td>NaN</td>\n",
       "      <td>NaN</td>\n",
       "      <td>NaN</td>\n",
       "    </tr>\n",
       "    <tr>\n",
       "      <th>1991-03-19</th>\n",
       "      <td>Heat</td>\n",
       "      <td>Fluids</td>\n",
       "      <td>NaN</td>\n",
       "      <td>NaN</td>\n",
       "      <td>NaN</td>\n",
       "    </tr>\n",
       "    <tr>\n",
       "      <th>1991-03-20</th>\n",
       "      <td>Heat</td>\n",
       "      <td>NaN</td>\n",
       "      <td>NaN</td>\n",
       "      <td>NaN</td>\n",
       "      <td>NaN</td>\n",
       "    </tr>\n",
       "  </tbody>\n",
       "</table>\n",
       "</div>"
      ],
      "text/plain": [
       "            Heat  Fluids NSAID Antibiotic Steroid\n",
       "Admitted                                         \n",
       "1991-01-02  Heat     NaN   NaN        NaN     NaN\n",
       "1991-01-05  Heat  Fluids   NaN        NaN     NaN\n",
       "1991-02-05  Heat     NaN   NaN        NaN     NaN\n",
       "1991-03-19  Heat  Fluids   NaN        NaN     NaN\n",
       "1991-03-20  Heat     NaN   NaN        NaN     NaN"
      ]
     },
     "execution_count": 80,
     "metadata": {},
     "output_type": "execute_result"
    }
   ],
   "source": [
    "treat = data[data.treatment_e == 'yes']\n",
    "treat[['Heat', 'Fluids', 'NSAID', 'Antibiotic', 'Steroid']].head()"
   ]
  },
  {
   "cell_type": "code",
   "execution_count": 81,
   "metadata": {},
   "outputs": [
    {
     "data": {
      "text/plain": [
       "array([nan, 'Dexamethazone'], dtype=object)"
      ]
     },
     "execution_count": 81,
     "metadata": {},
     "output_type": "execute_result"
    }
   ],
   "source": [
    "treat.Steroid.unique()"
   ]
  },
  {
   "cell_type": "code",
   "execution_count": 82,
   "metadata": {},
   "outputs": [],
   "source": [
    "treat['Heat'] = treat.Heat.replace('Heat', 1).fillna(0)\n",
    "treat['Fluids'] = treat.Fluids.replace('Fluids', 1).fillna(0)\n",
    "treat['NSAID'] = treat.NSAID.replace('Meloxicam', 1).fillna(0)\n",
    "treat['Antibiotic'] = treat.Antibiotic.replace({ 'Enrofloxacin' : 1, 'Cephalexin' : 1, 'enrofloxacin' : 1, 'Psittavet':1 }).fillna(0)\n",
    "treat['Steroid'] = treat.Steroid.replace('Dexamethazone', 1).fillna(0)"
   ]
  },
  {
   "cell_type": "code",
   "execution_count": 83,
   "metadata": {},
   "outputs": [
    {
     "data": {
      "text/plain": [
       "0"
      ]
     },
     "execution_count": 83,
     "metadata": {},
     "output_type": "execute_result"
    }
   ],
   "source": [
    "treat[['Heat', 'Fluids', 'NSAID', 'Antibiotic', 'Steroid']].sum(axis = 1).isna().sum()"
   ]
  },
  {
   "cell_type": "code",
   "execution_count": null,
   "metadata": {},
   "outputs": [],
   "source": []
  },
  {
   "cell_type": "code",
   "execution_count": 84,
   "metadata": {},
   "outputs": [],
   "source": [
    "#data = pd.read_excel('C:/Users/falco/Desktop/directory/Humminbird_rescue/data/Lindsey_treatment_trauma_info_rehab_data _04_08_2019.xlsx')\n",
    "#data.columns"
   ]
  },
  {
   "cell_type": "code",
   "execution_count": 85,
   "metadata": {},
   "outputs": [
    {
     "data": {
      "text/plain": [
       "Not examined                                                                                                                                                  17\n",
       "NSF NSF                                                                                                                                                        6\n",
       "eyes open                                                                                                                                                      4\n",
       "No significant findings                                                                                                                                        4\n",
       "DOA                                                                                                                                                            3\n",
       "eyes bright                                                                                                                                                    3\n",
       "None                                                                                                                                                           3\n",
       "Tongue out                                                                                                                                                     2\n",
       "empty crop. gapes well. eyes still closed - edges of eyelids are developed                                                                                     2\n",
       "Tongue out, distal portion of tongue extremely dry (possibly dead tissue)                                                                                      1\n",
       "Prefers to keep OU shut                                                                                                                                        1\n",
       ">1cm lesion on maxilla starting at nares - pox suspect.                                                                                                        1\n",
       "Sugar contaminant around mouth                                                                                                                                 1\n",
       "Maxilla Fx, bill pointed upwards on intake, tongue sticking out                                                                                                1\n",
       "Tongue sticking out.  Bird dribbles liquid out from the sides of its gape when it drinks eyes bright but slightly sunken                                       1\n",
       "Head is swollen Eye lids swollen nearly closed left side. Slightly swollen right side.                                                                         1\n",
       "no stain uptake OU,                                                                                                                                            1\n",
       "head very swollen - possible skull fx.  eyes squinty.  ended exam at this point                                                                                1\n",
       "beak maybe injured, doesn't close all the way                                                                                                                  1\n",
       "hyperkeratosis of rostrum                                                                                                                                      1\n",
       "pollen coated at base of bill No stain uptake OU                                                                                                               1\n",
       "Spiderweb wrapped tightly around beak, covering eyes. Removed relatively easily. Flushed eyes with saline                                                      1\n",
       "lower mandible is fractured at the tip, eyes closed                                                                                                            1\n",
       "Tip of tongue extended out past beak                                                                                                                           1\n",
       "eyes receded and squinted. Beak coated in sugar water                                                                                                          1\n",
       "Sticky- finder fed sugar water                                                                                                                                 1\n",
       "large patch of feathers missing from throat (cranial aspect of thoracic inlet to mandible.).  Bruise L side of mandible                                        1\n",
       "head tilt to L OS perioccular swelling, discharge, looks like upper lid filled w/ blood                                                                        1\n",
       "Both eyes appropriately open, no blepharospasm, swelling, etc.                                                                                                 1\n",
       "1-2mm bruising lateral trachea                                                                                                                                 1\n",
       "                                                                                                                                                              ..\n",
       "Glue (?) and string attached to tongue                                                                                                                         1\n",
       "OS swollen shut.                                                                                                                                               1\n",
       "spider webs on beak                                                                                                                                            1\n",
       "sleepy eyed                                                                                                                                                    1\n",
       "Missing feathers from top of head. soft tissue above L eye swollen.                                                                                            1\n",
       "feathers on face are puffed out                                                                                                                                1\n",
       "Eyes open                                                                                                                                                      1\n",
       "Tongue protruding Squinty-eyed                                                                                                                                 1\n",
       "doesn't full open R eye                                                                                                                                        1\n",
       "Eyes quite sunken                                                                                                                                              1\n",
       "Slight pins still present at temporal lobe                                                                                                                     1\n",
       "Head trauma, laceration on skull, missing most feathers on top of head.  Tongue out by about 1/2 inch, dried, breaking.  Agonal breathing                      1\n",
       "eyes closed. Forehead, face, nares, eyelids coated with shiny, semi-flexible material - probably sugar water.                                                  1\n",
       "L eye sealed shut. Opened eyelids- eye appears to have ruptured. Ended exam at this point                                                                      1\n",
       "Missing feathers from R side of head and chin eyes bright.  Ears not swollen.  No stain uptake OU                                                              1\n",
       "Distal 4mm of tongue protruding and slightly dry. Can swallow with difficulty. Eyes mostly shut                                                                1\n",
       "tongue sticking out a little bit no stain uptake OU                                                                                                            1\n",
       "eyes closed.                                                                                                                                                   1\n",
       "Eating well                                                                                                                                                    1\n",
       "not drinking from syringe even when beak slid inside and moved up and done eyes closed                                                                         1\n",
       "Missing feathers from base of throat.  No stain uptake OU.                                                                                                     1\n",
       "Missing feathers on the back of the L side of the head                                                                                                         1\n",
       "right eye glued shut with dried blood, very swollen not sure if eye is viable                                                                                  1\n",
       "eyes shut but peeping for food weakly                                                                                                                          1\n",
       "Head droops forward, then lifts it back up Eyes closed                                                                                                         1\n",
       "Mandible broken. Pointed laterally towards left side. Ended exam here.                                                                                         1\n",
       "Eyes bright                                                                                                                                                    1\n",
       "yellow mouths. Gaping for food.  Looks like a tiny bit of liquid in crop. Eyes are closed.  Edges of eyelids are developing but definately not slits yet.      1\n",
       "nvi                                                                                                                                                            1\n",
       "growth on bottom beak, and inside mouth...Jules examined it and it came off, beak underneath looks fine just slightly off center. Maybe just junk?             1\n",
       "Name: head, Length: 143, dtype: int64"
      ]
     },
     "execution_count": 85,
     "metadata": {},
     "output_type": "execute_result"
    }
   ],
   "source": [
    "data['head'].value_counts()"
   ]
  },
  {
   "cell_type": "code",
   "execution_count": 86,
   "metadata": {},
   "outputs": [],
   "source": [
    "#treat['Head _edited'].value_counts()"
   ]
  },
  {
   "cell_type": "code",
   "execution_count": 87,
   "metadata": {},
   "outputs": [
    {
     "data": {
      "text/plain": [
       "Not examined                                                                                                                                                                                                             19\n",
       "none seen on intake                                                                                                                                                                                                       7\n",
       "No significant findings                                                                                                                                                                                                   6\n",
       "Fluffed                                                                                                                                                                                                                   4\n",
       "neuro                                                                                                                                                                                                                     3\n",
       "Obtunded                                                                                                                                                                                                                  3\n",
       "BAR                                                                                                                                                                                                                       2\n",
       "QAR                                                                                                                                                                                                                       2\n",
       "Neuro                                                                                                                                                                                                                     2\n",
       "Off balance, falls to side unless supported by wings                                                                                                                                                                      1\n",
       "Mildly obtunded--can perch and swallow normally, but does not show much initiative or normal reactivity to handling. Not sure if mild head trauma or possibly tame                                                        1\n",
       "Head thrown back. wings outspread                                                                                                                                                                                         1\n",
       "hock sitting. not flighted                                                                                                                                                                                                1\n",
       "Rump sitting. Can flap both wings but cannot get lift. Able to perch but has some initial difficulty balancing on branch.                                                                                                 1\n",
       "Not drinking. Wings splayed for balance.                                                                                                                                                                                  1\n",
       "fluffed.                                                                                                                                                                                                                  1\n",
       "Lists to the left                                                                                                                                                                                                         1\n",
       "Arrived on back in transport box.  Back arched.                                                                                                                                                                           1\n",
       "Head tick to R                                                                                                                                                                                                            1\n",
       "Agonal. Painful.                                                                                                                                                                                                          1\n",
       "Intermittent lethargy and poor balance.                                                                                                                                                                                   1\n",
       "head tilt                                                                                                                                                                                                                 1\n",
       "slightly unbalanced.                                                                                                                                                                                                      1\n",
       "ataxic, perches with wings outstretched for balance, rolls around on back                                                                                                                                                 1\n",
       "neuro worsening, holding head drastically R                                                                                                                                                                               1\n",
       "twitchy/slightly neuro?                                                                                                                                                                                                   1\n",
       "Moderately obtunded. Can grip with feet but topples off perch if placed on twig. Can sit upright.                                                                                                                         1\n",
       "none seen on intkae                                                                                                                                                                                                       1\n",
       "Moderately obtunded at intake. Perked up and began hovering in PB after 1 feeding of Nektar-Plus                                                                                                                          1\n",
       "When flaps wings falls onto back-prob due to lack of balance from R wing deficit                                                                                                                                          1\n",
       "                                                                                                                                                                                                                         ..\n",
       "not self-righting                                                                                                                                                                                                         1\n",
       "head tilt to the right                                                                                                                                                                                                    1\n",
       "No righting reflex                                                                                                                                                                                                        1\n",
       "Neuro, falling over                                                                                                                                                                                                       1\n",
       "Obtunded. Does not react much to being handled. Back legs extended caudally. Has withdrawal but will not right self or try to sit/stand/perch. Head tremor when bird is moved. Gorget feathers kept constantly flared     1\n",
       "unable to stay upright, neuro                                                                                                                                                                                             1\n",
       "Falling forward.                                                                                                                                                                                                          1\n",
       "neuro?-falls forward                                                                                                                                                                                                      1\n",
       "Not standing on intake. Lying sternal                                                                                                                                                                                     1\n",
       "falls forward                                                                                                                                                                                                             1\n",
       "neuro-ataxic, falls forward, grasps but has hard time staying on perch                                                                                                                                                    1\n",
       "Not perching/self feeding                                                                                                                                                                                                 1\n",
       "Fluffed with eyes closed at intake. After feeding, moderately to severely obtunded. Can sit upright, but becomes laterally recumbent after handling. cannot perch or fly.                                                 1\n",
       "Ataxic                                                                                                                                                                                                                    1\n",
       "Neurological - nystagmus with no improvement for a few hours. Head uncoordinated. Poor prognosis per Dr. G.                                                                                                               1\n",
       "Ataxic - cannot perch.                                                                                                                                                                                                    1\n",
       "On back in transport container.                                                                                                                                                                                           1\n",
       "agonal breathing                                                                                                                                                                                                          1\n",
       "tongue out, falling to the L, both wings outspread.                                                                                                                                                                       1\n",
       "nvi                                                                                                                                                                                                                       1\n",
       "Not flighted. Falls forward onto chest w/ butt up in the air                                                                                                                                                              1\n",
       "Fluffed.                                                                                                                                                                                                                  1\n",
       "neuro- sits with wings out, flighted but disorientated-lands after a short flight, weak grasping                                                                                                                          1\n",
       "Tilting forward. Hesitant to stand                                                                                                                                                                                        1\n",
       "Occasionally falls over onto back                                                                                                                                                                                         1\n",
       "Leans to the R                                                                                                                                                                                                            1\n",
       "Sitting like bird has a back injury                                                                                                                                                                                       1\n",
       "Sitting upright Barely responsive.  will flap wings and right self.                                                                                                                                                       1\n",
       "Not standing                                                                                                                                                                                                              1\n",
       "HL weakness                                                                                                                                                                                                               1\n",
       "Name: CNS, Length: 187, dtype: int64"
      ]
     },
     "execution_count": 87,
     "metadata": {},
     "output_type": "execute_result"
    }
   ],
   "source": [
    "data['CNS'].value_counts()"
   ]
  },
  {
   "cell_type": "code",
   "execution_count": 88,
   "metadata": {},
   "outputs": [],
   "source": [
    "#treat['breathing'].value_counts()"
   ]
  },
  {
   "cell_type": "code",
   "execution_count": 89,
   "metadata": {},
   "outputs": [],
   "source": [
    "#treat['Gastro edited'].value_counts()"
   ]
  },
  {
   "cell_type": "code",
   "execution_count": 90,
   "metadata": {},
   "outputs": [],
   "source": [
    "#treat = data[data.Treatment == 'yes']"
   ]
  },
  {
   "cell_type": "code",
   "execution_count": 91,
   "metadata": {},
   "outputs": [
    {
     "data": {
      "text/plain": [
       "Released              706\n",
       "Died +24hr            121\n",
       "Died in 24hr           84\n",
       "Euthanized +24hr       69\n",
       "Euthanized in 24hr     46\n",
       "Name: Disposition, dtype: int64"
      ]
     },
     "execution_count": 91,
     "metadata": {},
     "output_type": "execute_result"
    }
   ],
   "source": [
    "treat[treat.Age_e == 'Nestling'].Disposition.value_counts()"
   ]
  },
  {
   "cell_type": "code",
   "execution_count": 92,
   "metadata": {},
   "outputs": [
    {
     "data": {
      "text/plain": [
       "(3779, 50)"
      ]
     },
     "execution_count": 92,
     "metadata": {},
     "output_type": "execute_result"
    }
   ],
   "source": [
    "treat.shape"
   ]
  },
  {
   "cell_type": "code",
   "execution_count": 93,
   "metadata": {},
   "outputs": [],
   "source": [
    "#treat['Gastro edited'].value_counts()"
   ]
  },
  {
   "cell_type": "code",
   "execution_count": 94,
   "metadata": {},
   "outputs": [],
   "source": [
    "#treat['Head _edited'].value_counts()"
   ]
  },
  {
   "cell_type": "code",
   "execution_count": 95,
   "metadata": {},
   "outputs": [],
   "source": [
    "#treat['CNS_edited'].value_counts()"
   ]
  },
  {
   "cell_type": "code",
   "execution_count": 96,
   "metadata": {},
   "outputs": [],
   "source": [
    "#treat['Musculo edited'].value_counts()"
   ]
  },
  {
   "cell_type": "code",
   "execution_count": 97,
   "metadata": {},
   "outputs": [],
   "source": [
    "#treat['Intergument edited'].value_counts()"
   ]
  },
  {
   "cell_type": "code",
   "execution_count": 98,
   "metadata": {},
   "outputs": [],
   "source": [
    "#treat['Body Edited'].value_counts()"
   ]
  },
  {
   "cell_type": "code",
   "execution_count": 99,
   "metadata": {},
   "outputs": [],
   "source": [
    "#treat['Wings Edited'].value_counts()"
   ]
  },
  {
   "cell_type": "code",
   "execution_count": 100,
   "metadata": {},
   "outputs": [
    {
     "data": {
      "text/plain": [
       "(3779, 50)"
      ]
     },
     "execution_count": 100,
     "metadata": {},
     "output_type": "execute_result"
    }
   ],
   "source": [
    "treat.shape"
   ]
  },
  {
   "cell_type": "code",
   "execution_count": 101,
   "metadata": {},
   "outputs": [],
   "source": [
    "#treat['Breathing Edited'].value_counts()"
   ]
  },
  {
   "cell_type": "code",
   "execution_count": 102,
   "metadata": {
    "scrolled": false
   },
   "outputs": [],
   "source": [
    "#data_with_physical = data_t[(data_t['Breathing Edited'] == 'Yes') | (data_t['Wings Edited'] == 'Yes') | (data_t['Intergument edited'] == 'Yes') | \n",
    "#                          (data_t['Intergument edited'] == 'yes') | (data_t['Musculo edited'] == 'Yes') | (data_t['CNS_edited'] == 'Yes') | (data_t['Head _edited'] == 'Yes') | \n",
    "#     (data_t['Gastro edited'] == 'Yes')]"
   ]
  },
  {
   "cell_type": "code",
   "execution_count": 103,
   "metadata": {},
   "outputs": [],
   "source": [
    "#data_withOut_physical = data_t[(data_t['Breathing Edited'] == 'No') | (data_t['Wings Edited'] == 'No') | (data_t['Intergument edited'] == 'No') | \n",
    "#                          (data_t['Musculo edited'] == 'No') | (data_t['CNS_edited'] == 'No') | (data_t['Head _edited'] == 'No') | \n",
    "#                             (data_t['Gastro edited'] == 'No')]"
   ]
  },
  {
   "cell_type": "code",
   "execution_count": 104,
   "metadata": {},
   "outputs": [],
   "source": [
    "#data_On_physical = data_t[(~data_t['Breathing Edited'].isnull()) | (~data_t['Wings Edited'].isnull()) | (~data_t['Intergument edited'].isnull()) | \n",
    "#                          (~data_t['Musculo edited'].isnull()) | (~data_t['CNS_edited'].isnull()) | (~data_t['Head _edited'].isnull()) | \n",
    "#                             (~data_t['Gastro edited'].isnull())]"
   ]
  },
  {
   "cell_type": "code",
   "execution_count": 105,
   "metadata": {},
   "outputs": [],
   "source": [
    "#data_On_physical.shape"
   ]
  },
  {
   "cell_type": "code",
   "execution_count": 106,
   "metadata": {},
   "outputs": [],
   "source": [
    "#data_withOut_physical.shape"
   ]
  },
  {
   "cell_type": "code",
   "execution_count": 107,
   "metadata": {},
   "outputs": [],
   "source": [
    "#data_with_physical.shape"
   ]
  },
  {
   "cell_type": "code",
   "execution_count": 108,
   "metadata": {},
   "outputs": [
    {
     "data": {
      "text/plain": [
       "found on the ground          1799\n",
       "nest-related                  575\n",
       "caught by domestic animal     520\n",
       "window hit                    409\n",
       "unknown                       248\n",
       "found inside                  140\n",
       "suspect torpor-like state      88\n",
       "Name: r, dtype: int64"
      ]
     },
     "execution_count": 108,
     "metadata": {},
     "output_type": "execute_result"
    }
   ],
   "source": [
    "treat['r'].value_counts()"
   ]
  },
  {
   "cell_type": "code",
   "execution_count": 109,
   "metadata": {},
   "outputs": [
    {
     "data": {
      "text/plain": [
       "3779"
      ]
     },
     "execution_count": 109,
     "metadata": {},
     "output_type": "execute_result"
    }
   ],
   "source": [
    "treat['r'].value_counts().sum()"
   ]
  },
  {
   "cell_type": "code",
   "execution_count": 110,
   "metadata": {},
   "outputs": [
    {
     "data": {
      "text/plain": [
       "'unknown'"
      ]
     },
     "execution_count": 110,
     "metadata": {},
     "output_type": "execute_result"
    }
   ],
   "source": [
    "treat['r'].iloc[1]"
   ]
  },
  {
   "cell_type": "code",
   "execution_count": 111,
   "metadata": {},
   "outputs": [],
   "source": [
    "#data_t['reason_coll'] = data_t['Reason for admission _edited']"
   ]
  },
  {
   "cell_type": "code",
   "execution_count": 112,
   "metadata": {},
   "outputs": [],
   "source": [
    "def reason_outouts (c):\n",
    "    if c.reason_coll == 'hit something' or c.reason_coll == 'Window hit':\n",
    "        return 'window hit'\n",
    "    elif c.reason_coll == 'cat caught' or c.reason_coll == 'caught by domestic animal' or c.reason_coll == 'cat caught ':\n",
    "        return 'pets'\n",
    "    elif c.reason_coll == 'found on the ground' or c.reason_coll == 'Found in the pool'or c.reason_coll ==  'found on the ground ':\n",
    "        return 'found on ground'\n",
    "    elif c.reason_coll == 'Fell out of a nest' or c.reason_coll == 'found in the nest' or c.reason_coll == 'found with the nest':\n",
    "        return 'nest'\n",
    "    elif c.reason_coll == 'found inside':\n",
    "        return 'inside'\n",
    "    elif c.reason_coll == 'found outside' or c.reason_coll == 'Found at the feeder' or c.reason_coll == 'found on the fence' or c.reason_coll == 'torpor?':\n",
    "        return 'torpor'\n",
    "    elif c.reason_coll == 'unknown' or c.reason_coll == '`':\n",
    "        return 'unknown'"
   ]
  },
  {
   "cell_type": "code",
   "execution_count": 113,
   "metadata": {},
   "outputs": [
    {
     "data": {
      "text/plain": [
       "found on the ground          1799\n",
       "nest-related                  575\n",
       "caught by domestic animal     520\n",
       "window hit                    409\n",
       "unknown                       248\n",
       "found inside                  140\n",
       "suspect torpor-like state      88\n",
       "Name: r, dtype: int64"
      ]
     },
     "execution_count": 113,
     "metadata": {},
     "output_type": "execute_result"
    }
   ],
   "source": [
    "#data_t['r'] = data_t.apply(reason_outouts, axis=1)\n",
    "treat['r'].value_counts()"
   ]
  },
  {
   "cell_type": "code",
   "execution_count": 114,
   "metadata": {},
   "outputs": [
    {
     "data": {
      "text/plain": [
       "3779"
      ]
     },
     "execution_count": 114,
     "metadata": {},
     "output_type": "execute_result"
    }
   ],
   "source": [
    "treat['r'].value_counts().sum()"
   ]
  },
  {
   "cell_type": "code",
   "execution_count": 115,
   "metadata": {
    "scrolled": true
   },
   "outputs": [
    {
     "data": {
      "text/plain": [
       "['Place',\n",
       " 'Case_Year',\n",
       " 'Admitted',\n",
       " 'Found_on',\n",
       " 'Brought_in_after',\n",
       " 'City',\n",
       " 'County',\n",
       " 'Reason',\n",
       " 'Reason_edited',\n",
       " 'Reason_e',\n",
       " 'First_aid',\n",
       " 'Species',\n",
       " 'Species_e',\n",
       " 'Sex',\n",
       " 'Sex_e',\n",
       " 'Age',\n",
       " 'Age_e',\n",
       " 'G_O',\n",
       " 'Disposition',\n",
       " 'DDate',\n",
       " 'weight',\n",
       " 'BCS',\n",
       " 'attitude',\n",
       " 'dehydration',\n",
       " 'head',\n",
       " 'CNS',\n",
       " 'cardiopulmonary',\n",
       " 'GI',\n",
       " 'musculoskeletal',\n",
       " 'integument',\n",
       " 'body',\n",
       " 'forelimb',\n",
       " 'forelimb_e',\n",
       " 'hindlimb',\n",
       " 'hindlimb_e',\n",
       " 'treatment',\n",
       " 'Heat',\n",
       " 'Fluids',\n",
       " 'NSAID',\n",
       " 'Antibiotic',\n",
       " 'Steroid',\n",
       " 'treatment_e',\n",
       " 'admit_date',\n",
       " 'found_date',\n",
       " 'ID',\n",
       " 'r',\n",
       " 'Disposition_binary',\n",
       " 'F_Aid',\n",
       " 'month',\n",
       " 'season']"
      ]
     },
     "execution_count": 115,
     "metadata": {},
     "output_type": "execute_result"
    }
   ],
   "source": [
    "treat.columns.tolist()"
   ]
  },
  {
   "cell_type": "code",
   "execution_count": 116,
   "metadata": {},
   "outputs": [],
   "source": [
    "#treat['sugar_water'] = treat['Sugar Water']\n",
    "#treat['Pain_Med'] =  treat['Pain Medication(meloxicam)']"
   ]
  },
  {
   "cell_type": "code",
   "execution_count": 117,
   "metadata": {},
   "outputs": [
    {
     "data": {
      "text/plain": [
       "Admitted\n",
       "1991-01-02    Released\n",
       "1991-01-05        Died\n",
       "1991-02-05        Died\n",
       "1991-03-19        Died\n",
       "1991-03-20        Died\n",
       "Name: Disposition_binary, dtype: object"
      ]
     },
     "execution_count": 117,
     "metadata": {},
     "output_type": "execute_result"
    }
   ],
   "source": [
    "treat.Disposition_binary.head()"
   ]
  },
  {
   "cell_type": "code",
   "execution_count": 118,
   "metadata": {
    "scrolled": true
   },
   "outputs": [
    {
     "data": {
      "text/plain": [
       "['Place',\n",
       " 'Case_Year',\n",
       " 'Admitted',\n",
       " 'Found_on',\n",
       " 'Brought_in_after',\n",
       " 'City',\n",
       " 'County',\n",
       " 'Reason',\n",
       " 'Reason_edited',\n",
       " 'Reason_e',\n",
       " 'First_aid',\n",
       " 'Species',\n",
       " 'Species_e',\n",
       " 'Sex',\n",
       " 'Sex_e',\n",
       " 'Age',\n",
       " 'Age_e',\n",
       " 'G_O',\n",
       " 'Disposition',\n",
       " 'DDate',\n",
       " 'weight',\n",
       " 'BCS',\n",
       " 'attitude',\n",
       " 'dehydration',\n",
       " 'head',\n",
       " 'CNS',\n",
       " 'cardiopulmonary',\n",
       " 'GI',\n",
       " 'musculoskeletal',\n",
       " 'integument',\n",
       " 'body',\n",
       " 'forelimb',\n",
       " 'forelimb_e',\n",
       " 'hindlimb',\n",
       " 'hindlimb_e',\n",
       " 'treatment',\n",
       " 'Heat',\n",
       " 'Fluids',\n",
       " 'NSAID',\n",
       " 'Antibiotic',\n",
       " 'Steroid',\n",
       " 'treatment_e',\n",
       " 'admit_date',\n",
       " 'found_date',\n",
       " 'ID',\n",
       " 'r',\n",
       " 'Disposition_binary',\n",
       " 'F_Aid',\n",
       " 'month',\n",
       " 'season']"
      ]
     },
     "execution_count": 118,
     "metadata": {},
     "output_type": "execute_result"
    }
   ],
   "source": [
    "treat.columns.tolist()"
   ]
  },
  {
   "cell_type": "code",
   "execution_count": 119,
   "metadata": {},
   "outputs": [],
   "source": [
    "m_d = treat[['Disposition_binary', 'F_Aid', 'Species_e', 'Sex_e', 'Age_e', 'season', 'r', \n",
    "            'G_O','Heat' ,'Fluids', 'Steroid',  'NSAID', 'Antibiotic', 'treatment_e']]\n"
   ]
  },
  {
   "cell_type": "code",
   "execution_count": 120,
   "metadata": {},
   "outputs": [
    {
     "data": {
      "text/plain": [
       "Died        2152\n",
       "Released    1627\n",
       "Name: Disposition_binary, dtype: int64"
      ]
     },
     "execution_count": 120,
     "metadata": {},
     "output_type": "execute_result"
    }
   ],
   "source": [
    "treat.Disposition_binary.value_counts()"
   ]
  },
  {
   "cell_type": "code",
   "execution_count": 121,
   "metadata": {},
   "outputs": [
    {
     "data": {
      "text/plain": [
       "3779"
      ]
     },
     "execution_count": 121,
     "metadata": {},
     "output_type": "execute_result"
    }
   ],
   "source": [
    "treat.Disposition_binary.value_counts().sum()"
   ]
  },
  {
   "cell_type": "code",
   "execution_count": 122,
   "metadata": {},
   "outputs": [
    {
     "data": {
      "text/plain": [
       "(3779, 14)"
      ]
     },
     "execution_count": 122,
     "metadata": {},
     "output_type": "execute_result"
    }
   ],
   "source": [
    "m_d.shape"
   ]
  },
  {
   "cell_type": "code",
   "execution_count": 123,
   "metadata": {},
   "outputs": [
    {
     "data": {
      "text/plain": [
       "(6908, 50)"
      ]
     },
     "execution_count": 123,
     "metadata": {},
     "output_type": "execute_result"
    }
   ],
   "source": [
    "data.shape"
   ]
  },
  {
   "cell_type": "code",
   "execution_count": 124,
   "metadata": {},
   "outputs": [
    {
     "data": {
      "text/plain": [
       "No     2429\n",
       "Yes    1350\n",
       "Name: F_Aid, dtype: int64"
      ]
     },
     "execution_count": 124,
     "metadata": {},
     "output_type": "execute_result"
    }
   ],
   "source": [
    "treat.F_Aid.value_counts()"
   ]
  },
  {
   "cell_type": "code",
   "execution_count": 125,
   "metadata": {},
   "outputs": [
    {
     "data": {
      "text/plain": [
       "3779"
      ]
     },
     "execution_count": 125,
     "metadata": {},
     "output_type": "execute_result"
    }
   ],
   "source": [
    "treat.F_Aid.value_counts().sum()"
   ]
  },
  {
   "cell_type": "code",
   "execution_count": 126,
   "metadata": {},
   "outputs": [],
   "source": [
    "treat = treat[(treat.G_O == 'Non-selasphorus spp.') |(treat.G_O == 'Selasphorus spp.')]"
   ]
  },
  {
   "cell_type": "code",
   "execution_count": 127,
   "metadata": {},
   "outputs": [],
   "source": [
    "treat.to_csv('C:/Users/falco/Desktop/directory/Humminbird_rescue/data/Treatment_model_data_subset.csv')"
   ]
  },
  {
   "cell_type": "code",
   "execution_count": 128,
   "metadata": {},
   "outputs": [
    {
     "name": "stdout",
     "output_type": "stream",
     "text": [
      "0:00:32.718193\n"
     ]
    }
   ],
   "source": [
    "from datetime import datetime as dt\n",
    "end = dt.now()\n",
    "print(end-start)"
   ]
  }
 ],
 "metadata": {
  "kernelspec": {
   "display_name": "Python 3",
   "language": "python",
   "name": "python3"
  },
  "language_info": {
   "codemirror_mode": {
    "name": "ipython",
    "version": 3
   },
   "file_extension": ".py",
   "mimetype": "text/x-python",
   "name": "python",
   "nbconvert_exporter": "python",
   "pygments_lexer": "ipython3",
   "version": "3.8.3"
  },
  "toc": {
   "base_numbering": 1,
   "nav_menu": {},
   "number_sections": true,
   "sideBar": true,
   "skip_h1_title": false,
   "title_cell": "Table of Contents",
   "title_sidebar": "Contents",
   "toc_cell": false,
   "toc_position": {},
   "toc_section_display": true,
   "toc_window_display": false
  },
  "varInspector": {
   "cols": {
    "lenName": 16,
    "lenType": 16,
    "lenVar": 40
   },
   "kernels_config": {
    "python": {
     "delete_cmd_postfix": "",
     "delete_cmd_prefix": "del ",
     "library": "var_list.py",
     "varRefreshCmd": "print(var_dic_list())"
    },
    "r": {
     "delete_cmd_postfix": ") ",
     "delete_cmd_prefix": "rm(",
     "library": "var_list.r",
     "varRefreshCmd": "cat(var_dic_list()) "
    }
   },
   "types_to_exclude": [
    "module",
    "function",
    "builtin_function_or_method",
    "instance",
    "_Feature"
   ],
   "window_display": false
  }
 },
 "nbformat": 4,
 "nbformat_minor": 2
}
