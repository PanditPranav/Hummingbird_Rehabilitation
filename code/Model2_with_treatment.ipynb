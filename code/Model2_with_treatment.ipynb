{
 "cells": [
  {
   "cell_type": "code",
   "execution_count": 1,
   "metadata": {},
   "outputs": [
    {
     "name": "stderr",
     "output_type": "stream",
     "text": [
      "Warning message:\n",
      "\"package 'ggplot2' was built under R version 3.6.3\"Warning message:\n",
      "\"package 'ggthemes' was built under R version 3.6.3\"Warning message:\n",
      "\"package 'nlme' was built under R version 3.6.3\"Warning message:\n",
      "\"package 'pscl' was built under R version 3.6.3\"Classes and Methods for R developed in the\n",
      "Political Science Computational Laboratory\n",
      "Department of Political Science\n",
      "Stanford University\n",
      "Simon Jackman\n",
      "hurdle and zeroinfl functions by Achim Zeileis\n",
      "Loading required package: gridExtra\n",
      "Warning message:\n",
      "\"package 'gridExtra' was built under R version 3.6.3\"Warning message:\n",
      "\"package 'lme4' was built under R version 3.6.3\"Loading required package: Matrix\n",
      "Warning message:\n",
      "\"package 'Matrix' was built under R version 3.6.3\"\n",
      "Attaching package: 'lme4'\n",
      "\n",
      "The following object is masked from 'package:nlme':\n",
      "\n",
      "    lmList\n",
      "\n",
      "Warning message:\n",
      "\"package 'MASS' was built under R version 3.6.3\"Warning message:\n",
      "\"package 'plyr' was built under R version 3.6.3\"Warning message:\n",
      "\"package 'ggeffects' was built under R version 3.6.3\"Loading required package: GGally\n",
      "Warning message:\n",
      "\"package 'GGally' was built under R version 3.6.3\"Registered S3 method overwritten by 'GGally':\n",
      "  method from   \n",
      "  +.gg   ggplot2\n",
      "Loading required package: compiler\n",
      "Loading required package: parallel\n",
      "Loading required package: boot\n",
      "Warning message:\n",
      "\"package 'boot' was built under R version 3.6.3\"Loading required package: lattice\n",
      "Warning message:\n",
      "\"package 'lattice' was built under R version 3.6.3\"\n",
      "Attaching package: 'lattice'\n",
      "\n",
      "The following object is masked from 'package:boot':\n",
      "\n",
      "    melanoma\n",
      "\n"
     ]
    }
   ],
   "source": [
    "library(ggplot2)       ## for pretty plots generally\n",
    "## ggplot customization:\n",
    "theme_set(theme_bw())\n",
    "options(repr.plot.width=20, repr.plot.height=8)\n",
    "library(ggthemes)\n",
    "#library(foreign)\n",
    "library(nlme)\n",
    "library(pscl); library(ggplot2)\n",
    "#library(bbmle)\n",
    "#library(coefplot2)\n",
    "#library(glmmADMB)\n",
    "library(ggplot2)\n",
    "require(gridExtra)\n",
    "#install.packages(\"extrafont\")\n",
    "#library(extrafont)\n",
    "library(lme4)\n",
    "#library(glmmADMB)\n",
    "#library(MCMCglmm)\n",
    "#library(blme)\n",
    "library(MASS)          ## for glmmPQL\n",
    "library(nlme)          ## for intervals(), tundra example\n",
    "#library(coefplot2) ## coefficient plots\n",
    "#library(reshape2)\n",
    "library(plyr)\n",
    "library(ggeffects)\n",
    "require(ggplot2)\n",
    "require(GGally)\n",
    "#require(reshape2)\n",
    "require(lme4)\n",
    "require(compiler)\n",
    "require(parallel)\n",
    "require(boot)\n",
    "require(lattice)\n",
    "library(GGally)"
   ]
  },
  {
   "cell_type": "code",
   "execution_count": 2,
   "metadata": {},
   "outputs": [],
   "source": [
    "data = read.csv('C:/Users/Falco/Desktop/directory/Humminbird_rescue/data/Treatment_model_data_subset.csv')"
   ]
  },
  {
   "cell_type": "code",
   "execution_count": 3,
   "metadata": {},
   "outputs": [
    {
     "data": {
      "text/html": [
       "<table>\n",
       "<thead><tr><th scope=col>Admitted</th><th scope=col>Place</th><th scope=col>Case_Year</th><th scope=col>Admitted.1</th><th scope=col>Found_on</th><th scope=col>Brought_in_after</th><th scope=col>City</th><th scope=col>County</th><th scope=col>Reason</th><th scope=col>Reason_edited</th><th scope=col>...</th><th scope=col>Steroid</th><th scope=col>treatment_e</th><th scope=col>admit_date</th><th scope=col>found_date</th><th scope=col>ID</th><th scope=col>r</th><th scope=col>Disposition_binary</th><th scope=col>F_Aid</th><th scope=col>month</th><th scope=col>season</th></tr></thead>\n",
       "<tbody>\n",
       "\t<tr><td>1991-01-02                                 </td><td>Lindsey                                    </td><td>1991                                       </td><td>1991-01-02                                 </td><td>1991-01-02                                 </td><td>0                                          </td><td>Concord                                    </td><td>Contra Costa County                        </td><td>                                           </td><td>unknown                                    </td><td>...                                        </td><td>0                                          </td><td>yes                                        </td><td>1991-01-02                                 </td><td>1991-01-02                                 </td><td>2_ANHU                                     </td><td>unknown                                    </td><td>Released                                   </td><td>Yes                                        </td><td>1                                          </td><td>Winter                                     </td></tr>\n",
       "\t<tr><td>1991-01-05                                 </td><td>Lindsey                                    </td><td>1991                                       </td><td>1991-01-05                                 </td><td>1991-01-01                                 </td><td>4                                          </td><td>Martinez                                   </td><td>Contra Costa County                        </td><td>lethargic                                  </td><td>unknown                                    </td><td>...                                        </td><td>0                                          </td><td>yes                                        </td><td>1991-01-05                                 </td><td>1991-01-01                                 </td><td>4_ANHU                                     </td><td>unknown                                    </td><td>Died                                       </td><td>No                                         </td><td>1                                          </td><td>Winter                                     </td></tr>\n",
       "\t<tr><td>1991-02-05                                 </td><td>Lindsey                                    </td><td>1991                                       </td><td>1991-02-05                                 </td><td>1991-02-05                                 </td><td>0                                          </td><td>Martinez                                   </td><td>Contra Costa County                        </td><td>possibly stunned- also possibly  cat caught</td><td>caught by domestic animal                  </td><td>...                                        </td><td>0                                          </td><td>yes                                        </td><td>1991-02-05                                 </td><td>1991-02-05                                 </td><td>18_ANHU                                    </td><td>caught by domestic animal                  </td><td>Died                                       </td><td>No                                         </td><td>2                                          </td><td>Winter                                     </td></tr>\n",
       "\t<tr><td>1991-03-19                                 </td><td>Lindsey                                    </td><td>1991                                       </td><td>1991-03-19                                 </td><td>1991-03-19                                 </td><td>0                                          </td><td>Pleasant Hill                              </td><td>Contra Costa County                        </td><td>flew into window                           </td><td>window hit                                 </td><td>...                                        </td><td>0                                          </td><td>yes                                        </td><td>1991-03-19                                 </td><td>1991-03-19                                 </td><td>35_ANHU                                    </td><td>window hit                                 </td><td>Died                                       </td><td>No                                         </td><td>3                                          </td><td>Spring                                     </td></tr>\n",
       "\t<tr><td>1991-03-20                                 </td><td>Lindsey                                    </td><td>1991                                       </td><td>1991-03-20                                 </td><td>1991-03-20                                 </td><td>0                                          </td><td>Pleasant Hill                              </td><td>Contra Costa County                        </td><td>caught in building                         </td><td>found in the building                      </td><td>...                                        </td><td>0                                          </td><td>yes                                        </td><td>1991-03-20                                 </td><td>1991-03-20                                 </td><td>36_ANHU                                    </td><td>found inside                               </td><td>Died                                       </td><td>No                                         </td><td>3                                          </td><td>Spring                                     </td></tr>\n",
       "\t<tr><td>1991-03-21                                 </td><td>Lindsey                                    </td><td>1991                                       </td><td>1991-03-21                                 </td><td>1991-03-21                                 </td><td>0                                          </td><td>Orinda                                     </td><td>Contra Costa County                        </td><td>lying on ground                            </td><td>found on the ground                        </td><td>...                                        </td><td>0                                          </td><td>yes                                        </td><td>1991-03-21                                 </td><td>1991-03-21                                 </td><td>38_ANHU                                    </td><td>found on the ground                        </td><td>Died                                       </td><td>No                                         </td><td>3                                          </td><td>Spring                                     </td></tr>\n",
       "</tbody>\n",
       "</table>\n"
      ],
      "text/latex": [
       "\\begin{tabular}{r|lllllllllllllllllllllllllllllllllllllllllllllllllll}\n",
       " Admitted & Place & Case\\_Year & Admitted.1 & Found\\_on & Brought\\_in\\_after & City & County & Reason & Reason\\_edited & ... & Steroid & treatment\\_e & admit\\_date & found\\_date & ID & r & Disposition\\_binary & F\\_Aid & month & season\\\\\n",
       "\\hline\n",
       "\t 1991-01-02                                  & Lindsey                                     & 1991                                        & 1991-01-02                                  & 1991-01-02                                  & 0                                           & Concord                                     & Contra Costa County                         &                                             & unknown                                     & ...                                         & 0                                           & yes                                         & 1991-01-02                                  & 1991-01-02                                  & 2\\_ANHU                                    & unknown                                     & Released                                    & Yes                                         & 1                                           & Winter                                     \\\\\n",
       "\t 1991-01-05                                  & Lindsey                                     & 1991                                        & 1991-01-05                                  & 1991-01-01                                  & 4                                           & Martinez                                    & Contra Costa County                         & lethargic                                   & unknown                                     & ...                                         & 0                                           & yes                                         & 1991-01-05                                  & 1991-01-01                                  & 4\\_ANHU                                    & unknown                                     & Died                                        & No                                          & 1                                           & Winter                                     \\\\\n",
       "\t 1991-02-05                                  & Lindsey                                     & 1991                                        & 1991-02-05                                  & 1991-02-05                                  & 0                                           & Martinez                                    & Contra Costa County                         & possibly stunned- also possibly  cat caught & caught by domestic animal                   & ...                                         & 0                                           & yes                                         & 1991-02-05                                  & 1991-02-05                                  & 18\\_ANHU                                   & caught by domestic animal                   & Died                                        & No                                          & 2                                           & Winter                                     \\\\\n",
       "\t 1991-03-19                                  & Lindsey                                     & 1991                                        & 1991-03-19                                  & 1991-03-19                                  & 0                                           & Pleasant Hill                               & Contra Costa County                         & flew into window                            & window hit                                  & ...                                         & 0                                           & yes                                         & 1991-03-19                                  & 1991-03-19                                  & 35\\_ANHU                                   & window hit                                  & Died                                        & No                                          & 3                                           & Spring                                     \\\\\n",
       "\t 1991-03-20                                  & Lindsey                                     & 1991                                        & 1991-03-20                                  & 1991-03-20                                  & 0                                           & Pleasant Hill                               & Contra Costa County                         & caught in building                          & found in the building                       & ...                                         & 0                                           & yes                                         & 1991-03-20                                  & 1991-03-20                                  & 36\\_ANHU                                   & found inside                                & Died                                        & No                                          & 3                                           & Spring                                     \\\\\n",
       "\t 1991-03-21                                  & Lindsey                                     & 1991                                        & 1991-03-21                                  & 1991-03-21                                  & 0                                           & Orinda                                      & Contra Costa County                         & lying on ground                             & found on the ground                         & ...                                         & 0                                           & yes                                         & 1991-03-21                                  & 1991-03-21                                  & 38\\_ANHU                                   & found on the ground                         & Died                                        & No                                          & 3                                           & Spring                                     \\\\\n",
       "\\end{tabular}\n"
      ],
      "text/markdown": [
       "\n",
       "| Admitted | Place | Case_Year | Admitted.1 | Found_on | Brought_in_after | City | County | Reason | Reason_edited | ... | Steroid | treatment_e | admit_date | found_date | ID | r | Disposition_binary | F_Aid | month | season |\n",
       "|---|---|---|---|---|---|---|---|---|---|---|---|---|---|---|---|---|---|---|---|---|\n",
       "| 1991-01-02                                  | Lindsey                                     | 1991                                        | 1991-01-02                                  | 1991-01-02                                  | 0                                           | Concord                                     | Contra Costa County                         |                                             | unknown                                     | ...                                         | 0                                           | yes                                         | 1991-01-02                                  | 1991-01-02                                  | 2_ANHU                                      | unknown                                     | Released                                    | Yes                                         | 1                                           | Winter                                      |\n",
       "| 1991-01-05                                  | Lindsey                                     | 1991                                        | 1991-01-05                                  | 1991-01-01                                  | 4                                           | Martinez                                    | Contra Costa County                         | lethargic                                   | unknown                                     | ...                                         | 0                                           | yes                                         | 1991-01-05                                  | 1991-01-01                                  | 4_ANHU                                      | unknown                                     | Died                                        | No                                          | 1                                           | Winter                                      |\n",
       "| 1991-02-05                                  | Lindsey                                     | 1991                                        | 1991-02-05                                  | 1991-02-05                                  | 0                                           | Martinez                                    | Contra Costa County                         | possibly stunned- also possibly  cat caught | caught by domestic animal                   | ...                                         | 0                                           | yes                                         | 1991-02-05                                  | 1991-02-05                                  | 18_ANHU                                     | caught by domestic animal                   | Died                                        | No                                          | 2                                           | Winter                                      |\n",
       "| 1991-03-19                                  | Lindsey                                     | 1991                                        | 1991-03-19                                  | 1991-03-19                                  | 0                                           | Pleasant Hill                               | Contra Costa County                         | flew into window                            | window hit                                  | ...                                         | 0                                           | yes                                         | 1991-03-19                                  | 1991-03-19                                  | 35_ANHU                                     | window hit                                  | Died                                        | No                                          | 3                                           | Spring                                      |\n",
       "| 1991-03-20                                  | Lindsey                                     | 1991                                        | 1991-03-20                                  | 1991-03-20                                  | 0                                           | Pleasant Hill                               | Contra Costa County                         | caught in building                          | found in the building                       | ...                                         | 0                                           | yes                                         | 1991-03-20                                  | 1991-03-20                                  | 36_ANHU                                     | found inside                                | Died                                        | No                                          | 3                                           | Spring                                      |\n",
       "| 1991-03-21                                  | Lindsey                                     | 1991                                        | 1991-03-21                                  | 1991-03-21                                  | 0                                           | Orinda                                      | Contra Costa County                         | lying on ground                             | found on the ground                         | ...                                         | 0                                           | yes                                         | 1991-03-21                                  | 1991-03-21                                  | 38_ANHU                                     | found on the ground                         | Died                                        | No                                          | 3                                           | Spring                                      |\n",
       "\n"
      ],
      "text/plain": [
       "  Admitted   Place   Case_Year Admitted.1 Found_on   Brought_in_after\n",
       "1 1991-01-02 Lindsey 1991      1991-01-02 1991-01-02 0               \n",
       "2 1991-01-05 Lindsey 1991      1991-01-05 1991-01-01 4               \n",
       "3 1991-02-05 Lindsey 1991      1991-02-05 1991-02-05 0               \n",
       "4 1991-03-19 Lindsey 1991      1991-03-19 1991-03-19 0               \n",
       "5 1991-03-20 Lindsey 1991      1991-03-20 1991-03-20 0               \n",
       "6 1991-03-21 Lindsey 1991      1991-03-21 1991-03-21 0               \n",
       "  City          County              Reason                                     \n",
       "1 Concord       Contra Costa County                                            \n",
       "2 Martinez      Contra Costa County lethargic                                  \n",
       "3 Martinez      Contra Costa County possibly stunned- also possibly  cat caught\n",
       "4 Pleasant Hill Contra Costa County flew into window                           \n",
       "5 Pleasant Hill Contra Costa County caught in building                         \n",
       "6 Orinda        Contra Costa County lying on ground                            \n",
       "  Reason_edited             ... Steroid treatment_e admit_date found_date\n",
       "1 unknown                   ... 0       yes         1991-01-02 1991-01-02\n",
       "2 unknown                   ... 0       yes         1991-01-05 1991-01-01\n",
       "3 caught by domestic animal ... 0       yes         1991-02-05 1991-02-05\n",
       "4 window hit                ... 0       yes         1991-03-19 1991-03-19\n",
       "5 found in the building     ... 0       yes         1991-03-20 1991-03-20\n",
       "6 found on the ground       ... 0       yes         1991-03-21 1991-03-21\n",
       "  ID      r                         Disposition_binary F_Aid month season\n",
       "1 2_ANHU  unknown                   Released           Yes   1     Winter\n",
       "2 4_ANHU  unknown                   Died               No    1     Winter\n",
       "3 18_ANHU caught by domestic animal Died               No    2     Winter\n",
       "4 35_ANHU window hit                Died               No    3     Spring\n",
       "5 36_ANHU found inside              Died               No    3     Spring\n",
       "6 38_ANHU found on the ground       Died               No    3     Spring"
      ]
     },
     "metadata": {},
     "output_type": "display_data"
    }
   ],
   "source": [
    "head(data)"
   ]
  },
  {
   "cell_type": "code",
   "execution_count": 4,
   "metadata": {},
   "outputs": [
    {
     "data": {
      "text/plain": [
       "\n",
       "  Fall Spring Summer Winter \n",
       "   333   1763   1067    616 "
      ]
     },
     "metadata": {},
     "output_type": "display_data"
    }
   ],
   "source": [
    "table(data$season)"
   ]
  },
  {
   "cell_type": "code",
   "execution_count": 5,
   "metadata": {},
   "outputs": [
    {
     "data": {
      "text/plain": [
       "\n",
       "ALHU ANHU BCHU COHU RUHU \n",
       " 233 3456   31    5   54 "
      ]
     },
     "metadata": {},
     "output_type": "display_data"
    }
   ],
   "source": [
    "table(data$Species)"
   ]
  },
  {
   "cell_type": "code",
   "execution_count": 6,
   "metadata": {},
   "outputs": [
    {
     "data": {
      "text/plain": [
       "\n",
       "Non-selasphorus spp.     Selasphorus spp. \n",
       "                3492                  287 "
      ]
     },
     "metadata": {},
     "output_type": "display_data"
    }
   ],
   "source": [
    "table(data$G_O)"
   ]
  },
  {
   "cell_type": "markdown",
   "metadata": {},
   "source": [
    "data <- within(data, {\n",
    "  Disposition_binary <- factor(Disposition_binary, levels = 0:1, labels = c(\"Released\", \"Died\"))\n",
    "    Place <- factor(Place)\n",
    "    F_Aid <- factor(F_Aid, levels = 0:1, labels = c(\"No\", \"Yes\"))\n",
    "    Sex <- factor(Sex)\n",
    "    Age <- factor(Age)\n",
    "    season <- factor(season)\n",
    "    Species <- factor(Species)\n",
    "    \n",
    "})"
   ]
  },
  {
   "cell_type": "code",
   "execution_count": 7,
   "metadata": {},
   "outputs": [
    {
     "data": {
      "text/html": [
       "<ol class=list-inline>\n",
       "\t<li>'Admitted'</li>\n",
       "\t<li>'Place'</li>\n",
       "\t<li>'Case_Year'</li>\n",
       "\t<li>'Admitted.1'</li>\n",
       "\t<li>'Found_on'</li>\n",
       "\t<li>'Brought_in_after'</li>\n",
       "\t<li>'City'</li>\n",
       "\t<li>'County'</li>\n",
       "\t<li>'Reason'</li>\n",
       "\t<li>'Reason_edited'</li>\n",
       "\t<li>'Reason_e'</li>\n",
       "\t<li>'First_aid'</li>\n",
       "\t<li>'Species'</li>\n",
       "\t<li>'Species_e'</li>\n",
       "\t<li>'Sex'</li>\n",
       "\t<li>'Sex_e'</li>\n",
       "\t<li>'Age'</li>\n",
       "\t<li>'Age_e'</li>\n",
       "\t<li>'G_O'</li>\n",
       "\t<li>'Disposition'</li>\n",
       "\t<li>'DDate'</li>\n",
       "\t<li>'weight'</li>\n",
       "\t<li>'BCS'</li>\n",
       "\t<li>'attitude'</li>\n",
       "\t<li>'dehydration'</li>\n",
       "\t<li>'head'</li>\n",
       "\t<li>'CNS'</li>\n",
       "\t<li>'cardiopulmonary'</li>\n",
       "\t<li>'GI'</li>\n",
       "\t<li>'musculoskeletal'</li>\n",
       "\t<li>'integument'</li>\n",
       "\t<li>'body'</li>\n",
       "\t<li>'forelimb'</li>\n",
       "\t<li>'forelimb_e'</li>\n",
       "\t<li>'hindlimb'</li>\n",
       "\t<li>'hindlimb_e'</li>\n",
       "\t<li>'treatment'</li>\n",
       "\t<li>'Heat'</li>\n",
       "\t<li>'Fluids'</li>\n",
       "\t<li>'NSAID'</li>\n",
       "\t<li>'Antibiotic'</li>\n",
       "\t<li>'Steroid'</li>\n",
       "\t<li>'treatment_e'</li>\n",
       "\t<li>'admit_date'</li>\n",
       "\t<li>'found_date'</li>\n",
       "\t<li>'ID'</li>\n",
       "\t<li>'r'</li>\n",
       "\t<li>'Disposition_binary'</li>\n",
       "\t<li>'F_Aid'</li>\n",
       "\t<li>'month'</li>\n",
       "\t<li>'season'</li>\n",
       "</ol>\n"
      ],
      "text/latex": [
       "\\begin{enumerate*}\n",
       "\\item 'Admitted'\n",
       "\\item 'Place'\n",
       "\\item 'Case\\_Year'\n",
       "\\item 'Admitted.1'\n",
       "\\item 'Found\\_on'\n",
       "\\item 'Brought\\_in\\_after'\n",
       "\\item 'City'\n",
       "\\item 'County'\n",
       "\\item 'Reason'\n",
       "\\item 'Reason\\_edited'\n",
       "\\item 'Reason\\_e'\n",
       "\\item 'First\\_aid'\n",
       "\\item 'Species'\n",
       "\\item 'Species\\_e'\n",
       "\\item 'Sex'\n",
       "\\item 'Sex\\_e'\n",
       "\\item 'Age'\n",
       "\\item 'Age\\_e'\n",
       "\\item 'G\\_O'\n",
       "\\item 'Disposition'\n",
       "\\item 'DDate'\n",
       "\\item 'weight'\n",
       "\\item 'BCS'\n",
       "\\item 'attitude'\n",
       "\\item 'dehydration'\n",
       "\\item 'head'\n",
       "\\item 'CNS'\n",
       "\\item 'cardiopulmonary'\n",
       "\\item 'GI'\n",
       "\\item 'musculoskeletal'\n",
       "\\item 'integument'\n",
       "\\item 'body'\n",
       "\\item 'forelimb'\n",
       "\\item 'forelimb\\_e'\n",
       "\\item 'hindlimb'\n",
       "\\item 'hindlimb\\_e'\n",
       "\\item 'treatment'\n",
       "\\item 'Heat'\n",
       "\\item 'Fluids'\n",
       "\\item 'NSAID'\n",
       "\\item 'Antibiotic'\n",
       "\\item 'Steroid'\n",
       "\\item 'treatment\\_e'\n",
       "\\item 'admit\\_date'\n",
       "\\item 'found\\_date'\n",
       "\\item 'ID'\n",
       "\\item 'r'\n",
       "\\item 'Disposition\\_binary'\n",
       "\\item 'F\\_Aid'\n",
       "\\item 'month'\n",
       "\\item 'season'\n",
       "\\end{enumerate*}\n"
      ],
      "text/markdown": [
       "1. 'Admitted'\n",
       "2. 'Place'\n",
       "3. 'Case_Year'\n",
       "4. 'Admitted.1'\n",
       "5. 'Found_on'\n",
       "6. 'Brought_in_after'\n",
       "7. 'City'\n",
       "8. 'County'\n",
       "9. 'Reason'\n",
       "10. 'Reason_edited'\n",
       "11. 'Reason_e'\n",
       "12. 'First_aid'\n",
       "13. 'Species'\n",
       "14. 'Species_e'\n",
       "15. 'Sex'\n",
       "16. 'Sex_e'\n",
       "17. 'Age'\n",
       "18. 'Age_e'\n",
       "19. 'G_O'\n",
       "20. 'Disposition'\n",
       "21. 'DDate'\n",
       "22. 'weight'\n",
       "23. 'BCS'\n",
       "24. 'attitude'\n",
       "25. 'dehydration'\n",
       "26. 'head'\n",
       "27. 'CNS'\n",
       "28. 'cardiopulmonary'\n",
       "29. 'GI'\n",
       "30. 'musculoskeletal'\n",
       "31. 'integument'\n",
       "32. 'body'\n",
       "33. 'forelimb'\n",
       "34. 'forelimb_e'\n",
       "35. 'hindlimb'\n",
       "36. 'hindlimb_e'\n",
       "37. 'treatment'\n",
       "38. 'Heat'\n",
       "39. 'Fluids'\n",
       "40. 'NSAID'\n",
       "41. 'Antibiotic'\n",
       "42. 'Steroid'\n",
       "43. 'treatment_e'\n",
       "44. 'admit_date'\n",
       "45. 'found_date'\n",
       "46. 'ID'\n",
       "47. 'r'\n",
       "48. 'Disposition_binary'\n",
       "49. 'F_Aid'\n",
       "50. 'month'\n",
       "51. 'season'\n",
       "\n",
       "\n"
      ],
      "text/plain": [
       " [1] \"Admitted\"           \"Place\"              \"Case_Year\"         \n",
       " [4] \"Admitted.1\"         \"Found_on\"           \"Brought_in_after\"  \n",
       " [7] \"City\"               \"County\"             \"Reason\"            \n",
       "[10] \"Reason_edited\"      \"Reason_e\"           \"First_aid\"         \n",
       "[13] \"Species\"            \"Species_e\"          \"Sex\"               \n",
       "[16] \"Sex_e\"              \"Age\"                \"Age_e\"             \n",
       "[19] \"G_O\"                \"Disposition\"        \"DDate\"             \n",
       "[22] \"weight\"             \"BCS\"                \"attitude\"          \n",
       "[25] \"dehydration\"        \"head\"               \"CNS\"               \n",
       "[28] \"cardiopulmonary\"    \"GI\"                 \"musculoskeletal\"   \n",
       "[31] \"integument\"         \"body\"               \"forelimb\"          \n",
       "[34] \"forelimb_e\"         \"hindlimb\"           \"hindlimb_e\"        \n",
       "[37] \"treatment\"          \"Heat\"               \"Fluids\"            \n",
       "[40] \"NSAID\"              \"Antibiotic\"         \"Steroid\"           \n",
       "[43] \"treatment_e\"        \"admit_date\"         \"found_date\"        \n",
       "[46] \"ID\"                 \"r\"                  \"Disposition_binary\"\n",
       "[49] \"F_Aid\"              \"month\"              \"season\"            "
      ]
     },
     "metadata": {},
     "output_type": "display_data"
    }
   ],
   "source": [
    "names(data)"
   ]
  },
  {
   "cell_type": "code",
   "execution_count": 8,
   "metadata": {},
   "outputs": [
    {
     "data": {
      "text/html": [
       "<ol class=list-inline>\n",
       "\t<li>'Died'</li>\n",
       "\t<li>'Released'</li>\n",
       "</ol>\n"
      ],
      "text/latex": [
       "\\begin{enumerate*}\n",
       "\\item 'Died'\n",
       "\\item 'Released'\n",
       "\\end{enumerate*}\n"
      ],
      "text/markdown": [
       "1. 'Died'\n",
       "2. 'Released'\n",
       "\n",
       "\n"
      ],
      "text/plain": [
       "[1] \"Died\"     \"Released\""
      ]
     },
     "metadata": {},
     "output_type": "display_data"
    }
   ],
   "source": [
    "levels(data$Disposition_binary)"
   ]
  },
  {
   "cell_type": "code",
   "execution_count": 9,
   "metadata": {},
   "outputs": [
    {
     "data": {
      "text/plain": [
       "\n",
       "    Died Released \n",
       "    2152     1627 "
      ]
     },
     "metadata": {},
     "output_type": "display_data"
    }
   ],
   "source": [
    "table(data$Disposition_binary)"
   ]
  },
  {
   "cell_type": "code",
   "execution_count": 10,
   "metadata": {},
   "outputs": [
    {
     "data": {
      "text/plain": [
       "\n",
       "   0    1 \n",
       "2152 1627 "
      ]
     },
     "metadata": {},
     "output_type": "display_data"
    }
   ],
   "source": [
    "data$Disposition<- ifelse(data$Disposition_binary == 'Died', 0, 1) \n",
    "table(data$Disposition)"
   ]
  },
  {
   "cell_type": "code",
   "execution_count": 11,
   "metadata": {},
   "outputs": [
    {
     "data": {
      "text/html": [
       "<ol class=list-inline>\n",
       "\t<li>unknown</li>\n",
       "\t<li>caught by domestic animal</li>\n",
       "\t<li>window hit</li>\n",
       "\t<li>found inside</li>\n",
       "\t<li>found on the ground</li>\n",
       "\t<li>nest-related</li>\n",
       "\t<li>suspect torpor-like state</li>\n",
       "</ol>\n",
       "\n",
       "<details>\n",
       "\t<summary style=display:list-item;cursor:pointer>\n",
       "\t\t<strong>Levels</strong>:\n",
       "\t</summary>\n",
       "\t<ol class=list-inline>\n",
       "\t\t<li>'caught by domestic animal'</li>\n",
       "\t\t<li>'found inside'</li>\n",
       "\t\t<li>'found on the ground'</li>\n",
       "\t\t<li>'nest-related'</li>\n",
       "\t\t<li>'suspect torpor-like state'</li>\n",
       "\t\t<li>'unknown'</li>\n",
       "\t\t<li>'window hit'</li>\n",
       "\t</ol>\n",
       "</details>"
      ],
      "text/latex": [
       "\\begin{enumerate*}\n",
       "\\item unknown\n",
       "\\item caught by domestic animal\n",
       "\\item window hit\n",
       "\\item found inside\n",
       "\\item found on the ground\n",
       "\\item nest-related\n",
       "\\item suspect torpor-like state\n",
       "\\end{enumerate*}\n",
       "\n",
       "\\emph{Levels}: \\begin{enumerate*}\n",
       "\\item 'caught by domestic animal'\n",
       "\\item 'found inside'\n",
       "\\item 'found on the ground'\n",
       "\\item 'nest-related'\n",
       "\\item 'suspect torpor-like state'\n",
       "\\item 'unknown'\n",
       "\\item 'window hit'\n",
       "\\end{enumerate*}\n"
      ],
      "text/markdown": [
       "1. unknown\n",
       "2. caught by domestic animal\n",
       "3. window hit\n",
       "4. found inside\n",
       "5. found on the ground\n",
       "6. nest-related\n",
       "7. suspect torpor-like state\n",
       "\n",
       "\n",
       "\n",
       "**Levels**: 1. 'caught by domestic animal'\n",
       "2. 'found inside'\n",
       "3. 'found on the ground'\n",
       "4. 'nest-related'\n",
       "5. 'suspect torpor-like state'\n",
       "6. 'unknown'\n",
       "7. 'window hit'\n",
       "\n",
       "\n"
      ],
      "text/plain": [
       "[1] unknown                   caught by domestic animal\n",
       "[3] window hit                found inside             \n",
       "[5] found on the ground       nest-related             \n",
       "[7] suspect torpor-like state\n",
       "7 Levels: caught by domestic animal found inside ... window hit"
      ]
     },
     "metadata": {},
     "output_type": "display_data"
    }
   ],
   "source": [
    "unique(data$r)"
   ]
  },
  {
   "cell_type": "code",
   "execution_count": 12,
   "metadata": {},
   "outputs": [
    {
     "data": {
      "text/html": [
       "<ol class=list-inline>\n",
       "\t<li>Female-like </li>\n",
       "\t<li>unknown</li>\n",
       "\t<li>Male</li>\n",
       "</ol>\n",
       "\n",
       "<details>\n",
       "\t<summary style=display:list-item;cursor:pointer>\n",
       "\t\t<strong>Levels</strong>:\n",
       "\t</summary>\n",
       "\t<ol class=list-inline>\n",
       "\t\t<li>'Female-like '</li>\n",
       "\t\t<li>'Male'</li>\n",
       "\t\t<li>'unknown'</li>\n",
       "\t</ol>\n",
       "</details>"
      ],
      "text/latex": [
       "\\begin{enumerate*}\n",
       "\\item Female-like \n",
       "\\item unknown\n",
       "\\item Male\n",
       "\\end{enumerate*}\n",
       "\n",
       "\\emph{Levels}: \\begin{enumerate*}\n",
       "\\item 'Female-like '\n",
       "\\item 'Male'\n",
       "\\item 'unknown'\n",
       "\\end{enumerate*}\n"
      ],
      "text/markdown": [
       "1. Female-like \n",
       "2. unknown\n",
       "3. Male\n",
       "\n",
       "\n",
       "\n",
       "**Levels**: 1. 'Female-like '\n",
       "2. 'Male'\n",
       "3. 'unknown'\n",
       "\n",
       "\n"
      ],
      "text/plain": [
       "[1] Female-like  unknown      Male        \n",
       "Levels: Female-like  Male unknown"
      ]
     },
     "metadata": {},
     "output_type": "display_data"
    }
   ],
   "source": [
    "unique(data$Sex_e)"
   ]
  },
  {
   "cell_type": "code",
   "execution_count": 13,
   "metadata": {},
   "outputs": [
    {
     "name": "stdout",
     "output_type": "stream",
     "text": [
      " Factor w/ 3 levels \"unknown\",\"Female-like \",..: 2 2 2 2 2 2 2 2 2 2 ...\n"
     ]
    }
   ],
   "source": [
    "data$Sex_e <- factor(data$Sex_e, levels = c(\"unknown\", \"Female-like \", \"Male\"))\n",
    "str(data$Sex_e)"
   ]
  },
  {
   "cell_type": "code",
   "execution_count": 14,
   "metadata": {},
   "outputs": [
    {
     "name": "stdout",
     "output_type": "stream",
     "text": [
      " Factor w/ 7 levels \"unknown\",\"caught by domestic animal\",..: 1 1 2 3 4 5 5 6 5 5 ...\n"
     ]
    }
   ],
   "source": [
    "data$r <- factor(data$r, levels = c(\"unknown\", \"caught by domestic animal\", \"window hit\", \"found inside\",  \"found on the ground\", \"nest-related\", \"suspect torpor-like state\"))\n",
    "str(data$r)"
   ]
  },
  {
   "cell_type": "code",
   "execution_count": 15,
   "metadata": {},
   "outputs": [],
   "source": [
    "data$r = relevel(data$r, ref=1)"
   ]
  },
  {
   "cell_type": "code",
   "execution_count": 16,
   "metadata": {},
   "outputs": [
    {
     "name": "stdout",
     "output_type": "stream",
     "text": [
      " Factor w/ 7 levels \"unknown\",\"caught by domestic animal\",..: 1 1 2 3 4 5 5 6 5 5 ...\n"
     ]
    }
   ],
   "source": [
    "str(data$r)"
   ]
  },
  {
   "cell_type": "code",
   "execution_count": 17,
   "metadata": {},
   "outputs": [],
   "source": [
    "#data$Sex_e = relevel(data$Sex_e, ref=2)\n",
    "#str(data$Sex_e)"
   ]
  },
  {
   "cell_type": "code",
   "execution_count": 18,
   "metadata": {},
   "outputs": [
    {
     "data": {
      "text/plain": [
       "\n",
       "                  unknown caught by domestic animal                window hit \n",
       "                      248                       520                       409 \n",
       "             found inside       found on the ground              nest-related \n",
       "                      140                      1799                       575 \n",
       "suspect torpor-like state \n",
       "                       88 "
      ]
     },
     "metadata": {},
     "output_type": "display_data"
    }
   ],
   "source": [
    "table(data$r)"
   ]
  },
  {
   "cell_type": "markdown",
   "metadata": {},
   "source": [
    "## GlmmTMB"
   ]
  },
  {
   "cell_type": "code",
   "execution_count": 19,
   "metadata": {},
   "outputs": [
    {
     "name": "stderr",
     "output_type": "stream",
     "text": [
      "Warning message:\n",
      "\"package 'glmmTMB' was built under R version 3.6.3\"Warning message:\n",
      "\"package 'oddsratio' was built under R version 3.6.3\"Warning message:\n",
      "\"package 'sjPlot' was built under R version 3.6.3\""
     ]
    }
   ],
   "source": [
    "library(glmmTMB)\n",
    "library(oddsratio)\n",
    "library(sjPlot)"
   ]
  },
  {
   "cell_type": "code",
   "execution_count": 20,
   "metadata": {},
   "outputs": [
    {
     "name": "stderr",
     "output_type": "stream",
     "text": [
      "Warning message in fitTMB(TMBStruc):\n",
      "\"Model convergence problem; non-positive-definite Hessian matrix. See vignette('troubleshooting')\""
     ]
    }
   ],
   "source": [
    "m4_ref2 <- glmmTMB(Disposition_binary ~ Age_e + season +  r +\n",
    "            (1|G_O)+ (1 | Sex_e), family=\"binomial\", data)\n",
    "\n",
    "model_inter_season_ref2 <- glmmTMB(Disposition_binary ~ Age_e +  \n",
    "                + season + r +Age_e*season +(1|G_O)+ (1 | Sex_e), \n",
    "                family=\"binomial\", data)"
   ]
  },
  {
   "cell_type": "code",
   "execution_count": 21,
   "metadata": {
    "scrolled": true
   },
   "outputs": [
    {
     "data": {
      "text/html": [
       "<table>\n",
       "<thead><tr><th></th><th scope=col>Df</th><th scope=col>AIC</th><th scope=col>BIC</th><th scope=col>logLik</th><th scope=col>deviance</th><th scope=col>Chisq</th><th scope=col>Chi Df</th><th scope=col>Pr(&gt;Chisq)</th></tr></thead>\n",
       "<tbody>\n",
       "\t<tr><th scope=row>m4_ref2</th><td>13       </td><td>4700.925 </td><td>4782.009 </td><td>-2337.462</td><td>4674.925 </td><td>NA       </td><td>NA       </td><td>NA       </td></tr>\n",
       "\t<tr><th scope=row>model_inter_season_ref2</th><td>16       </td><td>      NA </td><td>      NA </td><td>       NA</td><td>      NA </td><td>NA       </td><td> 3       </td><td>NA       </td></tr>\n",
       "</tbody>\n",
       "</table>\n"
      ],
      "text/latex": [
       "\\begin{tabular}{r|llllllll}\n",
       "  & Df & AIC & BIC & logLik & deviance & Chisq & Chi Df & Pr(>Chisq)\\\\\n",
       "\\hline\n",
       "\tm4\\_ref2 & 13        & 4700.925  & 4782.009  & -2337.462 & 4674.925  & NA        & NA        & NA       \\\\\n",
       "\tmodel\\_inter\\_season\\_ref2 & 16        &       NA  &       NA  &        NA &       NA  & NA        &  3        & NA       \\\\\n",
       "\\end{tabular}\n"
      ],
      "text/markdown": [
       "\n",
       "| <!--/--> | Df | AIC | BIC | logLik | deviance | Chisq | Chi Df | Pr(>Chisq) |\n",
       "|---|---|---|---|---|---|---|---|---|\n",
       "| m4_ref2 | 13        | 4700.925  | 4782.009  | -2337.462 | 4674.925  | NA        | NA        | NA        |\n",
       "| model_inter_season_ref2 | 16        |       NA  |       NA  |        NA |       NA  | NA        |  3        | NA        |\n",
       "\n"
      ],
      "text/plain": [
       "                        Df AIC      BIC      logLik    deviance Chisq Chi Df\n",
       "m4_ref2                 13 4700.925 4782.009 -2337.462 4674.925 NA    NA    \n",
       "model_inter_season_ref2 16       NA       NA        NA       NA NA     3    \n",
       "                        Pr(>Chisq)\n",
       "m4_ref2                 NA        \n",
       "model_inter_season_ref2 NA        "
      ]
     },
     "metadata": {},
     "output_type": "display_data"
    }
   ],
   "source": [
    "anova(m4_ref2, model_inter_season_ref2)"
   ]
  },
  {
   "cell_type": "code",
   "execution_count": 22,
   "metadata": {},
   "outputs": [
    {
     "name": "stderr",
     "output_type": "stream",
     "text": [
      "Warning message:\n",
      "\"Transformation introduced infinite values in continuous y-axis\"Warning message:\n",
      "\"Removed 23 rows containing missing values (geom_point).\""
     ]
    },
    {
     "data": {
      "image/png": "[encoded data removed]",
      "text/plain": [
       "plot without title"
      ]
     },
     "metadata": {},
     "output_type": "display_data"
    }
   ],
   "source": [
    "options(repr.plot.width=10, repr.plot.height=5)\n",
    "plot_models(model_inter_season_ref2, m4_ref2,  grid = TRUE)"
   ]
  },
  {
   "cell_type": "code",
   "execution_count": 23,
   "metadata": {},
   "outputs": [
    {
     "data": {
      "image/png": "[encoded data removed]",
      "text/plain": [
       "plot without title"
      ]
     },
     "metadata": {},
     "output_type": "display_data"
    }
   ],
   "source": [
    "options(repr.plot.width=5, repr.plot.height=5)\n",
    "plot_models(m4_ref2,  grid = TRUE)"
   ]
  },
  {
   "cell_type": "code",
   "execution_count": 24,
   "metadata": {},
   "outputs": [],
   "source": [
    "tab_model(m4_ref2, model_inter_season_ref2)"
   ]
  },
  {
   "cell_type": "code",
   "execution_count": 25,
   "metadata": {},
   "outputs": [],
   "source": [
    "m5_ref2 <- glmmTMB(Disposition_binary ~ Age_e + season +  r +\n",
    "                   Heat+ (1|G_O)+ (1 | Sex_e), family=\"binomial\", data)\n",
    "m6_ref2 <- glmmTMB(Disposition_binary ~ Age_e + season +  r +\n",
    "                   Heat + Fluids + (1|G_O)+ (1 | Sex_e), family=\"binomial\", data)\n",
    "m7_ref2 <- glmmTMB(Disposition_binary ~ Age_e + season +  r +\n",
    "                   Heat + Fluids + Steroid +(1|G_O)+ (1 | Sex_e), family=\"binomial\", data)\n",
    "m8_ref2 <- glmmTMB(Disposition_binary ~ Age_e + season +  r +\n",
    "                   Heat + Fluids + Steroid + +NSAID + (1|G_O)+ (1 | Sex_e), family=\"binomial\", data)\n"
   ]
  },
  {
   "cell_type": "code",
   "execution_count": 20,
   "metadata": {},
   "outputs": [],
   "source": [
    "m9_ref2 <- glmmTMB(Disposition_binary ~ Age_e + season +  r +\n",
    "                   Heat + Fluids + Steroid + NSAID + Antibiotic+ (1|G_O)+ (1 | Sex_e), family=\"binomial\", data)"
   ]
  },
  {
   "cell_type": "code",
   "execution_count": 21,
   "metadata": {},
   "outputs": [
    {
     "data": {
      "text/plain": [
       "\n",
       "                  unknown caught by domestic animal                window hit \n",
       "                      248                       520                       409 \n",
       "             found inside       found on the ground              nest-related \n",
       "                      140                      1799                       575 \n",
       "suspect torpor-like state \n",
       "                       88 "
      ]
     },
     "metadata": {},
     "output_type": "display_data"
    }
   ],
   "source": [
    "table(data$r)"
   ]
  },
  {
   "cell_type": "code",
   "execution_count": 22,
   "metadata": {},
   "outputs": [
    {
     "data": {
      "text/html": [
       "3779"
      ],
      "text/latex": [
       "3779"
      ],
      "text/markdown": [
       "3779"
      ],
      "text/plain": [
       "[1] 3779"
      ]
     },
     "metadata": {},
     "output_type": "display_data"
    }
   ],
   "source": [
    "length(unique(data$ID))"
   ]
  },
  {
   "cell_type": "code",
   "execution_count": 23,
   "metadata": {},
   "outputs": [
    {
     "ename": "ERROR",
     "evalue": "Error in anova(m4_ref2, m5_ref2, m6_ref2, m7_ref2, m8_ref2, m9_ref2): object 'm4_ref2' not found\n",
     "output_type": "error",
     "traceback": [
      "Error in anova(m4_ref2, m5_ref2, m6_ref2, m7_ref2, m8_ref2, m9_ref2): object 'm4_ref2' not found\nTraceback:\n",
      "1. anova(m4_ref2, m5_ref2, m6_ref2, m7_ref2, m8_ref2, m9_ref2)"
     ]
    }
   ],
   "source": [
    "anova(m4_ref2, m5_ref2, m6_ref2, m7_ref2, m8_ref2, m9_ref2)"
   ]
  },
  {
   "cell_type": "code",
   "execution_count": 30,
   "metadata": {},
   "outputs": [],
   "source": [
    "tab_model(m4_ref2, m5_ref2, m6_ref2, m7_ref2, m8_ref2, m9_ref2)"
   ]
  },
  {
   "cell_type": "code",
   "execution_count": 31,
   "metadata": {},
   "outputs": [
    {
     "data": {
      "image/png": "[encoded data removed]",
      "text/plain": [
       "plot without title"
      ]
     },
     "metadata": {},
     "output_type": "display_data"
    }
   ],
   "source": [
    "options(repr.plot.width=30, repr.plot.height=5)\n",
    "plot_models(m4_ref2, m5_ref2, m6_ref2, m7_ref2, m8_ref2, m9_ref2,  grid = TRUE)"
   ]
  },
  {
   "cell_type": "code",
   "execution_count": 24,
   "metadata": {},
   "outputs": [],
   "source": [
    "tab_model(m9_ref2)"
   ]
  },
  {
   "cell_type": "code",
   "execution_count": 25,
   "metadata": {},
   "outputs": [
    {
     "name": "stderr",
     "output_type": "stream",
     "text": [
      "Warning message in fitTMB(TMBStruc):\n",
      "\"Model convergence problem; singular convergence (7). See vignette('troubleshooting')\""
     ]
    }
   ],
   "source": [
    "m9_ref2_inter <- glmmTMB(Disposition_binary ~ Age_e + season +  r +\n",
    "                   Heat + Fluids + Steroid + NSAID + Antibiotic+ Age_e*season+ (1|G_O)+ (1 | Sex_e), family=\"binomial\", data)"
   ]
  },
  {
   "cell_type": "code",
   "execution_count": 26,
   "metadata": {},
   "outputs": [
    {
     "data": {
      "text/html": [
       "<table>\n",
       "<thead><tr><th></th><th scope=col>Df</th><th scope=col>AIC</th><th scope=col>BIC</th><th scope=col>logLik</th><th scope=col>deviance</th><th scope=col>Chisq</th><th scope=col>Chi Df</th><th scope=col>Pr(&gt;Chisq)</th></tr></thead>\n",
       "<tbody>\n",
       "\t<tr><th scope=row>m9_ref2</th><td>18       </td><td>4649.608 </td><td>4761.877 </td><td>-2306.804</td><td>4613.608 </td><td>      NA </td><td>NA       </td><td>       NA</td></tr>\n",
       "\t<tr><th scope=row>m9_ref2_inter</th><td>21       </td><td>4650.340 </td><td>4781.321 </td><td>-2304.170</td><td>4608.340 </td><td>5.267754 </td><td> 3       </td><td>0.1532085</td></tr>\n",
       "</tbody>\n",
       "</table>\n"
      ],
      "text/latex": [
       "\\begin{tabular}{r|llllllll}\n",
       "  & Df & AIC & BIC & logLik & deviance & Chisq & Chi Df & Pr(>Chisq)\\\\\n",
       "\\hline\n",
       "\tm9\\_ref2 & 18        & 4649.608  & 4761.877  & -2306.804 & 4613.608  &       NA  & NA        &        NA\\\\\n",
       "\tm9\\_ref2\\_inter & 21        & 4650.340  & 4781.321  & -2304.170 & 4608.340  & 5.267754  &  3        & 0.1532085\\\\\n",
       "\\end{tabular}\n"
      ],
      "text/markdown": [
       "\n",
       "| <!--/--> | Df | AIC | BIC | logLik | deviance | Chisq | Chi Df | Pr(>Chisq) |\n",
       "|---|---|---|---|---|---|---|---|---|\n",
       "| m9_ref2 | 18        | 4649.608  | 4761.877  | -2306.804 | 4613.608  |       NA  | NA        |        NA |\n",
       "| m9_ref2_inter | 21        | 4650.340  | 4781.321  | -2304.170 | 4608.340  | 5.267754  |  3        | 0.1532085 |\n",
       "\n"
      ],
      "text/plain": [
       "              Df AIC      BIC      logLik    deviance Chisq    Chi Df\n",
       "m9_ref2       18 4649.608 4761.877 -2306.804 4613.608       NA NA    \n",
       "m9_ref2_inter 21 4650.340 4781.321 -2304.170 4608.340 5.267754  3    \n",
       "              Pr(>Chisq)\n",
       "m9_ref2              NA \n",
       "m9_ref2_inter 0.1532085 "
      ]
     },
     "metadata": {},
     "output_type": "display_data"
    }
   ],
   "source": [
    "anova(m9_ref2_inter, m9_ref2)"
   ]
  },
  {
   "cell_type": "code",
   "execution_count": 35,
   "metadata": {},
   "outputs": [
    {
     "name": "stderr",
     "output_type": "stream",
     "text": [
      "Warning message:\n",
      "\"package 'DHARMa' was built under R version 3.6.3\"This is DHARMa 0.3.3.0. For overview type '?DHARMa'. For recent changes, type news(package = 'DHARMa') Note: Syntax of plotResiduals has changed in 0.3.0, see ?plotResiduals for details\n"
     ]
    },
    {
     "data": {
      "image/png": "[encoded data removed]",
      "text/plain": [
       "Plot with title \"Residual vs. predicted\""
      ]
     },
     "metadata": {},
     "output_type": "display_data"
    }
   ],
   "source": [
    "library(DHARMa)\n",
    "m9_ref2_simres <- simulateResiduals(m9_ref2)\n",
    "plot(m9_ref2_simres)"
   ]
  },
  {
   "cell_type": "code",
   "execution_count": 36,
   "metadata": {},
   "outputs": [
    {
     "data": {
      "image/png": "[encoded data removed]",
      "text/plain": [
       "Plot with title \"Residual vs. predicted\""
      ]
     },
     "metadata": {},
     "output_type": "display_data"
    }
   ],
   "source": [
    "m9_ref2_inter_simres <- simulateResiduals(m9_ref2_inter)\n",
    "plot(m9_ref2_inter_simres)"
   ]
  },
  {
   "cell_type": "code",
   "execution_count": 27,
   "metadata": {},
   "outputs": [
    {
     "data": {
      "text/plain": [
       " Family: binomial  ( logit )\n",
       "Formula:          \n",
       "Disposition_binary ~ Age_e + season + r + Heat + Fluids + Steroid +  \n",
       "    NSAID + Antibiotic + (1 | G_O) + (1 | Sex_e)\n",
       "Data: data\n",
       "\n",
       "     AIC      BIC   logLik deviance df.resid \n",
       "  4649.6   4761.9  -2306.8   4613.6     3761 \n",
       "\n",
       "Random effects:\n",
       "\n",
       "Conditional model:\n",
       " Groups Name        Variance  Std.Dev. \n",
       " G_O    (Intercept) 1.734e-02 1.317e-01\n",
       " Sex_e  (Intercept) 5.131e-09 7.163e-05\n",
       "Number of obs: 3779, groups:  G_O, 2; Sex_e, 3\n",
       "\n",
       "Conditional model:\n",
       "                           Estimate Std. Error z value Pr(>|z|)    \n",
       "(Intercept)                -1.14235    0.26765  -4.268 1.97e-05 ***\n",
       "Age_eNestling               1.20217    0.09685  12.413  < 2e-16 ***\n",
       "seasonSpring                0.96044    0.15293   6.280 3.38e-10 ***\n",
       "seasonSummer                0.95197    0.15839   6.010 1.85e-09 ***\n",
       "seasonWinter                0.40873    0.16950   2.411 0.015895 *  \n",
       "rcaught by domestic animal -0.18994    0.16831  -1.129 0.259091    \n",
       "rwindow hit                -0.05722    0.17797  -0.322 0.747809    \n",
       "rfound inside              -0.03553    0.22773  -0.156 0.876010    \n",
       "rfound on the ground       -0.18988    0.14440  -1.315 0.188541    \n",
       "rnest-related              -0.02084    0.17085  -0.122 0.902901    \n",
       "rsuspect torpor-like state -1.89339    0.41994  -4.509 6.52e-06 ***\n",
       "Heat                       -0.28430    0.15005  -1.895 0.058137 .  \n",
       "Fluids                      0.27747    0.07235   3.835 0.000125 ***\n",
       "Steroid                    -0.86504    0.14654  -5.903 3.56e-09 ***\n",
       "NSAID                      -0.30287    0.13154  -2.303 0.021305 *  \n",
       "Antibiotic                  0.34288    0.15872   2.160 0.030750 *  \n",
       "---\n",
       "Signif. codes:  0 '***' 0.001 '**' 0.01 '*' 0.05 '.' 0.1 ' ' 1"
      ]
     },
     "metadata": {},
     "output_type": "display_data"
    }
   ],
   "source": [
    "summary(m9_ref2)"
   ]
  },
  {
   "cell_type": "code",
   "execution_count": 28,
   "metadata": {},
   "outputs": [
    {
     "data": {
      "text/plain": [
       " Family: binomial  ( logit )\n",
       "Formula:          \n",
       "Disposition_binary ~ Age_e + season + r + Heat + Fluids + Steroid +  \n",
       "    NSAID + Antibiotic + Age_e * season + (1 | G_O) + (1 | Sex_e)\n",
       "Data: data\n",
       "\n",
       "     AIC      BIC   logLik deviance df.resid \n",
       "  4650.3   4781.3  -2304.2   4608.3     3758 \n",
       "\n",
       "Random effects:\n",
       "\n",
       "Conditional model:\n",
       " Groups Name        Variance  Std.Dev. \n",
       " G_O    (Intercept) 1.515e-02 1.231e-01\n",
       " Sex_e  (Intercept) 2.551e-26 1.597e-13\n",
       "Number of obs: 3779, groups:  G_O, 2; Sex_e, 3\n",
       "\n",
       "Conditional model:\n",
       "                             Estimate Std. Error z value Pr(>|z|)    \n",
       "(Intercept)                  -1.13071    0.26621  -4.247 2.16e-05 ***\n",
       "Age_eNestling               -13.39220 1716.86068  -0.008 0.993776    \n",
       "seasonSpring                  0.90684    0.15489   5.855 4.78e-09 ***\n",
       "seasonSummer                  1.01367    0.16241   6.241 4.34e-10 ***\n",
       "seasonWinter                  0.40103    0.17378   2.308 0.021016 *  \n",
       "rcaught by domestic animal   -0.19154    0.16864  -1.136 0.256042    \n",
       "rwindow hit                  -0.04949    0.17822  -0.278 0.781251    \n",
       "rfound inside                -0.03411    0.22793  -0.150 0.881048    \n",
       "rfound on the ground         -0.18407    0.14465  -1.273 0.203173    \n",
       "rnest-related                -0.02779    0.17163  -0.162 0.871360    \n",
       "rsuspect torpor-like state   -1.88612    0.42005  -4.490 7.11e-06 ***\n",
       "Heat                         -0.28591    0.15011  -1.905 0.056827 .  \n",
       "Fluids                        0.28163    0.07246   3.887 0.000102 ***\n",
       "Steroid                      -0.85198    0.14661  -5.811 6.20e-09 ***\n",
       "NSAID                        -0.30473    0.13166  -2.315 0.020639 *  \n",
       "Antibiotic                    0.33506    0.15881   2.110 0.034871 *  \n",
       "Age_eNestling:seasonSpring   14.74520 1716.86070   0.009 0.993147    \n",
       "Age_eNestling:seasonSummer   14.38453 1716.86070   0.008 0.993315    \n",
       "Age_eNestling:seasonWinter   14.59310 1716.86073   0.008 0.993218    \n",
       "---\n",
       "Signif. codes:  0 '***' 0.001 '**' 0.01 '*' 0.05 '.' 0.1 ' ' 1"
      ]
     },
     "metadata": {},
     "output_type": "display_data"
    }
   ],
   "source": [
    "summary(m9_ref2_inter)"
   ]
  },
  {
   "cell_type": "code",
   "execution_count": 60,
   "metadata": {},
   "outputs": [],
   "source": [
    "tab_model(m9_ref2)"
   ]
  },
  {
   "cell_type": "code",
   "execution_count": 52,
   "metadata": {},
   "outputs": [
    {
     "name": "stderr",
     "output_type": "stream",
     "text": [
      "Warning message:\n",
      "\"Transformation introduced infinite values in continuous y-axis\"Warning message:\n",
      "\"Removed 31 rows containing missing values (geom_point).\""
     ]
    },
    {
     "data": {
      "image/png": "[encoded data removed]",
      "text/plain": [
       "plot without title"
      ]
     },
     "metadata": {},
     "output_type": "display_data"
    }
   ],
   "source": [
    "options(repr.plot.width=10, repr.plot.height=5)\n",
    "plot_models(m9_ref2,  m9_ref2_inter, grid = TRUE)"
   ]
  },
  {
   "cell_type": "markdown",
   "metadata": {},
   "source": [
    "### predictions "
   ]
  },
  {
   "cell_type": "code",
   "execution_count": 29,
   "metadata": {
    "scrolled": true
   },
   "outputs": [
    {
     "data": {
      "text/html": [
       "<ol class=list-inline>\n",
       "\t<li>3779</li>\n",
       "\t<li>10000</li>\n",
       "</ol>\n"
      ],
      "text/latex": [
       "\\begin{enumerate*}\n",
       "\\item 3779\n",
       "\\item 10000\n",
       "\\end{enumerate*}\n"
      ],
      "text/markdown": [
       "1. 3779\n",
       "2. 10000\n",
       "\n",
       "\n"
      ],
      "text/plain": [
       "[1]  3779 10000"
      ]
     },
     "metadata": {},
     "output_type": "display_data"
    }
   ],
   "source": [
    "simo=simulate(m9_ref2, nsim = 10000)\n",
    "dim(simo)"
   ]
  },
  {
   "cell_type": "code",
   "execution_count": 30,
   "metadata": {},
   "outputs": [
    {
     "name": "stderr",
     "output_type": "stream",
     "text": [
      "Warning message:\n",
      "\"package 'dplyr' was built under R version 3.6.3\"\n",
      "Attaching package: 'dplyr'\n",
      "\n",
      "The following objects are masked from 'package:plyr':\n",
      "\n",
      "    arrange, count, desc, failwith, id, mutate, rename, summarise,\n",
      "    summarize\n",
      "\n",
      "The following object is masked from 'package:MASS':\n",
      "\n",
      "    select\n",
      "\n",
      "The following object is masked from 'package:gridExtra':\n",
      "\n",
      "    combine\n",
      "\n",
      "The following object is masked from 'package:nlme':\n",
      "\n",
      "    collapse\n",
      "\n",
      "The following objects are masked from 'package:stats':\n",
      "\n",
      "    filter, lag\n",
      "\n",
      "The following objects are masked from 'package:base':\n",
      "\n",
      "    intersect, setdiff, setequal, union\n",
      "\n"
     ]
    }
   ],
   "source": [
    "library(dplyr)\n",
    "df = data %>% \n",
    "    select(Age_e, season, r, Heat, Fluids, Steroid, NSAID, Antibiotic, G_O, Sex_e)\n"
   ]
  },
  {
   "cell_type": "code",
   "execution_count": 31,
   "metadata": {},
   "outputs": [
    {
     "data": {
      "text/html": [
       "<table>\n",
       "<thead><tr><th scope=col>Age_e</th><th scope=col>season</th><th scope=col>r</th><th scope=col>Heat</th><th scope=col>Fluids</th><th scope=col>Steroid</th><th scope=col>NSAID</th><th scope=col>Antibiotic</th><th scope=col>G_O</th><th scope=col>Sex_e</th></tr></thead>\n",
       "<tbody>\n",
       "\t<tr><td>adult-like               </td><td>Winter                   </td><td>unknown                  </td><td>1                        </td><td>0                        </td><td>0                        </td><td>0                        </td><td>0                        </td><td>Non-selasphorus spp.     </td><td>Female-like              </td></tr>\n",
       "\t<tr><td>adult-like               </td><td>Winter                   </td><td>unknown                  </td><td>1                        </td><td>1                        </td><td>0                        </td><td>0                        </td><td>0                        </td><td>Non-selasphorus spp.     </td><td>Female-like              </td></tr>\n",
       "\t<tr><td>adult-like               </td><td>Winter                   </td><td>caught by domestic animal</td><td>1                        </td><td>0                        </td><td>0                        </td><td>0                        </td><td>0                        </td><td>Non-selasphorus spp.     </td><td>Female-like              </td></tr>\n",
       "\t<tr><td>adult-like               </td><td>Spring                   </td><td>window hit               </td><td>1                        </td><td>1                        </td><td>0                        </td><td>0                        </td><td>0                        </td><td>Non-selasphorus spp.     </td><td>Female-like              </td></tr>\n",
       "\t<tr><td>adult-like               </td><td>Spring                   </td><td>found inside             </td><td>1                        </td><td>0                        </td><td>0                        </td><td>0                        </td><td>0                        </td><td>Non-selasphorus spp.     </td><td>Female-like              </td></tr>\n",
       "\t<tr><td>adult-like               </td><td>Spring                   </td><td>found on the ground      </td><td>1                        </td><td>1                        </td><td>0                        </td><td>0                        </td><td>0                        </td><td>Non-selasphorus spp.     </td><td>Female-like              </td></tr>\n",
       "</tbody>\n",
       "</table>\n"
      ],
      "text/latex": [
       "\\begin{tabular}{r|llllllllll}\n",
       " Age\\_e & season & r & Heat & Fluids & Steroid & NSAID & Antibiotic & G\\_O & Sex\\_e\\\\\n",
       "\\hline\n",
       "\t adult-like                & Winter                    & unknown                   & 1                         & 0                         & 0                         & 0                         & 0                         & Non-selasphorus spp.      & Female-like              \\\\\n",
       "\t adult-like                & Winter                    & unknown                   & 1                         & 1                         & 0                         & 0                         & 0                         & Non-selasphorus spp.      & Female-like              \\\\\n",
       "\t adult-like                & Winter                    & caught by domestic animal & 1                         & 0                         & 0                         & 0                         & 0                         & Non-selasphorus spp.      & Female-like              \\\\\n",
       "\t adult-like                & Spring                    & window hit                & 1                         & 1                         & 0                         & 0                         & 0                         & Non-selasphorus spp.      & Female-like              \\\\\n",
       "\t adult-like                & Spring                    & found inside              & 1                         & 0                         & 0                         & 0                         & 0                         & Non-selasphorus spp.      & Female-like              \\\\\n",
       "\t adult-like                & Spring                    & found on the ground       & 1                         & 1                         & 0                         & 0                         & 0                         & Non-selasphorus spp.      & Female-like              \\\\\n",
       "\\end{tabular}\n"
      ],
      "text/markdown": [
       "\n",
       "| Age_e | season | r | Heat | Fluids | Steroid | NSAID | Antibiotic | G_O | Sex_e |\n",
       "|---|---|---|---|---|---|---|---|---|---|\n",
       "| adult-like                | Winter                    | unknown                   | 1                         | 0                         | 0                         | 0                         | 0                         | Non-selasphorus spp.      | Female-like               |\n",
       "| adult-like                | Winter                    | unknown                   | 1                         | 1                         | 0                         | 0                         | 0                         | Non-selasphorus spp.      | Female-like               |\n",
       "| adult-like                | Winter                    | caught by domestic animal | 1                         | 0                         | 0                         | 0                         | 0                         | Non-selasphorus spp.      | Female-like               |\n",
       "| adult-like                | Spring                    | window hit                | 1                         | 1                         | 0                         | 0                         | 0                         | Non-selasphorus spp.      | Female-like               |\n",
       "| adult-like                | Spring                    | found inside              | 1                         | 0                         | 0                         | 0                         | 0                         | Non-selasphorus spp.      | Female-like               |\n",
       "| adult-like                | Spring                    | found on the ground       | 1                         | 1                         | 0                         | 0                         | 0                         | Non-selasphorus spp.      | Female-like               |\n",
       "\n"
      ],
      "text/plain": [
       "  Age_e      season r                         Heat Fluids Steroid NSAID\n",
       "1 adult-like Winter unknown                   1    0      0       0    \n",
       "2 adult-like Winter unknown                   1    1      0       0    \n",
       "3 adult-like Winter caught by domestic animal 1    0      0       0    \n",
       "4 adult-like Spring window hit                1    1      0       0    \n",
       "5 adult-like Spring found inside              1    0      0       0    \n",
       "6 adult-like Spring found on the ground       1    1      0       0    \n",
       "  Antibiotic G_O                  Sex_e       \n",
       "1 0          Non-selasphorus spp. Female-like \n",
       "2 0          Non-selasphorus spp. Female-like \n",
       "3 0          Non-selasphorus spp. Female-like \n",
       "4 0          Non-selasphorus spp. Female-like \n",
       "5 0          Non-selasphorus spp. Female-like \n",
       "6 0          Non-selasphorus spp. Female-like "
      ]
     },
     "metadata": {},
     "output_type": "display_data"
    }
   ],
   "source": [
    "head(df)"
   ]
  },
  {
   "cell_type": "code",
   "execution_count": 32,
   "metadata": {
    "scrolled": false
   },
   "outputs": [],
   "source": [
    "df$predicted_disposition = predict(m9_ref2, newdata = df, type = 'response')"
   ]
  },
  {
   "cell_type": "code",
   "execution_count": 33,
   "metadata": {},
   "outputs": [],
   "source": [
    "write.csv(df, 'C:/Users/Falco/Desktop/directory/Humminbird_rescue/Outputs/Simulation_treatment_subset_final.csv')"
   ]
  },
  {
   "cell_type": "markdown",
   "metadata": {},
   "source": [
    "## Generalized mixed model Random effect  = Species and age"
   ]
  },
  {
   "cell_type": "code",
   "execution_count": 17,
   "metadata": {},
   "outputs": [],
   "source": [
    "m1 <- glmer(Disposition_binary ~ Sex_e +  \n",
    "                (1|G_O)+(1|Age_e) , \n",
    "                family=\"binomial\", data, control = glmerControl(optimizer = \"bobyqa\"))"
   ]
  },
  {
   "cell_type": "code",
   "execution_count": 18,
   "metadata": {},
   "outputs": [],
   "source": [
    "m2 <- glmer(Disposition_binary ~ Sex_e +  \n",
    "                season +\n",
    "                (1|G_O)+(1|Age_e) , \n",
    "                family=\"binomial\", data, control = glmerControl(optimizer = \"bobyqa\"))"
   ]
  },
  {
   "cell_type": "code",
   "execution_count": 19,
   "metadata": {},
   "outputs": [],
   "source": [
    "m3 <- glmer(Disposition_binary ~ Sex_e +  \n",
    "                season + r +\n",
    "                (1|G_O)+(1|Age_e) , \n",
    "                family=\"binomial\", data, control = glmerControl(optimizer = \"bobyqa\"))"
   ]
  },
  {
   "cell_type": "code",
   "execution_count": 20,
   "metadata": {},
   "outputs": [],
   "source": [
    "m4 <- glmer(Disposition_binary ~ Sex_e +  \n",
    "                season + r + Heat + \n",
    "                (1|G_O)+(1|Age_e) , \n",
    "                family=\"binomial\", data, control = glmerControl(optimizer = \"bobyqa\"))"
   ]
  },
  {
   "cell_type": "code",
   "execution_count": 21,
   "metadata": {},
   "outputs": [],
   "source": [
    "m5 <- glmer(Disposition_binary ~ Sex_e +  \n",
    "                season + r + Heat + Fluids + \n",
    "                (1|G_O)+(1|Age_e) , \n",
    "                family=\"binomial\", data, control = glmerControl(optimizer = \"bobyqa\"))"
   ]
  },
  {
   "cell_type": "code",
   "execution_count": 22,
   "metadata": {},
   "outputs": [],
   "source": [
    "m6 <- glmer(Disposition_binary ~ Sex_e +  \n",
    "                season + r + Heat + Fluids + Steroid +\n",
    "                (1|G_O)+(1|Age_e) , \n",
    "                family=\"binomial\", data, control = glmerControl(optimizer = \"bobyqa\"))"
   ]
  },
  {
   "cell_type": "code",
   "execution_count": 23,
   "metadata": {},
   "outputs": [],
   "source": [
    "m7 <- glmer(Disposition_binary ~ Sex_e +  \n",
    "                season + r + Heat + Fluids + Steroid +NSAID +\n",
    "                (1|G_O)+(1|Age_e) , \n",
    "                family=\"binomial\", data, control = glmerControl(optimizer = \"bobyqa\"))"
   ]
  },
  {
   "cell_type": "code",
   "execution_count": 19,
   "metadata": {},
   "outputs": [],
   "source": [
    "m8 <- glmer(Disposition_binary ~ Sex_e +  \n",
    "                season + r + Heat + Fluids + Steroid +NSAID +Antibiotic+\n",
    "                (1|G_O)+(1|Age_e) , \n",
    "                family=\"binomial\", data, control = glmerControl(optimizer = \"bobyqa\"))"
   ]
  },
  {
   "cell_type": "code",
   "execution_count": 25,
   "metadata": {},
   "outputs": [
    {
     "name": "stderr",
     "output_type": "stream",
     "text": [
      "boundary (singular) fit: see ?isSingular\n",
      "\n"
     ]
    }
   ],
   "source": [
    "m9 <- glmer(Disposition_binary ~ Sex_e +  Age_e+\n",
    "                season + r + Heat + Fluids + Steroid +NSAID +Antibiotic+\n",
    "                (1|G_O)+(1|Age_e) , \n",
    "                family=\"binomial\", data)"
   ]
  },
  {
   "cell_type": "code",
   "execution_count": 20,
   "metadata": {},
   "outputs": [
    {
     "ename": "ERROR",
     "evalue": "Error in AIC(m1, m2, m3, m4, m5, m6, m7, m8, m9): object 'm1' not found\n",
     "output_type": "error",
     "traceback": [
      "Error in AIC(m1, m2, m3, m4, m5, m6, m7, m8, m9): object 'm1' not found\nTraceback:\n",
      "1. AIC(m1, m2, m3, m4, m5, m6, m7, m8, m9)"
     ]
    }
   ],
   "source": [
    "AIC(m1,m2,m3,m4,m5,m6,m7,m8, m9)"
   ]
  },
  {
   "cell_type": "code",
   "execution_count": 47,
   "metadata": {
    "scrolled": true
   },
   "outputs": [
    {
     "data": {
      "text/html": [
       "<table>\n",
       "<caption>A anova: 9 × 8</caption>\n",
       "<thead>\n",
       "\t<tr><th></th><th scope=col>Df</th><th scope=col>AIC</th><th scope=col>BIC</th><th scope=col>logLik</th><th scope=col>deviance</th><th scope=col>Chisq</th><th scope=col>Chi Df</th><th scope=col>Pr(&gt;Chisq)</th></tr>\n",
       "\t<tr><th></th><th scope=col>&lt;dbl&gt;</th><th scope=col>&lt;dbl&gt;</th><th scope=col>&lt;dbl&gt;</th><th scope=col>&lt;dbl&gt;</th><th scope=col>&lt;dbl&gt;</th><th scope=col>&lt;dbl&gt;</th><th scope=col>&lt;dbl&gt;</th><th scope=col>&lt;dbl&gt;</th></tr>\n",
       "</thead>\n",
       "<tbody>\n",
       "\t<tr><th scope=row>m1</th><td> 5</td><td>4799.124</td><td>4830.310</td><td>-2394.562</td><td>4789.124</td><td>       NA</td><td>NA</td><td>          NA</td></tr>\n",
       "\t<tr><th scope=row>m2</th><td> 8</td><td>4733.032</td><td>4782.929</td><td>-2358.516</td><td>4717.032</td><td>72.092461</td><td> 3</td><td>1.520931e-15</td></tr>\n",
       "\t<tr><th scope=row>m3</th><td>14</td><td>4709.949</td><td>4797.270</td><td>-2340.974</td><td>4681.949</td><td>35.082870</td><td> 6</td><td>4.153074e-06</td></tr>\n",
       "\t<tr><th scope=row>m4</th><td>15</td><td>4708.505</td><td>4802.063</td><td>-2339.253</td><td>4678.505</td><td> 3.443704</td><td> 1</td><td>6.349319e-02</td></tr>\n",
       "\t<tr><th scope=row>m5</th><td>16</td><td>4694.079</td><td>4793.875</td><td>-2331.040</td><td>4662.079</td><td>16.426004</td><td> 1</td><td>5.058648e-05</td></tr>\n",
       "\t<tr><th scope=row>m6</th><td>17</td><td>4662.727</td><td>4768.760</td><td>-2314.363</td><td>4628.727</td><td>33.352234</td><td> 1</td><td>7.688945e-09</td></tr>\n",
       "\t<tr><th scope=row>m7</th><td>18</td><td>4661.408</td><td>4773.678</td><td>-2312.704</td><td>4625.408</td><td> 3.318652</td><td> 1</td><td>6.849799e-02</td></tr>\n",
       "\t<tr><th scope=row>m8</th><td>19</td><td>4658.613</td><td>4777.120</td><td>-2310.307</td><td>4620.613</td><td> 4.794957</td><td> 1</td><td>2.854317e-02</td></tr>\n",
       "\t<tr><th scope=row>m9</th><td>20</td><td>4647.640</td><td>4772.385</td><td>-2303.820</td><td>4607.640</td><td>12.972806</td><td> 1</td><td>3.160480e-04</td></tr>\n",
       "</tbody>\n",
       "</table>\n"
      ],
      "text/latex": [
       "A anova: 9 × 8\n",
       "\\begin{tabular}{r|llllllll}\n",
       "  & Df & AIC & BIC & logLik & deviance & Chisq & Chi Df & Pr(>Chisq)\\\\\n",
       "  & <dbl> & <dbl> & <dbl> & <dbl> & <dbl> & <dbl> & <dbl> & <dbl>\\\\\n",
       "\\hline\n",
       "\tm1 &  5 & 4799.124 & 4830.310 & -2394.562 & 4789.124 &        NA & NA &           NA\\\\\n",
       "\tm2 &  8 & 4733.032 & 4782.929 & -2358.516 & 4717.032 & 72.092461 &  3 & 1.520931e-15\\\\\n",
       "\tm3 & 14 & 4709.949 & 4797.270 & -2340.974 & 4681.949 & 35.082870 &  6 & 4.153074e-06\\\\\n",
       "\tm4 & 15 & 4708.505 & 4802.063 & -2339.253 & 4678.505 &  3.443704 &  1 & 6.349319e-02\\\\\n",
       "\tm5 & 16 & 4694.079 & 4793.875 & -2331.040 & 4662.079 & 16.426004 &  1 & 5.058648e-05\\\\\n",
       "\tm6 & 17 & 4662.727 & 4768.760 & -2314.363 & 4628.727 & 33.352234 &  1 & 7.688945e-09\\\\\n",
       "\tm7 & 18 & 4661.408 & 4773.678 & -2312.704 & 4625.408 &  3.318652 &  1 & 6.849799e-02\\\\\n",
       "\tm8 & 19 & 4658.613 & 4777.120 & -2310.307 & 4620.613 &  4.794957 &  1 & 2.854317e-02\\\\\n",
       "\tm9 & 20 & 4647.640 & 4772.385 & -2303.820 & 4607.640 & 12.972806 &  1 & 3.160480e-04\\\\\n",
       "\\end{tabular}\n"
      ],
      "text/markdown": [
       "\n",
       "A anova: 9 × 8\n",
       "\n",
       "| <!--/--> | Df &lt;dbl&gt; | AIC &lt;dbl&gt; | BIC &lt;dbl&gt; | logLik &lt;dbl&gt; | deviance &lt;dbl&gt; | Chisq &lt;dbl&gt; | Chi Df &lt;dbl&gt; | Pr(&gt;Chisq) &lt;dbl&gt; |\n",
       "|---|---|---|---|---|---|---|---|---|\n",
       "| m1 |  5 | 4799.124 | 4830.310 | -2394.562 | 4789.124 |        NA | NA |           NA |\n",
       "| m2 |  8 | 4733.032 | 4782.929 | -2358.516 | 4717.032 | 72.092461 |  3 | 1.520931e-15 |\n",
       "| m3 | 14 | 4709.949 | 4797.270 | -2340.974 | 4681.949 | 35.082870 |  6 | 4.153074e-06 |\n",
       "| m4 | 15 | 4708.505 | 4802.063 | -2339.253 | 4678.505 |  3.443704 |  1 | 6.349319e-02 |\n",
       "| m5 | 16 | 4694.079 | 4793.875 | -2331.040 | 4662.079 | 16.426004 |  1 | 5.058648e-05 |\n",
       "| m6 | 17 | 4662.727 | 4768.760 | -2314.363 | 4628.727 | 33.352234 |  1 | 7.688945e-09 |\n",
       "| m7 | 18 | 4661.408 | 4773.678 | -2312.704 | 4625.408 |  3.318652 |  1 | 6.849799e-02 |\n",
       "| m8 | 19 | 4658.613 | 4777.120 | -2310.307 | 4620.613 |  4.794957 |  1 | 2.854317e-02 |\n",
       "| m9 | 20 | 4647.640 | 4772.385 | -2303.820 | 4607.640 | 12.972806 |  1 | 3.160480e-04 |\n",
       "\n"
      ],
      "text/plain": [
       "   Df AIC      BIC      logLik    deviance Chisq     Chi Df Pr(>Chisq)  \n",
       "m1  5 4799.124 4830.310 -2394.562 4789.124        NA NA               NA\n",
       "m2  8 4733.032 4782.929 -2358.516 4717.032 72.092461  3     1.520931e-15\n",
       "m3 14 4709.949 4797.270 -2340.974 4681.949 35.082870  6     4.153074e-06\n",
       "m4 15 4708.505 4802.063 -2339.253 4678.505  3.443704  1     6.349319e-02\n",
       "m5 16 4694.079 4793.875 -2331.040 4662.079 16.426004  1     5.058648e-05\n",
       "m6 17 4662.727 4768.760 -2314.363 4628.727 33.352234  1     7.688945e-09\n",
       "m7 18 4661.408 4773.678 -2312.704 4625.408  3.318652  1     6.849799e-02\n",
       "m8 19 4658.613 4777.120 -2310.307 4620.613  4.794957  1     2.854317e-02\n",
       "m9 20 4647.640 4772.385 -2303.820 4607.640 12.972806  1     3.160480e-04"
      ]
     },
     "metadata": {},
     "output_type": "display_data"
    }
   ],
   "source": [
    "anova(m1,m2,m3,m4,m5,m6,m7,m8,m9)"
   ]
  },
  {
   "cell_type": "code",
   "execution_count": 21,
   "metadata": {
    "cell_style": "center",
    "scrolled": false
   },
   "outputs": [
    {
     "name": "stdout",
     "output_type": "stream",
     "text": [
      "Generalized linear mixed model fit by maximum likelihood (Laplace\n",
      "  Approximation) [glmerMod]\n",
      " Family: binomial  ( logit )\n",
      "Formula: Disposition_binary ~ Sex_e + season + r + Heat + Fluids + Steroid +  \n",
      "    NSAID + Antibiotic + (1 | G_O) + (1 | Age_e)\n",
      "   Data: data\n",
      "Control: glmerControl(optimizer = \"bobyqa\")\n",
      "\n",
      "     AIC      BIC   logLik deviance df.resid \n",
      "  4658.6   4777.1  -2310.3   4620.6     3760 \n",
      "\n",
      "Scaled residuals: \n",
      "    Min      1Q  Median      3Q     Max \n",
      "-2.0752 -0.7737 -0.4795  0.8715  4.2796 \n",
      "\n",
      "Random effects:\n",
      " Groups Name        Variance Std.Dev.\n",
      " G_O    (Intercept) 0.04741  0.2177  \n",
      " Age_e  (Intercept) 0.65665  0.8103  \n",
      "Number of obs: 3779, groups:  G_O, 2; Age_e, 2\n",
      "\n",
      "Fixed effects:\n",
      "                           Estimate Std. Error z value Pr(>|z|)    \n",
      "(Intercept)                -0.77567    1.29368  -0.600   0.5488    \n",
      "Sex_eFemale-like            0.41903    2.23529   0.187   0.8513    \n",
      "Sex_eMale                   0.25218    2.23705   0.113   0.9102    \n",
      "seasonSpring                0.95659    0.15305   6.250 4.10e-10 ***\n",
      "seasonSummer                0.94910    0.15842   5.991 2.08e-09 ***\n",
      "seasonWinter                0.40636    0.16952   2.397   0.0165 *  \n",
      "rcaught by domestic animal -0.20358    0.16857  -1.208   0.2272    \n",
      "rwindow hit                -0.06041    0.17800  -0.339   0.7343    \n",
      "rfound inside              -0.04411    0.22796  -0.193   0.8466    \n",
      "rfound on the ground       -0.19120    0.14453  -1.323   0.1859    \n",
      "rnest related              -0.01866    0.17100  -0.109   0.9131    \n",
      "rsuspect torpor-like state -1.88411    0.41984  -4.488 7.20e-06 ***\n",
      "Heat                       -0.27603    0.15017  -1.838   0.0661 .  \n",
      "Fluids                      0.28452    0.07256   3.921 8.81e-05 ***\n",
      "Steroid                    -0.86660    0.14703  -5.894 3.77e-09 ***\n",
      "NSAID                      -0.26900    0.13388  -2.009   0.0445 *  \n",
      "Antibiotic                  0.35023    0.15900   2.203   0.0276 *  \n",
      "---\n",
      "Signif. codes:  0 '***' 0.001 '**' 0.01 '*' 0.05 '.' 0.1 ' ' 1\n"
     ]
    },
    {
     "name": "stderr",
     "output_type": "stream",
     "text": [
      "\n",
      "Correlation of fixed effects could have been required in summary()\n",
      "\n"
     ]
    },
    {
     "name": "stdout",
     "output_type": "stream",
     "text": [
      "\n",
      "Correlation of Fixed Effects:\n",
      "            (Intr) Sx_Fm- Sex_Ml ssnSpr ssnSmm ssnWnt rcgbda rwndwh rfndin\n",
      "Sex_eFml-lk -0.867                                                        \n",
      "Sex_eMale   -0.866  0.999                                                 \n",
      "seasonSprng -0.130  0.026  0.028                                          \n",
      "seasonSummr -0.095 -0.009 -0.007  0.859                                   \n",
      "seasonWintr -0.081 -0.009 -0.009  0.780  0.751                            \n",
      "rcghtbydmsa -0.094  0.014  0.017  0.047  0.022  0.059                     \n",
      "rwindow hit -0.083  0.008  0.009  0.052  0.058  0.014  0.616              \n",
      "rfoundinsid -0.071  0.010  0.011  0.041  0.038  0.019  0.480  0.471       \n",
      "rfndonthgrn -0.122  0.034  0.035  0.013  0.006  0.015  0.749  0.714  0.555\n",
      "rnestrelatd -0.056 -0.034 -0.033 -0.009  0.006 -0.005  0.603  0.554  0.435\n",
      "rsspctrpr-s -0.036  0.006  0.005  0.007  0.009  0.003  0.261  0.255  0.197\n",
      "Heat        -0.111  0.009  0.007 -0.041 -0.052 -0.032 -0.045 -0.061 -0.020\n",
      "Fluids      -0.027 -0.017 -0.020  0.021  0.029 -0.014 -0.012 -0.028 -0.033\n",
      "Steroid     -0.078  0.078  0.078 -0.003  0.011 -0.030  0.032 -0.119 -0.021\n",
      "NSAID       -0.026  0.003 -0.006  0.024  0.026 -0.008 -0.015 -0.089 -0.021\n",
      "Antibiotic   0.005 -0.013 -0.015  0.001 -0.009 -0.011 -0.187  0.025  0.025\n",
      "            rfnotg rnstrl rtrp-s Heat   Fluids Sterod NSAID \n",
      "Sex_eFml-lk                                                 \n",
      "Sex_eMale                                                   \n",
      "seasonSprng                                                 \n",
      "seasonSummr                                                 \n",
      "seasonWintr                                                 \n",
      "rcghtbydmsa                                                 \n",
      "rwindow hit                                                 \n",
      "rfoundinsid                                                 \n",
      "rfndonthgrn                                                 \n",
      "rnestrelatd  0.733                                          \n",
      "rsspctrpr-s  0.301  0.235                                   \n",
      "Heat        -0.046 -0.023 -0.017                            \n",
      "Fluids      -0.032  0.017 -0.023  0.140                     \n",
      "Steroid     -0.023  0.016 -0.012  0.077  0.010              \n",
      "NSAID       -0.023  0.004 -0.003  0.152  0.015  0.115       \n",
      "Antibiotic   0.008  0.002  0.004  0.037  0.019 -0.149 -0.100\n"
     ]
    },
    {
     "data": {
      "text/html": [
       "<table>\n",
       "<caption>A matrix: 17 × 3 of type dbl</caption>\n",
       "<thead>\n",
       "\t<tr><th></th><th scope=col>Est</th><th scope=col>LL</th><th scope=col>UL</th></tr>\n",
       "</thead>\n",
       "<tbody>\n",
       "\t<tr><th scope=row>(Intercept)</th><td>-0.77566772</td><td>-3.31127189</td><td> 1.759936448</td></tr>\n",
       "\t<tr><th scope=row>Sex_eFemale-like </th><td> 0.41903311</td><td>-3.96214037</td><td> 4.800206580</td></tr>\n",
       "\t<tr><th scope=row>Sex_eMale</th><td> 0.25218482</td><td>-4.13243308</td><td> 4.636802727</td></tr>\n",
       "\t<tr><th scope=row>seasonSpring</th><td> 0.95658966</td><td> 0.65661388</td><td> 1.256565441</td></tr>\n",
       "\t<tr><th scope=row>seasonSummer</th><td> 0.94910303</td><td> 0.63860579</td><td> 1.259600271</td></tr>\n",
       "\t<tr><th scope=row>seasonWinter</th><td> 0.40636354</td><td> 0.07411233</td><td> 0.738614745</td></tr>\n",
       "\t<tr><th scope=row>rcaught by domestic animal</th><td>-0.20357623</td><td>-0.53397257</td><td> 0.126820110</td></tr>\n",
       "\t<tr><th scope=row>rwindow hit</th><td>-0.06040998</td><td>-0.40928553</td><td> 0.288465576</td></tr>\n",
       "\t<tr><th scope=row>rfound inside</th><td>-0.04410527</td><td>-0.49091209</td><td> 0.402701547</td></tr>\n",
       "\t<tr><th scope=row>rfound on the ground</th><td>-0.19119566</td><td>-0.47447209</td><td> 0.092080759</td></tr>\n",
       "\t<tr><th scope=row>rnest related</th><td>-0.01865766</td><td>-0.35380836</td><td> 0.316493042</td></tr>\n",
       "\t<tr><th scope=row>rsuspect torpor-like state</th><td>-1.88410673</td><td>-2.70699932</td><td>-1.061214139</td></tr>\n",
       "\t<tr><th scope=row>Heat</th><td>-0.27602622</td><td>-0.57036890</td><td> 0.018316453</td></tr>\n",
       "\t<tr><th scope=row>Fluids</th><td> 0.28452194</td><td> 0.14230840</td><td> 0.426735472</td></tr>\n",
       "\t<tr><th scope=row>Steroid</th><td>-0.86659508</td><td>-1.15477518</td><td>-0.578414969</td></tr>\n",
       "\t<tr><th scope=row>NSAID</th><td>-0.26900076</td><td>-0.53140191</td><td>-0.006599604</td></tr>\n",
       "\t<tr><th scope=row>Antibiotic</th><td> 0.35022987</td><td> 0.03859494</td><td> 0.661864810</td></tr>\n",
       "</tbody>\n",
       "</table>\n"
      ],
      "text/latex": [
       "A matrix: 17 × 3 of type dbl\n",
       "\\begin{tabular}{r|lll}\n",
       "  & Est & LL & UL\\\\\n",
       "\\hline\n",
       "\t(Intercept) & -0.77566772 & -3.31127189 &  1.759936448\\\\\n",
       "\tSex\\_eFemale-like  &  0.41903311 & -3.96214037 &  4.800206580\\\\\n",
       "\tSex\\_eMale &  0.25218482 & -4.13243308 &  4.636802727\\\\\n",
       "\tseasonSpring &  0.95658966 &  0.65661388 &  1.256565441\\\\\n",
       "\tseasonSummer &  0.94910303 &  0.63860579 &  1.259600271\\\\\n",
       "\tseasonWinter &  0.40636354 &  0.07411233 &  0.738614745\\\\\n",
       "\trcaught by domestic animal & -0.20357623 & -0.53397257 &  0.126820110\\\\\n",
       "\trwindow hit & -0.06040998 & -0.40928553 &  0.288465576\\\\\n",
       "\trfound inside & -0.04410527 & -0.49091209 &  0.402701547\\\\\n",
       "\trfound on the ground & -0.19119566 & -0.47447209 &  0.092080759\\\\\n",
       "\trnest related & -0.01865766 & -0.35380836 &  0.316493042\\\\\n",
       "\trsuspect torpor-like state & -1.88410673 & -2.70699932 & -1.061214139\\\\\n",
       "\tHeat & -0.27602622 & -0.57036890 &  0.018316453\\\\\n",
       "\tFluids &  0.28452194 &  0.14230840 &  0.426735472\\\\\n",
       "\tSteroid & -0.86659508 & -1.15477518 & -0.578414969\\\\\n",
       "\tNSAID & -0.26900076 & -0.53140191 & -0.006599604\\\\\n",
       "\tAntibiotic &  0.35022987 &  0.03859494 &  0.661864810\\\\\n",
       "\\end{tabular}\n"
      ],
      "text/markdown": [
       "\n",
       "A matrix: 17 × 3 of type dbl\n",
       "\n",
       "| <!--/--> | Est | LL | UL |\n",
       "|---|---|---|---|\n",
       "| (Intercept) | -0.77566772 | -3.31127189 |  1.759936448 |\n",
       "| Sex_eFemale-like  |  0.41903311 | -3.96214037 |  4.800206580 |\n",
       "| Sex_eMale |  0.25218482 | -4.13243308 |  4.636802727 |\n",
       "| seasonSpring |  0.95658966 |  0.65661388 |  1.256565441 |\n",
       "| seasonSummer |  0.94910303 |  0.63860579 |  1.259600271 |\n",
       "| seasonWinter |  0.40636354 |  0.07411233 |  0.738614745 |\n",
       "| rcaught by domestic animal | -0.20357623 | -0.53397257 |  0.126820110 |\n",
       "| rwindow hit | -0.06040998 | -0.40928553 |  0.288465576 |\n",
       "| rfound inside | -0.04410527 | -0.49091209 |  0.402701547 |\n",
       "| rfound on the ground | -0.19119566 | -0.47447209 |  0.092080759 |\n",
       "| rnest related | -0.01865766 | -0.35380836 |  0.316493042 |\n",
       "| rsuspect torpor-like state | -1.88410673 | -2.70699932 | -1.061214139 |\n",
       "| Heat | -0.27602622 | -0.57036890 |  0.018316453 |\n",
       "| Fluids |  0.28452194 |  0.14230840 |  0.426735472 |\n",
       "| Steroid | -0.86659508 | -1.15477518 | -0.578414969 |\n",
       "| NSAID | -0.26900076 | -0.53140191 | -0.006599604 |\n",
       "| Antibiotic |  0.35022987 |  0.03859494 |  0.661864810 |\n",
       "\n"
      ],
      "text/plain": [
       "                           Est         LL          UL          \n",
       "(Intercept)                -0.77566772 -3.31127189  1.759936448\n",
       "Sex_eFemale-like            0.41903311 -3.96214037  4.800206580\n",
       "Sex_eMale                   0.25218482 -4.13243308  4.636802727\n",
       "seasonSpring                0.95658966  0.65661388  1.256565441\n",
       "seasonSummer                0.94910303  0.63860579  1.259600271\n",
       "seasonWinter                0.40636354  0.07411233  0.738614745\n",
       "rcaught by domestic animal -0.20357623 -0.53397257  0.126820110\n",
       "rwindow hit                -0.06040998 -0.40928553  0.288465576\n",
       "rfound inside              -0.04410527 -0.49091209  0.402701547\n",
       "rfound on the ground       -0.19119566 -0.47447209  0.092080759\n",
       "rnest related              -0.01865766 -0.35380836  0.316493042\n",
       "rsuspect torpor-like state -1.88410673 -2.70699932 -1.061214139\n",
       "Heat                       -0.27602622 -0.57036890  0.018316453\n",
       "Fluids                      0.28452194  0.14230840  0.426735472\n",
       "Steroid                    -0.86659508 -1.15477518 -0.578414969\n",
       "NSAID                      -0.26900076 -0.53140191 -0.006599604\n",
       "Antibiotic                  0.35022987  0.03859494  0.661864810"
      ]
     },
     "metadata": {},
     "output_type": "display_data"
    },
    {
     "name": "stdout",
     "output_type": "stream",
     "text": [
      "                                 Est         LL          UL\n",
      "(Intercept)                0.4603963 0.03646976   5.8120680\n",
      "Sex_eFemale-like           1.5204907 0.01902236 121.5355217\n",
      "Sex_eMale                  1.2868339 0.01604380 103.2138167\n",
      "seasonSpring               2.6028049 1.92825198   3.5133340\n",
      "seasonSummer               2.5833914 1.89383862   3.5240126\n",
      "seasonWinter               1.5013482 1.07692777   2.0930341\n",
      "rcaught by domestic animal 0.8158080 0.58627134   1.1352128\n",
      "rwindow hit                0.9413785 0.66412457   1.3343784\n",
      "rfound inside              0.9568532 0.61206788   1.4958604\n",
      "rfound on the ground       0.8259710 0.62221344   1.0964534\n",
      "rnest related              0.9815153 0.70200949   1.3723067\n",
      "rsuspect torpor-like state 0.1519647 0.06673676   0.3460354\n",
      "Heat                       0.7587930 0.56531685   1.0184852\n",
      "Fluids                     1.3291265 1.15293216   1.5322473\n",
      "Steroid                    0.4203805 0.31512837   0.5607865\n",
      "NSAID                      0.7641427 0.58778038   0.9934221\n",
      "Antibiotic                 1.4193938 1.03934940   1.9384037\n"
     ]
    }
   ],
   "source": [
    "print (summary(m8),correlation=TRUE)\n",
    "se <- sqrt(diag(vcov(m8)))\n",
    "# table of estimates with 95% CI\n",
    "(tab <- cbind(Est = fixef(m8), LL = fixef(m8) - 1.96 * se, UL = fixef(m8) + 1.96 *\n",
    "    se))\n",
    "## Odds\n",
    "print (exp(tab))"
   ]
  },
  {
   "cell_type": "code",
   "execution_count": 22,
   "metadata": {},
   "outputs": [],
   "source": [
    "write.csv(exp(tab), 'C:/Users/Falco/Desktop/directory/Humminbird_rescue/Outputs/glmer_Treatment_subset.csv')"
   ]
  },
  {
   "cell_type": "code",
   "execution_count": 23,
   "metadata": {},
   "outputs": [
    {
     "data": {
      "text/html": [
       "<ol class=list-inline>\n",
       "\t<li>3779</li>\n",
       "\t<li>10000</li>\n",
       "</ol>\n"
      ],
      "text/latex": [
       "\\begin{enumerate*}\n",
       "\\item 3779\n",
       "\\item 10000\n",
       "\\end{enumerate*}\n"
      ],
      "text/markdown": [
       "1. 3779\n",
       "2. 10000\n",
       "\n",
       "\n"
      ],
      "text/plain": [
       "[1]  3779 10000"
      ]
     },
     "metadata": {},
     "output_type": "display_data"
    }
   ],
   "source": [
    "simo=simulate(m8, nsim = 10000)\n",
    "dim(simo)"
   ]
  },
  {
   "cell_type": "code",
   "execution_count": 25,
   "metadata": {},
   "outputs": [
    {
     "name": "stderr",
     "output_type": "stream",
     "text": [
      "\n",
      "Attaching package: 'dplyr'\n",
      "\n",
      "\n",
      "The following object is masked from 'package:GGally':\n",
      "\n",
      "    nasa\n",
      "\n",
      "\n",
      "The following objects are masked from 'package:plyr':\n",
      "\n",
      "    arrange, count, desc, failwith, id, mutate, rename, summarise,\n",
      "    summarize\n",
      "\n",
      "\n",
      "The following object is masked from 'package:MASS':\n",
      "\n",
      "    select\n",
      "\n",
      "\n",
      "The following object is masked from 'package:nlme':\n",
      "\n",
      "    collapse\n",
      "\n",
      "\n",
      "The following objects are masked from 'package:stats':\n",
      "\n",
      "    filter, lag\n",
      "\n",
      "\n",
      "The following objects are masked from 'package:base':\n",
      "\n",
      "    intersect, setdiff, setequal, union\n",
      "\n",
      "\n"
     ]
    }
   ],
   "source": [
    "head(simo)\n",
    "library(dplyr)\n",
    "simo2 <- mutate_all(simo, function(x) as.numeric(x)-1)"
   ]
  },
  {
   "cell_type": "code",
   "execution_count": 26,
   "metadata": {},
   "outputs": [
    {
     "data": {
      "text/html": [
       "<table>\n",
       "<caption>A data.frame: 6 × 10000</caption>\n",
       "<thead>\n",
       "\t<tr><th></th><th scope=col>sim_1</th><th scope=col>sim_2</th><th scope=col>sim_3</th><th scope=col>sim_4</th><th scope=col>sim_5</th><th scope=col>sim_6</th><th scope=col>sim_7</th><th scope=col>sim_8</th><th scope=col>sim_9</th><th scope=col>sim_10</th><th scope=col>⋯</th><th scope=col>sim_9991</th><th scope=col>sim_9992</th><th scope=col>sim_9993</th><th scope=col>sim_9994</th><th scope=col>sim_9995</th><th scope=col>sim_9996</th><th scope=col>sim_9997</th><th scope=col>sim_9998</th><th scope=col>sim_9999</th><th scope=col>sim_10000</th></tr>\n",
       "\t<tr><th></th><th scope=col>&lt;dbl&gt;</th><th scope=col>&lt;dbl&gt;</th><th scope=col>&lt;dbl&gt;</th><th scope=col>&lt;dbl&gt;</th><th scope=col>&lt;dbl&gt;</th><th scope=col>&lt;dbl&gt;</th><th scope=col>&lt;dbl&gt;</th><th scope=col>&lt;dbl&gt;</th><th scope=col>&lt;dbl&gt;</th><th scope=col>&lt;dbl&gt;</th><th scope=col>⋯</th><th scope=col>&lt;dbl&gt;</th><th scope=col>&lt;dbl&gt;</th><th scope=col>&lt;dbl&gt;</th><th scope=col>&lt;dbl&gt;</th><th scope=col>&lt;dbl&gt;</th><th scope=col>&lt;dbl&gt;</th><th scope=col>&lt;dbl&gt;</th><th scope=col>&lt;dbl&gt;</th><th scope=col>&lt;dbl&gt;</th><th scope=col>&lt;dbl&gt;</th></tr>\n",
       "</thead>\n",
       "<tbody>\n",
       "\t<tr><th scope=row>1</th><td>1</td><td>0</td><td>0</td><td>0</td><td>1</td><td>1</td><td>0</td><td>0</td><td>0</td><td>0</td><td>⋯</td><td>1</td><td>1</td><td>0</td><td>1</td><td>0</td><td>1</td><td>0</td><td>0</td><td>1</td><td>0</td></tr>\n",
       "\t<tr><th scope=row>2</th><td>1</td><td>0</td><td>1</td><td>0</td><td>0</td><td>0</td><td>0</td><td>1</td><td>1</td><td>0</td><td>⋯</td><td>1</td><td>1</td><td>0</td><td>0</td><td>0</td><td>1</td><td>0</td><td>1</td><td>1</td><td>0</td></tr>\n",
       "\t<tr><th scope=row>3</th><td>1</td><td>0</td><td>0</td><td>1</td><td>0</td><td>1</td><td>1</td><td>0</td><td>1</td><td>1</td><td>⋯</td><td>1</td><td>0</td><td>1</td><td>1</td><td>0</td><td>1</td><td>0</td><td>1</td><td>1</td><td>0</td></tr>\n",
       "\t<tr><th scope=row>4</th><td>1</td><td>0</td><td>0</td><td>1</td><td>0</td><td>1</td><td>1</td><td>1</td><td>0</td><td>1</td><td>⋯</td><td>1</td><td>0</td><td>1</td><td>1</td><td>0</td><td>0</td><td>0</td><td>0</td><td>0</td><td>0</td></tr>\n",
       "\t<tr><th scope=row>5</th><td>0</td><td>0</td><td>0</td><td>1</td><td>0</td><td>1</td><td>0</td><td>0</td><td>0</td><td>0</td><td>⋯</td><td>1</td><td>1</td><td>0</td><td>1</td><td>0</td><td>0</td><td>1</td><td>0</td><td>1</td><td>0</td></tr>\n",
       "\t<tr><th scope=row>6</th><td>0</td><td>1</td><td>0</td><td>0</td><td>0</td><td>0</td><td>0</td><td>0</td><td>1</td><td>1</td><td>⋯</td><td>1</td><td>0</td><td>1</td><td>1</td><td>0</td><td>0</td><td>0</td><td>0</td><td>1</td><td>0</td></tr>\n",
       "</tbody>\n",
       "</table>\n"
      ],
      "text/latex": [
       "A data.frame: 6 × 10000\n",
       "\\begin{tabular}{r|lllllllllllllllllllll}\n",
       "  & sim\\_1 & sim\\_2 & sim\\_3 & sim\\_4 & sim\\_5 & sim\\_6 & sim\\_7 & sim\\_8 & sim\\_9 & sim\\_10 & ⋯ & sim\\_9991 & sim\\_9992 & sim\\_9993 & sim\\_9994 & sim\\_9995 & sim\\_9996 & sim\\_9997 & sim\\_9998 & sim\\_9999 & sim\\_10000\\\\\n",
       "  & <dbl> & <dbl> & <dbl> & <dbl> & <dbl> & <dbl> & <dbl> & <dbl> & <dbl> & <dbl> & ⋯ & <dbl> & <dbl> & <dbl> & <dbl> & <dbl> & <dbl> & <dbl> & <dbl> & <dbl> & <dbl>\\\\\n",
       "\\hline\n",
       "\t1 & 1 & 0 & 0 & 0 & 1 & 1 & 0 & 0 & 0 & 0 & ⋯ & 1 & 1 & 0 & 1 & 0 & 1 & 0 & 0 & 1 & 0\\\\\n",
       "\t2 & 1 & 0 & 1 & 0 & 0 & 0 & 0 & 1 & 1 & 0 & ⋯ & 1 & 1 & 0 & 0 & 0 & 1 & 0 & 1 & 1 & 0\\\\\n",
       "\t3 & 1 & 0 & 0 & 1 & 0 & 1 & 1 & 0 & 1 & 1 & ⋯ & 1 & 0 & 1 & 1 & 0 & 1 & 0 & 1 & 1 & 0\\\\\n",
       "\t4 & 1 & 0 & 0 & 1 & 0 & 1 & 1 & 1 & 0 & 1 & ⋯ & 1 & 0 & 1 & 1 & 0 & 0 & 0 & 0 & 0 & 0\\\\\n",
       "\t5 & 0 & 0 & 0 & 1 & 0 & 1 & 0 & 0 & 0 & 0 & ⋯ & 1 & 1 & 0 & 1 & 0 & 0 & 1 & 0 & 1 & 0\\\\\n",
       "\t6 & 0 & 1 & 0 & 0 & 0 & 0 & 0 & 0 & 1 & 1 & ⋯ & 1 & 0 & 1 & 1 & 0 & 0 & 0 & 0 & 1 & 0\\\\\n",
       "\\end{tabular}\n"
      ],
      "text/markdown": [
       "\n",
       "A data.frame: 6 × 10000\n",
       "\n",
       "| <!--/--> | sim_1 &lt;dbl&gt; | sim_2 &lt;dbl&gt; | sim_3 &lt;dbl&gt; | sim_4 &lt;dbl&gt; | sim_5 &lt;dbl&gt; | sim_6 &lt;dbl&gt; | sim_7 &lt;dbl&gt; | sim_8 &lt;dbl&gt; | sim_9 &lt;dbl&gt; | sim_10 &lt;dbl&gt; | ⋯ ⋯ | sim_9991 &lt;dbl&gt; | sim_9992 &lt;dbl&gt; | sim_9993 &lt;dbl&gt; | sim_9994 &lt;dbl&gt; | sim_9995 &lt;dbl&gt; | sim_9996 &lt;dbl&gt; | sim_9997 &lt;dbl&gt; | sim_9998 &lt;dbl&gt; | sim_9999 &lt;dbl&gt; | sim_10000 &lt;dbl&gt; |\n",
       "|---|---|---|---|---|---|---|---|---|---|---|---|---|---|---|---|---|---|---|---|---|---|\n",
       "| 1 | 1 | 0 | 0 | 0 | 1 | 1 | 0 | 0 | 0 | 0 | ⋯ | 1 | 1 | 0 | 1 | 0 | 1 | 0 | 0 | 1 | 0 |\n",
       "| 2 | 1 | 0 | 1 | 0 | 0 | 0 | 0 | 1 | 1 | 0 | ⋯ | 1 | 1 | 0 | 0 | 0 | 1 | 0 | 1 | 1 | 0 |\n",
       "| 3 | 1 | 0 | 0 | 1 | 0 | 1 | 1 | 0 | 1 | 1 | ⋯ | 1 | 0 | 1 | 1 | 0 | 1 | 0 | 1 | 1 | 0 |\n",
       "| 4 | 1 | 0 | 0 | 1 | 0 | 1 | 1 | 1 | 0 | 1 | ⋯ | 1 | 0 | 1 | 1 | 0 | 0 | 0 | 0 | 0 | 0 |\n",
       "| 5 | 0 | 0 | 0 | 1 | 0 | 1 | 0 | 0 | 0 | 0 | ⋯ | 1 | 1 | 0 | 1 | 0 | 0 | 1 | 0 | 1 | 0 |\n",
       "| 6 | 0 | 1 | 0 | 0 | 0 | 0 | 0 | 0 | 1 | 1 | ⋯ | 1 | 0 | 1 | 1 | 0 | 0 | 0 | 0 | 1 | 0 |\n",
       "\n"
      ],
      "text/plain": [
       "  sim_1 sim_2 sim_3 sim_4 sim_5 sim_6 sim_7 sim_8 sim_9 sim_10 <U+22EF>       \n",
       "1 1     0     0     0     1     1     0     0     0     0      <U+22EF>\n",
       "2 1     0     1     0     0     0     0     1     1     0      <U+22EF>\n",
       "3 1     0     0     1     0     1     1     0     1     1      <U+22EF>\n",
       "4 1     0     0     1     0     1     1     1     0     1      <U+22EF>\n",
       "5 0     0     0     1     0     1     0     0     0     0      <U+22EF>\n",
       "6 0     1     0     0     0     0     0     0     1     1      <U+22EF>\n",
       "  sim_9991 sim_9992 sim_9993 sim_9994 sim_9995 sim_9996 sim_9997 sim_9998\n",
       "1 1        1        0        1        0        1        0        0       \n",
       "2 1        1        0        0        0        1        0        1       \n",
       "3 1        0        1        1        0        1        0        1       \n",
       "4 1        0        1        1        0        0        0        0       \n",
       "5 1        1        0        1        0        0        1        0       \n",
       "6 1        0        1        1        0        0        0        0       \n",
       "  sim_9999 sim_10000\n",
       "1 1        0        \n",
       "2 1        0        \n",
       "3 1        0        \n",
       "4 0        0        \n",
       "5 1        0        \n",
       "6 1        0        "
      ]
     },
     "metadata": {},
     "output_type": "display_data"
    }
   ],
   "source": [
    "head(simo2)"
   ]
  },
  {
   "cell_type": "code",
   "execution_count": 27,
   "metadata": {},
   "outputs": [],
   "source": []
  },
  {
   "cell_type": "code",
   "execution_count": 28,
   "metadata": {},
   "outputs": [],
   "source": []
  },
  {
   "cell_type": "code",
   "execution_count": 29,
   "metadata": {},
   "outputs": [
    {
     "data": {
      "text/plain": [
       "$G_O\n",
       "                     (Intercept)\n",
       "Non-selasphorus spp.   0.1464491\n",
       "Selasphorus spp.      -0.1464298\n",
       "\n",
       "$Age_e\n",
       "           (Intercept)\n",
       "adult-like  -0.7924532\n",
       "Nestling     0.7927207\n",
       "\n",
       "with conditional variances for \"G_O\" \"Age_e\" "
      ]
     },
     "metadata": {},
     "output_type": "display_data"
    }
   ],
   "source": [
    "ranef(m8)"
   ]
  },
  {
   "cell_type": "code",
   "execution_count": 30,
   "metadata": {},
   "outputs": [
    {
     "data": {
      "text/html": [
       "<table>\n",
       "<caption>A data.frame: 4 × 5</caption>\n",
       "<thead>\n",
       "\t<tr><th scope=col>grpvar</th><th scope=col>term</th><th scope=col>grp</th><th scope=col>condval</th><th scope=col>condsd</th></tr>\n",
       "\t<tr><th scope=col>&lt;chr&gt;</th><th scope=col>&lt;fct&gt;</th><th scope=col>&lt;fct&gt;</th><th scope=col>&lt;dbl&gt;</th><th scope=col>&lt;dbl&gt;</th></tr>\n",
       "</thead>\n",
       "<tbody>\n",
       "\t<tr><td>G_O  </td><td>(Intercept)</td><td>Non-selasphorus spp.</td><td> 0.1464491</td><td>0.1594268</td></tr>\n",
       "\t<tr><td>G_O  </td><td>(Intercept)</td><td>Selasphorus spp.    </td><td>-0.1464298</td><td>0.1620360</td></tr>\n",
       "\t<tr><td>Age_e</td><td>(Intercept)</td><td>adult-like          </td><td>-0.7924532</td><td>0.1613834</td></tr>\n",
       "\t<tr><td>Age_e</td><td>(Intercept)</td><td>Nestling            </td><td> 0.7927207</td><td>0.1691419</td></tr>\n",
       "</tbody>\n",
       "</table>\n"
      ],
      "text/latex": [
       "A data.frame: 4 × 5\n",
       "\\begin{tabular}{lllll}\n",
       " grpvar & term & grp & condval & condsd\\\\\n",
       " <chr> & <fct> & <fct> & <dbl> & <dbl>\\\\\n",
       "\\hline\n",
       "\t G\\_O   & (Intercept) & Non-selasphorus spp. &  0.1464491 & 0.1594268\\\\\n",
       "\t G\\_O   & (Intercept) & Selasphorus spp.     & -0.1464298 & 0.1620360\\\\\n",
       "\t Age\\_e & (Intercept) & adult-like           & -0.7924532 & 0.1613834\\\\\n",
       "\t Age\\_e & (Intercept) & Nestling             &  0.7927207 & 0.1691419\\\\\n",
       "\\end{tabular}\n"
      ],
      "text/markdown": [
       "\n",
       "A data.frame: 4 × 5\n",
       "\n",
       "| grpvar &lt;chr&gt; | term &lt;fct&gt; | grp &lt;fct&gt; | condval &lt;dbl&gt; | condsd &lt;dbl&gt; |\n",
       "|---|---|---|---|---|\n",
       "| G_O   | (Intercept) | Non-selasphorus spp. |  0.1464491 | 0.1594268 |\n",
       "| G_O   | (Intercept) | Selasphorus spp.     | -0.1464298 | 0.1620360 |\n",
       "| Age_e | (Intercept) | adult-like           | -0.7924532 | 0.1613834 |\n",
       "| Age_e | (Intercept) | Nestling             |  0.7927207 | 0.1691419 |\n",
       "\n"
      ],
      "text/plain": [
       "  grpvar term        grp                  condval    condsd   \n",
       "1 G_O    (Intercept) Non-selasphorus spp.  0.1464491 0.1594268\n",
       "2 G_O    (Intercept) Selasphorus spp.     -0.1464298 0.1620360\n",
       "3 Age_e  (Intercept) adult-like           -0.7924532 0.1613834\n",
       "4 Age_e  (Intercept) Nestling              0.7927207 0.1691419"
      ]
     },
     "metadata": {},
     "output_type": "display_data"
    }
   ],
   "source": [
    "rr = data.frame(ranef(m8))\n",
    "rr"
   ]
  },
  {
   "cell_type": "code",
   "execution_count": 31,
   "metadata": {},
   "outputs": [
    {
     "name": "stderr",
     "output_type": "stream",
     "text": [
      "Warning message:\n",
      "\"Ignoring unknown aesthetics: show.legend\"\n",
      "Warning message in grid.Call(C_stringMetric, as.graphicsAnnot(x$label)):\n",
      "\"font family not found in Windows font database\"\n",
      "Warning message in grid.Call(C_textBounds, as.graphicsAnnot(x$label), x$x, x$y, :\n",
      "\"font family not found in Windows font database\"\n",
      "Warning message in grid.Call(C_textBounds, as.graphicsAnnot(x$label), x$x, x$y, :\n",
      "\"font family not found in Windows font database\"\n",
      "Warning message in grid.Call(C_textBounds, as.graphicsAnnot(x$label), x$x, x$y, :\n",
      "\"font family not found in Windows font database\"\n"
     ]
    },
    {
     "data": {
      "image/png": "[encoded data removed]",
      "text/plain": [
       "plot without title"
      ]
     },
     "metadata": {
      "image/png": {
       "height": 240,
       "width": 240
      },
      "text/plain": {
       "height": 240,
       "width": 240
      }
     },
     "output_type": "display_data"
    }
   ],
   "source": [
    "options(repr.plot.width=4, repr.plot.height=4)\n",
    "ggplot(rr, aes(x = condval, y = grp, colour = grpvar, shape = grpvar)) +\n",
    "    geom_point(aes(size = 12,show.legend=FALSE)) + theme_economist()+\n",
    "    labs(y = NULL,\n",
    "         x = \"Regression estimate (intercept)\",\n",
    "         title = \"Rehabilitation of Hummingbirds\",\n",
    "         subtitle = \"Generalized mixed model with random effect\")+\n",
    "    theme(axis.title = element_text(size = 12, face = \"italic\"),\n",
    "          axis.text.x=element_text(angle=90),\n",
    "          legend.text=element_text(size=9, face = \"bold.italic\"),\n",
    "          legend.position=\"none\",\n",
    "          legend.title=element_blank(),\n",
    "          plot.title = element_text(size=16,family=\"Times New Roman\"))"
   ]
  },
  {
   "cell_type": "code",
   "execution_count": 32,
   "metadata": {},
   "outputs": [
    {
     "data": {
      "text/html": [
       "<table>\n",
       "<caption>A data.frame: 17 × 4</caption>\n",
       "<thead>\n",
       "\t<tr><th></th><th scope=col>Est</th><th scope=col>LL</th><th scope=col>UL</th><th scope=col>model</th></tr>\n",
       "\t<tr><th></th><th scope=col>&lt;dbl&gt;</th><th scope=col>&lt;dbl&gt;</th><th scope=col>&lt;dbl&gt;</th><th scope=col>&lt;chr&gt;</th></tr>\n",
       "</thead>\n",
       "<tbody>\n",
       "\t<tr><th scope=row>(Intercept)</th><td>0.4603963</td><td>0.03646976</td><td>  5.8120680</td><td>generalized linear mixed-effects model</td></tr>\n",
       "\t<tr><th scope=row>Sex_eFemale-like </th><td>1.5204907</td><td>0.01902236</td><td>121.5355217</td><td>generalized linear mixed-effects model</td></tr>\n",
       "\t<tr><th scope=row>Sex_eMale</th><td>1.2868339</td><td>0.01604380</td><td>103.2138167</td><td>generalized linear mixed-effects model</td></tr>\n",
       "\t<tr><th scope=row>seasonSpring</th><td>2.6028049</td><td>1.92825198</td><td>  3.5133340</td><td>generalized linear mixed-effects model</td></tr>\n",
       "\t<tr><th scope=row>seasonSummer</th><td>2.5833914</td><td>1.89383862</td><td>  3.5240126</td><td>generalized linear mixed-effects model</td></tr>\n",
       "\t<tr><th scope=row>seasonWinter</th><td>1.5013482</td><td>1.07692777</td><td>  2.0930341</td><td>generalized linear mixed-effects model</td></tr>\n",
       "\t<tr><th scope=row>rcaught by domestic animal</th><td>0.8158080</td><td>0.58627134</td><td>  1.1352128</td><td>generalized linear mixed-effects model</td></tr>\n",
       "\t<tr><th scope=row>rwindow hit</th><td>0.9413785</td><td>0.66412457</td><td>  1.3343784</td><td>generalized linear mixed-effects model</td></tr>\n",
       "\t<tr><th scope=row>rfound inside</th><td>0.9568532</td><td>0.61206788</td><td>  1.4958604</td><td>generalized linear mixed-effects model</td></tr>\n",
       "\t<tr><th scope=row>rfound on the ground</th><td>0.8259710</td><td>0.62221344</td><td>  1.0964534</td><td>generalized linear mixed-effects model</td></tr>\n",
       "\t<tr><th scope=row>rnest related</th><td>0.9815153</td><td>0.70200949</td><td>  1.3723067</td><td>generalized linear mixed-effects model</td></tr>\n",
       "\t<tr><th scope=row>rsuspect torpor-like state</th><td>0.1519647</td><td>0.06673676</td><td>  0.3460354</td><td>generalized linear mixed-effects model</td></tr>\n",
       "\t<tr><th scope=row>Heat</th><td>0.7587930</td><td>0.56531685</td><td>  1.0184852</td><td>generalized linear mixed-effects model</td></tr>\n",
       "\t<tr><th scope=row>Fluids</th><td>1.3291265</td><td>1.15293216</td><td>  1.5322473</td><td>generalized linear mixed-effects model</td></tr>\n",
       "\t<tr><th scope=row>Steroid</th><td>0.4203805</td><td>0.31512837</td><td>  0.5607865</td><td>generalized linear mixed-effects model</td></tr>\n",
       "\t<tr><th scope=row>NSAID</th><td>0.7641427</td><td>0.58778038</td><td>  0.9934221</td><td>generalized linear mixed-effects model</td></tr>\n",
       "\t<tr><th scope=row>Antibiotic</th><td>1.4193938</td><td>1.03934940</td><td>  1.9384037</td><td>generalized linear mixed-effects model</td></tr>\n",
       "</tbody>\n",
       "</table>\n"
      ],
      "text/latex": [
       "A data.frame: 17 × 4\n",
       "\\begin{tabular}{r|llll}\n",
       "  & Est & LL & UL & model\\\\\n",
       "  & <dbl> & <dbl> & <dbl> & <chr>\\\\\n",
       "\\hline\n",
       "\t(Intercept) & 0.4603963 & 0.03646976 &   5.8120680 & generalized linear mixed-effects model\\\\\n",
       "\tSex\\_eFemale-like  & 1.5204907 & 0.01902236 & 121.5355217 & generalized linear mixed-effects model\\\\\n",
       "\tSex\\_eMale & 1.2868339 & 0.01604380 & 103.2138167 & generalized linear mixed-effects model\\\\\n",
       "\tseasonSpring & 2.6028049 & 1.92825198 &   3.5133340 & generalized linear mixed-effects model\\\\\n",
       "\tseasonSummer & 2.5833914 & 1.89383862 &   3.5240126 & generalized linear mixed-effects model\\\\\n",
       "\tseasonWinter & 1.5013482 & 1.07692777 &   2.0930341 & generalized linear mixed-effects model\\\\\n",
       "\trcaught by domestic animal & 0.8158080 & 0.58627134 &   1.1352128 & generalized linear mixed-effects model\\\\\n",
       "\trwindow hit & 0.9413785 & 0.66412457 &   1.3343784 & generalized linear mixed-effects model\\\\\n",
       "\trfound inside & 0.9568532 & 0.61206788 &   1.4958604 & generalized linear mixed-effects model\\\\\n",
       "\trfound on the ground & 0.8259710 & 0.62221344 &   1.0964534 & generalized linear mixed-effects model\\\\\n",
       "\trnest related & 0.9815153 & 0.70200949 &   1.3723067 & generalized linear mixed-effects model\\\\\n",
       "\trsuspect torpor-like state & 0.1519647 & 0.06673676 &   0.3460354 & generalized linear mixed-effects model\\\\\n",
       "\tHeat & 0.7587930 & 0.56531685 &   1.0184852 & generalized linear mixed-effects model\\\\\n",
       "\tFluids & 1.3291265 & 1.15293216 &   1.5322473 & generalized linear mixed-effects model\\\\\n",
       "\tSteroid & 0.4203805 & 0.31512837 &   0.5607865 & generalized linear mixed-effects model\\\\\n",
       "\tNSAID & 0.7641427 & 0.58778038 &   0.9934221 & generalized linear mixed-effects model\\\\\n",
       "\tAntibiotic & 1.4193938 & 1.03934940 &   1.9384037 & generalized linear mixed-effects model\\\\\n",
       "\\end{tabular}\n"
      ],
      "text/markdown": [
       "\n",
       "A data.frame: 17 × 4\n",
       "\n",
       "| <!--/--> | Est &lt;dbl&gt; | LL &lt;dbl&gt; | UL &lt;dbl&gt; | model &lt;chr&gt; |\n",
       "|---|---|---|---|---|\n",
       "| (Intercept) | 0.4603963 | 0.03646976 |   5.8120680 | generalized linear mixed-effects model |\n",
       "| Sex_eFemale-like  | 1.5204907 | 0.01902236 | 121.5355217 | generalized linear mixed-effects model |\n",
       "| Sex_eMale | 1.2868339 | 0.01604380 | 103.2138167 | generalized linear mixed-effects model |\n",
       "| seasonSpring | 2.6028049 | 1.92825198 |   3.5133340 | generalized linear mixed-effects model |\n",
       "| seasonSummer | 2.5833914 | 1.89383862 |   3.5240126 | generalized linear mixed-effects model |\n",
       "| seasonWinter | 1.5013482 | 1.07692777 |   2.0930341 | generalized linear mixed-effects model |\n",
       "| rcaught by domestic animal | 0.8158080 | 0.58627134 |   1.1352128 | generalized linear mixed-effects model |\n",
       "| rwindow hit | 0.9413785 | 0.66412457 |   1.3343784 | generalized linear mixed-effects model |\n",
       "| rfound inside | 0.9568532 | 0.61206788 |   1.4958604 | generalized linear mixed-effects model |\n",
       "| rfound on the ground | 0.8259710 | 0.62221344 |   1.0964534 | generalized linear mixed-effects model |\n",
       "| rnest related | 0.9815153 | 0.70200949 |   1.3723067 | generalized linear mixed-effects model |\n",
       "| rsuspect torpor-like state | 0.1519647 | 0.06673676 |   0.3460354 | generalized linear mixed-effects model |\n",
       "| Heat | 0.7587930 | 0.56531685 |   1.0184852 | generalized linear mixed-effects model |\n",
       "| Fluids | 1.3291265 | 1.15293216 |   1.5322473 | generalized linear mixed-effects model |\n",
       "| Steroid | 0.4203805 | 0.31512837 |   0.5607865 | generalized linear mixed-effects model |\n",
       "| NSAID | 0.7641427 | 0.58778038 |   0.9934221 | generalized linear mixed-effects model |\n",
       "| Antibiotic | 1.4193938 | 1.03934940 |   1.9384037 | generalized linear mixed-effects model |\n",
       "\n"
      ],
      "text/plain": [
       "                           Est       LL         UL         \n",
       "(Intercept)                0.4603963 0.03646976   5.8120680\n",
       "Sex_eFemale-like           1.5204907 0.01902236 121.5355217\n",
       "Sex_eMale                  1.2868339 0.01604380 103.2138167\n",
       "seasonSpring               2.6028049 1.92825198   3.5133340\n",
       "seasonSummer               2.5833914 1.89383862   3.5240126\n",
       "seasonWinter               1.5013482 1.07692777   2.0930341\n",
       "rcaught by domestic animal 0.8158080 0.58627134   1.1352128\n",
       "rwindow hit                0.9413785 0.66412457   1.3343784\n",
       "rfound inside              0.9568532 0.61206788   1.4958604\n",
       "rfound on the ground       0.8259710 0.62221344   1.0964534\n",
       "rnest related              0.9815153 0.70200949   1.3723067\n",
       "rsuspect torpor-like state 0.1519647 0.06673676   0.3460354\n",
       "Heat                       0.7587930 0.56531685   1.0184852\n",
       "Fluids                     1.3291265 1.15293216   1.5322473\n",
       "Steroid                    0.4203805 0.31512837   0.5607865\n",
       "NSAID                      0.7641427 0.58778038   0.9934221\n",
       "Antibiotic                 1.4193938 1.03934940   1.9384037\n",
       "                           model                                 \n",
       "(Intercept)                generalized linear mixed-effects model\n",
       "Sex_eFemale-like           generalized linear mixed-effects model\n",
       "Sex_eMale                  generalized linear mixed-effects model\n",
       "seasonSpring               generalized linear mixed-effects model\n",
       "seasonSummer               generalized linear mixed-effects model\n",
       "seasonWinter               generalized linear mixed-effects model\n",
       "rcaught by domestic animal generalized linear mixed-effects model\n",
       "rwindow hit                generalized linear mixed-effects model\n",
       "rfound inside              generalized linear mixed-effects model\n",
       "rfound on the ground       generalized linear mixed-effects model\n",
       "rnest related              generalized linear mixed-effects model\n",
       "rsuspect torpor-like state generalized linear mixed-effects model\n",
       "Heat                       generalized linear mixed-effects model\n",
       "Fluids                     generalized linear mixed-effects model\n",
       "Steroid                    generalized linear mixed-effects model\n",
       "NSAID                      generalized linear mixed-effects model\n",
       "Antibiotic                 generalized linear mixed-effects model"
      ]
     },
     "metadata": {},
     "output_type": "display_data"
    }
   ],
   "source": [
    "co = data.frame(exp(tab))\n",
    "co$model <- rep('generalized linear mixed-effects model',nrow(co))\n",
    "co"
   ]
  },
  {
   "cell_type": "code",
   "execution_count": 33,
   "metadata": {
    "scrolled": true
   },
   "outputs": [
    {
     "name": "stderr",
     "output_type": "stream",
     "text": [
      "Saving 6.67 x 6.67 in image\n",
      "\n"
     ]
    },
    {
     "data": {
      "image/png": "[encoded data removed]",
      "text/plain": [
       "plot without title"
      ]
     },
     "metadata": {
      "image/png": {
       "height": 240,
       "width": 360
      },
      "text/plain": {
       "height": 240,
       "width": 360
      }
     },
     "output_type": "display_data"
    }
   ],
   "source": [
    "co = data.frame(exp(tab))\n",
    "co$model <- rep('generalized linear mixed-effects model',nrow(co))\n",
    "co$variables <- c('Intercept', 'Sex (female-like)', 'Sex (male)', 'Season (spring)', 'Season (summer)', 'Season (winter)',\n",
    "                  'Reason (caught by domestic animal)','Reason (window hit)', 'Reason (found inside)','Reason (found on ground)', 'Reason (nest)', \n",
    "                  'Reason (torpor)', 'Heat', 'Fluids', 'Steroid','NSAID', 'Antibiotics')\n",
    "options(repr.plot.width=6, repr.plot.height=4)\n",
    "ggplot(co, aes(y = Est, x = variables, colour = model, shape = model))+\n",
    "    geom_errorbar(aes(ymin=LL, ymax=UL), colour=\"black\", width=.8,)+\n",
    "    geom_point() + theme_economist()+coord_flip()+\n",
    "    labs(x = 'independent variables',\n",
    "         y = \"Odds ratio for being released\",\n",
    "         title = \"Rehabilitation of Hummingbirds\",\n",
    "         subtitle = \"factors influencing release of hummingbirds in rescue centers\")+\n",
    "    geom_hline(yintercept=1,  color = \"white\", size=0.8)#linetype=\"dashed\",\n",
    "ggsave('C:/Users/Falco/Desktop/directory/Humminbird_rescue/Outputs/Odds_ratios_subset.png', \n",
    "       plot = last_plot(), dpi = 300)"
   ]
  },
  {
   "cell_type": "code",
   "execution_count": 21,
   "metadata": {},
   "outputs": [
    {
     "name": "stderr",
     "output_type": "stream",
     "text": [
      "Saving 6.67 x 6.67 in image\n",
      "\n"
     ]
    },
    {
     "data": {
      "image/png": "[encoded data removed]",
      "text/plain": [
       "plot without title"
      ]
     },
     "metadata": {
      "image/png": {
       "height": 240,
       "width": 360
      },
      "text/plain": {
       "height": 240,
       "width": 360
      }
     },
     "output_type": "display_data"
    }
   ],
   "source": [
    "co = data.frame(exp(tab))\n",
    "co$model <- rep('generalized linear mixed-effects model',nrow(co))\n",
    "co$variables <- c('Intercept', 'Sex (unknown)', 'Age (Nestling)',\n",
    "                  'Season (Spring)', 'Season (Summer)', 'Season (Winter)',\n",
    "                  'Reason (inside)', 'Reason (nest)', 'Reason (pets)', 'Reason (torpor)',\n",
    "                  'Reason (unknown)' ,'Reason (window hit)',\n",
    "                  'Fluids (yes)', 'Sugar water (yes)',\n",
    "                  'Dexamethazone (Yes)',\n",
    "                  'NSAIDs (yes)', 'Antibiotics (yes)')\n",
    "co = subset(co, variables!= 'Fluids (yes)' )\n",
    "options(repr.plot.width=6, repr.plot.height=4)\n",
    "ggplot(co, aes(y = Est, x = variables, colour = model, shape = model))+\n",
    "    geom_errorbar(aes(ymin=LL, ymax=UL), colour=\"black\", width=.8,)+\n",
    "    geom_point() + theme_economist()+coord_flip()+\n",
    "    labs(x = 'independent variables',\n",
    "         y = \"Odds ratio for being released\",\n",
    "         title = \"Rehabilitation of Hummingbirds\",\n",
    "         subtitle = \"factors influencing release of hummingbirds in rescue centers\")+\n",
    "    geom_hline(yintercept=1,  color = \"white\", size=0.8)#linetype=\"dashed\",\n",
    "ggsave('C:/Users/Falco/Desktop/directory/Humminbird_rescue/Outputs/Odds_ratios_presentation_subset.png', \n",
    "       plot = last_plot(), dpi = 300)"
   ]
  },
  {
   "cell_type": "markdown",
   "metadata": {},
   "source": [
    "## model without Treatment"
   ]
  },
  {
   "cell_type": "code",
   "execution_count": 24,
   "metadata": {},
   "outputs": [
    {
     "name": "stderr",
     "output_type": "stream",
     "text": [
      "boundary (singular) fit: see ?isSingular\n",
      "\n"
     ]
    },
    {
     "name": "stdout",
     "output_type": "stream",
     "text": [
      "Generalized linear mixed model fit by maximum likelihood (Laplace\n",
      "  Approximation) [glmerMod]\n",
      " Family: binomial  ( logit )\n",
      "Formula: Disposition_binary ~ Sex_e + Age_e + season + r + (1 | G_O)\n",
      "   Data: data\n",
      "\n",
      "     AIC      BIC   logLik deviance df.resid \n",
      "  4297.5   4378.3  -2135.7   4271.5     3700 \n",
      "\n",
      "Scaled residuals: \n",
      "    Min      1Q  Median      3Q     Max \n",
      "-1.7349 -0.6010 -0.4416  0.7297  2.8341 \n",
      "\n",
      "Random effects:\n",
      " Groups Name        Variance Std.Dev.\n",
      " G_O    (Intercept) 0        0       \n",
      "Number of obs: 3713, groups:  G_O, 3\n",
      "\n",
      "Fixed effects:\n",
      "              Estimate Std. Error z value Pr(>|z|)    \n",
      "(Intercept)   -1.68527    0.18639  -9.042  < 2e-16 ***\n",
      "Sex_eunknown  -0.11662    0.13376  -0.872  0.38327    \n",
      "Age_eNestling  1.99547    0.09964  20.026  < 2e-16 ***\n",
      "seasonSpring   0.35735    0.16267   2.197  0.02804 *  \n",
      "seasonSummer   0.43667    0.16766   2.604  0.00920 ** \n",
      "seasonWinter   0.16712    0.17610   0.949  0.34263    \n",
      "rinside        0.92025    0.19102   4.817 1.45e-06 ***\n",
      "rnest          0.16146    0.10936   1.476  0.13982    \n",
      "rpets          0.34684    0.11194   3.098  0.00195 ** \n",
      "rtorpor       -0.28154    0.29079  -0.968  0.33296    \n",
      "runknown       0.28242    0.19936   1.417  0.15658    \n",
      "rwindow hit    0.47169    0.12914   3.652  0.00026 ***\n",
      "---\n",
      "Signif. codes:  0 '***' 0.001 '**' 0.01 '*' 0.05 '.' 0.1 ' ' 1\n",
      "\n",
      "Correlation of Fixed Effects:\n",
      "            (Intr) Sx_nkn Ag_Nst ssnSpr ssnSmm ssnWnt rinsid rnest  rpets \n",
      "Sex_eunknwn -0.536                                                        \n",
      "Age_eNstlng  0.030 -0.280                                                 \n",
      "seasonSprng -0.684 -0.030 -0.232                                          \n",
      "seasonSummr -0.667 -0.028 -0.208  0.862                                   \n",
      "seasonWintr -0.656  0.018 -0.105  0.774  0.746                            \n",
      "rinside     -0.158 -0.042  0.277  0.003  0.013  0.005                     \n",
      "rnest       -0.056 -0.021 -0.272 -0.001  0.002  0.000  0.067              \n",
      "rpets       -0.195 -0.067  0.235  0.012 -0.013  0.050  0.217  0.195       \n",
      "rtorpor     -0.117  0.012  0.173 -0.009 -0.005 -0.006  0.113  0.043  0.140\n",
      "runknown    -0.071 -0.023 -0.012  0.003  0.005  0.006  0.079  0.154  0.141\n",
      "rwindow hit -0.248 -0.025  0.307  0.036  0.062 -0.008  0.233  0.122  0.294\n",
      "            rtorpr rnknwn\n",
      "Sex_eunknwn              \n",
      "Age_eNstlng              \n",
      "seasonSprng              \n",
      "seasonSummr              \n",
      "seasonWintr              \n",
      "rinside                  \n",
      "rnest                    \n",
      "rpets                    \n",
      "rtorpor                  \n",
      "runknown     0.051       \n",
      "rwindow hit  0.152  0.118\n",
      "convergence code: 0\n",
      "boundary (singular) fit: see ?isSingular\n",
      "\n"
     ]
    },
    {
     "data": {
      "text/html": [
       "<table>\n",
       "<caption>A matrix: 12 × 3 of type dbl</caption>\n",
       "<thead>\n",
       "\t<tr><th></th><th scope=col>Est</th><th scope=col>LL</th><th scope=col>UL</th></tr>\n",
       "</thead>\n",
       "<tbody>\n",
       "\t<tr><th scope=row>(Intercept)</th><td>-1.6852743</td><td>-2.05058980</td><td>-1.3199587</td></tr>\n",
       "\t<tr><th scope=row>Sex_eunknown</th><td>-0.1166231</td><td>-0.37879165</td><td> 0.1455454</td></tr>\n",
       "\t<tr><th scope=row>Age_eNestling</th><td> 1.9954723</td><td> 1.80017465</td><td> 2.1907700</td></tr>\n",
       "\t<tr><th scope=row>seasonSpring</th><td> 0.3573464</td><td> 0.03851796</td><td> 0.6761748</td></tr>\n",
       "\t<tr><th scope=row>seasonSummer</th><td> 0.4366665</td><td> 0.10804485</td><td> 0.7652881</td></tr>\n",
       "\t<tr><th scope=row>seasonWinter</th><td> 0.1671214</td><td>-0.17804444</td><td> 0.5122871</td></tr>\n",
       "\t<tr><th scope=row>rinside</th><td> 0.9202466</td><td> 0.54583969</td><td> 1.2946535</td></tr>\n",
       "\t<tr><th scope=row>rnest</th><td> 0.1614641</td><td>-0.05287804</td><td> 0.3758063</td></tr>\n",
       "\t<tr><th scope=row>rpets</th><td> 0.3468423</td><td> 0.12743684</td><td> 0.5662477</td></tr>\n",
       "\t<tr><th scope=row>rtorpor</th><td>-0.2815355</td><td>-0.85148787</td><td> 0.2884170</td></tr>\n",
       "\t<tr><th scope=row>runknown</th><td> 0.2824234</td><td>-0.10832130</td><td> 0.6731681</td></tr>\n",
       "\t<tr><th scope=row>rwindow hit</th><td> 0.4716885</td><td> 0.21857089</td><td> 0.7248060</td></tr>\n",
       "</tbody>\n",
       "</table>\n"
      ],
      "text/latex": [
       "A matrix: 12 × 3 of type dbl\n",
       "\\begin{tabular}{r|lll}\n",
       "  & Est & LL & UL\\\\\n",
       "\\hline\n",
       "\t(Intercept) & -1.6852743 & -2.05058980 & -1.3199587\\\\\n",
       "\tSex\\_eunknown & -0.1166231 & -0.37879165 &  0.1455454\\\\\n",
       "\tAge\\_eNestling &  1.9954723 &  1.80017465 &  2.1907700\\\\\n",
       "\tseasonSpring &  0.3573464 &  0.03851796 &  0.6761748\\\\\n",
       "\tseasonSummer &  0.4366665 &  0.10804485 &  0.7652881\\\\\n",
       "\tseasonWinter &  0.1671214 & -0.17804444 &  0.5122871\\\\\n",
       "\trinside &  0.9202466 &  0.54583969 &  1.2946535\\\\\n",
       "\trnest &  0.1614641 & -0.05287804 &  0.3758063\\\\\n",
       "\trpets &  0.3468423 &  0.12743684 &  0.5662477\\\\\n",
       "\trtorpor & -0.2815355 & -0.85148787 &  0.2884170\\\\\n",
       "\trunknown &  0.2824234 & -0.10832130 &  0.6731681\\\\\n",
       "\trwindow hit &  0.4716885 &  0.21857089 &  0.7248060\\\\\n",
       "\\end{tabular}\n"
      ],
      "text/markdown": [
       "\n",
       "A matrix: 12 × 3 of type dbl\n",
       "\n",
       "| <!--/--> | Est | LL | UL |\n",
       "|---|---|---|---|\n",
       "| (Intercept) | -1.6852743 | -2.05058980 | -1.3199587 |\n",
       "| Sex_eunknown | -0.1166231 | -0.37879165 |  0.1455454 |\n",
       "| Age_eNestling |  1.9954723 |  1.80017465 |  2.1907700 |\n",
       "| seasonSpring |  0.3573464 |  0.03851796 |  0.6761748 |\n",
       "| seasonSummer |  0.4366665 |  0.10804485 |  0.7652881 |\n",
       "| seasonWinter |  0.1671214 | -0.17804444 |  0.5122871 |\n",
       "| rinside |  0.9202466 |  0.54583969 |  1.2946535 |\n",
       "| rnest |  0.1614641 | -0.05287804 |  0.3758063 |\n",
       "| rpets |  0.3468423 |  0.12743684 |  0.5662477 |\n",
       "| rtorpor | -0.2815355 | -0.85148787 |  0.2884170 |\n",
       "| runknown |  0.2824234 | -0.10832130 |  0.6731681 |\n",
       "| rwindow hit |  0.4716885 |  0.21857089 |  0.7248060 |\n",
       "\n"
      ],
      "text/plain": [
       "              Est        LL          UL        \n",
       "(Intercept)   -1.6852743 -2.05058980 -1.3199587\n",
       "Sex_eunknown  -0.1166231 -0.37879165  0.1455454\n",
       "Age_eNestling  1.9954723  1.80017465  2.1907700\n",
       "seasonSpring   0.3573464  0.03851796  0.6761748\n",
       "seasonSummer   0.4366665  0.10804485  0.7652881\n",
       "seasonWinter   0.1671214 -0.17804444  0.5122871\n",
       "rinside        0.9202466  0.54583969  1.2946535\n",
       "rnest          0.1614641 -0.05287804  0.3758063\n",
       "rpets          0.3468423  0.12743684  0.5662477\n",
       "rtorpor       -0.2815355 -0.85148787  0.2884170\n",
       "runknown       0.2824234 -0.10832130  0.6731681\n",
       "rwindow hit    0.4716885  0.21857089  0.7248060"
      ]
     },
     "metadata": {},
     "output_type": "display_data"
    },
    {
     "name": "stdout",
     "output_type": "stream",
     "text": [
      "                    Est        LL        UL\n",
      "(Intercept)   0.1853936 0.1286590 0.2671463\n",
      "Sex_eunknown  0.8899205 0.6846882 1.1566703\n",
      "Age_eNestling 7.3556764 6.0507041 8.9420956\n",
      "seasonSpring  1.4295309 1.0392694 1.9663417\n",
      "seasonSummer  1.5475399 1.1140977 2.1496137\n",
      "seasonWinter  1.1818977 0.8369052 1.6691043\n",
      "rinside       2.5099093 1.7260571 3.6497313\n",
      "rnest         1.1752303 0.9484957 1.4561651\n",
      "rpets         1.4145936 1.1359131 1.7616444\n",
      "rtorpor       0.7546242 0.4267795 1.3343135\n",
      "runknown      1.3263401 0.8973392 1.9604383\n",
      "rwindow hit   1.6026980 1.2442972 2.0643306\n"
     ]
    }
   ],
   "source": [
    "model2 <- glmer(Disposition_binary ~ Sex_e +  \n",
    "                Age_e + season + r +\n",
    "                (1|G_O), \n",
    "                family=\"binomial\", data)#control = glmerControl(optimizer = \"bobyqa\"),\n",
    "\n",
    "print (summary(model2))\n",
    "se <- sqrt(diag(vcov(model2)))\n",
    "# table of estimates with 95% CI\n",
    "(tab <- cbind(Est = fixef(model2), LL = fixef(model2) - 1.96 * se, UL = fixef(model2) + 1.96 *\n",
    "    se))\n",
    "## Odds\n",
    "print (exp(tab))"
   ]
  },
  {
   "cell_type": "code",
   "execution_count": 25,
   "metadata": {},
   "outputs": [
    {
     "data": {
      "text/html": [
       "<table>\n",
       "<caption>A data.frame: 2 × 2</caption>\n",
       "<thead>\n",
       "\t<tr><th></th><th scope=col>df</th><th scope=col>AIC</th></tr>\n",
       "\t<tr><th></th><th scope=col>&lt;dbl&gt;</th><th scope=col>&lt;dbl&gt;</th></tr>\n",
       "</thead>\n",
       "<tbody>\n",
       "\t<tr><th scope=row>model2</th><td>13</td><td>4297.482</td></tr>\n",
       "\t<tr><th scope=row>model1</th><td>18</td><td>4266.051</td></tr>\n",
       "</tbody>\n",
       "</table>\n"
      ],
      "text/latex": [
       "A data.frame: 2 × 2\n",
       "\\begin{tabular}{r|ll}\n",
       "  & df & AIC\\\\\n",
       "  & <dbl> & <dbl>\\\\\n",
       "\\hline\n",
       "\tmodel2 & 13 & 4297.482\\\\\n",
       "\tmodel1 & 18 & 4266.051\\\\\n",
       "\\end{tabular}\n"
      ],
      "text/markdown": [
       "\n",
       "A data.frame: 2 × 2\n",
       "\n",
       "| <!--/--> | df &lt;dbl&gt; | AIC &lt;dbl&gt; |\n",
       "|---|---|---|\n",
       "| model2 | 13 | 4297.482 |\n",
       "| model1 | 18 | 4266.051 |\n",
       "\n"
      ],
      "text/plain": [
       "       df AIC     \n",
       "model2 13 4297.482\n",
       "model1 18 4266.051"
      ]
     },
     "metadata": {},
     "output_type": "display_data"
    }
   ],
   "source": [
    "AIC(model2, model1)"
   ]
  },
  {
   "cell_type": "code",
   "execution_count": 26,
   "metadata": {},
   "outputs": [
    {
     "data": {
      "text/html": [
       "<table>\n",
       "<caption>A anova: 2 × 8</caption>\n",
       "<thead>\n",
       "\t<tr><th></th><th scope=col>Df</th><th scope=col>AIC</th><th scope=col>BIC</th><th scope=col>logLik</th><th scope=col>deviance</th><th scope=col>Chisq</th><th scope=col>Chi Df</th><th scope=col>Pr(&gt;Chisq)</th></tr>\n",
       "\t<tr><th></th><th scope=col>&lt;dbl&gt;</th><th scope=col>&lt;dbl&gt;</th><th scope=col>&lt;dbl&gt;</th><th scope=col>&lt;dbl&gt;</th><th scope=col>&lt;dbl&gt;</th><th scope=col>&lt;dbl&gt;</th><th scope=col>&lt;dbl&gt;</th><th scope=col>&lt;dbl&gt;</th></tr>\n",
       "</thead>\n",
       "<tbody>\n",
       "\t<tr><th scope=row>model2</th><td>13</td><td>4297.482</td><td>4378.337</td><td>-2135.741</td><td>4271.482</td><td>      NA</td><td>NA</td><td>          NA</td></tr>\n",
       "\t<tr><th scope=row>model1</th><td>18</td><td>4266.051</td><td>4378.004</td><td>-2115.026</td><td>4230.051</td><td>41.43135</td><td> 5</td><td>7.676452e-08</td></tr>\n",
       "</tbody>\n",
       "</table>\n"
      ],
      "text/latex": [
       "A anova: 2 × 8\n",
       "\\begin{tabular}{r|llllllll}\n",
       "  & Df & AIC & BIC & logLik & deviance & Chisq & Chi Df & Pr(>Chisq)\\\\\n",
       "  & <dbl> & <dbl> & <dbl> & <dbl> & <dbl> & <dbl> & <dbl> & <dbl>\\\\\n",
       "\\hline\n",
       "\tmodel2 & 13 & 4297.482 & 4378.337 & -2135.741 & 4271.482 &       NA & NA &           NA\\\\\n",
       "\tmodel1 & 18 & 4266.051 & 4378.004 & -2115.026 & 4230.051 & 41.43135 &  5 & 7.676452e-08\\\\\n",
       "\\end{tabular}\n"
      ],
      "text/markdown": [
       "\n",
       "A anova: 2 × 8\n",
       "\n",
       "| <!--/--> | Df &lt;dbl&gt; | AIC &lt;dbl&gt; | BIC &lt;dbl&gt; | logLik &lt;dbl&gt; | deviance &lt;dbl&gt; | Chisq &lt;dbl&gt; | Chi Df &lt;dbl&gt; | Pr(&gt;Chisq) &lt;dbl&gt; |\n",
       "|---|---|---|---|---|---|---|---|---|\n",
       "| model2 | 13 | 4297.482 | 4378.337 | -2135.741 | 4271.482 |       NA | NA |           NA |\n",
       "| model1 | 18 | 4266.051 | 4378.004 | -2115.026 | 4230.051 | 41.43135 |  5 | 7.676452e-08 |\n",
       "\n"
      ],
      "text/plain": [
       "       Df AIC      BIC      logLik    deviance Chisq    Chi Df Pr(>Chisq)  \n",
       "model2 13 4297.482 4378.337 -2135.741 4271.482       NA NA               NA\n",
       "model1 18 4266.051 4378.004 -2115.026 4230.051 41.43135  5     7.676452e-08"
      ]
     },
     "metadata": {},
     "output_type": "display_data"
    }
   ],
   "source": [
    "anova(model2, model1)"
   ]
  },
  {
   "cell_type": "code",
   "execution_count": null,
   "metadata": {},
   "outputs": [],
   "source": []
  }
 ],
 "metadata": {
  "kernelspec": {
   "display_name": "R",
   "language": "R",
   "name": "ir"
  },
  "language_info": {
   "codemirror_mode": "r",
   "file_extension": ".r",
   "mimetype": "text/x-r-source",
   "name": "R",
   "pygments_lexer": "r",
   "version": "3.6.1"
  },
  "toc": {
   "base_numbering": 1,
   "nav_menu": {},
   "number_sections": true,
   "sideBar": true,
   "skip_h1_title": false,
   "title_cell": "Table of Contents",
   "title_sidebar": "Contents",
   "toc_cell": false,
   "toc_position": {},
   "toc_section_display": true,
   "toc_window_display": false
  },
  "varInspector": {
   "cols": {
    "lenName": 16,
    "lenType": 16,
    "lenVar": 40
   },
   "kernels_config": {
    "python": {
     "delete_cmd_postfix": "",
     "delete_cmd_prefix": "del ",
     "library": "var_list.py",
     "varRefreshCmd": "print(var_dic_list())"
    },
    "r": {
     "delete_cmd_postfix": ") ",
     "delete_cmd_prefix": "rm(",
     "library": "var_list.r",
     "varRefreshCmd": "cat(var_dic_list()) "
    }
   },
   "types_to_exclude": [
    "module",
    "function",
    "builtin_function_or_method",
    "instance",
    "_Feature"
   ],
   "window_display": false
  }
 },
 "nbformat": 4,
 "nbformat_minor": 2
}
